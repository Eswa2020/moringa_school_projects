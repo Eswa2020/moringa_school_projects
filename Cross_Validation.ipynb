{
  "nbformat": 4,
  "nbformat_minor": 0,
  "metadata": {
    "colab": {
      "name": " Cross Validation.ipynb",
      "provenance": [],
      "collapsed_sections": [],
      "toc_visible": true,
      "include_colab_link": true
    },
    "kernelspec": {
      "name": "python3",
      "display_name": "Python 3"
    }
  },
  "cells": [
    {
      "cell_type": "markdown",
      "metadata": {
        "id": "view-in-github",
        "colab_type": "text"
      },
      "source": [
        "<a href=\"https://colab.research.google.com/github/Eswa2020/moringa_school_projects/blob/master/Cross_Validation.ipynb\" target=\"_parent\"><img src=\"https://colab.research.google.com/assets/colab-badge.svg\" alt=\"Open In Colab\"/></a>"
      ]
    },
    {
      "cell_type": "markdown",
      "metadata": {
        "id": "K0O3yu-gZ7Pf"
      },
      "source": [
        "# Examples\n",
        "\n",
        "Let's figure out how to perform k-fold cross validation. For this, we will use the university acceptance dataset from Monday again. If you need to download it again, do so at this [link](https://drive.google.com/open?id=13HPgfc4HP9UP-gHM2lutJ7MXSt-dAL1d)\n",
        "\n",
        "We will first start by creating a multivariate model, and assessing it's accuracy."
      ]
    },
    {
      "cell_type": "code",
      "metadata": {
        "id": "dqlTEur4ZqR3"
      },
      "source": [
        "#importing our libraries\n",
        "import numpy as np\n",
        "import pandas as pd\n",
        "from sklearn.model_selection import train_test_split\n",
        "from sklearn.linear_model import LinearRegression\n",
        "from sklearn import metrics"
      ],
      "execution_count": 3,
      "outputs": []
    },
    {
      "cell_type": "code",
      "metadata": {
        "id": "bQc0FgcfqNG8"
      },
      "source": [
        "#load the data\n",
        "data = pd.read_csv('/content/uni_admission (2).csv')"
      ],
      "execution_count": 4,
      "outputs": []
    },
    {
      "cell_type": "code",
      "metadata": {
        "id": "VRe-3lgPqYga"
      },
      "source": [
        "#We will use 4 independent variables for this\n",
        "X = data[['GRE', 'TOEFL', 'SOP', 'LOR']].values\n",
        "y = data['admit_chance'].values\n"
      ],
      "execution_count": 5,
      "outputs": []
    },
    {
      "cell_type": "code",
      "metadata": {
        "id": "Ckv9WIWhqfdb"
      },
      "source": [
        "# Train using 80% of the data.\n",
        "X_train, X_test, y_train, y_test = train_test_split(X, y, test_size=0.2, random_state=0)"
      ],
      "execution_count": 6,
      "outputs": []
    },
    {
      "cell_type": "code",
      "metadata": {
        "id": "3F-tHyPlqj9f",
        "outputId": "fbbd2f9e-29d2-4d1c-f7db-b4fc6c0557ba",
        "colab": {
          "base_uri": "https://localhost:8080/"
        }
      },
      "source": [
        "# find optimal coefficients and intercept\n",
        "regressor = LinearRegression()  \n",
        "regressor.fit(X_train, y_train)"
      ],
      "execution_count": 7,
      "outputs": [
        {
          "output_type": "execute_result",
          "data": {
            "text/plain": [
              "LinearRegression(copy_X=True, fit_intercept=True, n_jobs=None, normalize=False)"
            ]
          },
          "metadata": {
            "tags": []
          },
          "execution_count": 7
        }
      ]
    },
    {
      "cell_type": "code",
      "metadata": {
        "id": "Wz_psd-Gqsf4",
        "outputId": "7b264fed-7d08-46aa-b6fd-502bc753f6db",
        "colab": {
          "base_uri": "https://localhost:8080/"
        }
      },
      "source": [
        "#In case of multivariable linear regression, the regression model has to \n",
        "# find the most optimal coefficients for all the attributes. \n",
        "# To see what coefficients our regression model has chosen, execute the following\n",
        "# \n",
        "regressor.coef_\n"
      ],
      "execution_count": 10,
      "outputs": [
        {
          "output_type": "execute_result",
          "data": {
            "text/plain": [
              "array([0.00544634, 0.00583592, 0.01426344, 0.03586462])"
            ]
          },
          "metadata": {
            "tags": []
          },
          "execution_count": 10
        }
      ]
    },
    {
      "cell_type": "code",
      "metadata": {
        "id": "HyofBEz6rQFD"
      },
      "source": [
        "# assess the accuraccy of the model\n",
        "y_pred = regressor.predict(X_test)"
      ],
      "execution_count": 13,
      "outputs": []
    },
    {
      "cell_type": "code",
      "metadata": {
        "id": "OATk8TpWqKXY",
        "outputId": "a3b4f5ee-438f-4fd9-ebee-4c15f4c1982b",
        "colab": {
          "base_uri": "https://localhost:8080/"
        }
      },
      "source": [
        "#checking for the metrics\n",
        "from sklearn import metrics\n",
        "print('Mean Absolute Error:', metrics.mean_absolute_error(y_test, y_pred))  \n",
        "print('Mean Squared Error:', metrics.mean_squared_error(y_test, y_pred))  \n",
        "print('Root Mean Squared Error:', np.sqrt(metrics.mean_squared_error(y_test, y_pred)))"
      ],
      "execution_count": 14,
      "outputs": [
        {
          "output_type": "stream",
          "text": [
            "Mean Absolute Error: 0.05691472219785115\n",
            "Mean Squared Error: 0.005725926473228667\n",
            "Root Mean Squared Error: 0.07566985181185878\n"
          ],
          "name": "stdout"
        }
      ]
    },
    {
      "cell_type": "markdown",
      "metadata": {
        "id": "ESw9pMSei0zc"
      },
      "source": [
        "Running the code above should yield an RMSE of ~ 0.0756. Let's now cross validate our model by using k-fold cross validation. We will use 5 folds for this example, and follow the documentation from [sklearn](https://https://scikit-learn.org/stable/modules/generated/sklearn.model_selection.KFold.html)"
      ]
    },
    {
      "cell_type": "code",
      "metadata": {
        "id": "0sNT9ZX1jEEg",
        "outputId": "883c91a3-d381-4e04-8481-39d79da10558",
        "colab": {
          "base_uri": "https://localhost:8080/"
        }
      },
      "source": [
        "from sklearn.model_selection import KFold\n",
        "\n",
        "# We will use the same 4 independent variables for this\n",
        "X = data[['GRE', 'TOEFL', 'SOP', 'LOR']].values\n",
        "y = data['admit_chance'].values\n",
        "\n",
        "folds = KFold(n_splits=5)\n",
        "folds\n",
        "\n"
      ],
      "execution_count": 66,
      "outputs": [
        {
          "output_type": "execute_result",
          "data": {
            "text/plain": [
              "KFold(n_splits=5, random_state=None, shuffle=False)"
            ]
          },
          "metadata": {
            "tags": []
          },
          "execution_count": 66
        }
      ]
    },
    {
      "cell_type": "code",
      "metadata": {
        "id": "vlOE_a6Eseey",
        "outputId": "68411ee0-cf45-4dcf-df61-e6bffe334c78",
        "colab": {
          "base_uri": "https://localhost:8080/"
        }
      },
      "source": [
        "# note that if you have a KFold object, you can figure out how many folds you set up \n",
        "# for it using get_n_splits\n",
        "print('we are using ' +str(folds.get_n_splits(X)) + ' folds')"
      ],
      "execution_count": 67,
      "outputs": [
        {
          "output_type": "stream",
          "text": [
            "we are using 5 folds\n"
          ],
          "name": "stdout"
        }
      ]
    },
    {
      "cell_type": "code",
      "metadata": {
        "id": "kkmX_xN5sk8x",
        "outputId": "6b2b3762-1968-410f-b685-812d0725f55c",
        "colab": {
          "base_uri": "https://localhost:8080/"
        }
      },
      "source": [
        "# We now create and assess 5 models based on the folds we created.\n",
        "RMSESs = [] # We will use this array to keep track of the RSME of each model\n",
        "count2 = 1 # This will just help \n",
        "for train_index, test_index in folds.split(X):\n",
        "  print('\\nTraining model ' + str(count2))"
      ],
      "execution_count": 70,
      "outputs": [
        {
          "output_type": "stream",
          "text": [
            "\n",
            "Training model 1\n",
            "\n",
            "Training model 1\n",
            "\n",
            "Training model 1\n",
            "\n",
            "Training model 1\n",
            "\n",
            "Training model 1\n"
          ],
          "name": "stdout"
        }
      ]
    },
    {
      "cell_type": "code",
      "metadata": {
        "id": "2RUkA0M6szH5"
      },
      "source": [
        "# set up the train and test based on the split determined by KFold\n",
        "# With 5 folds, we will end up with 80% of our data in the training set, and 20% in the test set, just as above\n",
        "X_train, X_test = X[train_index], X[test_index]\n",
        "y_train, y_test = y[train_index], y[test_index]\n",
        "  "
      ],
      "execution_count": 71,
      "outputs": []
    },
    {
      "cell_type": "code",
      "metadata": {
        "id": "W_rexH2gtL7Z",
        "outputId": "009e4ad4-7749-45ff-a56c-abb7de305e16",
        "colab": {
          "base_uri": "https://localhost:8080/"
        }
      },
      "source": [
        "# fit a model accordingly\n",
        "regressor = LinearRegression()  \n",
        "regressor.fit(X_train, y_train)"
      ],
      "execution_count": 72,
      "outputs": [
        {
          "output_type": "execute_result",
          "data": {
            "text/plain": [
              "LinearRegression(copy_X=True, fit_intercept=True, n_jobs=None, normalize=False)"
            ]
          },
          "metadata": {
            "tags": []
          },
          "execution_count": 72
        }
      ]
    },
    {
      "cell_type": "code",
      "metadata": {
        "id": "cM2w_bOItSEU"
      },
      "source": [
        "# assess the accuraccy of the model\n",
        "y_pred = regressor.predict(X_test)"
      ],
      "execution_count": 73,
      "outputs": []
    },
    {
      "cell_type": "code",
      "metadata": {
        "id": "uzdGm4PctV6X"
      },
      "source": [
        "rmse_valued =  np.sqrt(metrics.mean_squared_error(y_test, y_pred))\n",
        "RMSESs.append(rmse_valued)"
      ],
      "execution_count": 80,
      "outputs": []
    },
    {
      "cell_type": "code",
      "metadata": {
        "id": "RTRd082WsRoc",
        "outputId": "f2931f90-3280-49ff-cefb-52167efb7b47",
        "colab": {
          "base_uri": "https://localhost:8080/"
        }
      },
      "source": [
        "print('Model ' + str(count2) + ' Root Mean Squared Error:',rmse_valued)\n",
        "count2 = count2 + 1"
      ],
      "execution_count": 81,
      "outputs": [
        {
          "output_type": "stream",
          "text": [
            "Model 20 Root Mean Squared Error: 0.05995110606834264\n"
          ],
          "name": "stdout"
        }
      ]
    },
    {
      "cell_type": "code",
      "metadata": {
        "id": "eTt2pTEF09CY"
      },
      "source": [
        "Model 1 Root Mean Squared Error: 0.05995110606834264\n"
      ],
      "execution_count": null,
      "outputs": []
    },
    {
      "cell_type": "markdown",
      "metadata": {
        "id": "9Knvg9a4oAYy"
      },
      "source": [
        "As you can tell from running the code, the RMSE value for our first model is fairly larger than the RMSE we found initially, and that of the other models. This would beg for an analysis of the specific indeces used. Perhaps most of the dataset's outliers were in the test set of model 1? as a challenge, perform a comparative analysis of the subset of the data used to test model 1 in comparison with the dataset as a whole.\n",
        "\n",
        "Another useful observation is comparing the average RMSE value of all these models to the one we obtain in our initial approache. We created the array RMSES to gather all the RMSE values, we can compute the average simply as follows"
      ]
    },
    {
      "cell_type": "code",
      "metadata": {
        "id": "S5-JhbCFqHjx",
        "outputId": "b72b7b7d-10c5-414e-bc16-21a2529c5ef3",
        "colab": {
          "base_uri": "https://localhost:8080/"
        }
      },
      "source": [
        "np.mean(RMSES)"
      ],
      "execution_count": 28,
      "outputs": [
        {
          "output_type": "execute_result",
          "data": {
            "text/plain": [
              "0.05995110606834264"
            ]
          },
          "metadata": {
            "tags": []
          },
          "execution_count": 28
        }
      ]
    },
    {
      "cell_type": "markdown",
      "metadata": {
        "id": "CrNsYyAMqLy8"
      },
      "source": [
        "As you can see, the average is fairly close to our initial value. However in this case, it might be worthwile to pick model 3 instead. \n",
        "\n",
        "Let's now highlight some variants of k-folds. A popular variant is called the leave one out cross validation, where the test data is just a single observation from your set. For a dataset of size **n**, this is the same as using kfold to create **n** folds. \n"
      ]
    },
    {
      "cell_type": "code",
      "metadata": {
        "id": "_LKjU1x7sOK_",
        "outputId": "4d685881-4ed3-4238-f86c-de4c86de1fb6",
        "colab": {
          "base_uri": "https://localhost:8080/"
        }
      },
      "source": [
        "from sklearn.model_selection import LeaveOneOut\n",
        "\n",
        "# We will use the same 4 independent variables for this\n",
        "X = data[['GRE', 'TOEFL', 'SOP', 'LOR']].values\n",
        "y = data['admit_chance'].values\n",
        "\n",
        "folds = LeaveOneOut()\n",
        "\n",
        "# note that if you have a KFold object, you can figure out how many folds you set up \n",
        "# for it using get_n_splits\n",
        "print('we are using ' +str(folds.get_n_splits(X)) + ' folds')\n",
        "\n",
        "# We now create and assess 5 models based on the folds we created.\n",
        "RMSES = [] # We will use this array to keep track of the RSME of each model\n",
        "count = 0 # This will just help \n",
        "for train_index, test_index in folds.split(X):\n",
        "  \n",
        "  # set up the train and test based on the split determined by KFold\n",
        "  # With 5 folds, we will end up with 80% of our data in the training set, and 20% in the test set, just as above\n",
        "  X_train, X_test = X[train_index], X[test_index]\n",
        "  y_train, y_test = y[train_index], y[test_index]\n",
        "  \n",
        "  # fit a model accordingly\n",
        "  regressor = LinearRegression()  \n",
        "  regressor.fit(X_train, y_train)\n",
        "  \n",
        "  # assess the accuraccy of the model\n",
        "  y_pred = regressor.predict(X_test)\n",
        "  \n",
        "  rmse_value =  np.sqrt(metrics.mean_squared_error(y_test, y_pred))\n",
        "  RMSES.append(rmse_value)\n",
        "  \n",
        "  count = count + 1\n",
        "print('trained ' + str(count) + ' models' )\n",
        "np.mean(RMSES)"
      ],
      "execution_count": 82,
      "outputs": [
        {
          "output_type": "stream",
          "text": [
            "we are using 500 folds\n",
            "trained 500 models\n"
          ],
          "name": "stdout"
        },
        {
          "output_type": "execute_result",
          "data": {
            "text/plain": [
              "0.052094961294479325"
            ]
          },
          "metadata": {
            "tags": []
          },
          "execution_count": 82
        }
      ]
    },
    {
      "cell_type": "markdown",
      "metadata": {
        "id": "E8HOD6gpuVyA"
      },
      "source": [
        "In this scenario it is also helpful to plot out the RMSE values across all models:"
      ]
    },
    {
      "cell_type": "code",
      "metadata": {
        "id": "sGe1ELsCuf3B",
        "outputId": "d5d1e9c6-73bd-4d97-95bd-962603e20fbd",
        "colab": {
          "base_uri": "https://localhost:8080/",
          "height": 278
        }
      },
      "source": [
        "import matplotlib.pyplot as plt\n",
        "\n",
        "plt.plot(RMSES)\n",
        "plt.ylabel('RMSE value')\n",
        "plt.xlabel('model ID')\n",
        "plt.show()"
      ],
      "execution_count": 83,
      "outputs": [
        {
          "output_type": "display_data",
          "data": {
            "image/png": "[encoded data removed]",
            "text/plain": [
              "<Figure size 432x288 with 1 Axes>"
            ]
          },
          "metadata": {
            "tags": [],
            "needs_background": "light"
          }
        }
      ]
    },
    {
      "cell_type": "markdown",
      "metadata": {
        "id": "GqXlrIdrwBWY"
      },
      "source": [
        "All in all, this indicates to us that it would be challenging to create a model that beats the ~0.05 average RMSE using this dataset. This is the benefit of using Leave One Out Cross validation: It gives us a sense of how best we can expect a given model to be using our dataset. Note however that this can be an extremely time consuming process for large datasets."
      ]
    },
    {
      "cell_type": "markdown",
      "metadata": {
        "id": "rnkGt08gwal2"
      },
      "source": [
        "# Challenge 1\n",
        "\n",
        "Revisit yesterday's challenge on wine quality, and use k-folds cross validation with 10 folds. Was your model good enough? Could you find a better performing model?\n",
        "\n",
        "([Dataset link here](https://colab.research.google.com/drive/1IKt0hW3aWrKNwB0xxOQGjjWC8h3t_G8Q?authuser=1#scrollTo=-erZrimA8qNm))"
      ]
    },
    {
      "cell_type": "code",
      "metadata": {
        "id": "FpArGGFMwuxP"
      },
      "source": [
        "#import our libraries\n",
        "import numpy as np\n",
        "import pandas as pd\n",
        "from sklearn.model_selection import train_test_split\n",
        "from sklearn.linear_model import LinearRegression\n",
        "from sklearn import metrics"
      ],
      "execution_count": 29,
      "outputs": []
    },
    {
      "cell_type": "code",
      "metadata": {
        "id": "tWBSl5VnuZAg"
      },
      "source": [
        "#loading our dataset\n",
        "wine= pd.read_csv('/content/winequality-red (1).csv')"
      ],
      "execution_count": 30,
      "outputs": []
    },
    {
      "cell_type": "code",
      "metadata": {
        "id": "CtrpWdtcukEo"
      },
      "source": [
        "#We will use 4 independent variables we reduced yesterday also\n",
        "wine_x = wine[['fixed acidity','citric acid',\n",
        "              'sulphates', 'alcohol']].values\n",
        "\n",
        "wine_y= wine['quality'].values"
      ],
      "execution_count": 31,
      "outputs": []
    },
    {
      "cell_type": "code",
      "metadata": {
        "id": "2yZc-_z1vJsr",
        "outputId": "b7c45f31-fed8-4a30-f7d7-c2e43593a9e6",
        "colab": {
          "base_uri": "https://localhost:8080/"
        }
      },
      "source": [
        "#we use the folds above in code\n",
        "#Let's now cross validate our model by using k-fold cross validation.\n",
        "#We will use 10 folds for this one\n",
        "from sklearn.model_selection import KFold\n",
        "folds2 = KFold(n_splits=10)\n",
        "folds2\n"
      ],
      "execution_count": 34,
      "outputs": [
        {
          "output_type": "execute_result",
          "data": {
            "text/plain": [
              "KFold(n_splits=10, random_state=None, shuffle=False)"
            ]
          },
          "metadata": {
            "tags": []
          },
          "execution_count": 34
        }
      ]
    },
    {
      "cell_type": "code",
      "metadata": {
        "id": "W8wdk1S9wyQc",
        "outputId": "9ef122cb-fe6c-49cb-82f5-ad32a0f09ede",
        "colab": {
          "base_uri": "https://localhost:8080/"
        }
      },
      "source": [
        "# note that if you have a KFold object, you can figure out how many folds you set up \n",
        "# for it using get_n_splits\n",
        "print('we are using ' +str(folds2.get_n_splits(X)) + ' folds2')"
      ],
      "execution_count": 35,
      "outputs": [
        {
          "output_type": "stream",
          "text": [
            "we are using 10 folds2\n"
          ],
          "name": "stdout"
        }
      ]
    },
    {
      "cell_type": "code",
      "metadata": {
        "id": "J4UIvbq0yKVc",
        "outputId": "a25b60a4-73b9-4d4b-cfe6-70ce5bb272a5",
        "colab": {
          "base_uri": "https://localhost:8080/"
        }
      },
      "source": [
        "# We now create and assess 10 models based on the folds we created.\n",
        "RMSES = [] # We will use this array to keep track of the RSME of each model\n",
        "count = 1 # This will just help \n",
        "for train_indexw, test_indexw in folds2.split(wine_x):\n",
        "  print('\\nTraining model ' + str(count))"
      ],
      "execution_count": 38,
      "outputs": [
        {
          "output_type": "stream",
          "text": [
            "\n",
            "Training model 1\n",
            "\n",
            "Training model 1\n",
            "\n",
            "Training model 1\n",
            "\n",
            "Training model 1\n",
            "\n",
            "Training model 1\n",
            "\n",
            "Training model 1\n",
            "\n",
            "Training model 1\n",
            "\n",
            "Training model 1\n",
            "\n",
            "Training model 1\n",
            "\n",
            "Training model 1\n"
          ],
          "name": "stdout"
        }
      ]
    },
    {
      "cell_type": "code",
      "metadata": {
        "id": "C8FunHz-yaG6"
      },
      "source": [
        "# set up the train and test based on the split determined by KFold\n",
        "# With 10 folds, we will end up with 80% of our data in the training set, and 20% in the test set, just as above\n",
        "wine_x_train, wine_x_test = wine_x[train_indexw], wine_x[test_indexw]\n",
        "wine_y_train, wine_y_test = wine_y[train_indexw], wine_y[test_indexw]\n",
        "  "
      ],
      "execution_count": 40,
      "outputs": []
    },
    {
      "cell_type": "code",
      "metadata": {
        "id": "OLsgdikDzPwz",
        "outputId": "b191a917-eae6-458c-e8c7-eab6db0d2e98",
        "colab": {
          "base_uri": "https://localhost:8080/"
        }
      },
      "source": [
        "# fit a model accordingly\n",
        "regressor2 = LinearRegression()  \n",
        "regressor2.fit(wine_x_train, wine_y_train)"
      ],
      "execution_count": 41,
      "outputs": [
        {
          "output_type": "execute_result",
          "data": {
            "text/plain": [
              "LinearRegression(copy_X=True, fit_intercept=True, n_jobs=None, normalize=False)"
            ]
          },
          "metadata": {
            "tags": []
          },
          "execution_count": 41
        }
      ]
    },
    {
      "cell_type": "code",
      "metadata": {
        "id": "AcU2boh8zdc4",
        "outputId": "350cde51-e7f9-4d24-a3b9-1106562f8162",
        "colab": {
          "base_uri": "https://localhost:8080/"
        }
      },
      "source": [
        "# assess the accuraccy of the model\n",
        "wine_y_pred = regressor2.predict(wine_x_test)\n",
        "wine_y_pred"
      ],
      "execution_count": 43,
      "outputs": [
        {
          "output_type": "execute_result",
          "data": {
            "text/plain": [
              "array([5.97711211, 5.18595945, 5.37368167, 5.88857712, 5.78387582,\n",
              "       5.19750025, 5.37368167, 5.32227689, 5.32095509, 5.99681481,\n",
              "       5.97711211, 5.96637783, 5.99467173, 5.08339038, 6.04741815,\n",
              "       5.64479607, 5.42691758, 5.08339038, 5.66478431, 6.26952748,\n",
              "       5.53306564, 5.30829728, 5.45259594, 5.55057396, 5.29916152,\n",
              "       5.29916152, 5.4697881 , 5.66441793, 5.4697881 , 5.20980866,\n",
              "       5.25517636, 6.18056941, 6.04974811, 5.62218488, 5.26831075,\n",
              "       6.75079222, 5.26831075, 6.76233302, 5.35372021, 5.81300991,\n",
              "       5.3398764 , 5.81300991, 5.5754975 , 5.74374172, 5.68002046,\n",
              "       5.23282988, 5.48676196, 5.65296586, 5.76270349, 5.72851135,\n",
              "       6.27684119, 5.76270349, 5.94839295, 5.31569671, 5.4096988 ,\n",
              "       5.69928725, 5.31569671, 5.87450734, 5.58755065, 5.87450734,\n",
              "       5.16359839, 5.1786637 , 5.27562821, 5.83128786, 5.95993986,\n",
              "       5.32836245, 5.65753939, 5.95993986, 5.80741572, 5.93184167,\n",
              "       5.39453834, 5.32566982, 5.49547438, 5.52508558, 5.21145105,\n",
              "       5.21722145, 5.85951867, 5.60617774, 5.67277545, 5.39174197,\n",
              "       5.60617774, 4.92571534, 5.85951867, 5.53331006, 5.48697144,\n",
              "       5.26725639, 5.24345352, 5.6732767 , 5.58976641, 5.42315549,\n",
              "       5.85874489, 5.44190505, 5.39794458, 5.11016285, 5.95921199,\n",
              "       5.2541311 , 5.48568735, 5.39801237, 6.04270081, 5.53020543,\n",
              "       5.90122979, 5.85887868, 5.552412  , 5.70141079, 6.07487425,\n",
              "       5.47376531, 5.40957016, 5.99282628, 5.73608173, 5.98960384,\n",
              "       5.10401767, 5.07695665, 5.8024349 , 5.12884121, 5.66595534,\n",
              "       5.62839956, 5.26082632, 5.66595534, 5.21857254, 5.33527004,\n",
              "       5.33527004, 5.33527004, 5.36133012, 5.36133012, 5.36133012,\n",
              "       5.80094136, 6.00648182, 5.36133012, 5.08101912, 5.8391277 ,\n",
              "       6.5457307 , 5.76764542, 5.19081686, 6.27233767, 5.59611367,\n",
              "       6.11579759, 5.96029643, 6.00328284, 5.86802701, 5.7776599 ,\n",
              "       6.09604635, 5.7776599 , 5.9095038 , 5.33307521, 6.15339527,\n",
              "       6.16530914, 6.13907831, 5.6774688 , 6.53723637, 5.0510496 ,\n",
              "       6.06902406, 5.82521636, 5.8023972 , 5.3373745 , 5.48257655,\n",
              "       5.85722647, 5.8023972 , 5.47915847, 5.82593883])"
            ]
          },
          "metadata": {
            "tags": []
          },
          "execution_count": 43
        }
      ]
    },
    {
      "cell_type": "code",
      "metadata": {
        "id": "pc3umbCLzqs0"
      },
      "source": [
        "rmse_value =  np.sqrt(metrics.mean_squared_error(wine_y_test, wine_y_pred))\n",
        "RMSES.append(rmse_value)"
      ],
      "execution_count": 44,
      "outputs": []
    },
    {
      "cell_type": "code",
      "metadata": {
        "id": "YLHvy1mNzxGs",
        "outputId": "a1db9c00-fa0c-4192-b131-545a8fa1a08a",
        "colab": {
          "base_uri": "https://localhost:8080/"
        }
      },
      "source": [
        "print('Model ' + str(count) + ' Root Mean Squared Error:',rmse_value)\n",
        "count = count + 1"
      ],
      "execution_count": 56,
      "outputs": [
        {
          "output_type": "stream",
          "text": [
            "Model 12 Root Mean Squared Error: 0.729394553781638\n"
          ],
          "name": "stdout"
        }
      ]
    },
    {
      "cell_type": "code",
      "metadata": {
        "id": "nFzZXbNU0CqU"
      },
      "source": [
        "Model 2 Root Mean Squared Error: 0.729394553781638\n",
        "Model 3 Root Mean Squared Error: 0.729394553781638\n",
        "Model 4 Root Mean Squared Error: 0.729394553781638\n",
        "Model 5 Root Mean Squared Error: 0.729394553781638\n",
        "Model 6 Root Mean Squared Error: 0.729394553781638\n",
        "Model 7 Root Mean Squared Error: 0.729394553781638\n",
        "Model 8 Root Mean Squared Error: 0.729394553781638\n",
        "Model 9 Root Mean Squared Error: 0.729394553781638\n",
        "Model 10 Root Mean Squared Error: 0.729394553781638"
      ],
      "execution_count": null,
      "outputs": []
    },
    {
      "cell_type": "code",
      "metadata": {
        "id": "bT8a-i9I0fZC"
      },
      "source": [
        "#countinues to model 12??/////??? and they have same value/.....weee(zimemix)....stresss"
      ],
      "execution_count": null,
      "outputs": []
    },
    {
      "cell_type": "markdown",
      "metadata": {
        "id": "CzunZqz8wvnh"
      },
      "source": [
        "# Challenge 2\n",
        "Another common variant of kfold is repeated kfold cross validation. This means that the folding and training processes get repeated several times, shuffling the dataset at each instance.\n",
        "\n",
        "Read up n how to perform repeated kfold [here](https://scikit-learn.org/stable/modules/generated/sklearn.model_selection.RepeatedKFold.html#sklearn.model_selection.RepeatedKFold) \n",
        " \n",
        "Then, create a model to predict university admission again, this time using all independent varible, and krepeated kfold of your choice. Can you improve on the results without cross validation? Can you improve on the results from the Leave One Out cross validation?\n",
        "\n"
      ]
    },
    {
      "cell_type": "code",
      "metadata": {
        "id": "hI2yCfnpEcQG"
      },
      "source": [
        "# YOUR CODE GOES HERE\n"
      ],
      "execution_count": null,
      "outputs": []
    }
  ]
}