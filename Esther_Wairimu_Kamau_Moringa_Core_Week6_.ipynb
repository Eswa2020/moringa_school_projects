{
  "nbformat": 4,
  "nbformat_minor": 0,
  "metadata": {
    "colab": {
      "name": "Esther_Wairimu_Kamau_Moringa_Core_Week6..",
      "provenance": [],
      "collapsed_sections": [
        "vTbdjSrhVIiT",
        "lQ2G4ZPDVOXE",
        "qjFHK1CKty7o"
      ],
      "include_colab_link": true
    },
    "kernelspec": {
      "name": "python3",
      "display_name": "Python 3"
    }
  },
  "cells": [
    {
      "cell_type": "markdown",
      "metadata": {
        "id": "view-in-github",
        "colab_type": "text"
      },
      "source": [
        "<a href=\"https://colab.research.google.com/github/Eswa2020/moringa_school_projects/blob/master/Esther_Wairimu_Kamau_Moringa_Core_Week6_.ipynb\" target=\"_parent\"><img src=\"https://colab.research.google.com/assets/colab-badge.svg\" alt=\"Open In Colab\"/></a>"
      ]
    },
    {
      "cell_type": "markdown",
      "metadata": {
        "id": "xMxtPsqcTsSH"
      },
      "source": [
        "# Week 6 data science core project-Moringa School Nov 2020"
      ]
    },
    {
      "cell_type": "markdown",
      "metadata": {
        "id": "kLG2VTrnTvYL"
      },
      "source": [
        "## 1. Defining the Question"
      ]
    },
    {
      "cell_type": "markdown",
      "metadata": {
        "id": "XecOwPNorl2W"
      },
      "source": [
        "### a) Specifying the Question"
      ]
    },
    {
      "cell_type": "markdown",
      "metadata": {
        "id": "8l3-hBO6bODP"
      },
      "source": [
        "**Problem statement:**\n",
        "You have been recruited as a football data analyst in a company -    **Mchezopesa Ltd **and tasked to accomplish the task below.\n",
        "\n",
        "A prediction result of a game between team 1 and team 2, based on who's home and who's away, and on whether or not the game is friendly (include rank in your training).\n",
        "\n",
        "You have two possible approaches (as  shown below) given the datasets that will be provided\n",
        "\n",
        "**Input**: Home team, Away team, Tournament type (World cup, Friendly, Other)\n",
        "\n",
        "\n",
        "**Background Information:**\n",
        "\n",
        "Since their introduction in 1992, the FIFA World Rankings have been the subject of much debate, particularly regarding the calculation procedure and the resulting disparity between generally perceived quality and world ranking of some teams. The perceived flaws in the FIFA system have led to the creation of a number of alternative rankings from football statisticians.\n",
        "\n",
        "The initial system was very simple, with no weighting for the quality of opponent or importance of a match. The rankings were adapted in 1999 to include weightings based on the importance of the match and the strength of the opponent. A win over a weak opponent resulted in fewer points being awarded than a win over a much stronger one. Further adaptations in 2006 were made to reduce the number of years' results considered from 8 to 4, with greater reliance on matches from within the previous 12 months.\n",
        "\n",
        "Still, criticisms of the rankings remained, with particular anomalies being noted including: the United States rise to fourth in 2006, to the surprise of even their own players;**Israel's climb to 15th in November 2008**, which surprised the Israeli press and Belgium's rank of world number 1 in November 2015, given that Belgium had only played in one tournament final stage in the past 13 years.\n",
        "\n",
        "\n",
        "\n",
        "In the 2010s, teams realized the ranking system could be 'gamed', specifically by avoiding playing non-competitive matches, particularly against weaker opponents.This was because the low weighting of friendlies meant that even victories could reduce a team's average score: in other words, a team could win a match and lose points. Prior to the seeding of the 2018 World Cup preliminary draw, \n",
        "\n",
        "\n",
        "\n",
        "\n"
      ]
    },
    {
      "cell_type": "markdown",
      "metadata": {
        "id": "J4wfHZwQrs-t"
      },
      "source": [
        "### b) Defining the Metric for Success\n",
        "**Approach 1**: Polynomial approach\n",
        "\n",
        "---\n",
        "\n",
        "\n",
        "\n",
        "What to train given:\n",
        "\n",
        "*   **Rank of home team**\n",
        "*   **Rank of away team**\n",
        "\n",
        "\n",
        "Tournament type\n",
        "* Model 1: Predict how many goals the home team scores.\n",
        "\n",
        "* Model 2: Predict how many goals the away team scores.\n",
        "\n",
        "**Approach 2**: Logistic approach\n",
        "\n",
        "---\n",
        "\n",
        "\n",
        "\n",
        "Feature Engineering: Figure out from the home team’s perspective if the game is a Win, Lose or Draw (W, L, D)\n"
      ]
    },
    {
      "cell_type": "markdown",
      "metadata": {
        "id": "a9BPYqunry97"
      },
      "source": [
        "### c) Understanding the context \n",
        "\n",
        "After a long period testing and analysing the best way to calculate the FIFA/Coca-Cola World Ranking, a new model took effect in August 2018 after approval by the FIFA Council.\n",
        "\n",
        "This new version developed by FIFA was named \"SUM\" as it relies on adding/subtracting points won or lost for a game to/from the previous point totals rather than averaging game points over a given time period as in the previous version of the World Ranking.\n",
        "\n",
        "The points which are added or subtracted are partially determined by the relative strength of the two opponents, including the logical expectation that teams higher in the ranking should fare better against teams lower in the ranking.\n",
        "Dataset Columns\n",
        "\n",
        "* Rank\n",
        "* Country Abbreviation\n",
        "* Total Points\n",
        "* Previous Points\n",
        "* Rank Change\n",
        "* Average Previous Years Points\n",
        "* Average Previous Years Points Weighted (50%)\n",
        "* Average 2 Years Ago Points\n",
        "* Average 2 Years Ago Points Weighted (30%)\n",
        "* Average 3 Years Ago Points\n",
        "* Average 3 Years Ago Points Weighted (20%)\n",
        "* Confederation\n",
        "* Date - date of the match\n",
        "* Home_team - the name of the home team\n",
        "* Away_team - the name of the away team\n",
        "* Home_score - full-time home team score including extra time, not including penalty-shootouts\n",
        "* Away_score - full-time away team score including extra time, not including penalty-shootouts\n",
        "* Tournament - the name of the tournament\n",
        "* City - the name of the city/town/administrative unit where the match was played\n",
        "* Country - the name of the country where the match was played\n",
        "* Neutral - TRUE/FALSE column indicating whether the match was played at a neutral venue"
      ]
    },
    {
      "cell_type": "markdown",
      "metadata": {
        "id": "7KMRBJ7zr9HD"
      },
      "source": [
        "### d) Recording the Experimental Design\n",
        "\n",
        "The following steps were implemented\n",
        "\n",
        "1.) Business Understanding, this makes us understand the questions and variables and parameters we are working with.This will help us throughout our anlysis.\n",
        "\n",
        "2.) Reading the data-we load our datasets into the notebook\n",
        "\n",
        "3.) Data Exploration,where we check our data for its shape and columns and missing values\n",
        "\n",
        "4.) Data Wrangling, all data cleaning and preparation is made to data ready for analysis.\n",
        "\n",
        "5.) EDA(exploratoratory data analysis) here is where we do data analysis and visualization of the data.\n",
        "\n",
        "6.) Feature Engineering, preparing my data for modeling.\n",
        "\n",
        "7.) Developing the model."
      ]
    },
    {
      "cell_type": "markdown",
      "metadata": {
        "id": "iUNbvIvnT7ep"
      },
      "source": [
        "## 2. Reading the Data"
      ]
    },
    {
      "cell_type": "code",
      "metadata": {
        "id": "i-Ea8yz7r0OV"
      },
      "source": [
        "#importing our libraries \n",
        "\n",
        "import numpy as np \n",
        "import pandas as pd\n",
        "import seaborn as sns\n",
        "import matplotlib.pyplot as plt\n",
        "from sklearn.preprocessing import PolynomialFeatures\n",
        "from sklearn.model_selection import train_test_split\n",
        "from sklearn.linear_model import LogisticRegression\n",
        "from sklearn.preprocessing import PolynomialFeatures\n",
        "from sklearn.model_selection import train_test_split\n",
        "from sklearn.linear_model import LinearRegression\n"
      ],
      "execution_count": 5,
      "outputs": []
    },
    {
      "cell_type": "code",
      "metadata": {
        "id": "XJn2KjW-WMlG"
      },
      "source": [
        "# Loading the Datasets\n",
        "#since we have 2 datasets\n",
        "#we have fifa ranking and results \n",
        "#\n",
        "fifa_ranking = pd.read_csv('/content/fifa_ranking.csv')\n",
        "results= pd.read_csv('/content/results.csv')\n"
      ],
      "execution_count": 6,
      "outputs": []
    },
    {
      "cell_type": "markdown",
      "metadata": {
        "id": "OI3P3YnHUEBk"
      },
      "source": [
        "## 3. Checking the Data"
      ]
    },
    {
      "cell_type": "code",
      "metadata": {
        "id": "YjSVNwgptHxY",
        "outputId": "b773838b-c9dc-44c9-c2cd-c3d02f66739a",
        "colab": {
          "base_uri": "https://localhost:8080/"
        }
      },
      "source": [
        "# Determining the no. of records in our datasets\n",
        "fifa_ranking.shape\n"
      ],
      "execution_count": 7,
      "outputs": [
        {
          "output_type": "execute_result",
          "data": {
            "text/plain": [
              "(41361, 16)"
            ]
          },
          "metadata": {
            "tags": []
          },
          "execution_count": 7
        }
      ]
    },
    {
      "cell_type": "code",
      "metadata": {
        "id": "xz_KnL1jsmP_",
        "outputId": "7febdba4-6241-4652-9446-581bcf6e5af7",
        "colab": {
          "base_uri": "https://localhost:8080/"
        }
      },
      "source": [
        "results.shape"
      ],
      "execution_count": 8,
      "outputs": [
        {
          "output_type": "execute_result",
          "data": {
            "text/plain": [
              "(40839, 9)"
            ]
          },
          "metadata": {
            "tags": []
          },
          "execution_count": 8
        }
      ]
    },
    {
      "cell_type": "code",
      "metadata": {
        "id": "xHhTw5eKWr0n",
        "outputId": "ab6d5204-7d4e-4209-f576-acae95613ba6",
        "colab": {
          "base_uri": "https://localhost:8080/",
          "height": 309
        }
      },
      "source": [
        "# Previewing the top of our datasets\n",
        "fifa_ranking.head()"
      ],
      "execution_count": 9,
      "outputs": [
        {
          "output_type": "execute_result",
          "data": {
            "text/html": [
              "<div>\n",
              "<style scoped>\n",
              "    .dataframe tbody tr th:only-of-type {\n",
              "        vertical-align: middle;\n",
              "    }\n",
              "\n",
              "    .dataframe tbody tr th {\n",
              "        vertical-align: top;\n",
              "    }\n",
              "\n",
              "    .dataframe thead th {\n",
              "        text-align: right;\n",
              "    }\n",
              "</style>\n",
              "<table border=\"1\" class=\"dataframe\">\n",
              "  <thead>\n",
              "    <tr style=\"text-align: right;\">\n",
              "      <th></th>\n",
              "      <th>rank</th>\n",
              "      <th>country_full</th>\n",
              "      <th>country_abrv</th>\n",
              "      <th>total_points</th>\n",
              "      <th>previous_points</th>\n",
              "      <th>rank_change</th>\n",
              "      <th>cur_year_avg</th>\n",
              "      <th>cur_year_avg_weighted</th>\n",
              "      <th>last_year_avg</th>\n",
              "      <th>last_year_avg_weighted</th>\n",
              "      <th>two_year_ago_avg</th>\n",
              "      <th>two_year_ago_weighted</th>\n",
              "      <th>three_year_ago_avg</th>\n",
              "      <th>three_year_ago_weighted</th>\n",
              "      <th>confederation</th>\n",
              "      <th>rank_date</th>\n",
              "    </tr>\n",
              "  </thead>\n",
              "  <tbody>\n",
              "    <tr>\n",
              "      <th>0</th>\n",
              "      <td>1</td>\n",
              "      <td>Germany</td>\n",
              "      <td>GER</td>\n",
              "      <td>0.0</td>\n",
              "      <td>57.0</td>\n",
              "      <td>0.0</td>\n",
              "      <td>0.0</td>\n",
              "      <td>0.0</td>\n",
              "      <td>0.0</td>\n",
              "      <td>0.0</td>\n",
              "      <td>0.0</td>\n",
              "      <td>0.0</td>\n",
              "      <td>0.0</td>\n",
              "      <td>0.0</td>\n",
              "      <td>UEFA</td>\n",
              "      <td>1993-08-08</td>\n",
              "    </tr>\n",
              "    <tr>\n",
              "      <th>1</th>\n",
              "      <td>2</td>\n",
              "      <td>Italy</td>\n",
              "      <td>ITA</td>\n",
              "      <td>0.0</td>\n",
              "      <td>57.0</td>\n",
              "      <td>0.0</td>\n",
              "      <td>0.0</td>\n",
              "      <td>0.0</td>\n",
              "      <td>0.0</td>\n",
              "      <td>0.0</td>\n",
              "      <td>0.0</td>\n",
              "      <td>0.0</td>\n",
              "      <td>0.0</td>\n",
              "      <td>0.0</td>\n",
              "      <td>UEFA</td>\n",
              "      <td>1993-08-08</td>\n",
              "    </tr>\n",
              "    <tr>\n",
              "      <th>2</th>\n",
              "      <td>3</td>\n",
              "      <td>Switzerland</td>\n",
              "      <td>SUI</td>\n",
              "      <td>0.0</td>\n",
              "      <td>50.0</td>\n",
              "      <td>9.0</td>\n",
              "      <td>0.0</td>\n",
              "      <td>0.0</td>\n",
              "      <td>0.0</td>\n",
              "      <td>0.0</td>\n",
              "      <td>0.0</td>\n",
              "      <td>0.0</td>\n",
              "      <td>0.0</td>\n",
              "      <td>0.0</td>\n",
              "      <td>UEFA</td>\n",
              "      <td>1993-08-08</td>\n",
              "    </tr>\n",
              "    <tr>\n",
              "      <th>3</th>\n",
              "      <td>4</td>\n",
              "      <td>Sweden</td>\n",
              "      <td>SWE</td>\n",
              "      <td>0.0</td>\n",
              "      <td>55.0</td>\n",
              "      <td>0.0</td>\n",
              "      <td>0.0</td>\n",
              "      <td>0.0</td>\n",
              "      <td>0.0</td>\n",
              "      <td>0.0</td>\n",
              "      <td>0.0</td>\n",
              "      <td>0.0</td>\n",
              "      <td>0.0</td>\n",
              "      <td>0.0</td>\n",
              "      <td>UEFA</td>\n",
              "      <td>1993-08-08</td>\n",
              "    </tr>\n",
              "    <tr>\n",
              "      <th>4</th>\n",
              "      <td>5</td>\n",
              "      <td>Argentina</td>\n",
              "      <td>ARG</td>\n",
              "      <td>0.0</td>\n",
              "      <td>51.0</td>\n",
              "      <td>5.0</td>\n",
              "      <td>0.0</td>\n",
              "      <td>0.0</td>\n",
              "      <td>0.0</td>\n",
              "      <td>0.0</td>\n",
              "      <td>0.0</td>\n",
              "      <td>0.0</td>\n",
              "      <td>0.0</td>\n",
              "      <td>0.0</td>\n",
              "      <td>CONMEBOL</td>\n",
              "      <td>1993-08-08</td>\n",
              "    </tr>\n",
              "  </tbody>\n",
              "</table>\n",
              "</div>"
            ],
            "text/plain": [
              "   rank country_full  ... confederation   rank_date\n",
              "0     1      Germany  ...          UEFA  1993-08-08\n",
              "1     2        Italy  ...          UEFA  1993-08-08\n",
              "2     3  Switzerland  ...          UEFA  1993-08-08\n",
              "3     4       Sweden  ...          UEFA  1993-08-08\n",
              "4     5    Argentina  ...      CONMEBOL  1993-08-08\n",
              "\n",
              "[5 rows x 16 columns]"
            ]
          },
          "metadata": {
            "tags": []
          },
          "execution_count": 9
        }
      ]
    },
    {
      "cell_type": "code",
      "metadata": {
        "id": "ey9YTnlgsus3",
        "outputId": "6a710795-73de-4311-8ef9-6965b8e18cd4",
        "colab": {
          "base_uri": "https://localhost:8080/",
          "height": 204
        }
      },
      "source": [
        "results.head()"
      ],
      "execution_count": 10,
      "outputs": [
        {
          "output_type": "execute_result",
          "data": {
            "text/html": [
              "<div>\n",
              "<style scoped>\n",
              "    .dataframe tbody tr th:only-of-type {\n",
              "        vertical-align: middle;\n",
              "    }\n",
              "\n",
              "    .dataframe tbody tr th {\n",
              "        vertical-align: top;\n",
              "    }\n",
              "\n",
              "    .dataframe thead th {\n",
              "        text-align: right;\n",
              "    }\n",
              "</style>\n",
              "<table border=\"1\" class=\"dataframe\">\n",
              "  <thead>\n",
              "    <tr style=\"text-align: right;\">\n",
              "      <th></th>\n",
              "      <th>date</th>\n",
              "      <th>home_team</th>\n",
              "      <th>away_team</th>\n",
              "      <th>home_score</th>\n",
              "      <th>away_score</th>\n",
              "      <th>tournament</th>\n",
              "      <th>city</th>\n",
              "      <th>country</th>\n",
              "      <th>neutral</th>\n",
              "    </tr>\n",
              "  </thead>\n",
              "  <tbody>\n",
              "    <tr>\n",
              "      <th>0</th>\n",
              "      <td>1872-11-30</td>\n",
              "      <td>Scotland</td>\n",
              "      <td>England</td>\n",
              "      <td>0</td>\n",
              "      <td>0</td>\n",
              "      <td>Friendly</td>\n",
              "      <td>Glasgow</td>\n",
              "      <td>Scotland</td>\n",
              "      <td>False</td>\n",
              "    </tr>\n",
              "    <tr>\n",
              "      <th>1</th>\n",
              "      <td>1873-03-08</td>\n",
              "      <td>England</td>\n",
              "      <td>Scotland</td>\n",
              "      <td>4</td>\n",
              "      <td>2</td>\n",
              "      <td>Friendly</td>\n",
              "      <td>London</td>\n",
              "      <td>England</td>\n",
              "      <td>False</td>\n",
              "    </tr>\n",
              "    <tr>\n",
              "      <th>2</th>\n",
              "      <td>1874-03-07</td>\n",
              "      <td>Scotland</td>\n",
              "      <td>England</td>\n",
              "      <td>2</td>\n",
              "      <td>1</td>\n",
              "      <td>Friendly</td>\n",
              "      <td>Glasgow</td>\n",
              "      <td>Scotland</td>\n",
              "      <td>False</td>\n",
              "    </tr>\n",
              "    <tr>\n",
              "      <th>3</th>\n",
              "      <td>1875-03-06</td>\n",
              "      <td>England</td>\n",
              "      <td>Scotland</td>\n",
              "      <td>2</td>\n",
              "      <td>2</td>\n",
              "      <td>Friendly</td>\n",
              "      <td>London</td>\n",
              "      <td>England</td>\n",
              "      <td>False</td>\n",
              "    </tr>\n",
              "    <tr>\n",
              "      <th>4</th>\n",
              "      <td>1876-03-04</td>\n",
              "      <td>Scotland</td>\n",
              "      <td>England</td>\n",
              "      <td>3</td>\n",
              "      <td>0</td>\n",
              "      <td>Friendly</td>\n",
              "      <td>Glasgow</td>\n",
              "      <td>Scotland</td>\n",
              "      <td>False</td>\n",
              "    </tr>\n",
              "  </tbody>\n",
              "</table>\n",
              "</div>"
            ],
            "text/plain": [
              "         date home_team away_team  ...     city   country neutral\n",
              "0  1872-11-30  Scotland   England  ...  Glasgow  Scotland   False\n",
              "1  1873-03-08   England  Scotland  ...   London   England   False\n",
              "2  1874-03-07  Scotland   England  ...  Glasgow  Scotland   False\n",
              "3  1875-03-06   England  Scotland  ...   London   England   False\n",
              "4  1876-03-04  Scotland   England  ...  Glasgow  Scotland   False\n",
              "\n",
              "[5 rows x 9 columns]"
            ]
          },
          "metadata": {
            "tags": []
          },
          "execution_count": 10
        }
      ]
    },
    {
      "cell_type": "code",
      "metadata": {
        "id": "e9AzGcZFrIIr",
        "outputId": "99d0a390-70ac-484c-fe86-7071c00ff0c6",
        "colab": {
          "base_uri": "https://localhost:8080/",
          "height": 292
        }
      },
      "source": [
        "# Previewing the bottom of our dataset\n",
        "fifa_ranking.tail()"
      ],
      "execution_count": 11,
      "outputs": [
        {
          "output_type": "execute_result",
          "data": {
            "text/html": [
              "<div>\n",
              "<style scoped>\n",
              "    .dataframe tbody tr th:only-of-type {\n",
              "        vertical-align: middle;\n",
              "    }\n",
              "\n",
              "    .dataframe tbody tr th {\n",
              "        vertical-align: top;\n",
              "    }\n",
              "\n",
              "    .dataframe thead th {\n",
              "        text-align: right;\n",
              "    }\n",
              "</style>\n",
              "<table border=\"1\" class=\"dataframe\">\n",
              "  <thead>\n",
              "    <tr style=\"text-align: right;\">\n",
              "      <th></th>\n",
              "      <th>rank</th>\n",
              "      <th>country_full</th>\n",
              "      <th>country_abrv</th>\n",
              "      <th>total_points</th>\n",
              "      <th>previous_points</th>\n",
              "      <th>rank_change</th>\n",
              "      <th>cur_year_avg</th>\n",
              "      <th>cur_year_avg_weighted</th>\n",
              "      <th>last_year_avg</th>\n",
              "      <th>last_year_avg_weighted</th>\n",
              "      <th>two_year_ago_avg</th>\n",
              "      <th>two_year_ago_weighted</th>\n",
              "      <th>three_year_ago_avg</th>\n",
              "      <th>three_year_ago_weighted</th>\n",
              "      <th>confederation</th>\n",
              "      <th>rank_date</th>\n",
              "    </tr>\n",
              "  </thead>\n",
              "  <tbody>\n",
              "    <tr>\n",
              "      <th>41356</th>\n",
              "      <td>149</td>\n",
              "      <td>Samoa</td>\n",
              "      <td>SAM</td>\n",
              "      <td>148.75</td>\n",
              "      <td>0.0</td>\n",
              "      <td>55.0</td>\n",
              "      <td>148.75</td>\n",
              "      <td>148.75</td>\n",
              "      <td>0.00</td>\n",
              "      <td>0.00</td>\n",
              "      <td>0.00</td>\n",
              "      <td>0.00</td>\n",
              "      <td>0.00</td>\n",
              "      <td>0.00</td>\n",
              "      <td>OFC</td>\n",
              "      <td>2011-12-21</td>\n",
              "    </tr>\n",
              "    <tr>\n",
              "      <th>41357</th>\n",
              "      <td>150</td>\n",
              "      <td>Equatorial Guinea</td>\n",
              "      <td>EQG</td>\n",
              "      <td>147.91</td>\n",
              "      <td>148.0</td>\n",
              "      <td>1.0</td>\n",
              "      <td>137.28</td>\n",
              "      <td>137.28</td>\n",
              "      <td>0.00</td>\n",
              "      <td>0.00</td>\n",
              "      <td>0.00</td>\n",
              "      <td>0.00</td>\n",
              "      <td>53.13</td>\n",
              "      <td>10.63</td>\n",
              "      <td>CAF</td>\n",
              "      <td>2011-12-21</td>\n",
              "    </tr>\n",
              "    <tr>\n",
              "      <th>41358</th>\n",
              "      <td>151</td>\n",
              "      <td>Yemen</td>\n",
              "      <td>YEM</td>\n",
              "      <td>145.63</td>\n",
              "      <td>153.0</td>\n",
              "      <td>-1.0</td>\n",
              "      <td>39.56</td>\n",
              "      <td>39.56</td>\n",
              "      <td>126.23</td>\n",
              "      <td>63.12</td>\n",
              "      <td>82.77</td>\n",
              "      <td>24.83</td>\n",
              "      <td>90.61</td>\n",
              "      <td>18.12</td>\n",
              "      <td>AFC</td>\n",
              "      <td>2011-12-21</td>\n",
              "    </tr>\n",
              "    <tr>\n",
              "      <th>41359</th>\n",
              "      <td>151</td>\n",
              "      <td>Curaçao</td>\n",
              "      <td>CUW</td>\n",
              "      <td>145.90</td>\n",
              "      <td>154.0</td>\n",
              "      <td>-2.0</td>\n",
              "      <td>85.36</td>\n",
              "      <td>85.36</td>\n",
              "      <td>63.71</td>\n",
              "      <td>31.86</td>\n",
              "      <td>14.45</td>\n",
              "      <td>4.34</td>\n",
              "      <td>121.69</td>\n",
              "      <td>24.34</td>\n",
              "      <td>CONCACAF</td>\n",
              "      <td>2011-12-21</td>\n",
              "    </tr>\n",
              "    <tr>\n",
              "      <th>41360</th>\n",
              "      <td>153</td>\n",
              "      <td>Nep</td>\n",
              "      <td>NaN</td>\n",
              "      <td>NaN</td>\n",
              "      <td>NaN</td>\n",
              "      <td>NaN</td>\n",
              "      <td>NaN</td>\n",
              "      <td>NaN</td>\n",
              "      <td>NaN</td>\n",
              "      <td>NaN</td>\n",
              "      <td>NaN</td>\n",
              "      <td>NaN</td>\n",
              "      <td>NaN</td>\n",
              "      <td>NaN</td>\n",
              "      <td>NaN</td>\n",
              "      <td>NaN</td>\n",
              "    </tr>\n",
              "  </tbody>\n",
              "</table>\n",
              "</div>"
            ],
            "text/plain": [
              "       rank       country_full  ... confederation   rank_date\n",
              "41356   149              Samoa  ...           OFC  2011-12-21\n",
              "41357   150  Equatorial Guinea  ...           CAF  2011-12-21\n",
              "41358   151              Yemen  ...           AFC  2011-12-21\n",
              "41359   151            Curaçao  ...      CONCACAF  2011-12-21\n",
              "41360   153                Nep  ...           NaN         NaN\n",
              "\n",
              "[5 rows x 16 columns]"
            ]
          },
          "metadata": {
            "tags": []
          },
          "execution_count": 11
        }
      ]
    },
    {
      "cell_type": "code",
      "metadata": {
        "id": "YQfi4tI9s2eg",
        "outputId": "2566c3f9-ea3a-4526-e945-99f4847315fb",
        "colab": {
          "base_uri": "https://localhost:8080/",
          "height": 204
        }
      },
      "source": [
        "results.tail()"
      ],
      "execution_count": 12,
      "outputs": [
        {
          "output_type": "execute_result",
          "data": {
            "text/html": [
              "<div>\n",
              "<style scoped>\n",
              "    .dataframe tbody tr th:only-of-type {\n",
              "        vertical-align: middle;\n",
              "    }\n",
              "\n",
              "    .dataframe tbody tr th {\n",
              "        vertical-align: top;\n",
              "    }\n",
              "\n",
              "    .dataframe thead th {\n",
              "        text-align: right;\n",
              "    }\n",
              "</style>\n",
              "<table border=\"1\" class=\"dataframe\">\n",
              "  <thead>\n",
              "    <tr style=\"text-align: right;\">\n",
              "      <th></th>\n",
              "      <th>date</th>\n",
              "      <th>home_team</th>\n",
              "      <th>away_team</th>\n",
              "      <th>home_score</th>\n",
              "      <th>away_score</th>\n",
              "      <th>tournament</th>\n",
              "      <th>city</th>\n",
              "      <th>country</th>\n",
              "      <th>neutral</th>\n",
              "    </tr>\n",
              "  </thead>\n",
              "  <tbody>\n",
              "    <tr>\n",
              "      <th>40834</th>\n",
              "      <td>2019-07-18</td>\n",
              "      <td>American Samoa</td>\n",
              "      <td>Tahiti</td>\n",
              "      <td>8</td>\n",
              "      <td>1</td>\n",
              "      <td>Pacific Games</td>\n",
              "      <td>Apia</td>\n",
              "      <td>Samoa</td>\n",
              "      <td>True</td>\n",
              "    </tr>\n",
              "    <tr>\n",
              "      <th>40835</th>\n",
              "      <td>2019-07-18</td>\n",
              "      <td>Fiji</td>\n",
              "      <td>Solomon Islands</td>\n",
              "      <td>4</td>\n",
              "      <td>4</td>\n",
              "      <td>Pacific Games</td>\n",
              "      <td>Apia</td>\n",
              "      <td>Samoa</td>\n",
              "      <td>True</td>\n",
              "    </tr>\n",
              "    <tr>\n",
              "      <th>40836</th>\n",
              "      <td>2019-07-19</td>\n",
              "      <td>Senegal</td>\n",
              "      <td>Algeria</td>\n",
              "      <td>0</td>\n",
              "      <td>1</td>\n",
              "      <td>African Cup of Nations</td>\n",
              "      <td>Cairo</td>\n",
              "      <td>Egypt</td>\n",
              "      <td>True</td>\n",
              "    </tr>\n",
              "    <tr>\n",
              "      <th>40837</th>\n",
              "      <td>2019-07-19</td>\n",
              "      <td>Tajikistan</td>\n",
              "      <td>North Korea</td>\n",
              "      <td>0</td>\n",
              "      <td>1</td>\n",
              "      <td>Intercontinental Cup</td>\n",
              "      <td>Ahmedabad</td>\n",
              "      <td>India</td>\n",
              "      <td>True</td>\n",
              "    </tr>\n",
              "    <tr>\n",
              "      <th>40838</th>\n",
              "      <td>2019-07-20</td>\n",
              "      <td>Papua New Guinea</td>\n",
              "      <td>Fiji</td>\n",
              "      <td>1</td>\n",
              "      <td>1</td>\n",
              "      <td>Pacific Games</td>\n",
              "      <td>Apia</td>\n",
              "      <td>Samoa</td>\n",
              "      <td>True</td>\n",
              "    </tr>\n",
              "  </tbody>\n",
              "</table>\n",
              "</div>"
            ],
            "text/plain": [
              "             date         home_team  ... country  neutral\n",
              "40834  2019-07-18    American Samoa  ...   Samoa     True\n",
              "40835  2019-07-18              Fiji  ...   Samoa     True\n",
              "40836  2019-07-19           Senegal  ...   Egypt     True\n",
              "40837  2019-07-19        Tajikistan  ...   India     True\n",
              "40838  2019-07-20  Papua New Guinea  ...   Samoa     True\n",
              "\n",
              "[5 rows x 9 columns]"
            ]
          },
          "metadata": {
            "tags": []
          },
          "execution_count": 12
        }
      ]
    },
    {
      "cell_type": "code",
      "metadata": {
        "id": "n8-dW4sQWzbc",
        "outputId": "56067035-97f4-4a74-9b6c-9d09346bc40b",
        "colab": {
          "base_uri": "https://localhost:8080/"
        }
      },
      "source": [
        "# Checking whether each column has an appropriate datatype\n",
        "fifa_ranking.info()"
      ],
      "execution_count": 13,
      "outputs": [
        {
          "output_type": "stream",
          "text": [
            "<class 'pandas.core.frame.DataFrame'>\n",
            "RangeIndex: 41361 entries, 0 to 41360\n",
            "Data columns (total 16 columns):\n",
            " #   Column                   Non-Null Count  Dtype  \n",
            "---  ------                   --------------  -----  \n",
            " 0   rank                     41361 non-null  int64  \n",
            " 1   country_full             41361 non-null  object \n",
            " 2   country_abrv             41360 non-null  object \n",
            " 3   total_points             41360 non-null  float64\n",
            " 4   previous_points          41360 non-null  float64\n",
            " 5   rank_change              41360 non-null  float64\n",
            " 6   cur_year_avg             41360 non-null  float64\n",
            " 7   cur_year_avg_weighted    41360 non-null  float64\n",
            " 8   last_year_avg            41360 non-null  float64\n",
            " 9   last_year_avg_weighted   41360 non-null  float64\n",
            " 10  two_year_ago_avg         41360 non-null  float64\n",
            " 11  two_year_ago_weighted    41360 non-null  float64\n",
            " 12  three_year_ago_avg       41360 non-null  float64\n",
            " 13  three_year_ago_weighted  41360 non-null  float64\n",
            " 14  confederation            41360 non-null  object \n",
            " 15  rank_date                41360 non-null  object \n",
            "dtypes: float64(11), int64(1), object(4)\n",
            "memory usage: 5.0+ MB\n"
          ],
          "name": "stdout"
        }
      ]
    },
    {
      "cell_type": "code",
      "metadata": {
        "id": "51x826nWt6CN",
        "outputId": "6e3dbbb5-c79c-427e-da8d-9270d67ebd7d",
        "colab": {
          "base_uri": "https://localhost:8080/"
        }
      },
      "source": [
        "results.info()"
      ],
      "execution_count": 14,
      "outputs": [
        {
          "output_type": "stream",
          "text": [
            "<class 'pandas.core.frame.DataFrame'>\n",
            "RangeIndex: 40839 entries, 0 to 40838\n",
            "Data columns (total 9 columns):\n",
            " #   Column      Non-Null Count  Dtype \n",
            "---  ------      --------------  ----- \n",
            " 0   date        40839 non-null  object\n",
            " 1   home_team   40839 non-null  object\n",
            " 2   away_team   40839 non-null  object\n",
            " 3   home_score  40839 non-null  int64 \n",
            " 4   away_score  40839 non-null  int64 \n",
            " 5   tournament  40839 non-null  object\n",
            " 6   city        40839 non-null  object\n",
            " 7   country     40839 non-null  object\n",
            " 8   neutral     40839 non-null  bool  \n",
            "dtypes: bool(1), int64(2), object(6)\n",
            "memory usage: 2.5+ MB\n"
          ],
          "name": "stdout"
        }
      ]
    },
    {
      "cell_type": "code",
      "metadata": {
        "id": "oztrzvg_uAXd",
        "outputId": "8e4039dd-e8ae-4215-a815-e39c8c6a2e54",
        "colab": {
          "base_uri": "https://localhost:8080/"
        }
      },
      "source": [
        "#checking if the are any missing values\n",
        "fifa_ranking.isnull().sum"
      ],
      "execution_count": 15,
      "outputs": [
        {
          "output_type": "execute_result",
          "data": {
            "text/plain": [
              "<bound method DataFrame.sum of         rank  country_full  ...  confederation  rank_date\n",
              "0      False         False  ...          False      False\n",
              "1      False         False  ...          False      False\n",
              "2      False         False  ...          False      False\n",
              "3      False         False  ...          False      False\n",
              "4      False         False  ...          False      False\n",
              "...      ...           ...  ...            ...        ...\n",
              "41356  False         False  ...          False      False\n",
              "41357  False         False  ...          False      False\n",
              "41358  False         False  ...          False      False\n",
              "41359  False         False  ...          False      False\n",
              "41360  False         False  ...           True       True\n",
              "\n",
              "[41361 rows x 16 columns]>"
            ]
          },
          "metadata": {
            "tags": []
          },
          "execution_count": 15
        }
      ]
    },
    {
      "cell_type": "code",
      "metadata": {
        "id": "H0V8XvXp0PLT",
        "outputId": "b146f996-2904-4581-b3c6-fd923850967c",
        "colab": {
          "base_uri": "https://localhost:8080/"
        }
      },
      "source": [
        "results.isnull().sum"
      ],
      "execution_count": 16,
      "outputs": [
        {
          "output_type": "execute_result",
          "data": {
            "text/plain": [
              "<bound method DataFrame.sum of         date  home_team  away_team  ...   city  country  neutral\n",
              "0      False      False      False  ...  False    False    False\n",
              "1      False      False      False  ...  False    False    False\n",
              "2      False      False      False  ...  False    False    False\n",
              "3      False      False      False  ...  False    False    False\n",
              "4      False      False      False  ...  False    False    False\n",
              "...      ...        ...        ...  ...    ...      ...      ...\n",
              "40834  False      False      False  ...  False    False    False\n",
              "40835  False      False      False  ...  False    False    False\n",
              "40836  False      False      False  ...  False    False    False\n",
              "40837  False      False      False  ...  False    False    False\n",
              "40838  False      False      False  ...  False    False    False\n",
              "\n",
              "[40839 rows x 9 columns]>"
            ]
          },
          "metadata": {
            "tags": []
          },
          "execution_count": 16
        }
      ]
    },
    {
      "cell_type": "code",
      "metadata": {
        "id": "WyBmVyZlF1po",
        "outputId": "1afcc38a-e50b-449b-e6f0-1456045656c4",
        "colab": {
          "base_uri": "https://localhost:8080/"
        }
      },
      "source": [
        "fifa_ranking.duplicated().sum()"
      ],
      "execution_count": 17,
      "outputs": [
        {
          "output_type": "execute_result",
          "data": {
            "text/plain": [
              "1"
            ]
          },
          "metadata": {
            "tags": []
          },
          "execution_count": 17
        }
      ]
    },
    {
      "cell_type": "code",
      "metadata": {
        "id": "SbKMC73VGJl8",
        "outputId": "d2672056-8adf-4f7e-b5fd-c483c7a19ab0",
        "colab": {
          "base_uri": "https://localhost:8080/"
        }
      },
      "source": [
        "results.duplicated().sum()"
      ],
      "execution_count": 18,
      "outputs": [
        {
          "output_type": "execute_result",
          "data": {
            "text/plain": [
              "0"
            ]
          },
          "metadata": {
            "tags": []
          },
          "execution_count": 18
        }
      ]
    },
    {
      "cell_type": "markdown",
      "metadata": {
        "id": "ckfufNrcUHeH"
      },
      "source": [
        "## 4. External Data Source Validation"
      ]
    },
    {
      "cell_type": "markdown",
      "metadata": {
        "id": "6L4sl_0WXlbg"
      },
      "source": [
        "Making sure your data matches something outside of the dataset is very important. It allows you to ensure that the measurements are roughly in line with what they should be and it serves as a check on what other things might be wrong in your dataset. External validation can often be as simple as checking your data against a single number, as we will do here."
      ]
    },
    {
      "cell_type": "markdown",
      "metadata": {
        "id": "6XC_g-zKxe-r"
      },
      "source": [
        "### a.Validation"
      ]
    },
    {
      "cell_type": "markdown",
      "metadata": {
        "id": "FlBMxEDBUc9B"
      },
      "source": [
        "## 5. Tidying the Dataset"
      ]
    },
    {
      "cell_type": "code",
      "metadata": {
        "id": "sX4US5Y6FELm",
        "outputId": "e8eaba4d-ff0b-43af-d97d-39a4283a27a3",
        "colab": {
          "base_uri": "https://localhost:8080/"
        }
      },
      "source": [
        "#changing the 'date' and 'rank date' columns to integers data types\n",
        "#that is we convert the datatypes to the correct date types\n",
        "fifa_ranking['rank_date'] = pd.to_datetime(fifa_ranking['rank_date'])\n",
        "fifa_ranking.info()"
      ],
      "execution_count": 19,
      "outputs": [
        {
          "output_type": "stream",
          "text": [
            "<class 'pandas.core.frame.DataFrame'>\n",
            "RangeIndex: 41361 entries, 0 to 41360\n",
            "Data columns (total 16 columns):\n",
            " #   Column                   Non-Null Count  Dtype         \n",
            "---  ------                   --------------  -----         \n",
            " 0   rank                     41361 non-null  int64         \n",
            " 1   country_full             41361 non-null  object        \n",
            " 2   country_abrv             41360 non-null  object        \n",
            " 3   total_points             41360 non-null  float64       \n",
            " 4   previous_points          41360 non-null  float64       \n",
            " 5   rank_change              41360 non-null  float64       \n",
            " 6   cur_year_avg             41360 non-null  float64       \n",
            " 7   cur_year_avg_weighted    41360 non-null  float64       \n",
            " 8   last_year_avg            41360 non-null  float64       \n",
            " 9   last_year_avg_weighted   41360 non-null  float64       \n",
            " 10  two_year_ago_avg         41360 non-null  float64       \n",
            " 11  two_year_ago_weighted    41360 non-null  float64       \n",
            " 12  three_year_ago_avg       41360 non-null  float64       \n",
            " 13  three_year_ago_weighted  41360 non-null  float64       \n",
            " 14  confederation            41360 non-null  object        \n",
            " 15  rank_date                41360 non-null  datetime64[ns]\n",
            "dtypes: datetime64[ns](1), float64(11), int64(1), object(3)\n",
            "memory usage: 5.0+ MB\n"
          ],
          "name": "stdout"
        }
      ]
    },
    {
      "cell_type": "code",
      "metadata": {
        "id": "i4fk3GyQFcLM",
        "outputId": "cc136bac-4b16-4e34-82ba-5766cb2989b6",
        "colab": {
          "base_uri": "https://localhost:8080/"
        }
      },
      "source": [
        "results['date'] = pd.to_datetime(results['date'], errors='coerce')\n",
        "results.info()"
      ],
      "execution_count": 20,
      "outputs": [
        {
          "output_type": "stream",
          "text": [
            "<class 'pandas.core.frame.DataFrame'>\n",
            "RangeIndex: 40839 entries, 0 to 40838\n",
            "Data columns (total 9 columns):\n",
            " #   Column      Non-Null Count  Dtype         \n",
            "---  ------      --------------  -----         \n",
            " 0   date        40839 non-null  datetime64[ns]\n",
            " 1   home_team   40839 non-null  object        \n",
            " 2   away_team   40839 non-null  object        \n",
            " 3   home_score  40839 non-null  int64         \n",
            " 4   away_score  40839 non-null  int64         \n",
            " 5   tournament  40839 non-null  object        \n",
            " 6   city        40839 non-null  object        \n",
            " 7   country     40839 non-null  object        \n",
            " 8   neutral     40839 non-null  bool          \n",
            "dtypes: bool(1), datetime64[ns](1), int64(2), object(5)\n",
            "memory usage: 2.5+ MB\n"
          ],
          "name": "stdout"
        }
      ]
    },
    {
      "cell_type": "code",
      "metadata": {
        "id": "rCZDqGcA6exW",
        "outputId": "6a03de96-6512-4c44-ee40-0e9758f9925d",
        "colab": {
          "base_uri": "https://localhost:8080/"
        }
      },
      "source": [
        "#renaming the common columns in our datasets\n",
        "#since we have to merge the datasets we change the names of the common columns\n",
        "#the common columns are 'country' and 'date'\n",
        "#\n",
        "fifa_ranking.rename(columns={'country_full': 'country','rank_date':'date'},inplace = True)\n",
        "fifa_ranking.columns\n"
      ],
      "execution_count": 21,
      "outputs": [
        {
          "output_type": "execute_result",
          "data": {
            "text/plain": [
              "Index(['rank', 'country', 'country_abrv', 'total_points', 'previous_points',\n",
              "       'rank_change', 'cur_year_avg', 'cur_year_avg_weighted', 'last_year_avg',\n",
              "       'last_year_avg_weighted', 'two_year_ago_avg', 'two_year_ago_weighted',\n",
              "       'three_year_ago_avg', 'three_year_ago_weighted', 'confederation',\n",
              "       'date'],\n",
              "      dtype='object')"
            ]
          },
          "metadata": {
            "tags": []
          },
          "execution_count": 21
        }
      ]
    },
    {
      "cell_type": "code",
      "metadata": {
        "id": "09S5jVHEFCNi",
        "outputId": "80a6a02f-fe94-44c4-e932-a8b5347c2bed",
        "colab": {
          "base_uri": "https://localhost:8080/"
        }
      },
      "source": [
        "#before merging we also check if the 'country'and 'date' coulumns from both datasets have unique values \n",
        "#or 'abnormally named' \n",
        "column_values1 = fifa_ranking[[\"country\", \"date\"]].values.ravel()\n",
        "column_values2 = results[[\"country\", \"date\"]].values.ravel()\n",
        "print(column_values1)\n",
        "print(column_values2)"
      ],
      "execution_count": 22,
      "outputs": [
        {
          "output_type": "stream",
          "text": [
            "['Germany' Timestamp('1993-08-08 00:00:00') 'Italy' ...\n",
            " Timestamp('2011-12-21 00:00:00') 'Nep' NaT]\n",
            "['Scotland' Timestamp('1872-11-30 00:00:00') 'England' ...\n",
            " Timestamp('2019-07-19 00:00:00') 'Samoa' Timestamp('2019-07-20 00:00:00')]\n"
          ],
          "name": "stdout"
        }
      ]
    },
    {
      "cell_type": "markdown",
      "metadata": {
        "id": "hfuF5JCfSVEG"
      },
      "source": [
        "#### \n",
        "* merge() for combining data on common columns or indices\n",
        "* join() for combining data on a key column or an index\n",
        "* concat() for combining DataFrames across rows or columns"
      ]
    },
    {
      "cell_type": "code",
      "metadata": {
        "id": "U5kraoAqTvK6",
        "outputId": "2b2aaa91-425a-4057-858e-55906dccda76",
        "colab": {
          "base_uri": "https://localhost:8080/"
        }
      },
      "source": [
        "inner_merged_total = pd.merge(fifa_ranking,results,how=\"inner\", on=[\"country\", \"date\"])\n",
        "print(inner_merged_total.head())\n",
        "print(inner_merged_total.shape)"
      ],
      "execution_count": 23,
      "outputs": [
        {
          "output_type": "stream",
          "text": [
            "   rank   country country_abrv  ...                    tournament     city  neutral\n",
            "0     8    Brazil          BRA  ...                      Friendly   Maceió    False\n",
            "1    35   Ecuador          ECU  ...  FIFA World Cup qualification    Quito    False\n",
            "2    50  Zimbabwe          ZIM  ...                      Friendly   Harare    False\n",
            "3    59   Bolivia          BOL  ...  FIFA World Cup qualification   La Paz    False\n",
            "4    65    Guinea          GUI  ...                      Friendly  Conakry    False\n",
            "\n",
            "[5 rows x 23 columns]\n",
            "(857, 23)\n"
          ],
          "name": "stdout"
        }
      ]
    },
    {
      "cell_type": "code",
      "metadata": {
        "id": "fHgAu0ZyV1fP",
        "outputId": "a8ac0fa6-7249-4d99-eeb5-3f77e2d7ab4e",
        "colab": {
          "base_uri": "https://localhost:8080/"
        }
      },
      "source": [
        "inner_merged_total.isna().sum()"
      ],
      "execution_count": 24,
      "outputs": [
        {
          "output_type": "execute_result",
          "data": {
            "text/plain": [
              "rank                       0\n",
              "country                    0\n",
              "country_abrv               0\n",
              "total_points               0\n",
              "previous_points            0\n",
              "rank_change                0\n",
              "cur_year_avg               0\n",
              "cur_year_avg_weighted      0\n",
              "last_year_avg              0\n",
              "last_year_avg_weighted     0\n",
              "two_year_ago_avg           0\n",
              "two_year_ago_weighted      0\n",
              "three_year_ago_avg         0\n",
              "three_year_ago_weighted    0\n",
              "confederation              0\n",
              "date                       0\n",
              "home_team                  0\n",
              "away_team                  0\n",
              "home_score                 0\n",
              "away_score                 0\n",
              "tournament                 0\n",
              "city                       0\n",
              "neutral                    0\n",
              "dtype: int64"
            ]
          },
          "metadata": {
            "tags": []
          },
          "execution_count": 24
        }
      ]
    },
    {
      "cell_type": "code",
      "metadata": {
        "id": "uTWOWQ7yUEPQ",
        "outputId": "b0b30673-c419-4628-8b5b-fc37c7d15ede",
        "colab": {
          "base_uri": "https://localhost:8080/"
        }
      },
      "source": [
        "outer_merged = pd.merge(fifa_ranking, results, how=\"outer\", on=[\"country\", \"date\"])\n",
        "print(outer_merged.head())\n",
        "print(outer_merged.shape)"
      ],
      "execution_count": 25,
      "outputs": [
        {
          "output_type": "stream",
          "text": [
            "   rank      country country_abrv  ...  tournament  city  neutral\n",
            "0   1.0      Germany          GER  ...         NaN   NaN      NaN\n",
            "1   2.0        Italy          ITA  ...         NaN   NaN      NaN\n",
            "2   3.0  Switzerland          SUI  ...         NaN   NaN      NaN\n",
            "3   4.0       Sweden          SWE  ...         NaN   NaN      NaN\n",
            "4   5.0    Argentina          ARG  ...         NaN   NaN      NaN\n",
            "\n",
            "[5 rows x 23 columns]\n",
            "(81416, 23)\n"
          ],
          "name": "stdout"
        }
      ]
    },
    {
      "cell_type": "code",
      "metadata": {
        "id": "Wjf9JCK0VaBA",
        "outputId": "8a6df685-9806-4f9f-8c51-e23402b53282",
        "colab": {
          "base_uri": "https://localhost:8080/"
        }
      },
      "source": [
        "outer_merged.isna().sum()"
      ],
      "execution_count": 26,
      "outputs": [
        {
          "output_type": "execute_result",
          "data": {
            "text/plain": [
              "rank                       39982\n",
              "country                        0\n",
              "country_abrv               39983\n",
              "total_points               39983\n",
              "previous_points            39983\n",
              "rank_change                39983\n",
              "cur_year_avg               39983\n",
              "cur_year_avg_weighted      39983\n",
              "last_year_avg              39983\n",
              "last_year_avg_weighted     39983\n",
              "two_year_ago_avg           39983\n",
              "two_year_ago_weighted      39983\n",
              "three_year_ago_avg         39983\n",
              "three_year_ago_weighted    39983\n",
              "confederation              39983\n",
              "date                           1\n",
              "home_team                  40577\n",
              "away_team                  40577\n",
              "home_score                 40577\n",
              "away_score                 40577\n",
              "tournament                 40577\n",
              "city                       40577\n",
              "neutral                    40577\n",
              "dtype: int64"
            ]
          },
          "metadata": {
            "tags": []
          },
          "execution_count": 26
        }
      ]
    },
    {
      "cell_type": "code",
      "metadata": {
        "id": "V7_hcqYlnZyF",
        "outputId": "fd2f90d4-52d7-4f09-db39-0c97fd437dc6",
        "colab": {
          "base_uri": "https://localhost:8080/",
          "height": 626
        }
      },
      "source": [
        "outer_merged.tail(400)"
      ],
      "execution_count": 27,
      "outputs": [
        {
          "output_type": "execute_result",
          "data": {
            "text/html": [
              "<div>\n",
              "<style scoped>\n",
              "    .dataframe tbody tr th:only-of-type {\n",
              "        vertical-align: middle;\n",
              "    }\n",
              "\n",
              "    .dataframe tbody tr th {\n",
              "        vertical-align: top;\n",
              "    }\n",
              "\n",
              "    .dataframe thead th {\n",
              "        text-align: right;\n",
              "    }\n",
              "</style>\n",
              "<table border=\"1\" class=\"dataframe\">\n",
              "  <thead>\n",
              "    <tr style=\"text-align: right;\">\n",
              "      <th></th>\n",
              "      <th>rank</th>\n",
              "      <th>country</th>\n",
              "      <th>country_abrv</th>\n",
              "      <th>total_points</th>\n",
              "      <th>previous_points</th>\n",
              "      <th>rank_change</th>\n",
              "      <th>cur_year_avg</th>\n",
              "      <th>cur_year_avg_weighted</th>\n",
              "      <th>last_year_avg</th>\n",
              "      <th>last_year_avg_weighted</th>\n",
              "      <th>two_year_ago_avg</th>\n",
              "      <th>two_year_ago_weighted</th>\n",
              "      <th>three_year_ago_avg</th>\n",
              "      <th>three_year_ago_weighted</th>\n",
              "      <th>confederation</th>\n",
              "      <th>date</th>\n",
              "      <th>home_team</th>\n",
              "      <th>away_team</th>\n",
              "      <th>home_score</th>\n",
              "      <th>away_score</th>\n",
              "      <th>tournament</th>\n",
              "      <th>city</th>\n",
              "      <th>neutral</th>\n",
              "    </tr>\n",
              "  </thead>\n",
              "  <tbody>\n",
              "    <tr>\n",
              "      <th>81016</th>\n",
              "      <td>NaN</td>\n",
              "      <td>South Korea</td>\n",
              "      <td>NaN</td>\n",
              "      <td>NaN</td>\n",
              "      <td>NaN</td>\n",
              "      <td>NaN</td>\n",
              "      <td>NaN</td>\n",
              "      <td>NaN</td>\n",
              "      <td>NaN</td>\n",
              "      <td>NaN</td>\n",
              "      <td>NaN</td>\n",
              "      <td>NaN</td>\n",
              "      <td>NaN</td>\n",
              "      <td>NaN</td>\n",
              "      <td>NaN</td>\n",
              "      <td>2019-03-22</td>\n",
              "      <td>South Korea</td>\n",
              "      <td>Bolivia</td>\n",
              "      <td>1.0</td>\n",
              "      <td>0.0</td>\n",
              "      <td>Friendly</td>\n",
              "      <td>Ulsan</td>\n",
              "      <td>False</td>\n",
              "    </tr>\n",
              "    <tr>\n",
              "      <th>81017</th>\n",
              "      <td>NaN</td>\n",
              "      <td>United States</td>\n",
              "      <td>NaN</td>\n",
              "      <td>NaN</td>\n",
              "      <td>NaN</td>\n",
              "      <td>NaN</td>\n",
              "      <td>NaN</td>\n",
              "      <td>NaN</td>\n",
              "      <td>NaN</td>\n",
              "      <td>NaN</td>\n",
              "      <td>NaN</td>\n",
              "      <td>NaN</td>\n",
              "      <td>NaN</td>\n",
              "      <td>NaN</td>\n",
              "      <td>NaN</td>\n",
              "      <td>2019-03-22</td>\n",
              "      <td>Mexico</td>\n",
              "      <td>Chile</td>\n",
              "      <td>3.0</td>\n",
              "      <td>1.0</td>\n",
              "      <td>Friendly</td>\n",
              "      <td>San Diego</td>\n",
              "      <td>True</td>\n",
              "    </tr>\n",
              "    <tr>\n",
              "      <th>81018</th>\n",
              "      <td>NaN</td>\n",
              "      <td>United States</td>\n",
              "      <td>NaN</td>\n",
              "      <td>NaN</td>\n",
              "      <td>NaN</td>\n",
              "      <td>NaN</td>\n",
              "      <td>NaN</td>\n",
              "      <td>NaN</td>\n",
              "      <td>NaN</td>\n",
              "      <td>NaN</td>\n",
              "      <td>NaN</td>\n",
              "      <td>NaN</td>\n",
              "      <td>NaN</td>\n",
              "      <td>NaN</td>\n",
              "      <td>NaN</td>\n",
              "      <td>2019-03-22</td>\n",
              "      <td>Peru</td>\n",
              "      <td>Paraguay</td>\n",
              "      <td>1.0</td>\n",
              "      <td>0.0</td>\n",
              "      <td>Friendly</td>\n",
              "      <td>Harrison</td>\n",
              "      <td>True</td>\n",
              "    </tr>\n",
              "    <tr>\n",
              "      <th>81019</th>\n",
              "      <td>NaN</td>\n",
              "      <td>Bulgaria</td>\n",
              "      <td>NaN</td>\n",
              "      <td>NaN</td>\n",
              "      <td>NaN</td>\n",
              "      <td>NaN</td>\n",
              "      <td>NaN</td>\n",
              "      <td>NaN</td>\n",
              "      <td>NaN</td>\n",
              "      <td>NaN</td>\n",
              "      <td>NaN</td>\n",
              "      <td>NaN</td>\n",
              "      <td>NaN</td>\n",
              "      <td>NaN</td>\n",
              "      <td>NaN</td>\n",
              "      <td>2019-03-22</td>\n",
              "      <td>Bulgaria</td>\n",
              "      <td>Montenegro</td>\n",
              "      <td>1.0</td>\n",
              "      <td>1.0</td>\n",
              "      <td>UEFA Euro qualification</td>\n",
              "      <td>Sofia</td>\n",
              "      <td>False</td>\n",
              "    </tr>\n",
              "    <tr>\n",
              "      <th>81020</th>\n",
              "      <td>NaN</td>\n",
              "      <td>England</td>\n",
              "      <td>NaN</td>\n",
              "      <td>NaN</td>\n",
              "      <td>NaN</td>\n",
              "      <td>NaN</td>\n",
              "      <td>NaN</td>\n",
              "      <td>NaN</td>\n",
              "      <td>NaN</td>\n",
              "      <td>NaN</td>\n",
              "      <td>NaN</td>\n",
              "      <td>NaN</td>\n",
              "      <td>NaN</td>\n",
              "      <td>NaN</td>\n",
              "      <td>NaN</td>\n",
              "      <td>2019-03-22</td>\n",
              "      <td>England</td>\n",
              "      <td>Czech Republic</td>\n",
              "      <td>5.0</td>\n",
              "      <td>0.0</td>\n",
              "      <td>UEFA Euro qualification</td>\n",
              "      <td>London</td>\n",
              "      <td>False</td>\n",
              "    </tr>\n",
              "    <tr>\n",
              "      <th>...</th>\n",
              "      <td>...</td>\n",
              "      <td>...</td>\n",
              "      <td>...</td>\n",
              "      <td>...</td>\n",
              "      <td>...</td>\n",
              "      <td>...</td>\n",
              "      <td>...</td>\n",
              "      <td>...</td>\n",
              "      <td>...</td>\n",
              "      <td>...</td>\n",
              "      <td>...</td>\n",
              "      <td>...</td>\n",
              "      <td>...</td>\n",
              "      <td>...</td>\n",
              "      <td>...</td>\n",
              "      <td>...</td>\n",
              "      <td>...</td>\n",
              "      <td>...</td>\n",
              "      <td>...</td>\n",
              "      <td>...</td>\n",
              "      <td>...</td>\n",
              "      <td>...</td>\n",
              "      <td>...</td>\n",
              "    </tr>\n",
              "    <tr>\n",
              "      <th>81411</th>\n",
              "      <td>NaN</td>\n",
              "      <td>Samoa</td>\n",
              "      <td>NaN</td>\n",
              "      <td>NaN</td>\n",
              "      <td>NaN</td>\n",
              "      <td>NaN</td>\n",
              "      <td>NaN</td>\n",
              "      <td>NaN</td>\n",
              "      <td>NaN</td>\n",
              "      <td>NaN</td>\n",
              "      <td>NaN</td>\n",
              "      <td>NaN</td>\n",
              "      <td>NaN</td>\n",
              "      <td>NaN</td>\n",
              "      <td>NaN</td>\n",
              "      <td>2019-07-18</td>\n",
              "      <td>American Samoa</td>\n",
              "      <td>Tahiti</td>\n",
              "      <td>8.0</td>\n",
              "      <td>1.0</td>\n",
              "      <td>Pacific Games</td>\n",
              "      <td>Apia</td>\n",
              "      <td>True</td>\n",
              "    </tr>\n",
              "    <tr>\n",
              "      <th>81412</th>\n",
              "      <td>NaN</td>\n",
              "      <td>Samoa</td>\n",
              "      <td>NaN</td>\n",
              "      <td>NaN</td>\n",
              "      <td>NaN</td>\n",
              "      <td>NaN</td>\n",
              "      <td>NaN</td>\n",
              "      <td>NaN</td>\n",
              "      <td>NaN</td>\n",
              "      <td>NaN</td>\n",
              "      <td>NaN</td>\n",
              "      <td>NaN</td>\n",
              "      <td>NaN</td>\n",
              "      <td>NaN</td>\n",
              "      <td>NaN</td>\n",
              "      <td>2019-07-18</td>\n",
              "      <td>Fiji</td>\n",
              "      <td>Solomon Islands</td>\n",
              "      <td>4.0</td>\n",
              "      <td>4.0</td>\n",
              "      <td>Pacific Games</td>\n",
              "      <td>Apia</td>\n",
              "      <td>True</td>\n",
              "    </tr>\n",
              "    <tr>\n",
              "      <th>81413</th>\n",
              "      <td>NaN</td>\n",
              "      <td>Egypt</td>\n",
              "      <td>NaN</td>\n",
              "      <td>NaN</td>\n",
              "      <td>NaN</td>\n",
              "      <td>NaN</td>\n",
              "      <td>NaN</td>\n",
              "      <td>NaN</td>\n",
              "      <td>NaN</td>\n",
              "      <td>NaN</td>\n",
              "      <td>NaN</td>\n",
              "      <td>NaN</td>\n",
              "      <td>NaN</td>\n",
              "      <td>NaN</td>\n",
              "      <td>NaN</td>\n",
              "      <td>2019-07-19</td>\n",
              "      <td>Senegal</td>\n",
              "      <td>Algeria</td>\n",
              "      <td>0.0</td>\n",
              "      <td>1.0</td>\n",
              "      <td>African Cup of Nations</td>\n",
              "      <td>Cairo</td>\n",
              "      <td>True</td>\n",
              "    </tr>\n",
              "    <tr>\n",
              "      <th>81414</th>\n",
              "      <td>NaN</td>\n",
              "      <td>India</td>\n",
              "      <td>NaN</td>\n",
              "      <td>NaN</td>\n",
              "      <td>NaN</td>\n",
              "      <td>NaN</td>\n",
              "      <td>NaN</td>\n",
              "      <td>NaN</td>\n",
              "      <td>NaN</td>\n",
              "      <td>NaN</td>\n",
              "      <td>NaN</td>\n",
              "      <td>NaN</td>\n",
              "      <td>NaN</td>\n",
              "      <td>NaN</td>\n",
              "      <td>NaN</td>\n",
              "      <td>2019-07-19</td>\n",
              "      <td>Tajikistan</td>\n",
              "      <td>North Korea</td>\n",
              "      <td>0.0</td>\n",
              "      <td>1.0</td>\n",
              "      <td>Intercontinental Cup</td>\n",
              "      <td>Ahmedabad</td>\n",
              "      <td>True</td>\n",
              "    </tr>\n",
              "    <tr>\n",
              "      <th>81415</th>\n",
              "      <td>NaN</td>\n",
              "      <td>Samoa</td>\n",
              "      <td>NaN</td>\n",
              "      <td>NaN</td>\n",
              "      <td>NaN</td>\n",
              "      <td>NaN</td>\n",
              "      <td>NaN</td>\n",
              "      <td>NaN</td>\n",
              "      <td>NaN</td>\n",
              "      <td>NaN</td>\n",
              "      <td>NaN</td>\n",
              "      <td>NaN</td>\n",
              "      <td>NaN</td>\n",
              "      <td>NaN</td>\n",
              "      <td>NaN</td>\n",
              "      <td>2019-07-20</td>\n",
              "      <td>Papua New Guinea</td>\n",
              "      <td>Fiji</td>\n",
              "      <td>1.0</td>\n",
              "      <td>1.0</td>\n",
              "      <td>Pacific Games</td>\n",
              "      <td>Apia</td>\n",
              "      <td>True</td>\n",
              "    </tr>\n",
              "  </tbody>\n",
              "</table>\n",
              "<p>400 rows × 23 columns</p>\n",
              "</div>"
            ],
            "text/plain": [
              "       rank        country  ...       city  neutral\n",
              "81016   NaN    South Korea  ...      Ulsan    False\n",
              "81017   NaN  United States  ...  San Diego     True\n",
              "81018   NaN  United States  ...   Harrison     True\n",
              "81019   NaN       Bulgaria  ...      Sofia    False\n",
              "81020   NaN        England  ...     London    False\n",
              "...     ...            ...  ...        ...      ...\n",
              "81411   NaN          Samoa  ...       Apia     True\n",
              "81412   NaN          Samoa  ...       Apia     True\n",
              "81413   NaN          Egypt  ...      Cairo     True\n",
              "81414   NaN          India  ...  Ahmedabad     True\n",
              "81415   NaN          Samoa  ...       Apia     True\n",
              "\n",
              "[400 rows x 23 columns]"
            ]
          },
          "metadata": {
            "tags": []
          },
          "execution_count": 27
        }
      ]
    },
    {
      "cell_type": "code",
      "metadata": {
        "id": "vLhY743qU07i",
        "outputId": "c3119ffc-76c6-4a47-f0de-4f3ca2a39a45",
        "colab": {
          "base_uri": "https://localhost:8080/"
        }
      },
      "source": [
        "left_merged = pd.merge(fifa_ranking, results,how=\"left\", on=[\"country\",\"date\"])\n",
        "print(left_merged.head())\n",
        "print(left_merged.shape)"
      ],
      "execution_count": 28,
      "outputs": [
        {
          "output_type": "stream",
          "text": [
            "   rank      country country_abrv  ...  tournament  city  neutral\n",
            "0     1      Germany          GER  ...         NaN   NaN      NaN\n",
            "1     2        Italy          ITA  ...         NaN   NaN      NaN\n",
            "2     3  Switzerland          SUI  ...         NaN   NaN      NaN\n",
            "3     4       Sweden          SWE  ...         NaN   NaN      NaN\n",
            "4     5    Argentina          ARG  ...         NaN   NaN      NaN\n",
            "\n",
            "[5 rows x 23 columns]\n",
            "(41434, 23)\n"
          ],
          "name": "stdout"
        }
      ]
    },
    {
      "cell_type": "code",
      "metadata": {
        "id": "o4RVBYnKVokX",
        "outputId": "ea99a78e-f41e-43d7-b6ba-9075c46c39dc",
        "colab": {
          "base_uri": "https://localhost:8080/"
        }
      },
      "source": [
        "left_merged.isna().sum()"
      ],
      "execution_count": 29,
      "outputs": [
        {
          "output_type": "execute_result",
          "data": {
            "text/plain": [
              "rank                           0\n",
              "country                        0\n",
              "country_abrv                   1\n",
              "total_points                   1\n",
              "previous_points                1\n",
              "rank_change                    1\n",
              "cur_year_avg                   1\n",
              "cur_year_avg_weighted          1\n",
              "last_year_avg                  1\n",
              "last_year_avg_weighted         1\n",
              "two_year_ago_avg               1\n",
              "two_year_ago_weighted          1\n",
              "three_year_ago_avg             1\n",
              "three_year_ago_weighted        1\n",
              "confederation                  1\n",
              "date                           1\n",
              "home_team                  40577\n",
              "away_team                  40577\n",
              "home_score                 40577\n",
              "away_score                 40577\n",
              "tournament                 40577\n",
              "city                       40577\n",
              "neutral                    40577\n",
              "dtype: int64"
            ]
          },
          "metadata": {
            "tags": []
          },
          "execution_count": 29
        }
      ]
    },
    {
      "cell_type": "code",
      "metadata": {
        "id": "jm7TjcGNWriW",
        "outputId": "10edc197-7590-41f3-db91-eac6adca8a09",
        "colab": {
          "base_uri": "https://localhost:8080/"
        }
      },
      "source": [
        "left_merged_reversed = pd.merge(results, fifa_ranking, how=\"left\", on=[\"country\",\"date\"])\n",
        "print(left_merged_reversed.head())\n",
        "print(left_merged_reversed.shape)"
      ],
      "execution_count": 30,
      "outputs": [
        {
          "output_type": "stream",
          "text": [
            "        date home_team  ... three_year_ago_weighted  confederation\n",
            "0 1872-11-30  Scotland  ...                     NaN            NaN\n",
            "1 1873-03-08   England  ...                     NaN            NaN\n",
            "2 1874-03-07  Scotland  ...                     NaN            NaN\n",
            "3 1875-03-06   England  ...                     NaN            NaN\n",
            "4 1876-03-04  Scotland  ...                     NaN            NaN\n",
            "\n",
            "[5 rows x 23 columns]\n",
            "(40839, 23)\n"
          ],
          "name": "stdout"
        }
      ]
    },
    {
      "cell_type": "code",
      "metadata": {
        "id": "a-5jBI1QW9GC",
        "outputId": "7abd73b4-ffe0-4e83-a0d9-80c343d56791",
        "colab": {
          "base_uri": "https://localhost:8080/"
        }
      },
      "source": [
        "left_merged_reversed.isna().sum()"
      ],
      "execution_count": 31,
      "outputs": [
        {
          "output_type": "execute_result",
          "data": {
            "text/plain": [
              "date                           0\n",
              "home_team                      0\n",
              "away_team                      0\n",
              "home_score                     0\n",
              "away_score                     0\n",
              "tournament                     0\n",
              "city                           0\n",
              "country                        0\n",
              "neutral                        0\n",
              "rank                       39982\n",
              "country_abrv               39982\n",
              "total_points               39982\n",
              "previous_points            39982\n",
              "rank_change                39982\n",
              "cur_year_avg               39982\n",
              "cur_year_avg_weighted      39982\n",
              "last_year_avg              39982\n",
              "last_year_avg_weighted     39982\n",
              "two_year_ago_avg           39982\n",
              "two_year_ago_weighted      39982\n",
              "three_year_ago_avg         39982\n",
              "three_year_ago_weighted    39982\n",
              "confederation              39982\n",
              "dtype: int64"
            ]
          },
          "metadata": {
            "tags": []
          },
          "execution_count": 31
        }
      ]
    },
    {
      "cell_type": "code",
      "metadata": {
        "id": "Iq8Wnb5cXKG-",
        "outputId": "0895d378-9bb0-4300-eca7-2ff95a842257",
        "colab": {
          "base_uri": "https://localhost:8080/"
        }
      },
      "source": [
        "right_merged = pd.merge(fifa_ranking, results, how=\"right\", on=[\"country\", \"date\"])\n",
        "print(right_merged.head())\n",
        "print(right_merged.shape)"
      ],
      "execution_count": 32,
      "outputs": [
        {
          "output_type": "stream",
          "text": [
            "   rank   country country_abrv  ...  tournament     city  neutral\n",
            "0   NaN  Scotland          NaN  ...    Friendly  Glasgow    False\n",
            "1   NaN   England          NaN  ...    Friendly   London    False\n",
            "2   NaN  Scotland          NaN  ...    Friendly  Glasgow    False\n",
            "3   NaN   England          NaN  ...    Friendly   London    False\n",
            "4   NaN  Scotland          NaN  ...    Friendly  Glasgow    False\n",
            "\n",
            "[5 rows x 23 columns]\n",
            "(40839, 23)\n"
          ],
          "name": "stdout"
        }
      ]
    },
    {
      "cell_type": "code",
      "metadata": {
        "id": "JJbo_k4pXgKb",
        "outputId": "78f6f22c-4555-40be-c499-0a8ce57c0ecb",
        "colab": {
          "base_uri": "https://localhost:8080/"
        }
      },
      "source": [
        "right_merged.isna().sum()"
      ],
      "execution_count": 33,
      "outputs": [
        {
          "output_type": "execute_result",
          "data": {
            "text/plain": [
              "rank                       39982\n",
              "country                        0\n",
              "country_abrv               39982\n",
              "total_points               39982\n",
              "previous_points            39982\n",
              "rank_change                39982\n",
              "cur_year_avg               39982\n",
              "cur_year_avg_weighted      39982\n",
              "last_year_avg              39982\n",
              "last_year_avg_weighted     39982\n",
              "two_year_ago_avg           39982\n",
              "two_year_ago_weighted      39982\n",
              "three_year_ago_avg         39982\n",
              "three_year_ago_weighted    39982\n",
              "confederation              39982\n",
              "date                           0\n",
              "home_team                      0\n",
              "away_team                      0\n",
              "home_score                     0\n",
              "away_score                     0\n",
              "tournament                     0\n",
              "city                           0\n",
              "neutral                        0\n",
              "dtype: int64"
            ]
          },
          "metadata": {
            "tags": []
          },
          "execution_count": 33
        }
      ]
    },
    {
      "cell_type": "code",
      "metadata": {
        "id": "eCw5lxw9iqQB",
        "outputId": "c61f9c01-a36f-4942-f1f5-4b04e3a00908",
        "colab": {
          "base_uri": "https://localhost:8080/"
        }
      },
      "source": [
        "join=fifa_ranking.join(results, lsuffix=\"_left\", rsuffix=\"_right\")\n",
        "print(join.head())\n",
        "print(join.shape)"
      ],
      "execution_count": 34,
      "outputs": [
        {
          "output_type": "stream",
          "text": [
            "   rank country_left country_abrv  ...     city  country_right  neutral\n",
            "0     1      Germany          GER  ...  Glasgow       Scotland    False\n",
            "1     2        Italy          ITA  ...   London        England    False\n",
            "2     3  Switzerland          SUI  ...  Glasgow       Scotland    False\n",
            "3     4       Sweden          SWE  ...   London        England    False\n",
            "4     5    Argentina          ARG  ...  Glasgow       Scotland    False\n",
            "\n",
            "[5 rows x 25 columns]\n",
            "(41361, 25)\n"
          ],
          "name": "stdout"
        }
      ]
    },
    {
      "cell_type": "code",
      "metadata": {
        "id": "P4aoXRzIjKjS",
        "outputId": "e6b0fb62-20e8-4a6f-f391-64a4bc8e0aea",
        "colab": {
          "base_uri": "https://localhost:8080/"
        }
      },
      "source": [
        "join.isna().sum()"
      ],
      "execution_count": 35,
      "outputs": [
        {
          "output_type": "execute_result",
          "data": {
            "text/plain": [
              "rank                         0\n",
              "country_left                 0\n",
              "country_abrv                 1\n",
              "total_points                 1\n",
              "previous_points              1\n",
              "rank_change                  1\n",
              "cur_year_avg                 1\n",
              "cur_year_avg_weighted        1\n",
              "last_year_avg                1\n",
              "last_year_avg_weighted       1\n",
              "two_year_ago_avg             1\n",
              "two_year_ago_weighted        1\n",
              "three_year_ago_avg           1\n",
              "three_year_ago_weighted      1\n",
              "confederation                1\n",
              "date_left                    1\n",
              "date_right                 522\n",
              "home_team                  522\n",
              "away_team                  522\n",
              "home_score                 522\n",
              "away_score                 522\n",
              "tournament                 522\n",
              "city                       522\n",
              "country_right              522\n",
              "neutral                    522\n",
              "dtype: int64"
            ]
          },
          "metadata": {
            "tags": []
          },
          "execution_count": 35
        }
      ]
    },
    {
      "cell_type": "code",
      "metadata": {
        "id": "AL_QH3-qjWd8",
        "outputId": "d6daa9d1-653d-407b-9eca-7624a0501b8e",
        "colab": {
          "base_uri": "https://localhost:8080/"
        }
      },
      "source": [
        "join2=results.join(fifa_ranking, lsuffix=\"_left\", rsuffix=\"_right\")\n",
        "print(join2.head())\n",
        "print(join2.shape)"
      ],
      "execution_count": 36,
      "outputs": [
        {
          "output_type": "stream",
          "text": [
            "   date_left home_team  ... confederation  date_right\n",
            "0 1872-11-30  Scotland  ...          UEFA  1993-08-08\n",
            "1 1873-03-08   England  ...          UEFA  1993-08-08\n",
            "2 1874-03-07  Scotland  ...          UEFA  1993-08-08\n",
            "3 1875-03-06   England  ...          UEFA  1993-08-08\n",
            "4 1876-03-04  Scotland  ...      CONMEBOL  1993-08-08\n",
            "\n",
            "[5 rows x 25 columns]\n",
            "(40839, 25)\n"
          ],
          "name": "stdout"
        }
      ]
    },
    {
      "cell_type": "code",
      "metadata": {
        "id": "JmctiV_pjilj",
        "outputId": "63684ff3-f8db-448b-df7d-0f51d64d42c5",
        "colab": {
          "base_uri": "https://localhost:8080/"
        }
      },
      "source": [
        "join2.isna().sum()"
      ],
      "execution_count": 37,
      "outputs": [
        {
          "output_type": "execute_result",
          "data": {
            "text/plain": [
              "date_left                  0\n",
              "home_team                  0\n",
              "away_team                  0\n",
              "home_score                 0\n",
              "away_score                 0\n",
              "tournament                 0\n",
              "city                       0\n",
              "country_left               0\n",
              "neutral                    0\n",
              "rank                       0\n",
              "country_right              0\n",
              "country_abrv               0\n",
              "total_points               0\n",
              "previous_points            0\n",
              "rank_change                0\n",
              "cur_year_avg               0\n",
              "cur_year_avg_weighted      0\n",
              "last_year_avg              0\n",
              "last_year_avg_weighted     0\n",
              "two_year_ago_avg           0\n",
              "two_year_ago_weighted      0\n",
              "three_year_ago_avg         0\n",
              "three_year_ago_weighted    0\n",
              "confederation              0\n",
              "date_right                 0\n",
              "dtype: int64"
            ]
          },
          "metadata": {
            "tags": []
          },
          "execution_count": 37
        }
      ]
    },
    {
      "cell_type": "code",
      "metadata": {
        "id": "72DXXVdqjzbB",
        "outputId": "ebaad52d-d97a-45cd-d637-6b302d7850f8",
        "colab": {
          "base_uri": "https://localhost:8080/",
          "height": 626
        }
      },
      "source": [
        "join2"
      ],
      "execution_count": 38,
      "outputs": [
        {
          "output_type": "execute_result",
          "data": {
            "text/html": [
              "<div>\n",
              "<style scoped>\n",
              "    .dataframe tbody tr th:only-of-type {\n",
              "        vertical-align: middle;\n",
              "    }\n",
              "\n",
              "    .dataframe tbody tr th {\n",
              "        vertical-align: top;\n",
              "    }\n",
              "\n",
              "    .dataframe thead th {\n",
              "        text-align: right;\n",
              "    }\n",
              "</style>\n",
              "<table border=\"1\" class=\"dataframe\">\n",
              "  <thead>\n",
              "    <tr style=\"text-align: right;\">\n",
              "      <th></th>\n",
              "      <th>date_left</th>\n",
              "      <th>home_team</th>\n",
              "      <th>away_team</th>\n",
              "      <th>home_score</th>\n",
              "      <th>away_score</th>\n",
              "      <th>tournament</th>\n",
              "      <th>city</th>\n",
              "      <th>country_left</th>\n",
              "      <th>neutral</th>\n",
              "      <th>rank</th>\n",
              "      <th>country_right</th>\n",
              "      <th>country_abrv</th>\n",
              "      <th>total_points</th>\n",
              "      <th>previous_points</th>\n",
              "      <th>rank_change</th>\n",
              "      <th>cur_year_avg</th>\n",
              "      <th>cur_year_avg_weighted</th>\n",
              "      <th>last_year_avg</th>\n",
              "      <th>last_year_avg_weighted</th>\n",
              "      <th>two_year_ago_avg</th>\n",
              "      <th>two_year_ago_weighted</th>\n",
              "      <th>three_year_ago_avg</th>\n",
              "      <th>three_year_ago_weighted</th>\n",
              "      <th>confederation</th>\n",
              "      <th>date_right</th>\n",
              "    </tr>\n",
              "  </thead>\n",
              "  <tbody>\n",
              "    <tr>\n",
              "      <th>0</th>\n",
              "      <td>1872-11-30</td>\n",
              "      <td>Scotland</td>\n",
              "      <td>England</td>\n",
              "      <td>0</td>\n",
              "      <td>0</td>\n",
              "      <td>Friendly</td>\n",
              "      <td>Glasgow</td>\n",
              "      <td>Scotland</td>\n",
              "      <td>False</td>\n",
              "      <td>1</td>\n",
              "      <td>Germany</td>\n",
              "      <td>GER</td>\n",
              "      <td>0.00</td>\n",
              "      <td>57.0</td>\n",
              "      <td>0.0</td>\n",
              "      <td>0.00</td>\n",
              "      <td>0.00</td>\n",
              "      <td>0.00</td>\n",
              "      <td>0.00</td>\n",
              "      <td>0.00</td>\n",
              "      <td>0.00</td>\n",
              "      <td>0.00</td>\n",
              "      <td>0.00</td>\n",
              "      <td>UEFA</td>\n",
              "      <td>1993-08-08</td>\n",
              "    </tr>\n",
              "    <tr>\n",
              "      <th>1</th>\n",
              "      <td>1873-03-08</td>\n",
              "      <td>England</td>\n",
              "      <td>Scotland</td>\n",
              "      <td>4</td>\n",
              "      <td>2</td>\n",
              "      <td>Friendly</td>\n",
              "      <td>London</td>\n",
              "      <td>England</td>\n",
              "      <td>False</td>\n",
              "      <td>2</td>\n",
              "      <td>Italy</td>\n",
              "      <td>ITA</td>\n",
              "      <td>0.00</td>\n",
              "      <td>57.0</td>\n",
              "      <td>0.0</td>\n",
              "      <td>0.00</td>\n",
              "      <td>0.00</td>\n",
              "      <td>0.00</td>\n",
              "      <td>0.00</td>\n",
              "      <td>0.00</td>\n",
              "      <td>0.00</td>\n",
              "      <td>0.00</td>\n",
              "      <td>0.00</td>\n",
              "      <td>UEFA</td>\n",
              "      <td>1993-08-08</td>\n",
              "    </tr>\n",
              "    <tr>\n",
              "      <th>2</th>\n",
              "      <td>1874-03-07</td>\n",
              "      <td>Scotland</td>\n",
              "      <td>England</td>\n",
              "      <td>2</td>\n",
              "      <td>1</td>\n",
              "      <td>Friendly</td>\n",
              "      <td>Glasgow</td>\n",
              "      <td>Scotland</td>\n",
              "      <td>False</td>\n",
              "      <td>3</td>\n",
              "      <td>Switzerland</td>\n",
              "      <td>SUI</td>\n",
              "      <td>0.00</td>\n",
              "      <td>50.0</td>\n",
              "      <td>9.0</td>\n",
              "      <td>0.00</td>\n",
              "      <td>0.00</td>\n",
              "      <td>0.00</td>\n",
              "      <td>0.00</td>\n",
              "      <td>0.00</td>\n",
              "      <td>0.00</td>\n",
              "      <td>0.00</td>\n",
              "      <td>0.00</td>\n",
              "      <td>UEFA</td>\n",
              "      <td>1993-08-08</td>\n",
              "    </tr>\n",
              "    <tr>\n",
              "      <th>3</th>\n",
              "      <td>1875-03-06</td>\n",
              "      <td>England</td>\n",
              "      <td>Scotland</td>\n",
              "      <td>2</td>\n",
              "      <td>2</td>\n",
              "      <td>Friendly</td>\n",
              "      <td>London</td>\n",
              "      <td>England</td>\n",
              "      <td>False</td>\n",
              "      <td>4</td>\n",
              "      <td>Sweden</td>\n",
              "      <td>SWE</td>\n",
              "      <td>0.00</td>\n",
              "      <td>55.0</td>\n",
              "      <td>0.0</td>\n",
              "      <td>0.00</td>\n",
              "      <td>0.00</td>\n",
              "      <td>0.00</td>\n",
              "      <td>0.00</td>\n",
              "      <td>0.00</td>\n",
              "      <td>0.00</td>\n",
              "      <td>0.00</td>\n",
              "      <td>0.00</td>\n",
              "      <td>UEFA</td>\n",
              "      <td>1993-08-08</td>\n",
              "    </tr>\n",
              "    <tr>\n",
              "      <th>4</th>\n",
              "      <td>1876-03-04</td>\n",
              "      <td>Scotland</td>\n",
              "      <td>England</td>\n",
              "      <td>3</td>\n",
              "      <td>0</td>\n",
              "      <td>Friendly</td>\n",
              "      <td>Glasgow</td>\n",
              "      <td>Scotland</td>\n",
              "      <td>False</td>\n",
              "      <td>5</td>\n",
              "      <td>Argentina</td>\n",
              "      <td>ARG</td>\n",
              "      <td>0.00</td>\n",
              "      <td>51.0</td>\n",
              "      <td>5.0</td>\n",
              "      <td>0.00</td>\n",
              "      <td>0.00</td>\n",
              "      <td>0.00</td>\n",
              "      <td>0.00</td>\n",
              "      <td>0.00</td>\n",
              "      <td>0.00</td>\n",
              "      <td>0.00</td>\n",
              "      <td>0.00</td>\n",
              "      <td>CONMEBOL</td>\n",
              "      <td>1993-08-08</td>\n",
              "    </tr>\n",
              "    <tr>\n",
              "      <th>...</th>\n",
              "      <td>...</td>\n",
              "      <td>...</td>\n",
              "      <td>...</td>\n",
              "      <td>...</td>\n",
              "      <td>...</td>\n",
              "      <td>...</td>\n",
              "      <td>...</td>\n",
              "      <td>...</td>\n",
              "      <td>...</td>\n",
              "      <td>...</td>\n",
              "      <td>...</td>\n",
              "      <td>...</td>\n",
              "      <td>...</td>\n",
              "      <td>...</td>\n",
              "      <td>...</td>\n",
              "      <td>...</td>\n",
              "      <td>...</td>\n",
              "      <td>...</td>\n",
              "      <td>...</td>\n",
              "      <td>...</td>\n",
              "      <td>...</td>\n",
              "      <td>...</td>\n",
              "      <td>...</td>\n",
              "      <td>...</td>\n",
              "      <td>...</td>\n",
              "    </tr>\n",
              "    <tr>\n",
              "      <th>40834</th>\n",
              "      <td>2019-07-18</td>\n",
              "      <td>American Samoa</td>\n",
              "      <td>Tahiti</td>\n",
              "      <td>8</td>\n",
              "      <td>1</td>\n",
              "      <td>Pacific Games</td>\n",
              "      <td>Apia</td>\n",
              "      <td>Samoa</td>\n",
              "      <td>True</td>\n",
              "      <td>42</td>\n",
              "      <td>IR Iran</td>\n",
              "      <td>IRN</td>\n",
              "      <td>625.73</td>\n",
              "      <td>576.0</td>\n",
              "      <td>8.0</td>\n",
              "      <td>385.24</td>\n",
              "      <td>385.24</td>\n",
              "      <td>239.17</td>\n",
              "      <td>119.58</td>\n",
              "      <td>205.49</td>\n",
              "      <td>61.65</td>\n",
              "      <td>296.30</td>\n",
              "      <td>59.26</td>\n",
              "      <td>AFC</td>\n",
              "      <td>2011-10-19</td>\n",
              "    </tr>\n",
              "    <tr>\n",
              "      <th>40835</th>\n",
              "      <td>2019-07-18</td>\n",
              "      <td>Fiji</td>\n",
              "      <td>Solomon Islands</td>\n",
              "      <td>4</td>\n",
              "      <td>4</td>\n",
              "      <td>Pacific Games</td>\n",
              "      <td>Apia</td>\n",
              "      <td>Samoa</td>\n",
              "      <td>True</td>\n",
              "      <td>44</td>\n",
              "      <td>Nigeria</td>\n",
              "      <td>NGA</td>\n",
              "      <td>624.77</td>\n",
              "      <td>613.0</td>\n",
              "      <td>-1.0</td>\n",
              "      <td>256.15</td>\n",
              "      <td>256.15</td>\n",
              "      <td>363.51</td>\n",
              "      <td>181.76</td>\n",
              "      <td>335.93</td>\n",
              "      <td>100.78</td>\n",
              "      <td>430.39</td>\n",
              "      <td>86.08</td>\n",
              "      <td>CAF</td>\n",
              "      <td>2011-10-19</td>\n",
              "    </tr>\n",
              "    <tr>\n",
              "      <th>40836</th>\n",
              "      <td>2019-07-19</td>\n",
              "      <td>Senegal</td>\n",
              "      <td>Algeria</td>\n",
              "      <td>0</td>\n",
              "      <td>1</td>\n",
              "      <td>African Cup of Nations</td>\n",
              "      <td>Cairo</td>\n",
              "      <td>Egypt</td>\n",
              "      <td>True</td>\n",
              "      <td>45</td>\n",
              "      <td>Wales</td>\n",
              "      <td>WAL</td>\n",
              "      <td>618.79</td>\n",
              "      <td>374.0</td>\n",
              "      <td>45.0</td>\n",
              "      <td>468.33</td>\n",
              "      <td>468.33</td>\n",
              "      <td>101.57</td>\n",
              "      <td>50.79</td>\n",
              "      <td>158.40</td>\n",
              "      <td>47.52</td>\n",
              "      <td>260.73</td>\n",
              "      <td>52.15</td>\n",
              "      <td>UEFA</td>\n",
              "      <td>2011-10-19</td>\n",
              "    </tr>\n",
              "    <tr>\n",
              "      <th>40837</th>\n",
              "      <td>2019-07-19</td>\n",
              "      <td>Tajikistan</td>\n",
              "      <td>North Korea</td>\n",
              "      <td>0</td>\n",
              "      <td>1</td>\n",
              "      <td>Intercontinental Cup</td>\n",
              "      <td>Ahmedabad</td>\n",
              "      <td>India</td>\n",
              "      <td>True</td>\n",
              "      <td>46</td>\n",
              "      <td>Armenia</td>\n",
              "      <td>ARM</td>\n",
              "      <td>607.91</td>\n",
              "      <td>610.0</td>\n",
              "      <td>-2.0</td>\n",
              "      <td>367.81</td>\n",
              "      <td>367.81</td>\n",
              "      <td>340.59</td>\n",
              "      <td>170.30</td>\n",
              "      <td>163.50</td>\n",
              "      <td>49.05</td>\n",
              "      <td>103.75</td>\n",
              "      <td>20.75</td>\n",
              "      <td>UEFA</td>\n",
              "      <td>2011-10-19</td>\n",
              "    </tr>\n",
              "    <tr>\n",
              "      <th>40838</th>\n",
              "      <td>2019-07-20</td>\n",
              "      <td>Papua New Guinea</td>\n",
              "      <td>Fiji</td>\n",
              "      <td>1</td>\n",
              "      <td>1</td>\n",
              "      <td>Pacific Games</td>\n",
              "      <td>Apia</td>\n",
              "      <td>Samoa</td>\n",
              "      <td>True</td>\n",
              "      <td>47</td>\n",
              "      <td>Cameroon</td>\n",
              "      <td>CMR</td>\n",
              "      <td>599.98</td>\n",
              "      <td>596.0</td>\n",
              "      <td>1.0</td>\n",
              "      <td>239.19</td>\n",
              "      <td>239.19</td>\n",
              "      <td>216.18</td>\n",
              "      <td>108.09</td>\n",
              "      <td>454.18</td>\n",
              "      <td>136.25</td>\n",
              "      <td>582.25</td>\n",
              "      <td>116.45</td>\n",
              "      <td>CAF</td>\n",
              "      <td>2011-10-19</td>\n",
              "    </tr>\n",
              "  </tbody>\n",
              "</table>\n",
              "<p>40839 rows × 25 columns</p>\n",
              "</div>"
            ],
            "text/plain": [
              "       date_left         home_team  ... confederation  date_right\n",
              "0     1872-11-30          Scotland  ...          UEFA  1993-08-08\n",
              "1     1873-03-08           England  ...          UEFA  1993-08-08\n",
              "2     1874-03-07          Scotland  ...          UEFA  1993-08-08\n",
              "3     1875-03-06           England  ...          UEFA  1993-08-08\n",
              "4     1876-03-04          Scotland  ...      CONMEBOL  1993-08-08\n",
              "...          ...               ...  ...           ...         ...\n",
              "40834 2019-07-18    American Samoa  ...           AFC  2011-10-19\n",
              "40835 2019-07-18              Fiji  ...           CAF  2011-10-19\n",
              "40836 2019-07-19           Senegal  ...          UEFA  2011-10-19\n",
              "40837 2019-07-19        Tajikistan  ...          UEFA  2011-10-19\n",
              "40838 2019-07-20  Papua New Guinea  ...           CAF  2011-10-19\n",
              "\n",
              "[40839 rows x 25 columns]"
            ]
          },
          "metadata": {
            "tags": []
          },
          "execution_count": 38
        }
      ]
    },
    {
      "cell_type": "code",
      "metadata": {
        "id": "vqFgswzRhhsp",
        "outputId": "c5f628e2-49aa-4129-8a6a-321ececcae51",
        "colab": {
          "base_uri": "https://localhost:8080/"
        }
      },
      "source": [
        "inner_merged_total = pd.merge(fifa_ranking,results, on=[\"country\", \"date\"])\n",
        "inner_merged_total.head()\n",
        "inner_joined_total = fifa_ranking.join(\n",
        "    results.set_index([\"country\", \"date\"]),\n",
        "    lsuffix=\"_x\",\n",
        "    rsuffix=\"_y\",\n",
        "    on=[\"country\", \"date\"],\n",
        ")\n",
        "print(inner_joined_total.head())\n",
        "print(inner_joined_total.shape)"
      ],
      "execution_count": 39,
      "outputs": [
        {
          "output_type": "stream",
          "text": [
            "   rank      country country_abrv  ...  tournament  city  neutral\n",
            "0     1      Germany          GER  ...         NaN   NaN      NaN\n",
            "1     2        Italy          ITA  ...         NaN   NaN      NaN\n",
            "2     3  Switzerland          SUI  ...         NaN   NaN      NaN\n",
            "3     4       Sweden          SWE  ...         NaN   NaN      NaN\n",
            "4     5    Argentina          ARG  ...         NaN   NaN      NaN\n",
            "\n",
            "[5 rows x 23 columns]\n",
            "(41434, 23)\n"
          ],
          "name": "stdout"
        }
      ]
    },
    {
      "cell_type": "code",
      "metadata": {
        "id": "V7vomIubiNgS",
        "outputId": "9d351694-f76c-4458-bb7c-5532039b8b2e",
        "colab": {
          "base_uri": "https://localhost:8080/"
        }
      },
      "source": [
        "inner_joined_total.isna().sum()"
      ],
      "execution_count": 40,
      "outputs": [
        {
          "output_type": "execute_result",
          "data": {
            "text/plain": [
              "rank                           0\n",
              "country                        0\n",
              "country_abrv                   1\n",
              "total_points                   1\n",
              "previous_points                1\n",
              "rank_change                    1\n",
              "cur_year_avg                   1\n",
              "cur_year_avg_weighted          1\n",
              "last_year_avg                  1\n",
              "last_year_avg_weighted         1\n",
              "two_year_ago_avg               1\n",
              "two_year_ago_weighted          1\n",
              "three_year_ago_avg             1\n",
              "three_year_ago_weighted        1\n",
              "confederation                  1\n",
              "date                           1\n",
              "home_team                  40577\n",
              "away_team                  40577\n",
              "home_score                 40577\n",
              "away_score                 40577\n",
              "tournament                 40577\n",
              "city                       40577\n",
              "neutral                    40577\n",
              "dtype: int64"
            ]
          },
          "metadata": {
            "tags": []
          },
          "execution_count": 40
        }
      ]
    },
    {
      "cell_type": "code",
      "metadata": {
        "id": "lnkzddKbqipR"
      },
      "source": [
        "# calculate how much data has been lost\n",
        "lost1= inner_merged_total.shape[0] - fifa_ranking.shape[0]\n",
        "lost2=outer_merged.shape[0]-fifa_ranking.shape[0]\n",
        "lost3=left_merged.shape[0]-fifa_ranking.shape[0]\n",
        "lost4=left_merged_reversed.shape[0]-fifa_ranking.shape[0]\n",
        "lost5=left_merged.shape[0]-fifa_ranking.shape[0]\n",
        "lost6=right_merged.shape[0]-fifa_ranking.shape[0]\n",
        "lost7=join.shape[0]-fifa_ranking.shape[0]\n",
        "lost8=join2.shape[0]-fifa_ranking.shape[0]\n",
        "lost9=inner_joined_total.shape[0]-fifa_ranking.shape[0]\n",
        "\n",
        "#print(\"Number of data samples lost:\", per%lost)\n",
        "#print(\"Percent of data samples lost:\", round(percent, 2))"
      ],
      "execution_count": 41,
      "outputs": []
    },
    {
      "cell_type": "code",
      "metadata": {
        "id": "u9dXw40dtTMV"
      },
      "source": [
        "perlost1 = (lost1 / inner_merged_total.shape[0]) * 100\n",
        "perlost2 = (lost1 / inner_merged_total.shape[0]) * 100\n",
        "perlost3 = (lost1 / inner_merged_total.shape[0]) * 100\n",
        "perlost4 = (lost1 / inner_merged_total.shape[0]) * 100\n",
        "perlost5 = (lost1 / inner_merged_total.shape[0]) * 100\n",
        "perlost6 = (lost1 / inner_merged_total.shape[0]) * 100\n"
      ],
      "execution_count": 42,
      "outputs": []
    },
    {
      "cell_type": "markdown",
      "metadata": {
        "id": "BruPbKxVoUN0"
      },
      "source": [
        "##### since most of the methods are resulting in merged datasets that are either too small but ok or have too many null values or, have joined ambigously lets go further and divide our dates into months and years  and check of they join fine and also dealing with the Missing Data emanating from merging the data\n"
      ]
    },
    {
      "cell_type": "code",
      "metadata": {
        "id": "xhgjhbDNoS0R"
      },
      "source": [
        "#splitting the date time column for rankings dataset \n",
        "#and also for results dataset"
      ],
      "execution_count": 43,
      "outputs": []
    },
    {
      "cell_type": "code",
      "metadata": {
        "id": "UQDiEDMOo9k-"
      },
      "source": [
        "# Reset our index so datetime_utc becomes a column\n",
        "fifa_ranking.reset_index(inplace=True)"
      ],
      "execution_count": 44,
      "outputs": []
    },
    {
      "cell_type": "code",
      "metadata": {
        "id": "eP3E6-qVub_q"
      },
      "source": [
        "# Create new columns\n",
        "fifa_ranking['day'] = fifa_ranking['date'].dt.day\n",
        "fifa_ranking['month'] = fifa_ranking['date'].dt.month\n",
        "fifa_ranking['year'] = fifa_ranking['date'].dt.year"
      ],
      "execution_count": 45,
      "outputs": []
    },
    {
      "cell_type": "code",
      "metadata": {
        "id": "HIVZLoI4ufrV",
        "outputId": "c6207bcc-504d-4b28-f497-deba65d6202b",
        "colab": {
          "base_uri": "https://localhost:8080/"
        }
      },
      "source": [
        "print(fifa_ranking)"
      ],
      "execution_count": 46,
      "outputs": [
        {
          "output_type": "stream",
          "text": [
            "       index  rank            country  ...   day  month    year\n",
            "0          0     1            Germany  ...   8.0    8.0  1993.0\n",
            "1          1     2              Italy  ...   8.0    8.0  1993.0\n",
            "2          2     3        Switzerland  ...   8.0    8.0  1993.0\n",
            "3          3     4             Sweden  ...   8.0    8.0  1993.0\n",
            "4          4     5          Argentina  ...   8.0    8.0  1993.0\n",
            "...      ...   ...                ...  ...   ...    ...     ...\n",
            "41356  41356   149              Samoa  ...  21.0   12.0  2011.0\n",
            "41357  41357   150  Equatorial Guinea  ...  21.0   12.0  2011.0\n",
            "41358  41358   151              Yemen  ...  21.0   12.0  2011.0\n",
            "41359  41359   151            Curaçao  ...  21.0   12.0  2011.0\n",
            "41360  41360   153                Nep  ...   NaN    NaN     NaN\n",
            "\n",
            "[41361 rows x 20 columns]\n"
          ],
          "name": "stdout"
        }
      ]
    },
    {
      "cell_type": "code",
      "metadata": {
        "id": "q1bF9Fdju30E"
      },
      "source": [
        "#we do the same for the results dataset\n",
        "results.reset_index(inplace=True)"
      ],
      "execution_count": 47,
      "outputs": []
    },
    {
      "cell_type": "code",
      "metadata": {
        "id": "16aBhqL_vBBW"
      },
      "source": [
        "# Create new columns\n",
        "results['day'] = results['date'].dt.day\n",
        "results['month'] = results['date'].dt.month\n",
        "results['year'] = results['date'].dt.year"
      ],
      "execution_count": 48,
      "outputs": []
    },
    {
      "cell_type": "code",
      "metadata": {
        "id": "6opmzaAevPBK",
        "outputId": "6186e53d-cd19-4036-84d5-16a05d9d7187",
        "colab": {
          "base_uri": "https://localhost:8080/"
        }
      },
      "source": [
        "print(results)"
      ],
      "execution_count": 49,
      "outputs": [
        {
          "output_type": "stream",
          "text": [
            "       index       date         home_team  ... day  month  year\n",
            "0          0 1872-11-30          Scotland  ...  30     11  1872\n",
            "1          1 1873-03-08           England  ...   8      3  1873\n",
            "2          2 1874-03-07          Scotland  ...   7      3  1874\n",
            "3          3 1875-03-06           England  ...   6      3  1875\n",
            "4          4 1876-03-04          Scotland  ...   4      3  1876\n",
            "...      ...        ...               ...  ...  ..    ...   ...\n",
            "40834  40834 2019-07-18    American Samoa  ...  18      7  2019\n",
            "40835  40835 2019-07-18              Fiji  ...  18      7  2019\n",
            "40836  40836 2019-07-19           Senegal  ...  19      7  2019\n",
            "40837  40837 2019-07-19        Tajikistan  ...  19      7  2019\n",
            "40838  40838 2019-07-20  Papua New Guinea  ...  20      7  2019\n",
            "\n",
            "[40839 rows x 13 columns]\n"
          ],
          "name": "stdout"
        }
      ]
    },
    {
      "cell_type": "code",
      "metadata": {
        "id": "6_NtiLmhx8NO",
        "outputId": "2b8d6802-43bd-4145-d848-d771cd1188c7",
        "colab": {
          "base_uri": "https://localhost:8080/"
        }
      },
      "source": [
        "results.dtypes"
      ],
      "execution_count": 50,
      "outputs": [
        {
          "output_type": "execute_result",
          "data": {
            "text/plain": [
              "index                  int64\n",
              "date          datetime64[ns]\n",
              "home_team             object\n",
              "away_team             object\n",
              "home_score             int64\n",
              "away_score             int64\n",
              "tournament            object\n",
              "city                  object\n",
              "country               object\n",
              "neutral                 bool\n",
              "day                    int64\n",
              "month                  int64\n",
              "year                   int64\n",
              "dtype: object"
            ]
          },
          "metadata": {
            "tags": []
          },
          "execution_count": 50
        }
      ]
    },
    {
      "cell_type": "markdown",
      "metadata": {
        "id": "ntv-E-H4vn3Z"
      },
      "source": [
        "#### As we can see the year for results dataset starts from 1872  and dataset from fifa rankings starts from 1993....we will get results data that starts from 1993 to date.And as we had Already know the rankings  in 1992.so our data will start from 1992 to  the summer of 2018, FIFA updated their rating system by adopting the Elo rating system. The first ranking list with this system, in August 2018. \n"
      ]
    },
    {
      "cell_type": "code",
      "metadata": {
        "id": "N15y3gGHzSjO",
        "outputId": "1eaf2b7c-47f1-4949-be03-b027013d3de1",
        "colab": {
          "base_uri": "https://localhost:8080/"
        }
      },
      "source": [
        "#Standardizing the dataset\n",
        "results_df = results[results['year'] > 1992]\n",
        "results_df.tail()\n",
        "results_df.shape"
      ],
      "execution_count": 51,
      "outputs": [
        {
          "output_type": "execute_result",
          "data": {
            "text/plain": [
              "(23478, 13)"
            ]
          },
          "metadata": {
            "tags": []
          },
          "execution_count": 51
        }
      ]
    },
    {
      "cell_type": "code",
      "metadata": {
        "id": "uJsBhgZmzoLq"
      },
      "source": [
        "#now we can try merging the dataset on our country,year,month,day columns"
      ],
      "execution_count": 52,
      "outputs": []
    },
    {
      "cell_type": "code",
      "metadata": {
        "id": "NyYs2WmyzzGt"
      },
      "source": [
        "rank_final1= pd.merge(results, fifa_ranking, left_on= ['year','month','day','country'], \n",
        "                     right_on= ['year','month' ,'day','country'], how = 'inner')"
      ],
      "execution_count": 53,
      "outputs": []
    },
    {
      "cell_type": "code",
      "metadata": {
        "id": "o3j5Y0Ma0NDD",
        "outputId": "d565434b-1681-4e90-ac08-b97e07a78ec4",
        "colab": {
          "base_uri": "https://localhost:8080/"
        }
      },
      "source": [
        "print(rank_final1)"
      ],
      "execution_count": 54,
      "outputs": [
        {
          "output_type": "stream",
          "text": [
            "     index_x     date_x  ... confederation     date_y\n",
            "0      17915 1993-08-08  ...      CONMEBOL 1993-08-08\n",
            "1      17916 1993-08-08  ...      CONMEBOL 1993-08-08\n",
            "2      17917 1993-08-08  ...      CONMEBOL 1993-08-08\n",
            "3      17918 1993-08-08  ...           CAF 1993-08-08\n",
            "4      17919 1993-08-08  ...      CONMEBOL 1993-08-08\n",
            "..       ...        ...  ...           ...        ...\n",
            "852    33110 2011-06-29  ...           AFC 2011-06-29\n",
            "853    33199 2011-07-27  ...           OFC 2011-07-27\n",
            "854    33279 2011-08-24  ...      CONCACAF 2011-08-24\n",
            "855    33280 2011-08-24  ...           AFC 2011-08-24\n",
            "856    33767 2011-12-21  ...      CONMEBOL 2011-12-21\n",
            "\n",
            "[857 rows x 29 columns]\n"
          ],
          "name": "stdout"
        }
      ]
    },
    {
      "cell_type": "code",
      "metadata": {
        "id": "qtGM0zX40Uvu"
      },
      "source": [
        "#lets try merging on fewer variables like month and year only\n",
        "rank_final2= pd.merge(results, fifa_ranking, left_on= ['year','month','country'], \n",
        "                     right_on= ['year','month','country'], how = 'inner')"
      ],
      "execution_count": 55,
      "outputs": []
    },
    {
      "cell_type": "code",
      "metadata": {
        "id": "k7OyGqHQ0jQ9",
        "outputId": "c0a20060-431d-4d39-8374-8ea9435e1552",
        "colab": {
          "base_uri": "https://localhost:8080/"
        }
      },
      "source": [
        "print(rank_final2)"
      ],
      "execution_count": 56,
      "outputs": [
        {
          "output_type": "stream",
          "text": [
            "       index_x     date_x       home_team  ... confederation     date_y  day_y\n",
            "0        17910 1993-08-01        Colombia  ...      CONMEBOL 1993-08-08    8.0\n",
            "1        17927 1993-08-15        Colombia  ...      CONMEBOL 1993-08-08    8.0\n",
            "2        17940 1993-08-29        Colombia  ...      CONMEBOL 1993-08-08    8.0\n",
            "3        17911 1993-08-01            Peru  ...      CONMEBOL 1993-08-08    8.0\n",
            "4        17920 1993-08-08            Peru  ...      CONMEBOL 1993-08-08    8.0\n",
            "...        ...        ...             ...  ...           ...        ...    ...\n",
            "13278    33768 2011-12-22          Angola  ...           CAF 2011-12-21   21.0\n",
            "13279    33767 2011-12-21           Chile  ...      CONMEBOL 2011-12-21   21.0\n",
            "13280    33769 2011-12-22       Venezuela  ...      CONMEBOL 2011-12-21   21.0\n",
            "13281    33770 2011-12-28  Basque Country  ...          UEFA 2011-12-21   21.0\n",
            "13282    33771 2011-12-30       Catalonia  ...          UEFA 2011-12-21   21.0\n",
            "\n",
            "[13283 rows x 30 columns]\n"
          ],
          "name": "stdout"
        }
      ]
    },
    {
      "cell_type": "code",
      "metadata": {
        "id": "7Q7PlaY80qrf",
        "outputId": "b908f17b-6104-4297-b4f6-db4607530bd2",
        "colab": {
          "base_uri": "https://localhost:8080/"
        }
      },
      "source": [
        "#checking for any Missing Data\n",
        "rank_final2.isna().sum()"
      ],
      "execution_count": 57,
      "outputs": [
        {
          "output_type": "execute_result",
          "data": {
            "text/plain": [
              "index_x                    0\n",
              "date_x                     0\n",
              "home_team                  0\n",
              "away_team                  0\n",
              "home_score                 0\n",
              "away_score                 0\n",
              "tournament                 0\n",
              "city                       0\n",
              "country                    0\n",
              "neutral                    0\n",
              "day_x                      0\n",
              "month                      0\n",
              "year                       0\n",
              "index_y                    0\n",
              "rank                       0\n",
              "country_abrv               0\n",
              "total_points               0\n",
              "previous_points            0\n",
              "rank_change                0\n",
              "cur_year_avg               0\n",
              "cur_year_avg_weighted      0\n",
              "last_year_avg              0\n",
              "last_year_avg_weighted     0\n",
              "two_year_ago_avg           0\n",
              "two_year_ago_weighted      0\n",
              "three_year_ago_avg         0\n",
              "three_year_ago_weighted    0\n",
              "confederation              0\n",
              "date_y                     0\n",
              "day_y                      0\n",
              "dtype: int64"
            ]
          },
          "metadata": {
            "tags": []
          },
          "execution_count": 57
        }
      ]
    },
    {
      "cell_type": "code",
      "metadata": {
        "id": "uNwUXL771BAZ",
        "outputId": "cbc9a1c2-fb9b-45f8-e786-2674df200b1b",
        "colab": {
          "base_uri": "https://localhost:8080/",
          "height": 394
        }
      },
      "source": [
        "#from there we get drop all unnnecessary columns depending on our problem statement\n",
        "rank_final2.drop(['country_abrv','city','neutral','confederation','date_x','date_y','day_y','index_y','day_x'], axis=1,inplace=True)\n",
        "rank_final2.head()"
      ],
      "execution_count": 58,
      "outputs": [
        {
          "output_type": "execute_result",
          "data": {
            "text/html": [
              "<div>\n",
              "<style scoped>\n",
              "    .dataframe tbody tr th:only-of-type {\n",
              "        vertical-align: middle;\n",
              "    }\n",
              "\n",
              "    .dataframe tbody tr th {\n",
              "        vertical-align: top;\n",
              "    }\n",
              "\n",
              "    .dataframe thead th {\n",
              "        text-align: right;\n",
              "    }\n",
              "</style>\n",
              "<table border=\"1\" class=\"dataframe\">\n",
              "  <thead>\n",
              "    <tr style=\"text-align: right;\">\n",
              "      <th></th>\n",
              "      <th>index_x</th>\n",
              "      <th>home_team</th>\n",
              "      <th>away_team</th>\n",
              "      <th>home_score</th>\n",
              "      <th>away_score</th>\n",
              "      <th>tournament</th>\n",
              "      <th>country</th>\n",
              "      <th>month</th>\n",
              "      <th>year</th>\n",
              "      <th>rank</th>\n",
              "      <th>total_points</th>\n",
              "      <th>previous_points</th>\n",
              "      <th>rank_change</th>\n",
              "      <th>cur_year_avg</th>\n",
              "      <th>cur_year_avg_weighted</th>\n",
              "      <th>last_year_avg</th>\n",
              "      <th>last_year_avg_weighted</th>\n",
              "      <th>two_year_ago_avg</th>\n",
              "      <th>two_year_ago_weighted</th>\n",
              "      <th>three_year_ago_avg</th>\n",
              "      <th>three_year_ago_weighted</th>\n",
              "    </tr>\n",
              "  </thead>\n",
              "  <tbody>\n",
              "    <tr>\n",
              "      <th>0</th>\n",
              "      <td>17910</td>\n",
              "      <td>Colombia</td>\n",
              "      <td>Paraguay</td>\n",
              "      <td>0</td>\n",
              "      <td>0</td>\n",
              "      <td>FIFA World Cup qualification</td>\n",
              "      <td>Colombia</td>\n",
              "      <td>8</td>\n",
              "      <td>1993</td>\n",
              "      <td>19</td>\n",
              "      <td>0.0</td>\n",
              "      <td>36.0</td>\n",
              "      <td>16.0</td>\n",
              "      <td>0.0</td>\n",
              "      <td>0.0</td>\n",
              "      <td>0.0</td>\n",
              "      <td>0.0</td>\n",
              "      <td>0.0</td>\n",
              "      <td>0.0</td>\n",
              "      <td>0.0</td>\n",
              "      <td>0.0</td>\n",
              "    </tr>\n",
              "    <tr>\n",
              "      <th>1</th>\n",
              "      <td>17927</td>\n",
              "      <td>Colombia</td>\n",
              "      <td>Argentina</td>\n",
              "      <td>2</td>\n",
              "      <td>1</td>\n",
              "      <td>FIFA World Cup qualification</td>\n",
              "      <td>Colombia</td>\n",
              "      <td>8</td>\n",
              "      <td>1993</td>\n",
              "      <td>19</td>\n",
              "      <td>0.0</td>\n",
              "      <td>36.0</td>\n",
              "      <td>16.0</td>\n",
              "      <td>0.0</td>\n",
              "      <td>0.0</td>\n",
              "      <td>0.0</td>\n",
              "      <td>0.0</td>\n",
              "      <td>0.0</td>\n",
              "      <td>0.0</td>\n",
              "      <td>0.0</td>\n",
              "      <td>0.0</td>\n",
              "    </tr>\n",
              "    <tr>\n",
              "      <th>2</th>\n",
              "      <td>17940</td>\n",
              "      <td>Colombia</td>\n",
              "      <td>Peru</td>\n",
              "      <td>4</td>\n",
              "      <td>0</td>\n",
              "      <td>FIFA World Cup qualification</td>\n",
              "      <td>Colombia</td>\n",
              "      <td>8</td>\n",
              "      <td>1993</td>\n",
              "      <td>19</td>\n",
              "      <td>0.0</td>\n",
              "      <td>36.0</td>\n",
              "      <td>16.0</td>\n",
              "      <td>0.0</td>\n",
              "      <td>0.0</td>\n",
              "      <td>0.0</td>\n",
              "      <td>0.0</td>\n",
              "      <td>0.0</td>\n",
              "      <td>0.0</td>\n",
              "      <td>0.0</td>\n",
              "      <td>0.0</td>\n",
              "    </tr>\n",
              "    <tr>\n",
              "      <th>3</th>\n",
              "      <td>17911</td>\n",
              "      <td>Peru</td>\n",
              "      <td>Argentina</td>\n",
              "      <td>0</td>\n",
              "      <td>1</td>\n",
              "      <td>FIFA World Cup qualification</td>\n",
              "      <td>Peru</td>\n",
              "      <td>8</td>\n",
              "      <td>1993</td>\n",
              "      <td>70</td>\n",
              "      <td>0.0</td>\n",
              "      <td>16.0</td>\n",
              "      <td>8.0</td>\n",
              "      <td>0.0</td>\n",
              "      <td>0.0</td>\n",
              "      <td>0.0</td>\n",
              "      <td>0.0</td>\n",
              "      <td>0.0</td>\n",
              "      <td>0.0</td>\n",
              "      <td>0.0</td>\n",
              "      <td>0.0</td>\n",
              "    </tr>\n",
              "    <tr>\n",
              "      <th>4</th>\n",
              "      <td>17920</td>\n",
              "      <td>Peru</td>\n",
              "      <td>Colombia</td>\n",
              "      <td>0</td>\n",
              "      <td>1</td>\n",
              "      <td>FIFA World Cup qualification</td>\n",
              "      <td>Peru</td>\n",
              "      <td>8</td>\n",
              "      <td>1993</td>\n",
              "      <td>70</td>\n",
              "      <td>0.0</td>\n",
              "      <td>16.0</td>\n",
              "      <td>8.0</td>\n",
              "      <td>0.0</td>\n",
              "      <td>0.0</td>\n",
              "      <td>0.0</td>\n",
              "      <td>0.0</td>\n",
              "      <td>0.0</td>\n",
              "      <td>0.0</td>\n",
              "      <td>0.0</td>\n",
              "      <td>0.0</td>\n",
              "    </tr>\n",
              "  </tbody>\n",
              "</table>\n",
              "</div>"
            ],
            "text/plain": [
              "   index_x home_team  ... three_year_ago_avg  three_year_ago_weighted\n",
              "0    17910  Colombia  ...                0.0                      0.0\n",
              "1    17927  Colombia  ...                0.0                      0.0\n",
              "2    17940  Colombia  ...                0.0                      0.0\n",
              "3    17911      Peru  ...                0.0                      0.0\n",
              "4    17920      Peru  ...                0.0                      0.0\n",
              "\n",
              "[5 rows x 21 columns]"
            ]
          },
          "metadata": {
            "tags": []
          },
          "execution_count": 58
        }
      ]
    },
    {
      "cell_type": "code",
      "metadata": {
        "id": "5o_bQcT5W3Wz",
        "outputId": "d3d93874-313d-4ff7-8d30-b7846a634b65",
        "colab": {
          "base_uri": "https://localhost:8080/",
          "height": 317
        }
      },
      "source": [
        "# Checking for Outliers\n",
        "#Outliers are data points that are far from other data points. In other words, they’re unusual values in a dataset.\n",
        "#Outliers are problematic for many statistical analyses because they can cause tests to either miss significant findings or distort real results.\n",
        "#we check on them by checking datasets statistics\n",
        "rank_final2.describe()"
      ],
      "execution_count": 59,
      "outputs": [
        {
          "output_type": "execute_result",
          "data": {
            "text/html": [
              "<div>\n",
              "<style scoped>\n",
              "    .dataframe tbody tr th:only-of-type {\n",
              "        vertical-align: middle;\n",
              "    }\n",
              "\n",
              "    .dataframe tbody tr th {\n",
              "        vertical-align: top;\n",
              "    }\n",
              "\n",
              "    .dataframe thead th {\n",
              "        text-align: right;\n",
              "    }\n",
              "</style>\n",
              "<table border=\"1\" class=\"dataframe\">\n",
              "  <thead>\n",
              "    <tr style=\"text-align: right;\">\n",
              "      <th></th>\n",
              "      <th>index_x</th>\n",
              "      <th>home_score</th>\n",
              "      <th>away_score</th>\n",
              "      <th>month</th>\n",
              "      <th>year</th>\n",
              "      <th>rank</th>\n",
              "      <th>total_points</th>\n",
              "      <th>previous_points</th>\n",
              "      <th>rank_change</th>\n",
              "      <th>cur_year_avg</th>\n",
              "      <th>cur_year_avg_weighted</th>\n",
              "      <th>last_year_avg</th>\n",
              "      <th>last_year_avg_weighted</th>\n",
              "      <th>two_year_ago_avg</th>\n",
              "      <th>two_year_ago_weighted</th>\n",
              "      <th>three_year_ago_avg</th>\n",
              "      <th>three_year_ago_weighted</th>\n",
              "    </tr>\n",
              "  </thead>\n",
              "  <tbody>\n",
              "    <tr>\n",
              "      <th>count</th>\n",
              "      <td>13283.000000</td>\n",
              "      <td>13283.000000</td>\n",
              "      <td>13283.000000</td>\n",
              "      <td>13283.000000</td>\n",
              "      <td>13283.000000</td>\n",
              "      <td>13283.000000</td>\n",
              "      <td>13283.000000</td>\n",
              "      <td>13283.000000</td>\n",
              "      <td>13283.000000</td>\n",
              "      <td>13283.000000</td>\n",
              "      <td>13283.000000</td>\n",
              "      <td>13283.000000</td>\n",
              "      <td>13283.000000</td>\n",
              "      <td>13283.000000</td>\n",
              "      <td>13283.000000</td>\n",
              "      <td>13283.000000</td>\n",
              "      <td>13283.000000</td>\n",
              "    </tr>\n",
              "    <tr>\n",
              "      <th>mean</th>\n",
              "      <td>26094.200858</td>\n",
              "      <td>1.677784</td>\n",
              "      <td>1.095235</td>\n",
              "      <td>6.903937</td>\n",
              "      <td>2003.223745</td>\n",
              "      <td>74.459610</td>\n",
              "      <td>17.410742</td>\n",
              "      <td>401.719943</td>\n",
              "      <td>1.388918</td>\n",
              "      <td>9.105856</td>\n",
              "      <td>9.105856</td>\n",
              "      <td>7.924278</td>\n",
              "      <td>3.962153</td>\n",
              "      <td>8.281532</td>\n",
              "      <td>2.484471</td>\n",
              "      <td>9.291211</td>\n",
              "      <td>1.858262</td>\n",
              "    </tr>\n",
              "    <tr>\n",
              "      <th>std</th>\n",
              "      <td>4488.387966</td>\n",
              "      <td>1.732679</td>\n",
              "      <td>1.322336</td>\n",
              "      <td>3.298636</td>\n",
              "      <td>5.034821</td>\n",
              "      <td>49.013047</td>\n",
              "      <td>108.648225</td>\n",
              "      <td>305.549720</td>\n",
              "      <td>6.781236</td>\n",
              "      <td>55.962679</td>\n",
              "      <td>55.962679</td>\n",
              "      <td>57.719561</td>\n",
              "      <td>28.859813</td>\n",
              "      <td>56.329975</td>\n",
              "      <td>16.899022</td>\n",
              "      <td>57.472485</td>\n",
              "      <td>11.494551</td>\n",
              "    </tr>\n",
              "    <tr>\n",
              "      <th>min</th>\n",
              "      <td>17910.000000</td>\n",
              "      <td>0.000000</td>\n",
              "      <td>0.000000</td>\n",
              "      <td>1.000000</td>\n",
              "      <td>1993.000000</td>\n",
              "      <td>1.000000</td>\n",
              "      <td>0.000000</td>\n",
              "      <td>0.000000</td>\n",
              "      <td>-45.000000</td>\n",
              "      <td>0.000000</td>\n",
              "      <td>0.000000</td>\n",
              "      <td>0.000000</td>\n",
              "      <td>0.000000</td>\n",
              "      <td>0.000000</td>\n",
              "      <td>0.000000</td>\n",
              "      <td>0.000000</td>\n",
              "      <td>0.000000</td>\n",
              "    </tr>\n",
              "    <tr>\n",
              "      <th>25%</th>\n",
              "      <td>22332.000000</td>\n",
              "      <td>0.000000</td>\n",
              "      <td>0.000000</td>\n",
              "      <td>4.000000</td>\n",
              "      <td>1999.000000</td>\n",
              "      <td>32.000000</td>\n",
              "      <td>0.000000</td>\n",
              "      <td>104.000000</td>\n",
              "      <td>-2.000000</td>\n",
              "      <td>0.000000</td>\n",
              "      <td>0.000000</td>\n",
              "      <td>0.000000</td>\n",
              "      <td>0.000000</td>\n",
              "      <td>0.000000</td>\n",
              "      <td>0.000000</td>\n",
              "      <td>0.000000</td>\n",
              "      <td>0.000000</td>\n",
              "    </tr>\n",
              "    <tr>\n",
              "      <th>50%</th>\n",
              "      <td>26166.000000</td>\n",
              "      <td>1.000000</td>\n",
              "      <td>1.000000</td>\n",
              "      <td>7.000000</td>\n",
              "      <td>2004.000000</td>\n",
              "      <td>70.000000</td>\n",
              "      <td>0.000000</td>\n",
              "      <td>401.000000</td>\n",
              "      <td>0.000000</td>\n",
              "      <td>0.000000</td>\n",
              "      <td>0.000000</td>\n",
              "      <td>0.000000</td>\n",
              "      <td>0.000000</td>\n",
              "      <td>0.000000</td>\n",
              "      <td>0.000000</td>\n",
              "      <td>0.000000</td>\n",
              "      <td>0.000000</td>\n",
              "    </tr>\n",
              "    <tr>\n",
              "      <th>75%</th>\n",
              "      <td>29966.500000</td>\n",
              "      <td>2.000000</td>\n",
              "      <td>2.000000</td>\n",
              "      <td>10.000000</td>\n",
              "      <td>2008.000000</td>\n",
              "      <td>109.000000</td>\n",
              "      <td>0.000000</td>\n",
              "      <td>589.000000</td>\n",
              "      <td>3.000000</td>\n",
              "      <td>0.000000</td>\n",
              "      <td>0.000000</td>\n",
              "      <td>0.000000</td>\n",
              "      <td>0.000000</td>\n",
              "      <td>0.000000</td>\n",
              "      <td>0.000000</td>\n",
              "      <td>0.000000</td>\n",
              "      <td>0.000000</td>\n",
              "    </tr>\n",
              "    <tr>\n",
              "      <th>max</th>\n",
              "      <td>33771.000000</td>\n",
              "      <td>31.000000</td>\n",
              "      <td>21.000000</td>\n",
              "      <td>12.000000</td>\n",
              "      <td>2011.000000</td>\n",
              "      <td>204.000000</td>\n",
              "      <td>1624.450000</td>\n",
              "      <td>1920.000000</td>\n",
              "      <td>60.000000</td>\n",
              "      <td>727.050000</td>\n",
              "      <td>727.050000</td>\n",
              "      <td>1088.300000</td>\n",
              "      <td>544.150000</td>\n",
              "      <td>1045.510000</td>\n",
              "      <td>313.650000</td>\n",
              "      <td>1045.710000</td>\n",
              "      <td>209.140000</td>\n",
              "    </tr>\n",
              "  </tbody>\n",
              "</table>\n",
              "</div>"
            ],
            "text/plain": [
              "            index_x    home_score  ...  three_year_ago_avg  three_year_ago_weighted\n",
              "count  13283.000000  13283.000000  ...        13283.000000             13283.000000\n",
              "mean   26094.200858      1.677784  ...            9.291211                 1.858262\n",
              "std     4488.387966      1.732679  ...           57.472485                11.494551\n",
              "min    17910.000000      0.000000  ...            0.000000                 0.000000\n",
              "25%    22332.000000      0.000000  ...            0.000000                 0.000000\n",
              "50%    26166.000000      1.000000  ...            0.000000                 0.000000\n",
              "75%    29966.500000      2.000000  ...            0.000000                 0.000000\n",
              "max    33771.000000     31.000000  ...         1045.710000               209.140000\n",
              "\n",
              "[8 rows x 17 columns]"
            ]
          },
          "metadata": {
            "tags": []
          },
          "execution_count": 59
        }
      ]
    },
    {
      "cell_type": "code",
      "metadata": {
        "id": "PWlukLKUvFQN",
        "outputId": "6ec56b97-e3dc-4e9d-fad5-c2c7883c855a",
        "colab": {
          "base_uri": "https://localhost:8080/"
        }
      },
      "source": [
        "# check for duplicated records\n",
        "rank_final2.duplicated()"
      ],
      "execution_count": 60,
      "outputs": [
        {
          "output_type": "execute_result",
          "data": {
            "text/plain": [
              "0        False\n",
              "1        False\n",
              "2        False\n",
              "3        False\n",
              "4        False\n",
              "         ...  \n",
              "13278    False\n",
              "13279    False\n",
              "13280    False\n",
              "13281    False\n",
              "13282    False\n",
              "Length: 13283, dtype: bool"
            ]
          },
          "metadata": {
            "tags": []
          },
          "execution_count": 60
        }
      ]
    },
    {
      "cell_type": "markdown",
      "metadata": {
        "id": "rF2ABPsHUtbZ"
      },
      "source": [
        "## 6. Exploratory Analysis\n",
        "\n"
      ]
    },
    {
      "cell_type": "markdown",
      "metadata": {
        "id": "As4GvgVmB1gk"
      },
      "source": [
        "### a)Univariate Analysis\n",
        "The variables that we will concentrate on because of our problem statement\n",
        "\n",
        "* home_team                  \n",
        "* away_team                  \n",
        "* home_score            \n",
        "* away_score                \n",
        "* tournament                \n",
        "* country                  \n",
        "* month                     \n",
        "* year                       \n",
        "* rank                       \n",
        "* total_points               \n",
        "* previous_points\n",
        "\n",
        "\n",
        "\n"
      ]
    },
    {
      "cell_type": "code",
      "metadata": {
        "id": "E5svlJymi8Q9",
        "outputId": "5fbd3214-872c-4d4a-a127-31dff877c591",
        "colab": {
          "base_uri": "https://localhost:8080/"
        }
      },
      "source": [
        "rank_final2.home_team.value_counts()"
      ],
      "execution_count": 61,
      "outputs": [
        {
          "output_type": "execute_result",
          "data": {
            "text/plain": [
              "Saudi Arabia            185\n",
              "Japan                   174\n",
              "United Arab Emirates    152\n",
              "Oman                    151\n",
              "Kuwait                  149\n",
              "                       ... \n",
              "U.S. Virgin Islands       1\n",
              "Arameans Suryoye          1\n",
              "Silesia                   1\n",
              "Micronesia                1\n",
              "Kosovo                    1\n",
              "Name: home_team, Length: 260, dtype: int64"
            ]
          },
          "metadata": {
            "tags": []
          },
          "execution_count": 61
        }
      ]
    },
    {
      "cell_type": "code",
      "metadata": {
        "id": "lPH_eC2VjDUJ",
        "outputId": "41cd2ef4-0bfd-4d00-fda8-396f67bcd858",
        "colab": {
          "base_uri": "https://localhost:8080/"
        }
      },
      "source": [
        "rank_final2.away_team.value_counts()"
      ],
      "execution_count": 62,
      "outputs": [
        {
          "output_type": "execute_result",
          "data": {
            "text/plain": [
              "Zambia          142\n",
              "Iraq            123\n",
              "Paraguay        123\n",
              "Finland         120\n",
              "Brazil          118\n",
              "               ... \n",
              "Occitania         1\n",
              "Alderney          1\n",
              "Bonaire           1\n",
              "Two Sicilies      1\n",
              "Brittany          1\n",
              "Name: away_team, Length: 257, dtype: int64"
            ]
          },
          "metadata": {
            "tags": []
          },
          "execution_count": 62
        }
      ]
    },
    {
      "cell_type": "code",
      "metadata": {
        "id": "RGf-pBbtjLIE",
        "outputId": "b6a635d5-dc57-42a4-f716-23772865cd74",
        "colab": {
          "base_uri": "https://localhost:8080/"
        }
      },
      "source": [
        "rank_final2.home_score.value_counts()"
      ],
      "execution_count": 63,
      "outputs": [
        {
          "output_type": "execute_result",
          "data": {
            "text/plain": [
              "1     3951\n",
              "0     3374\n",
              "2     2924\n",
              "3     1497\n",
              "4      773\n",
              "5      360\n",
              "6      177\n",
              "7       89\n",
              "8       46\n",
              "9       32\n",
              "11      15\n",
              "10      14\n",
              "12      13\n",
              "14       4\n",
              "13       4\n",
              "17       2\n",
              "16       2\n",
              "21       1\n",
              "19       1\n",
              "22       1\n",
              "15       1\n",
              "20       1\n",
              "31       1\n",
              "Name: home_score, dtype: int64"
            ]
          },
          "metadata": {
            "tags": []
          },
          "execution_count": 63
        }
      ]
    },
    {
      "cell_type": "code",
      "metadata": {
        "id": "2eb4SuZAjPAm",
        "outputId": "15fdb694-72a8-4771-b209-5a6cdac25a96",
        "colab": {
          "base_uri": "https://localhost:8080/"
        }
      },
      "source": [
        "rank_final2.away_score.value_counts()"
      ],
      "execution_count": 64,
      "outputs": [
        {
          "output_type": "execute_result",
          "data": {
            "text/plain": [
              "0     5222\n",
              "1     4316\n",
              "2     2259\n",
              "3      874\n",
              "4      336\n",
              "5      130\n",
              "6       63\n",
              "7       46\n",
              "8       15\n",
              "9        7\n",
              "10       4\n",
              "17       3\n",
              "13       2\n",
              "18       2\n",
              "15       2\n",
              "11       1\n",
              "21       1\n",
              "Name: away_score, dtype: int64"
            ]
          },
          "metadata": {
            "tags": []
          },
          "execution_count": 64
        }
      ]
    },
    {
      "cell_type": "code",
      "metadata": {
        "id": "ZdVDJlrPjTPk",
        "outputId": "8edef119-1a60-40bb-f35b-5f210bad52d7",
        "colab": {
          "base_uri": "https://localhost:8080/"
        }
      },
      "source": [
        "rank_final2.tournament.value_counts()"
      ],
      "execution_count": 65,
      "outputs": [
        {
          "output_type": "execute_result",
          "data": {
            "text/plain": [
              "Friendly                                4854\n",
              "FIFA World Cup qualification            3006\n",
              "UEFA Euro qualification                 1173\n",
              "African Cup of Nations qualification     664\n",
              "AFC Asian Cup qualification              299\n",
              "                                        ... \n",
              "VFF Cup                                    6\n",
              "Copa Paz del Chaco                         5\n",
              "ABCS Tournament                            4\n",
              "Dragon Cup                                 4\n",
              "Copa del Pacífico                          2\n",
              "Name: tournament, Length: 62, dtype: int64"
            ]
          },
          "metadata": {
            "tags": []
          },
          "execution_count": 65
        }
      ]
    },
    {
      "cell_type": "code",
      "metadata": {
        "id": "gCeGmTR8jbvA",
        "outputId": "36aee27d-0809-4378-bbf1-4512e871b210",
        "colab": {
          "base_uri": "https://localhost:8080/"
        }
      },
      "source": [
        "rank_final2.country.value_counts()"
      ],
      "execution_count": 66,
      "outputs": [
        {
          "output_type": "execute_result",
          "data": {
            "text/plain": [
              "France                      270\n",
              "Qatar                       230\n",
              "United Arab Emirates        225\n",
              "South Africa                192\n",
              "Trinidad and Tobago         190\n",
              "                           ... \n",
              "Anguilla                      3\n",
              "Curaçao                       3\n",
              "Turks and Caicos Islands      2\n",
              "Montserrat                    1\n",
              "Afghanistan                   1\n",
              "Name: country, Length: 190, dtype: int64"
            ]
          },
          "metadata": {
            "tags": []
          },
          "execution_count": 66
        }
      ]
    },
    {
      "cell_type": "code",
      "metadata": {
        "id": "sIytKGgQjhD8",
        "outputId": "f1d89bf5-84ae-4042-9806-0e66d400f753",
        "colab": {
          "base_uri": "https://localhost:8080/"
        }
      },
      "source": [
        "rank_final2.month.value_counts()"
      ],
      "execution_count": 67,
      "outputs": [
        {
          "output_type": "execute_result",
          "data": {
            "text/plain": [
              "10    1612\n",
              "6     1543\n",
              "9     1540\n",
              "11    1367\n",
              "3     1146\n",
              "2     1066\n",
              "8      999\n",
              "7      895\n",
              "4      830\n",
              "5      827\n",
              "12     790\n",
              "1      668\n",
              "Name: month, dtype: int64"
            ]
          },
          "metadata": {
            "tags": []
          },
          "execution_count": 67
        }
      ]
    },
    {
      "cell_type": "code",
      "metadata": {
        "id": "zzVSN6sxjk5N",
        "outputId": "73f706e4-5746-48cf-d001-6609a2b51db2",
        "colab": {
          "base_uri": "https://localhost:8080/"
        }
      },
      "source": [
        "rank_final2.year.value_counts()"
      ],
      "execution_count": 68,
      "outputs": [
        {
          "output_type": "execute_result",
          "data": {
            "text/plain": [
              "2008    994\n",
              "2011    966\n",
              "2004    954\n",
              "2001    915\n",
              "2000    895\n",
              "2007    893\n",
              "2003    811\n",
              "2009    810\n",
              "2005    709\n",
              "1999    662\n",
              "2010    662\n",
              "1997    661\n",
              "2006    655\n",
              "2002    601\n",
              "1996    591\n",
              "1998    496\n",
              "1995    455\n",
              "1994    388\n",
              "1993    165\n",
              "Name: year, dtype: int64"
            ]
          },
          "metadata": {
            "tags": []
          },
          "execution_count": 68
        }
      ]
    },
    {
      "cell_type": "code",
      "metadata": {
        "id": "tpu8yA6VjrXL",
        "outputId": "43797697-ba23-4f61-8ec9-b0455a9b07f7",
        "colab": {
          "base_uri": "https://localhost:8080/"
        }
      },
      "source": [
        "rank_final2.total_points.value_counts()"
      ],
      "execution_count": 69,
      "outputs": [
        {
          "output_type": "execute_result",
          "data": {
            "text/plain": [
              "0.00      12789\n",
              "127.58       19\n",
              "224.01       14\n",
              "228.03       13\n",
              "104.08       10\n",
              "          ...  \n",
              "297.29        1\n",
              "757.94        1\n",
              "550.84        1\n",
              "546.27        1\n",
              "150.69        1\n",
              "Name: total_points, Length: 364, dtype: int64"
            ]
          },
          "metadata": {
            "tags": []
          },
          "execution_count": 69
        }
      ]
    },
    {
      "cell_type": "code",
      "metadata": {
        "id": "PKfj7eJPj1gE",
        "outputId": "c4f7add6-be14-4423-dca1-f61090f04661",
        "colab": {
          "base_uri": "https://localhost:8080/"
        }
      },
      "source": [
        "rank_final2.previous_points.value_counts()"
      ],
      "execution_count": 70,
      "outputs": [
        {
          "output_type": "execute_result",
          "data": {
            "text/plain": [
              "27.0      109\n",
              "40.0      101\n",
              "35.0       91\n",
              "32.0       84\n",
              "41.0       79\n",
              "         ... \n",
              "1403.0      1\n",
              "974.0       1\n",
              "1604.0      1\n",
              "1477.0      1\n",
              "1031.0      1\n",
              "Name: previous_points, Length: 1178, dtype: int64"
            ]
          },
          "metadata": {
            "tags": []
          },
          "execution_count": 70
        }
      ]
    },
    {
      "cell_type": "code",
      "metadata": {
        "id": "vY3X9YsaOoEC",
        "outputId": "6f23fcf6-31e5-4cd0-ee28-255a0856835a",
        "colab": {
          "base_uri": "https://localhost:8080/",
          "height": 283
        }
      },
      "source": [
        "# checking for outliers\n",
        "rank_final2.home_score.plot(kind =\"box\")\n"
      ],
      "execution_count": 71,
      "outputs": [
        {
          "output_type": "execute_result",
          "data": {
            "text/plain": [
              "<matplotlib.axes._subplots.AxesSubplot at 0x7f6048e1db00>"
            ]
          },
          "metadata": {
            "tags": []
          },
          "execution_count": 71
        },
        {
          "output_type": "display_data",
          "data": {
            "image/png": "[encoded data removed]",
            "text/plain": [
              "<Figure size 432x288 with 1 Axes>"
            ]
          },
          "metadata": {
            "tags": [],
            "needs_background": "light"
          }
        }
      ]
    },
    {
      "cell_type": "code",
      "metadata": {
        "id": "LTlMJOA6lmyL",
        "outputId": "a276241d-76b1-4c0c-c02a-3b1ca011998a",
        "colab": {
          "base_uri": "https://localhost:8080/",
          "height": 282
        }
      },
      "source": [
        "rank_final2.away_score.plot(kind=\"box\")"
      ],
      "execution_count": 72,
      "outputs": [
        {
          "output_type": "execute_result",
          "data": {
            "text/plain": [
              "<matplotlib.axes._subplots.AxesSubplot at 0x7f6048eab780>"
            ]
          },
          "metadata": {
            "tags": []
          },
          "execution_count": 72
        },
        {
          "output_type": "display_data",
          "data": {
            "image/png": "[encoded data removed]",
            "text/plain": [
              "<Figure size 432x288 with 1 Axes>"
            ]
          },
          "metadata": {
            "tags": [],
            "needs_background": "light"
          }
        }
      ]
    },
    {
      "cell_type": "code",
      "metadata": {
        "id": "cMdY44yDpFaF",
        "outputId": "e4b23a28-1d23-492e-c2d8-361e61bd669b",
        "colab": {
          "base_uri": "https://localhost:8080/",
          "height": 282
        }
      },
      "source": [
        "#Checking tournament type value counts\n",
        "rank_final2.away_team.value_counts().head(10).plot(kind = 'barh')"
      ],
      "execution_count": 73,
      "outputs": [
        {
          "output_type": "execute_result",
          "data": {
            "text/plain": [
              "<matplotlib.axes._subplots.AxesSubplot at 0x7f6048e8c978>"
            ]
          },
          "metadata": {
            "tags": []
          },
          "execution_count": 73
        },
        {
          "output_type": "display_data",
          "data": {
            "image/png": "[encoded data removed]",
            "text/plain": [
              "<Figure size 432x288 with 1 Axes>"
            ]
          },
          "metadata": {
            "tags": [],
            "needs_background": "light"
          }
        }
      ]
    },
    {
      "cell_type": "code",
      "metadata": {
        "id": "hGJ1f64kpZGw",
        "outputId": "6e22cd36-0396-4869-b854-1a03e636442f",
        "colab": {
          "base_uri": "https://localhost:8080/",
          "height": 282
        }
      },
      "source": [
        "#Checking tournament type value counts\n",
        "rank_final2.home_team.value_counts().head(10).plot(kind = 'barh')"
      ],
      "execution_count": 74,
      "outputs": [
        {
          "output_type": "execute_result",
          "data": {
            "text/plain": [
              "<matplotlib.axes._subplots.AxesSubplot at 0x7f604890a630>"
            ]
          },
          "metadata": {
            "tags": []
          },
          "execution_count": 74
        },
        {
          "output_type": "display_data",
          "data": {
            "image/png": "[encoded data removed]",
            "text/plain": [
              "<Figure size 432x288 with 1 Axes>"
            ]
          },
          "metadata": {
            "tags": [],
            "needs_background": "light"
          }
        }
      ]
    },
    {
      "cell_type": "code",
      "metadata": {
        "id": "0Hs2p2KRp_ym",
        "outputId": "e67549a0-913d-4c41-d8dc-3216d3046d3a",
        "colab": {
          "base_uri": "https://localhost:8080/",
          "height": 298
        }
      },
      "source": [
        "#Checking tournament type value counts\n",
        "rank_final2.year.value_counts().plot(kind = 'bar')"
      ],
      "execution_count": 75,
      "outputs": [
        {
          "output_type": "execute_result",
          "data": {
            "text/plain": [
              "<matplotlib.axes._subplots.AxesSubplot at 0x7f604889a470>"
            ]
          },
          "metadata": {
            "tags": []
          },
          "execution_count": 75
        },
        {
          "output_type": "display_data",
          "data": {
            "image/png": "[encoded data removed]",
            "text/plain": [
              "<Figure size 432x288 with 1 Axes>"
            ]
          },
          "metadata": {
            "tags": [],
            "needs_background": "light"
          }
        }
      ]
    },
    {
      "cell_type": "code",
      "metadata": {
        "id": "UXZal2mhrMfc",
        "outputId": "38b7d536-4499-42b0-ce96-60d459568126",
        "colab": {
          "base_uri": "https://localhost:8080/",
          "height": 285
        }
      },
      "source": [
        "#Checking tournament type value counts\n",
        "rank_final2.month.value_counts().plot(kind ='bar')"
      ],
      "execution_count": 76,
      "outputs": [
        {
          "output_type": "execute_result",
          "data": {
            "text/plain": [
              "<matplotlib.axes._subplots.AxesSubplot at 0x7f604889af28>"
            ]
          },
          "metadata": {
            "tags": []
          },
          "execution_count": 76
        },
        {
          "output_type": "display_data",
          "data": {
            "image/png": "[encoded data removed]",
            "text/plain": [
              "<Figure size 432x288 with 1 Axes>"
            ]
          },
          "metadata": {
            "tags": [],
            "needs_background": "light"
          }
        }
      ]
    },
    {
      "cell_type": "code",
      "metadata": {
        "id": "-xW4ROBGuRnd",
        "outputId": "344dfc01-00f6-48d7-a1a2-fc16f1137759",
        "colab": {
          "base_uri": "https://localhost:8080/",
          "height": 265
        }
      },
      "source": [
        "rank_final2['year'].plot(kind='density', subplots=True, layout=(1, 2), \n",
        "                  sharex=False, figsize=(10, 4));\n"
      ],
      "execution_count": 77,
      "outputs": [
        {
          "output_type": "display_data",
          "data": {
            "image/png": "[encoded data removed]",
            "text/plain": [
              "<Figure size 720x288 with 2 Axes>"
            ]
          },
          "metadata": {
            "tags": [],
            "needs_background": "light"
          }
        }
      ]
    },
    {
      "cell_type": "code",
      "metadata": {
        "id": "W9TEGNT-roLw",
        "outputId": "f878917e-a457-4dfd-859c-388254f06a64",
        "colab": {
          "base_uri": "https://localhost:8080/",
          "height": 265
        }
      },
      "source": [
        "rank_final2['month'].plot(kind='density', subplots=True, layout=(1, 2), \n",
        "                  sharex=False, figsize=(10, 4));\n"
      ],
      "execution_count": 78,
      "outputs": [
        {
          "output_type": "display_data",
          "data": {
            "image/png": "[encoded data removed]",
            "text/plain": [
              "<Figure size 720x288 with 2 Axes>"
            ]
          },
          "metadata": {
            "tags": [],
            "needs_background": "light"
          }
        }
      ]
    },
    {
      "cell_type": "code",
      "metadata": {
        "id": "I_kzdDgqnk5u",
        "outputId": "46c3a588-3fb6-476b-b53c-09cd75eacc1a",
        "colab": {
          "base_uri": "https://localhost:8080/",
          "height": 282
        }
      },
      "source": [
        "#Checking tournament type value counts\n",
        "rank_final2.tournament.value_counts().head(10).plot(kind = 'barh')"
      ],
      "execution_count": 79,
      "outputs": [
        {
          "output_type": "execute_result",
          "data": {
            "text/plain": [
              "<matplotlib.axes._subplots.AxesSubplot at 0x7f6045eec7f0>"
            ]
          },
          "metadata": {
            "tags": []
          },
          "execution_count": 79
        },
        {
          "output_type": "display_data",
          "data": {
            "image/png": "[encoded data removed]",
            "text/plain": [
              "<Figure size 432x288 with 1 Axes>"
            ]
          },
          "metadata": {
            "tags": [],
            "needs_background": "light"
          }
        }
      ]
    },
    {
      "cell_type": "code",
      "metadata": {
        "id": "1lFbA-_ppxTo"
      },
      "source": [
        ""
      ],
      "execution_count": 79,
      "outputs": []
    },
    {
      "cell_type": "code",
      "metadata": {
        "id": "yyWGHOL8nE_4",
        "outputId": "91ff2518-510b-482f-a554-5d4d44597a45",
        "colab": {
          "base_uri": "https://localhost:8080/",
          "height": 391
        }
      },
      "source": [
        "rank_final2.loc[rank_final2.tournament != 'Friendly', 'tournament'] = 'Not Friendly'\n",
        "rank_final2.tournament.value_counts().plot(kind = 'pie', autopct = '%0.1f%%', figsize = [8, 6],\n",
        "                                       subplots = True)"
      ],
      "execution_count": 80,
      "outputs": [
        {
          "output_type": "execute_result",
          "data": {
            "text/plain": [
              "array([<matplotlib.axes._subplots.AxesSubplot object at 0x7f6045da76a0>],\n",
              "      dtype=object)"
            ]
          },
          "metadata": {
            "tags": []
          },
          "execution_count": 80
        },
        {
          "output_type": "display_data",
          "data": {
            "image/png": "[encoded data removed]",
            "text/plain": [
              "<Figure size 576x432 with 1 Axes>"
            ]
          },
          "metadata": {
            "tags": []
          }
        }
      ]
    },
    {
      "cell_type": "code",
      "metadata": {
        "id": "5zffwerXTkkp",
        "outputId": "ceb3826d-1a85-4dee-e4a2-e46ab2c9fdb7",
        "colab": {
          "base_uri": "https://localhost:8080/",
          "height": 129
        }
      },
      "source": [
        "Most Number of World Cup Winning Title\n",
        "Number of Goal Per Countary\n",
        "Attendance, Number of Teams, Goals, and Matches per Cup\n",
        "Goals Per Team Per World Cup\n",
        "Matches With Heihest Number Of Attendance\n",
        "Stadium with Highest Average Attendance\n",
        "Which countries had won the cup ?\n",
        "Number of goal per country\n",
        "Match outcome by home and away temas"
      ],
      "execution_count": 81,
      "outputs": [
        {
          "output_type": "error",
          "ename": "SyntaxError",
          "evalue": "ignored",
          "traceback": [
            "\u001b[0;36m  File \u001b[0;32m\"<ipython-input-81-b0593a62d249>\"\u001b[0;36m, line \u001b[0;32m1\u001b[0m\n\u001b[0;31m    Most Number of World Cup Winning Title\u001b[0m\n\u001b[0m              ^\u001b[0m\n\u001b[0;31mSyntaxError\u001b[0m\u001b[0;31m:\u001b[0m invalid syntax\n"
          ]
        }
      ]
    },
    {
      "cell_type": "markdown",
      "metadata": {
        "id": "vTbdjSrhVIiT"
      },
      "source": [
        "## 7. Implementing the Solution"
      ]
    },
    {
      "cell_type": "code",
      "metadata": {
        "id": "PJLZaRzJXJ3w"
      },
      "source": [
        "# Implementing the Solution\n",
        "# "
      ],
      "execution_count": null,
      "outputs": []
    },
    {
      "cell_type": "markdown",
      "metadata": {
        "id": "lQ2G4ZPDVOXE"
      },
      "source": [
        "## 8. Challenging the solution"
      ]
    },
    {
      "cell_type": "markdown",
      "metadata": {
        "id": "jWVGKGuiYMWg"
      },
      "source": [
        "> The easy solution is nice because it is, well, easy, but you should never allow those results to hold the day. You should always be thinking of ways to challenge the results, especially if those results comport with your prior expectation.\n",
        "\n",
        "\n",
        "\n",
        "\n"
      ]
    },
    {
      "cell_type": "code",
      "metadata": {
        "id": "j3x3SXZ4XT_L"
      },
      "source": [
        "# Reviewing the Solution \n",
        "#"
      ],
      "execution_count": null,
      "outputs": []
    },
    {
      "cell_type": "markdown",
      "metadata": {
        "id": "xrmHVMVsVS--"
      },
      "source": [
        "## 9. Follow up questions"
      ]
    },
    {
      "cell_type": "markdown",
      "metadata": {
        "id": "pth2qSWhuBIy"
      },
      "source": [
        "> At this point, we can refine our question or collect new data, all in an iterative process to get at the truth.\n",
        "\n"
      ]
    },
    {
      "cell_type": "markdown",
      "metadata": {
        "id": "HPQviDmNtta8"
      },
      "source": [
        "### a). Did we have the right data?"
      ]
    },
    {
      "cell_type": "markdown",
      "metadata": {
        "id": "qjFHK1CKty7o"
      },
      "source": [
        "### b). Do we need other data to answer our question?"
      ]
    },
    {
      "cell_type": "markdown",
      "metadata": {
        "id": "HSsicSdvt4Zs"
      },
      "source": [
        "### c). Did we have the right question?"
      ]
    }
  ]
}