{
  "nbformat": 4,
  "nbformat_minor": 0,
  "metadata": {
    "colab": {
      "name": "Esther Wairimu Kamau.Independent project week 2",
      "provenance": [],
      "collapsed_sections": [],
      "toc_visible": true,
      "authorship_tag": "ABX9TyNwHg5c51vWplxA8hVR76W9",
      "include_colab_link": true
    },
    "kernelspec": {
      "name": "python3",
      "display_name": "Python 3"
    }
  },
  "cells": [
    {
      "cell_type": "markdown",
      "metadata": {
        "id": "view-in-github",
        "colab_type": "text"
      },
      "source": [
        "<a href=\"https://colab.research.google.com/github/Eswa2020/moringa_school_projects/blob/master/Esther_Wairimu_Kamau_Independent_project_week_2.ipynb\" target=\"_parent\"><img src=\"https://colab.research.google.com/assets/colab-badge.svg\" alt=\"Open In Colab\"/></a>"
      ]
    },
    {
      "cell_type": "markdown",
      "metadata": {
        "id": "NQD3h2ObI2Bn"
      },
      "source": [
        "# Specifying the problem statement\n"
      ]
    },
    {
      "cell_type": "markdown",
      "metadata": {
        "id": "IzYEzECsv6S0"
      },
      "source": [
        " The goal of this project is to demonstrate the concept of hypothesis testing by investigating a claim about blue cars using a dataset from an electric car sharing service company called Autolib. More specifically, we will be comparing the blue car usage rates in  France since Autolib was an electric car sharing service inaugurated in Paris.\n",
        "We will be using the Autolib dataset to perform Univariate and Bivariate Analysis for Paris and Hauts-de-Seine, which are two main French cities. Below are the specific hypotheses of interest for this analysis:\n",
        "\n",
        ">Null Hypothesis: Motorists who use Autolibs'Blue Car during the weekend are from Hauts-de-Seine\n",
        "\n",
        ">> Ho : μ1 = μ2\n",
        "\n",
        ">Alternative Hypothesis: Motorists who use Autolibs'Blue Car during the weekend not from Hauts-de-Seine.\n",
        "\n",
        ">> Ha : μ1 ≠ μ2"
      ]
    },
    {
      "cell_type": "markdown",
      "metadata": {
        "id": "jgMK3j14QOro"
      },
      "source": [
        "# Metrics for Success"
      ]
    },
    {
      "cell_type": "markdown",
      "metadata": {
        "id": "z6C57j3GQW1t"
      },
      "source": [
        "our project will be a success when we are able to achieve the following:\n",
        "\n",
        ">*   Specify the null and alternative hypothesis.\n",
        ">*   Perform EDA(Exploratory Data Analysis) to uncover trends within the dataset.\n",
        ">*   Perform hypothesis testing and interpret the results.\n",
        ">*   Give summaries and conclusions."
      ]
    },
    {
      "cell_type": "markdown",
      "metadata": {
        "id": "LMfaC50mTQyT"
      },
      "source": [
        "# Data Understanding"
      ]
    },
    {
      "cell_type": "markdown",
      "metadata": {
        "id": "Jj97_9LjTVqB"
      },
      "source": [
        ">Autolib' was an electric car sharing service which was inaugurated in Paris, France, in December 2011. It closed on July 31st 2018.It was operated by the Bolloré industrial group. The Autolib' scheme maintained a fleet of all-electric Bolloré Bluecars for public use on a paid subscription basis, employing a citywide network of parking and charging stations.As of 3 July 2016, 3,980 Bluecars had been registered for the service, and the scheme had more than 126,900 registered subscribers.Autolib' furthermore offered 1,084 electric car stations in Paris agglomeration with 5,935 charging points.\n",
        "\n",
        ">Since beginning operations in Paris, Autolib' expanded its business to the cities of Lyon and Bordeaux.Bolloré also signed deals to begin operating offshoots of Autolib' in London and Indianapolis in 2015,Turin in 2016 and Singapore in 2017.\n",
        "\n",
        "> Autolib was in France that was operational between 2011 and 2018. The company had three types of electric cars i.e blue cars, Utilib cars and Utilib 1.4 cars. Blue cars were most popularly used. \n",
        "\n",
        ">Bluecars were available in different postal codes in France and renters could pick up cars in one station then drop them off at a different station that was closer to their destination.\n",
        "\n",
        "> The dataset contains information for different postal codes for 6 months i.e.between January 2018 and June 2018.\n",
        ">France is divided into 101 departments :\n",
        "* 96 departments in mainland France, numbered 1 through 95 and 5 overseas departments (which are also regions) They are divided into 343 districts (\"arrondissements\"), 4 058 townships(\"cantons\") and 36 699 towns (\"communes\").\n",
        "Each department has a capital city or prefecture department which includes its institutions. This capital is often the largest city of the department.\n",
        "* Region : Ile-de-France\n",
        "(75) Department Paris\n",
        "(77) Department Seine-et-Marne\n",
        "(78) Department Yvelines\n",
        "(91) Department Essonne\n",
        "(92) Department Hauts-de-Seine\n",
        "(93) Department Seine-St-Denis\n",
        "(94) Department Val-de-Marne\n",
        "(95) Department Val-D'Oise\n",
        "* our dataset has all these departments from 75-95..so our autolib dataset is  from The region Ile-de-France ,which contains The capital city Paris."
      ]
    },
    {
      "cell_type": "markdown",
      "metadata": {
        "id": "o9rXQtXMePZa"
      },
      "source": [
        "# Steps for undertaking Experimental Design"
      ]
    },
    {
      "cell_type": "markdown",
      "metadata": {
        "id": "rpWodGipdM6K"
      },
      "source": [
        "> Below are the steps that will be conducted in this analysis in order to meet our projects expectations :\n",
        "\n",
        "\n",
        ">*   Load data and check on the characteristics of the dataset\n",
        ">*   Perform Data cleaning (check for and deal with outliers, anomalies,duplicates,null and missing data)\n",
        ">*   Perform univariate and bivariate analysis\n",
        ">*   Specify the null and alternative hypotheses\n",
        ">*   Explain the sampling method \n",
        ">*   Perform hypothesis testing\n",
        ">*   Discuss the hypothesis test results\n",
        ">*   Provide project summary and conclusion\n",
        ">*   Challenge our solution by providing insights on how we can make improvements."
      ]
    },
    {
      "cell_type": "markdown",
      "metadata": {
        "id": "4cBFJvwceZlX"
      },
      "source": [
        "# Appropriateness of Dataset"
      ]
    },
    {
      "cell_type": "markdown",
      "metadata": {
        "id": "rcpexVjVeouC"
      },
      "source": [
        ">The dataset to use for this project can be found here [http://bit.ly/DSCoreAutolibDataset]\n",
        "\n",
        ">The provided dataset is a daily aggregation, by date and postal code, of the number of events on the Autolib network for Bluecar,utilib and utilib 14 cars"
      ]
    },
    {
      "cell_type": "markdown",
      "metadata": {
        "id": "GiI1fHe-fjcB"
      },
      "source": [
        "# Importing Libraries"
      ]
    },
    {
      "cell_type": "code",
      "metadata": {
        "id": "z0nG63zAuCNH"
      },
      "source": [
        "# Importing Pandas\n",
        "# \n",
        "import pandas as pd\n",
        "import pandas_profiling as pp\n"
      ],
      "execution_count": 50,
      "outputs": []
    },
    {
      "cell_type": "code",
      "metadata": {
        "id": "EhP-7OJewKTl"
      },
      "source": [
        "#Importing Numpy\n",
        "import numpy as np"
      ],
      "execution_count": 51,
      "outputs": []
    },
    {
      "cell_type": "code",
      "metadata": {
        "id": "mgBEX9-IwRSY"
      },
      "source": [
        "#Importing Seaborn\n",
        "import seaborn as sns"
      ],
      "execution_count": 53,
      "outputs": []
    },
    {
      "cell_type": "code",
      "metadata": {
        "id": "YVj5rlPcwVbz"
      },
      "source": [
        "#Importing Matplotlib\n",
        "import matplotlib.pyplot as plt"
      ],
      "execution_count": 54,
      "outputs": []
    },
    {
      "cell_type": "code",
      "metadata": {
        "id": "Y2nfMEPqeRuO"
      },
      "source": [
        "#importing scipy\n",
        "from scipy import stats\n",
        "\n",
        "from scipy.stats import norm\n",
        "\n",
        "from scipy.stats import t\n",
        "\n",
        "import math\n",
        "\n",
        "from scipy.stats import ttest_ind\n",
        "\n",
        "from statsmodels.stats import weightstats as stests\n"
      ],
      "execution_count": 55,
      "outputs": []
    },
    {
      "cell_type": "code",
      "metadata": {
        "id": "vzuEnSrx2jY5"
      },
      "source": [
        "import warnings\n",
        "warnings.filterwarnings('ignore')"
      ],
      "execution_count": 7,
      "outputs": []
    },
    {
      "cell_type": "markdown",
      "metadata": {
        "id": "u9wJif8qgHR4"
      },
      "source": [
        "#Loading the Dataset"
      ]
    },
    {
      "cell_type": "code",
      "metadata": {
        "id": "lDLJlGvdyAWR",
        "outputId": "89146e06-b2f8-4aaa-ee70-9aef9f89ff96",
        "colab": {
          "base_uri": "https://localhost:8080/",
          "height": 234
        }
      },
      "source": [
        "#loading our datasets\n",
        "#variable_definitions\n",
        "autolib_def=pd.read_csv('http://bit.ly/DSCoreAutolibDataset')\n",
        "autolib_def.head(5)\n"
      ],
      "execution_count": 49,
      "outputs": [
        {
          "output_type": "execute_result",
          "data": {
            "text/html": [
              "<div>\n",
              "<style scoped>\n",
              "    .dataframe tbody tr th:only-of-type {\n",
              "        vertical-align: middle;\n",
              "    }\n",
              "\n",
              "    .dataframe tbody tr th {\n",
              "        vertical-align: top;\n",
              "    }\n",
              "\n",
              "    .dataframe thead th {\n",
              "        text-align: right;\n",
              "    }\n",
              "</style>\n",
              "<table border=\"1\" class=\"dataframe\">\n",
              "  <thead>\n",
              "    <tr style=\"text-align: right;\">\n",
              "      <th></th>\n",
              "      <th>Postal code</th>\n",
              "      <th>date</th>\n",
              "      <th>n_daily_data_points</th>\n",
              "      <th>dayOfWeek</th>\n",
              "      <th>day_type</th>\n",
              "      <th>BlueCars_taken_sum</th>\n",
              "      <th>BlueCars_returned_sum</th>\n",
              "      <th>Utilib_taken_sum</th>\n",
              "      <th>Utilib_returned_sum</th>\n",
              "      <th>Utilib_14_taken_sum</th>\n",
              "      <th>Utilib_14_returned_sum</th>\n",
              "      <th>Slots_freed_sum</th>\n",
              "      <th>Slots_taken_sum</th>\n",
              "    </tr>\n",
              "  </thead>\n",
              "  <tbody>\n",
              "    <tr>\n",
              "      <th>0</th>\n",
              "      <td>75001</td>\n",
              "      <td>1/1/2018</td>\n",
              "      <td>1440</td>\n",
              "      <td>0</td>\n",
              "      <td>weekday</td>\n",
              "      <td>110</td>\n",
              "      <td>103</td>\n",
              "      <td>3</td>\n",
              "      <td>2</td>\n",
              "      <td>10</td>\n",
              "      <td>9</td>\n",
              "      <td>22</td>\n",
              "      <td>20</td>\n",
              "    </tr>\n",
              "    <tr>\n",
              "      <th>1</th>\n",
              "      <td>75001</td>\n",
              "      <td>1/2/2018</td>\n",
              "      <td>1438</td>\n",
              "      <td>1</td>\n",
              "      <td>weekday</td>\n",
              "      <td>98</td>\n",
              "      <td>94</td>\n",
              "      <td>1</td>\n",
              "      <td>1</td>\n",
              "      <td>8</td>\n",
              "      <td>8</td>\n",
              "      <td>23</td>\n",
              "      <td>22</td>\n",
              "    </tr>\n",
              "    <tr>\n",
              "      <th>2</th>\n",
              "      <td>75001</td>\n",
              "      <td>1/3/2018</td>\n",
              "      <td>1439</td>\n",
              "      <td>2</td>\n",
              "      <td>weekday</td>\n",
              "      <td>138</td>\n",
              "      <td>139</td>\n",
              "      <td>0</td>\n",
              "      <td>0</td>\n",
              "      <td>2</td>\n",
              "      <td>2</td>\n",
              "      <td>27</td>\n",
              "      <td>27</td>\n",
              "    </tr>\n",
              "    <tr>\n",
              "      <th>3</th>\n",
              "      <td>75001</td>\n",
              "      <td>1/4/2018</td>\n",
              "      <td>1320</td>\n",
              "      <td>3</td>\n",
              "      <td>weekday</td>\n",
              "      <td>104</td>\n",
              "      <td>104</td>\n",
              "      <td>2</td>\n",
              "      <td>2</td>\n",
              "      <td>9</td>\n",
              "      <td>8</td>\n",
              "      <td>25</td>\n",
              "      <td>21</td>\n",
              "    </tr>\n",
              "    <tr>\n",
              "      <th>4</th>\n",
              "      <td>75001</td>\n",
              "      <td>1/5/2018</td>\n",
              "      <td>1440</td>\n",
              "      <td>4</td>\n",
              "      <td>weekday</td>\n",
              "      <td>114</td>\n",
              "      <td>117</td>\n",
              "      <td>3</td>\n",
              "      <td>3</td>\n",
              "      <td>6</td>\n",
              "      <td>6</td>\n",
              "      <td>18</td>\n",
              "      <td>20</td>\n",
              "    </tr>\n",
              "  </tbody>\n",
              "</table>\n",
              "</div>"
            ],
            "text/plain": [
              "   Postal code      date  ...  Slots_freed_sum  Slots_taken_sum\n",
              "0        75001  1/1/2018  ...               22               20\n",
              "1        75001  1/2/2018  ...               23               22\n",
              "2        75001  1/3/2018  ...               27               27\n",
              "3        75001  1/4/2018  ...               25               21\n",
              "4        75001  1/5/2018  ...               18               20\n",
              "\n",
              "[5 rows x 13 columns]"
            ]
          },
          "metadata": {
            "tags": []
          },
          "execution_count": 49
        }
      ]
    },
    {
      "cell_type": "markdown",
      "metadata": {
        "id": "Ri2QWYFngfcq"
      },
      "source": [
        "# previewing the dataset"
      ]
    },
    {
      "cell_type": "code",
      "metadata": {
        "id": "caclRimDyYw-",
        "outputId": "6ae94e6e-a172-47a6-c53b-89a7ca518850",
        "colab": {
          "base_uri": "https://localhost:8080/",
          "height": 234
        }
      },
      "source": [
        "# Checking the bottom 5 records of the dataset\n",
        "\n",
        "autolib_def.tail(5)"
      ],
      "execution_count": null,
      "outputs": [
        {
          "output_type": "execute_result",
          "data": {
            "text/html": [
              "<div>\n",
              "<style scoped>\n",
              "    .dataframe tbody tr th:only-of-type {\n",
              "        vertical-align: middle;\n",
              "    }\n",
              "\n",
              "    .dataframe tbody tr th {\n",
              "        vertical-align: top;\n",
              "    }\n",
              "\n",
              "    .dataframe thead th {\n",
              "        text-align: right;\n",
              "    }\n",
              "</style>\n",
              "<table border=\"1\" class=\"dataframe\">\n",
              "  <thead>\n",
              "    <tr style=\"text-align: right;\">\n",
              "      <th></th>\n",
              "      <th>Postal code</th>\n",
              "      <th>date</th>\n",
              "      <th>n_daily_data_points</th>\n",
              "      <th>dayOfWeek</th>\n",
              "      <th>day_type</th>\n",
              "      <th>BlueCars_taken_sum</th>\n",
              "      <th>BlueCars_returned_sum</th>\n",
              "      <th>Utilib_taken_sum</th>\n",
              "      <th>Utilib_returned_sum</th>\n",
              "      <th>Utilib_14_taken_sum</th>\n",
              "      <th>Utilib_14_returned_sum</th>\n",
              "      <th>Slots_freed_sum</th>\n",
              "      <th>Slots_taken_sum</th>\n",
              "    </tr>\n",
              "  </thead>\n",
              "  <tbody>\n",
              "    <tr>\n",
              "      <th>16080</th>\n",
              "      <td>95880</td>\n",
              "      <td>6/15/2018</td>\n",
              "      <td>1440</td>\n",
              "      <td>4</td>\n",
              "      <td>weekday</td>\n",
              "      <td>15</td>\n",
              "      <td>10</td>\n",
              "      <td>0</td>\n",
              "      <td>0</td>\n",
              "      <td>2</td>\n",
              "      <td>3</td>\n",
              "      <td>0</td>\n",
              "      <td>0</td>\n",
              "    </tr>\n",
              "    <tr>\n",
              "      <th>16081</th>\n",
              "      <td>95880</td>\n",
              "      <td>6/16/2018</td>\n",
              "      <td>1440</td>\n",
              "      <td>5</td>\n",
              "      <td>weekend</td>\n",
              "      <td>19</td>\n",
              "      <td>19</td>\n",
              "      <td>0</td>\n",
              "      <td>0</td>\n",
              "      <td>2</td>\n",
              "      <td>1</td>\n",
              "      <td>0</td>\n",
              "      <td>0</td>\n",
              "    </tr>\n",
              "    <tr>\n",
              "      <th>16082</th>\n",
              "      <td>95880</td>\n",
              "      <td>6/17/2018</td>\n",
              "      <td>1440</td>\n",
              "      <td>6</td>\n",
              "      <td>weekend</td>\n",
              "      <td>33</td>\n",
              "      <td>35</td>\n",
              "      <td>1</td>\n",
              "      <td>1</td>\n",
              "      <td>0</td>\n",
              "      <td>0</td>\n",
              "      <td>0</td>\n",
              "      <td>0</td>\n",
              "    </tr>\n",
              "    <tr>\n",
              "      <th>16083</th>\n",
              "      <td>95880</td>\n",
              "      <td>6/18/2018</td>\n",
              "      <td>1440</td>\n",
              "      <td>0</td>\n",
              "      <td>weekday</td>\n",
              "      <td>11</td>\n",
              "      <td>14</td>\n",
              "      <td>3</td>\n",
              "      <td>5</td>\n",
              "      <td>2</td>\n",
              "      <td>2</td>\n",
              "      <td>0</td>\n",
              "      <td>0</td>\n",
              "    </tr>\n",
              "    <tr>\n",
              "      <th>16084</th>\n",
              "      <td>95880</td>\n",
              "      <td>6/19/2018</td>\n",
              "      <td>1370</td>\n",
              "      <td>1</td>\n",
              "      <td>weekday</td>\n",
              "      <td>2</td>\n",
              "      <td>2</td>\n",
              "      <td>2</td>\n",
              "      <td>1</td>\n",
              "      <td>0</td>\n",
              "      <td>0</td>\n",
              "      <td>0</td>\n",
              "      <td>0</td>\n",
              "    </tr>\n",
              "  </tbody>\n",
              "</table>\n",
              "</div>"
            ],
            "text/plain": [
              "       Postal code       date  ...  Slots_freed_sum  Slots_taken_sum\n",
              "16080        95880  6/15/2018  ...                0                0\n",
              "16081        95880  6/16/2018  ...                0                0\n",
              "16082        95880  6/17/2018  ...                0                0\n",
              "16083        95880  6/18/2018  ...                0                0\n",
              "16084        95880  6/19/2018  ...                0                0\n",
              "\n",
              "[5 rows x 13 columns]"
            ]
          },
          "metadata": {
            "tags": []
          },
          "execution_count": 8
        }
      ]
    },
    {
      "cell_type": "code",
      "metadata": {
        "id": "1wfmGywc78rU",
        "outputId": "16dc3de5-a134-44d5-91ca-2ae997b5a518",
        "colab": {
          "base_uri": "https://localhost:8080/"
        }
      },
      "source": [
        "#getting to know the number of columns and rows in the data set\n",
        "autolib_def.shape"
      ],
      "execution_count": null,
      "outputs": [
        {
          "output_type": "execute_result",
          "data": {
            "text/plain": [
              "(16085, 13)"
            ]
          },
          "metadata": {
            "tags": []
          },
          "execution_count": 9
        }
      ]
    },
    {
      "cell_type": "code",
      "metadata": {
        "id": "YuLtDgcuSX4a",
        "outputId": "6a6763a2-6be7-482e-ab6a-a2594144d925",
        "colab": {
          "base_uri": "https://localhost:8080/"
        }
      },
      "source": [
        "# Checking datatypes for each attribute and previewing the existence of null values\n",
        "#there are no null values in this dataset\n",
        "autolib_def.info()"
      ],
      "execution_count": null,
      "outputs": [
        {
          "output_type": "stream",
          "text": [
            "<class 'pandas.core.frame.DataFrame'>\n",
            "RangeIndex: 16085 entries, 0 to 16084\n",
            "Data columns (total 13 columns):\n",
            " #   Column                  Non-Null Count  Dtype \n",
            "---  ------                  --------------  ----- \n",
            " 0   Postal code             16085 non-null  int64 \n",
            " 1   date                    16085 non-null  object\n",
            " 2   n_daily_data_points     16085 non-null  int64 \n",
            " 3   dayOfWeek               16085 non-null  int64 \n",
            " 4   day_type                16085 non-null  object\n",
            " 5   BlueCars_taken_sum      16085 non-null  int64 \n",
            " 6   BlueCars_returned_sum   16085 non-null  int64 \n",
            " 7   Utilib_taken_sum        16085 non-null  int64 \n",
            " 8   Utilib_returned_sum     16085 non-null  int64 \n",
            " 9   Utilib_14_taken_sum     16085 non-null  int64 \n",
            " 10  Utilib_14_returned_sum  16085 non-null  int64 \n",
            " 11  Slots_freed_sum         16085 non-null  int64 \n",
            " 12  Slots_taken_sum         16085 non-null  int64 \n",
            "dtypes: int64(11), object(2)\n",
            "memory usage: 1.6+ MB\n"
          ],
          "name": "stdout"
        }
      ]
    },
    {
      "cell_type": "markdown",
      "metadata": {
        "id": "ybJTzvtBujSa"
      },
      "source": [
        "# Data Cleaning"
      ]
    },
    {
      "cell_type": "code",
      "metadata": {
        "id": "JFkOOTwQ3nIe",
        "outputId": "839f9d1c-ec46-4590-d97b-dbb1a54d06c3",
        "colab": {
          "base_uri": "https://localhost:8080/",
          "height": 191
        }
      },
      "source": [
        "# Since we only  interested in learning more about blue cars only\n",
        "# we can drop all other unnecessary columns\n",
        "\n",
        "autolib_def=autolib_def.drop(autolib_def.columns[7:], axis=1)\n",
        "autolib_def.head(5)"
      ],
      "execution_count": 56,
      "outputs": [
        {
          "output_type": "execute_result",
          "data": {
            "text/html": [
              "<div>\n",
              "<style scoped>\n",
              "    .dataframe tbody tr th:only-of-type {\n",
              "        vertical-align: middle;\n",
              "    }\n",
              "\n",
              "    .dataframe tbody tr th {\n",
              "        vertical-align: top;\n",
              "    }\n",
              "\n",
              "    .dataframe thead th {\n",
              "        text-align: right;\n",
              "    }\n",
              "</style>\n",
              "<table border=\"1\" class=\"dataframe\">\n",
              "  <thead>\n",
              "    <tr style=\"text-align: right;\">\n",
              "      <th></th>\n",
              "      <th>Postal code</th>\n",
              "      <th>date</th>\n",
              "      <th>n_daily_data_points</th>\n",
              "      <th>dayOfWeek</th>\n",
              "      <th>day_type</th>\n",
              "      <th>BlueCars_taken_sum</th>\n",
              "      <th>BlueCars_returned_sum</th>\n",
              "    </tr>\n",
              "  </thead>\n",
              "  <tbody>\n",
              "    <tr>\n",
              "      <th>0</th>\n",
              "      <td>75001</td>\n",
              "      <td>1/1/2018</td>\n",
              "      <td>1440</td>\n",
              "      <td>0</td>\n",
              "      <td>weekday</td>\n",
              "      <td>110</td>\n",
              "      <td>103</td>\n",
              "    </tr>\n",
              "    <tr>\n",
              "      <th>1</th>\n",
              "      <td>75001</td>\n",
              "      <td>1/2/2018</td>\n",
              "      <td>1438</td>\n",
              "      <td>1</td>\n",
              "      <td>weekday</td>\n",
              "      <td>98</td>\n",
              "      <td>94</td>\n",
              "    </tr>\n",
              "    <tr>\n",
              "      <th>2</th>\n",
              "      <td>75001</td>\n",
              "      <td>1/3/2018</td>\n",
              "      <td>1439</td>\n",
              "      <td>2</td>\n",
              "      <td>weekday</td>\n",
              "      <td>138</td>\n",
              "      <td>139</td>\n",
              "    </tr>\n",
              "    <tr>\n",
              "      <th>3</th>\n",
              "      <td>75001</td>\n",
              "      <td>1/4/2018</td>\n",
              "      <td>1320</td>\n",
              "      <td>3</td>\n",
              "      <td>weekday</td>\n",
              "      <td>104</td>\n",
              "      <td>104</td>\n",
              "    </tr>\n",
              "    <tr>\n",
              "      <th>4</th>\n",
              "      <td>75001</td>\n",
              "      <td>1/5/2018</td>\n",
              "      <td>1440</td>\n",
              "      <td>4</td>\n",
              "      <td>weekday</td>\n",
              "      <td>114</td>\n",
              "      <td>117</td>\n",
              "    </tr>\n",
              "  </tbody>\n",
              "</table>\n",
              "</div>"
            ],
            "text/plain": [
              "   Postal code      date  ...  BlueCars_taken_sum  BlueCars_returned_sum\n",
              "0        75001  1/1/2018  ...                 110                    103\n",
              "1        75001  1/2/2018  ...                  98                     94\n",
              "2        75001  1/3/2018  ...                 138                    139\n",
              "3        75001  1/4/2018  ...                 104                    104\n",
              "4        75001  1/5/2018  ...                 114                    117\n",
              "\n",
              "[5 rows x 7 columns]"
            ]
          },
          "metadata": {
            "tags": []
          },
          "execution_count": 56
        }
      ]
    },
    {
      "cell_type": "code",
      "metadata": {
        "id": "6HwXpTnBCRMS",
        "outputId": "cb251472-9e1a-427e-993b-838755ae7bec",
        "colab": {
          "base_uri": "https://localhost:8080/",
          "height": 76
        }
      },
      "source": [
        "# then we we rename the columns for uniformity among the column names\n",
        "\n",
        "autolib_def.columns = ['postal_code', 'date', 'daily_data_points', 'day_of_week', 'day_type', 'total_bluecars_taken', \n",
        "                'total_bluecars_returned']\n",
        "autolib_def.head(1)"
      ],
      "execution_count": 57,
      "outputs": [
        {
          "output_type": "execute_result",
          "data": {
            "text/html": [
              "<div>\n",
              "<style scoped>\n",
              "    .dataframe tbody tr th:only-of-type {\n",
              "        vertical-align: middle;\n",
              "    }\n",
              "\n",
              "    .dataframe tbody tr th {\n",
              "        vertical-align: top;\n",
              "    }\n",
              "\n",
              "    .dataframe thead th {\n",
              "        text-align: right;\n",
              "    }\n",
              "</style>\n",
              "<table border=\"1\" class=\"dataframe\">\n",
              "  <thead>\n",
              "    <tr style=\"text-align: right;\">\n",
              "      <th></th>\n",
              "      <th>postal_code</th>\n",
              "      <th>date</th>\n",
              "      <th>daily_data_points</th>\n",
              "      <th>day_of_week</th>\n",
              "      <th>day_type</th>\n",
              "      <th>total_bluecars_taken</th>\n",
              "      <th>total_bluecars_returned</th>\n",
              "    </tr>\n",
              "  </thead>\n",
              "  <tbody>\n",
              "    <tr>\n",
              "      <th>0</th>\n",
              "      <td>75001</td>\n",
              "      <td>1/1/2018</td>\n",
              "      <td>1440</td>\n",
              "      <td>0</td>\n",
              "      <td>weekday</td>\n",
              "      <td>110</td>\n",
              "      <td>103</td>\n",
              "    </tr>\n",
              "  </tbody>\n",
              "</table>\n",
              "</div>"
            ],
            "text/plain": [
              "   postal_code      date  ...  total_bluecars_taken  total_bluecars_returned\n",
              "0        75001  1/1/2018  ...                   110                      103\n",
              "\n",
              "[1 rows x 7 columns]"
            ]
          },
          "metadata": {
            "tags": []
          },
          "execution_count": 57
        }
      ]
    },
    {
      "cell_type": "code",
      "metadata": {
        "id": "iLrxpEZOT4fo",
        "outputId": "a2493508-66aa-4097-8bc1-639d1ace233d",
        "colab": {
          "base_uri": "https://localhost:8080/",
          "height": 191
        }
      },
      "source": [
        "# Removing spaces and uppercases in the columns names\n",
        "autolib_def.columns = autolib_def.columns.str.lower().str.replace(\" \", \"\")\n",
        "autolib_def.head()"
      ],
      "execution_count": 58,
      "outputs": [
        {
          "output_type": "execute_result",
          "data": {
            "text/html": [
              "<div>\n",
              "<style scoped>\n",
              "    .dataframe tbody tr th:only-of-type {\n",
              "        vertical-align: middle;\n",
              "    }\n",
              "\n",
              "    .dataframe tbody tr th {\n",
              "        vertical-align: top;\n",
              "    }\n",
              "\n",
              "    .dataframe thead th {\n",
              "        text-align: right;\n",
              "    }\n",
              "</style>\n",
              "<table border=\"1\" class=\"dataframe\">\n",
              "  <thead>\n",
              "    <tr style=\"text-align: right;\">\n",
              "      <th></th>\n",
              "      <th>postal_code</th>\n",
              "      <th>date</th>\n",
              "      <th>daily_data_points</th>\n",
              "      <th>day_of_week</th>\n",
              "      <th>day_type</th>\n",
              "      <th>total_bluecars_taken</th>\n",
              "      <th>total_bluecars_returned</th>\n",
              "    </tr>\n",
              "  </thead>\n",
              "  <tbody>\n",
              "    <tr>\n",
              "      <th>0</th>\n",
              "      <td>75001</td>\n",
              "      <td>1/1/2018</td>\n",
              "      <td>1440</td>\n",
              "      <td>0</td>\n",
              "      <td>weekday</td>\n",
              "      <td>110</td>\n",
              "      <td>103</td>\n",
              "    </tr>\n",
              "    <tr>\n",
              "      <th>1</th>\n",
              "      <td>75001</td>\n",
              "      <td>1/2/2018</td>\n",
              "      <td>1438</td>\n",
              "      <td>1</td>\n",
              "      <td>weekday</td>\n",
              "      <td>98</td>\n",
              "      <td>94</td>\n",
              "    </tr>\n",
              "    <tr>\n",
              "      <th>2</th>\n",
              "      <td>75001</td>\n",
              "      <td>1/3/2018</td>\n",
              "      <td>1439</td>\n",
              "      <td>2</td>\n",
              "      <td>weekday</td>\n",
              "      <td>138</td>\n",
              "      <td>139</td>\n",
              "    </tr>\n",
              "    <tr>\n",
              "      <th>3</th>\n",
              "      <td>75001</td>\n",
              "      <td>1/4/2018</td>\n",
              "      <td>1320</td>\n",
              "      <td>3</td>\n",
              "      <td>weekday</td>\n",
              "      <td>104</td>\n",
              "      <td>104</td>\n",
              "    </tr>\n",
              "    <tr>\n",
              "      <th>4</th>\n",
              "      <td>75001</td>\n",
              "      <td>1/5/2018</td>\n",
              "      <td>1440</td>\n",
              "      <td>4</td>\n",
              "      <td>weekday</td>\n",
              "      <td>114</td>\n",
              "      <td>117</td>\n",
              "    </tr>\n",
              "  </tbody>\n",
              "</table>\n",
              "</div>"
            ],
            "text/plain": [
              "   postal_code      date  ...  total_bluecars_taken  total_bluecars_returned\n",
              "0        75001  1/1/2018  ...                   110                      103\n",
              "1        75001  1/2/2018  ...                    98                       94\n",
              "2        75001  1/3/2018  ...                   138                      139\n",
              "3        75001  1/4/2018  ...                   104                      104\n",
              "4        75001  1/5/2018  ...                   114                      117\n",
              "\n",
              "[5 rows x 7 columns]"
            ]
          },
          "metadata": {
            "tags": []
          },
          "execution_count": 58
        }
      ]
    },
    {
      "cell_type": "markdown",
      "metadata": {
        "id": "lIHnEQlOuuLh"
      },
      "source": [
        "## checking for Outliers"
      ]
    },
    {
      "cell_type": "code",
      "metadata": {
        "id": "lxikNfKDfzTq",
        "outputId": "ddad15c4-5f7a-4248-e586-3ac26c19f2ee",
        "colab": {
          "base_uri": "https://localhost:8080/",
          "height": 565
        }
      },
      "source": [
        "# Checking for outliers on the bluecars_returned_sum using boxplot\n",
        "\n",
        "plt.figure(dpi = 140)\n",
        "sns.boxplot(autolib_def['total_bluecars_taken'] , color = 'blue')\n",
        "plt.title(\"Number of bluecars taken\", color = 'Green')\n",
        "plt.show()"
      ],
      "execution_count": null,
      "outputs": [
        {
          "output_type": "display_data",
          "data": {
            "image/png": "[encoded data removed]",
            "text/plain": [
              "<Figure size 840x560 with 1 Axes>"
            ]
          },
          "metadata": {
            "tags": []
          }
        }
      ]
    },
    {
      "cell_type": "code",
      "metadata": {
        "id": "kQqhl9BN06AE",
        "outputId": "096ef9c3-1475-4a18-d39d-9b11b4d169de",
        "colab": {
          "base_uri": "https://localhost:8080/",
          "height": 565
        }
      },
      "source": [
        "# Checking for outliers on the bluecars_returned_sum using boxplot\n",
        "\n",
        "plt.figure(dpi = 140)\n",
        "sns.boxplot(autolib_def['total_bluecars_returned'] , color = 'red')\n",
        "plt.title(\"Number of bluecars returned\", color = 'Green')\n",
        "plt.show()"
      ],
      "execution_count": null,
      "outputs": [
        {
          "output_type": "display_data",
          "data": {
            "image/png": "[encoded data removed]",
            "text/plain": [
              "<Figure size 840x560 with 1 Axes>"
            ]
          },
          "metadata": {
            "tags": []
          }
        }
      ]
    },
    {
      "cell_type": "markdown",
      "metadata": {
        "id": "ajkESJfwgEGv"
      },
      "source": [
        ">* There are very many 'outliers' in the dataset for the number of blue cars taken and returned. However, there is no sufficient evidence that point to the likelihhod of these outliers being erroneous records. Since the outliers will definitely affect our observations, we will delete them.\n",
        ">*we will investigate them further before dropping them"
      ]
    },
    {
      "cell_type": "markdown",
      "metadata": {
        "id": "APKx33x9uyuV"
      },
      "source": [
        "## checking for  Anomalies"
      ]
    },
    {
      "cell_type": "markdown",
      "metadata": {
        "id": "mjgQfF1nqmIL"
      },
      "source": [
        "Interquartile Range (IQR) is important because it is used to define the outliers. It is the difference between the third quartile and the first quartile (IQR = Q3 -Q1). Outliers in this case are defined as the observations that are below (Q1 − 1.5x IQR) or boxplot lower whisker or above (Q3 + 1.5x IQR) or boxplot upper whisker."
      ]
    },
    {
      "cell_type": "code",
      "metadata": {
        "id": "5DMX0iuNfVB2",
        "outputId": "2dbfc66b-7a2e-41b3-93b8-65c6aec0bba9",
        "colab": {
          "base_uri": "https://localhost:8080/"
        }
      },
      "source": [
        "# Checking for Anomalies\n",
        "# 'blue cars taken' variable\n",
        "\n",
        "q1_taken = autolib_def['total_bluecars_taken'].quantile(.25)\n",
        "q3_taken = autolib_def['total_bluecars_taken'].quantile(.75)\n",
        "\n",
        "iqr_taken = q3_taken - q1_taken\n",
        "#checking for anomalies\n",
        "# 'blue cars returanned' variable\n",
        "q1_returned = autolib_def['total_bluecars_returned'].quantile(.25)\n",
        "q3_returned = autolib_def['total_bluecars_returned'].quantile(.75)\n",
        "\n",
        "iqr_returned = q3_returned - q1_returned\n",
        "\n",
        "#checking for anomalies\n",
        "# 'available data points' variable\n",
        "q1_points = autolib_def['daily_data_points'].quantile(.25)\n",
        "q3_points = autolib_def['daily_data_points'].quantile(.75)\n",
        "\n",
        "iqr_points = q3_points - q1_points\n",
        "\n",
        "print(iqr_taken, iqr_returned, iqr_points) "
      ],
      "execution_count": null,
      "outputs": [
        {
          "output_type": "stream",
          "text": [
            "115.0 115.0 1.0\n"
          ],
          "name": "stdout"
        }
      ]
    },
    {
      "cell_type": "markdown",
      "metadata": {
        "id": "4XVbGLanrGHu"
      },
      "source": [
        "> The IQR results show that the blue cars taken and blue cars returned have 115 records that are not within the middle 50%(Q2) of the records in those VARIABLES.\n",
        "\n",
        "> The daily data points have only 1 record that does not lie within the upper and lower bounds."
      ]
    },
    {
      "cell_type": "markdown",
      "metadata": {
        "id": "iJVqlQVRuT4b"
      },
      "source": [
        "## checking for missing Values"
      ]
    },
    {
      "cell_type": "code",
      "metadata": {
        "id": "erW5Qd4oTMeN",
        "outputId": "4904567b-6522-46cb-f4b9-7d2ae2a6efac",
        "colab": {
          "base_uri": "https://localhost:8080/"
        }
      },
      "source": [
        "#re-checking to confirm there are is zero null columns\n",
        "autolib_def.isnull().sum()"
      ],
      "execution_count": 22,
      "outputs": [
        {
          "output_type": "execute_result",
          "data": {
            "text/plain": [
              "postal_code                0\n",
              "date                       0\n",
              "daily_data_points          0\n",
              "day_of_week                0\n",
              "day_type                   0\n",
              "total_bluecars_taken       0\n",
              "total_bluecars_returned    0\n",
              "dtype: int64"
            ]
          },
          "metadata": {
            "tags": []
          },
          "execution_count": 22
        }
      ]
    },
    {
      "cell_type": "code",
      "metadata": {
        "id": "HfO6qrK5seMl",
        "outputId": "9031843b-9195-4b67-e5ba-2e1668b429e4",
        "colab": {
          "base_uri": "https://localhost:8080/"
        }
      },
      "source": [
        "#checking for not null columns\n",
        "autolib_def.notnull().sum()\n",
        "#shows our  dataset has no null values"
      ],
      "execution_count": 19,
      "outputs": [
        {
          "output_type": "execute_result",
          "data": {
            "text/plain": [
              "postal_code                16085\n",
              "date                       16085\n",
              "daily_data_points          16085\n",
              "day_of_week                16085\n",
              "day_type                   16085\n",
              "total_bluecars_taken       16085\n",
              "total_bluecars_returned    16085\n",
              "dtype: int64"
            ]
          },
          "metadata": {
            "tags": []
          },
          "execution_count": 19
        }
      ]
    },
    {
      "cell_type": "code",
      "metadata": {
        "id": "Z2D6z5RgookK",
        "outputId": "393eae1f-b2ae-4bd9-bbc8-9036fd865f85",
        "colab": {
          "base_uri": "https://localhost:8080/"
        }
      },
      "source": [
        "# re-Checking for the data types of each column specifically\n",
        "autolib_def.dtypes"
      ],
      "execution_count": 20,
      "outputs": [
        {
          "output_type": "execute_result",
          "data": {
            "text/plain": [
              "postal_code                 int64\n",
              "date                       object\n",
              "daily_data_points           int64\n",
              "day_of_week                 int64\n",
              "day_type                   object\n",
              "total_bluecars_taken        int64\n",
              "total_bluecars_returned     int64\n",
              "dtype: object"
            ]
          },
          "metadata": {
            "tags": []
          },
          "execution_count": 20
        }
      ]
    },
    {
      "cell_type": "code",
      "metadata": {
        "id": "eXCpB4FfTkI_",
        "outputId": "b8a29b64-97e1-4244-9385-cee8573155ea",
        "colab": {
          "base_uri": "https://localhost:8080/"
        }
      },
      "source": [
        "#check if there are duplicates\n",
        "autolib_def.duplicated().sum()\n",
        "#there are no duplicates in our dataset"
      ],
      "execution_count": 21,
      "outputs": [
        {
          "output_type": "execute_result",
          "data": {
            "text/plain": [
              "0"
            ]
          },
          "metadata": {
            "tags": []
          },
          "execution_count": 21
        }
      ]
    },
    {
      "cell_type": "code",
      "metadata": {
        "id": "eUAmPY2sUAz1",
        "outputId": "8661aa35-9b8c-4bed-9817-b0d78a514928",
        "colab": {
          "base_uri": "https://localhost:8080/"
        }
      },
      "source": [
        "#Getting to know more about the dataset by accessing its information\n",
        "\n",
        "autolib_def.info()"
      ],
      "execution_count": 23,
      "outputs": [
        {
          "output_type": "stream",
          "text": [
            "<class 'pandas.core.frame.DataFrame'>\n",
            "RangeIndex: 16085 entries, 0 to 16084\n",
            "Data columns (total 7 columns):\n",
            " #   Column                   Non-Null Count  Dtype \n",
            "---  ------                   --------------  ----- \n",
            " 0   postal_code              16085 non-null  int64 \n",
            " 1   date                     16085 non-null  object\n",
            " 2   daily_data_points        16085 non-null  int64 \n",
            " 3   day_of_week              16085 non-null  int64 \n",
            " 4   day_type                 16085 non-null  object\n",
            " 5   total_bluecars_taken     16085 non-null  int64 \n",
            " 6   total_bluecars_returned  16085 non-null  int64 \n",
            "dtypes: int64(5), object(2)\n",
            "memory usage: 879.8+ KB\n"
          ],
          "name": "stdout"
        }
      ]
    },
    {
      "cell_type": "markdown",
      "metadata": {
        "id": "S2uwGHy3zdnP"
      },
      "source": [
        "## Removing Outliers and saving clean dataset"
      ]
    },
    {
      "cell_type": "code",
      "metadata": {
        "id": "ZpCH5XtgzqZJ",
        "outputId": "c71a73d2-75a5-432e-e499-64becf700393",
        "colab": {
          "base_uri": "https://localhost:8080/"
        }
      },
      "source": [
        "# Removing the Outliers\n",
        "#we use the IQR to remove outliers like shown below\n",
        "Q3 = autolib_def.quantile(0.75)\n",
        "Q1 = autolib_def.quantile(0.25)\n",
        "\n",
        "IQR = Q3-Q1\n",
        "\n",
        "clean_data = autolib_def[~((autolib_def< (Q1 - 1.5 * IQR)) |(autolib_def > (Q3 + 1.5 * IQR))).any(axis=1)]\n",
        "print(clean_data.shape)"
      ],
      "execution_count": 59,
      "outputs": [
        {
          "output_type": "stream",
          "text": [
            "(10024, 7)\n"
          ],
          "name": "stdout"
        }
      ]
    },
    {
      "cell_type": "code",
      "metadata": {
        "id": "SVq7p3U-NQ8b"
      },
      "source": [
        "# Save the cleaned dataset\n",
        "clean_data.to_csv('./autolib_clean.csv')"
      ],
      "execution_count": 60,
      "outputs": []
    },
    {
      "cell_type": "markdown",
      "metadata": {
        "id": "Bap8Czt4sGt6"
      },
      "source": [
        "#Univariate Analysis"
      ]
    },
    {
      "cell_type": "markdown",
      "metadata": {
        "id": "CAzsu7b3tjGJ"
      },
      "source": [
        ">When performing the univariate analysis we will perform the actions below to try and undestand our dataset:\n",
        "\n",
        "*   Calculate measures of central tendecy\n",
        "*   Calculate the value spread in the data\n",
        "\n",
        "*   Calculate measures of shape\n",
        "*   Explore measures of concentration\n",
        "\n",
        "\n",
        "\n"
      ]
    },
    {
      "cell_type": "code",
      "metadata": {
        "id": "-dG4VrJhNvJH"
      },
      "source": [
        "#we will be using the data without outliers\n",
        "autolib_clean = pd.read_csv(\"./autolib_clean.csv\")"
      ],
      "execution_count": 61,
      "outputs": []
    },
    {
      "cell_type": "markdown",
      "metadata": {
        "id": "SWO8QwWdusF9"
      },
      "source": [
        "## Measures of central tendecy"
      ]
    },
    {
      "cell_type": "code",
      "metadata": {
        "id": "BIVkgAo5vCeR",
        "outputId": "c41f73ac-5b49-4738-a9b7-af6c2f268dd6",
        "colab": {
          "base_uri": "https://localhost:8080/"
        }
      },
      "source": [
        "# We can check the mean, mode and median of blue cars taken variable in our dataset\n",
        "\n",
        "mean_taken = autolib_clean['total_bluecars_taken'].mean()\n",
        "median_taken = autolib_clean['total_bluecars_taken'].median()\n",
        "mode_taken = autolib_clean['total_bluecars_taken'].mode()\n",
        "\n",
        "print(mean_taken, median_taken, mode_taken)"
      ],
      "execution_count": 15,
      "outputs": [
        {
          "output_type": "stream",
          "text": [
            "51.84357541899441 35.0 0    12\n",
            "dtype: int64\n"
          ],
          "name": "stdout"
        }
      ]
    },
    {
      "cell_type": "code",
      "metadata": {
        "id": "vt0e2LIuvIG_",
        "outputId": "c3ee4b73-2dfa-4e96-c25d-85fbbb73be33",
        "colab": {
          "base_uri": "https://localhost:8080/"
        }
      },
      "source": [
        "# We can check the mean, mode and median of blue cars returned in the dataset\n",
        "\n",
        "mean_returned = autolib_clean['total_bluecars_returned'].mean()\n",
        "median_returned = autolib_clean['total_bluecars_returned'].median()\n",
        "mode_returned = autolib_clean['total_bluecars_returned'].mode()\n",
        "\n",
        "print(mean_returned, median_returned, mode_returned)"
      ],
      "execution_count": null,
      "outputs": [
        {
          "output_type": "stream",
          "text": [
            "51.816141260973666 35.0 0    13\n",
            "dtype: int64\n"
          ],
          "name": "stdout"
        }
      ]
    },
    {
      "cell_type": "markdown",
      "metadata": {
        "id": "1JmLO6qYuxlq"
      },
      "source": [
        "## Value spread in the data"
      ]
    },
    {
      "cell_type": "code",
      "metadata": {
        "id": "kExQE_xCvhoa",
        "outputId": "eb63892c-c770-4b11-ae71-b8c4293da9af",
        "colab": {
          "base_uri": "https://localhost:8080/"
        }
      },
      "source": [
        "# Checking the various measures of dispersion for the number of blue cars taken variable\n",
        "# standard deviation, variance, range, skewness and kurtosis\n",
        "\n",
        "std1= autolib_clean['total_bluecars_taken'].std()\n",
        "var1= autolib_clean['total_bluecars_taken'].var()\n",
        "\n",
        "max1 = autolib_clean['total_bluecars_taken'].max()\n",
        "min1 = autolib_clean['total_bluecars_taken'].min()\n",
        "range1= max1 - min1\n",
        "\n",
        "skew1 = autolib_clean['total_bluecars_taken'].skew()\n",
        "kurt1 = autolib_clean['total_bluecars_taken'].kurt()\n",
        "\n",
        "print('Standard Deviation is ' + str(std1))\n",
        "print('Variance is ' + str(var1))\n",
        "print('Range is ' + str(range1))\n",
        "print('Skewness is ' + str(skew1))\n",
        "print('Kurtosis is ' + str(kurt1))"
      ],
      "execution_count": null,
      "outputs": [
        {
          "output_type": "stream",
          "text": [
            "Standard Deviation is 50.22468992265321\n",
            "Variance is 2522.519477826663\n",
            "Range is 302\n",
            "Skewness is 1.875107464585823\n",
            "Kurtosis is 4.173840111974478\n"
          ],
          "name": "stdout"
        }
      ]
    },
    {
      "cell_type": "code",
      "metadata": {
        "id": "LH272y4evihk",
        "outputId": "055f7a5b-7636-4868-8dc5-87cd9a010ac3",
        "colab": {
          "base_uri": "https://localhost:8080/"
        }
      },
      "source": [
        "# Checking the various measures of dispersion for the blue cars returned variable\n",
        "# standard deviation, variance, range, skewness and kurtosis\n",
        "std2= autolib_clean['total_bluecars_returned'].std()\n",
        "var2 = autolib_clean['total_bluecars_returned'].var()\n",
        "\n",
        "max2 = autolib_clean['total_bluecars_returned'].max()\n",
        "min2 = autolib_clean['total_bluecars_returned'].min()\n",
        "range2 = max2 - min2\n",
        "\n",
        "skew2= autolib_clean['total_bluecars_returned'].skew()\n",
        "kurt2 = autolib_clean['total_bluecars_returned'].kurt()\n",
        "\n",
        "print('Standard Deviation of the variable is ' + str(std1))\n",
        "print('Variance of the variable is ' + str(var2))\n",
        "print('Range of the variable is' + str(range2))\n",
        "print('Skewness of the variable is ' + str(skew2))\n",
        "print('Kurtosis of the variable is ' + str(kurt2))"
      ],
      "execution_count": null,
      "outputs": [
        {
          "output_type": "stream",
          "text": [
            "Standard Deviation of the variable is 50.22468992265321\n",
            "Variance of the variable is 2513.553841000062\n",
            "Range of the variable is306\n",
            "Skewness of the variable is 1.880169014990995\n",
            "Kurtosis of the variable is 4.184956269278061\n"
          ],
          "name": "stdout"
        }
      ]
    },
    {
      "cell_type": "code",
      "metadata": {
        "id": "2T1D7OzMB7_9",
        "outputId": "137c3fcd-910f-41fa-f94d-e5000e3f9b11",
        "colab": {
          "base_uri": "https://localhost:8080/"
        }
      },
      "source": [
        "# check for the value counts of  the day type i.e weekday or weekends variable\n",
        "#our weekdays has high value counts this will be essential in coming up with hypotheses\n",
        "autolib_clean.day_type.value_counts()"
      ],
      "execution_count": 25,
      "outputs": [
        {
          "output_type": "execute_result",
          "data": {
            "text/plain": [
              "weekday    6946\n",
              "weekend    3078\n",
              "Name: day_type, dtype: int64"
            ]
          },
          "metadata": {
            "tags": []
          },
          "execution_count": 25
        }
      ]
    },
    {
      "cell_type": "code",
      "metadata": {
        "id": "40707a4bCm-B",
        "outputId": "e5fcec41-c0b5-44f5-da1b-16ba949733a1",
        "colab": {
          "base_uri": "https://localhost:8080/"
        }
      },
      "source": [
        "# check for the value counts of  the postal code variable\n",
        "#with 0=monday and 6=sunday\n",
        "#when visualising we will change the numericals to strings\n",
        "autolib_clean.day_of_week.value_counts()"
      ],
      "execution_count": 26,
      "outputs": [
        {
          "output_type": "execute_result",
          "data": {
            "text/plain": [
              "6    1620\n",
              "0    1549\n",
              "1    1543\n",
              "5    1458\n",
              "2    1386\n",
              "4    1312\n",
              "3    1156\n",
              "Name: day_of_week, dtype: int64"
            ]
          },
          "metadata": {
            "tags": []
          },
          "execution_count": 26
        }
      ]
    },
    {
      "cell_type": "code",
      "metadata": {
        "id": "puxx3a5djHy_",
        "outputId": "5d74141b-39b1-43b7-f3a8-a2456e9bf266",
        "colab": {
          "base_uri": "https://localhost:8080/",
          "height": 191
        }
      },
      "source": [
        "#to be able to visualise the busiest day of the week we will change our variable from numerics\n",
        "#0-6 and put strings(mon,tue,etc)\n",
        "# Converting the day of week from from numericals to strings for plotting\n",
        "# we will be using the map code\n",
        "\n",
        "# Replacing day_of week code with actual names\n",
        "\n",
        "encode = {\"day_of_week\" : {0:\"mon\", 1:\"tue\", 2:\"wed\", 3:\"thur\",\n",
        "                           4:\"fri\", 5:\"sat\", 6:\"sun\"}} \n",
        "        \n",
        "#Confirming that our dataset day_type columns was successfully converted\n",
        "autolib_clean.replace(encode, inplace = True)\n",
        "autolib_clean.head()"
      ],
      "execution_count": 66,
      "outputs": [
        {
          "output_type": "execute_result",
          "data": {
            "text/html": [
              "<div>\n",
              "<style scoped>\n",
              "    .dataframe tbody tr th:only-of-type {\n",
              "        vertical-align: middle;\n",
              "    }\n",
              "\n",
              "    .dataframe tbody tr th {\n",
              "        vertical-align: top;\n",
              "    }\n",
              "\n",
              "    .dataframe thead th {\n",
              "        text-align: right;\n",
              "    }\n",
              "</style>\n",
              "<table border=\"1\" class=\"dataframe\">\n",
              "  <thead>\n",
              "    <tr style=\"text-align: right;\">\n",
              "      <th></th>\n",
              "      <th>Unnamed: 0</th>\n",
              "      <th>postal_code</th>\n",
              "      <th>date</th>\n",
              "      <th>daily_data_points</th>\n",
              "      <th>day_of_week</th>\n",
              "      <th>day_type</th>\n",
              "      <th>total_bluecars_taken</th>\n",
              "      <th>total_bluecars_returned</th>\n",
              "    </tr>\n",
              "  </thead>\n",
              "  <tbody>\n",
              "    <tr>\n",
              "      <th>0</th>\n",
              "      <td>3899</td>\n",
              "      <td>91330</td>\n",
              "      <td>1/1/2018</td>\n",
              "      <td>1440</td>\n",
              "      <td>mon</td>\n",
              "      <td>weekday</td>\n",
              "      <td>19</td>\n",
              "      <td>9</td>\n",
              "    </tr>\n",
              "    <tr>\n",
              "      <th>1</th>\n",
              "      <td>3900</td>\n",
              "      <td>91330</td>\n",
              "      <td>1/2/2018</td>\n",
              "      <td>1438</td>\n",
              "      <td>tue</td>\n",
              "      <td>weekday</td>\n",
              "      <td>10</td>\n",
              "      <td>10</td>\n",
              "    </tr>\n",
              "    <tr>\n",
              "      <th>2</th>\n",
              "      <td>3901</td>\n",
              "      <td>91330</td>\n",
              "      <td>1/3/2018</td>\n",
              "      <td>1439</td>\n",
              "      <td>wed</td>\n",
              "      <td>weekday</td>\n",
              "      <td>11</td>\n",
              "      <td>13</td>\n",
              "    </tr>\n",
              "    <tr>\n",
              "      <th>3</th>\n",
              "      <td>3903</td>\n",
              "      <td>91330</td>\n",
              "      <td>1/5/2018</td>\n",
              "      <td>1440</td>\n",
              "      <td>fri</td>\n",
              "      <td>weekday</td>\n",
              "      <td>10</td>\n",
              "      <td>6</td>\n",
              "    </tr>\n",
              "    <tr>\n",
              "      <th>4</th>\n",
              "      <td>3905</td>\n",
              "      <td>91330</td>\n",
              "      <td>1/7/2018</td>\n",
              "      <td>1440</td>\n",
              "      <td>sun</td>\n",
              "      <td>weekend</td>\n",
              "      <td>28</td>\n",
              "      <td>17</td>\n",
              "    </tr>\n",
              "  </tbody>\n",
              "</table>\n",
              "</div>"
            ],
            "text/plain": [
              "   Unnamed: 0  postal_code  ... total_bluecars_taken  total_bluecars_returned\n",
              "0        3899        91330  ...                   19                        9\n",
              "1        3900        91330  ...                   10                       10\n",
              "2        3901        91330  ...                   11                       13\n",
              "3        3903        91330  ...                   10                        6\n",
              "4        3905        91330  ...                   28                       17\n",
              "\n",
              "[5 rows x 8 columns]"
            ]
          },
          "metadata": {
            "tags": []
          },
          "execution_count": 66
        }
      ]
    },
    {
      "cell_type": "code",
      "metadata": {
        "id": "pGAWEXa0jPBI",
        "outputId": "680b4458-d811-4ab8-ff74-9cd99fe414d9",
        "colab": {
          "base_uri": "https://localhost:8080/",
          "height": 191
        }
      },
      "source": [
        "autolib_clean.tail()"
      ],
      "execution_count": 67,
      "outputs": [
        {
          "output_type": "execute_result",
          "data": {
            "text/html": [
              "<div>\n",
              "<style scoped>\n",
              "    .dataframe tbody tr th:only-of-type {\n",
              "        vertical-align: middle;\n",
              "    }\n",
              "\n",
              "    .dataframe tbody tr th {\n",
              "        vertical-align: top;\n",
              "    }\n",
              "\n",
              "    .dataframe thead th {\n",
              "        text-align: right;\n",
              "    }\n",
              "</style>\n",
              "<table border=\"1\" class=\"dataframe\">\n",
              "  <thead>\n",
              "    <tr style=\"text-align: right;\">\n",
              "      <th></th>\n",
              "      <th>Unnamed: 0</th>\n",
              "      <th>postal_code</th>\n",
              "      <th>date</th>\n",
              "      <th>daily_data_points</th>\n",
              "      <th>day_of_week</th>\n",
              "      <th>day_type</th>\n",
              "      <th>total_bluecars_taken</th>\n",
              "      <th>total_bluecars_returned</th>\n",
              "    </tr>\n",
              "  </thead>\n",
              "  <tbody>\n",
              "    <tr>\n",
              "      <th>10019</th>\n",
              "      <td>16079</td>\n",
              "      <td>95880</td>\n",
              "      <td>6/14/2018</td>\n",
              "      <td>1439</td>\n",
              "      <td>thur</td>\n",
              "      <td>weekday</td>\n",
              "      <td>15</td>\n",
              "      <td>13</td>\n",
              "    </tr>\n",
              "    <tr>\n",
              "      <th>10020</th>\n",
              "      <td>16080</td>\n",
              "      <td>95880</td>\n",
              "      <td>6/15/2018</td>\n",
              "      <td>1440</td>\n",
              "      <td>fri</td>\n",
              "      <td>weekday</td>\n",
              "      <td>15</td>\n",
              "      <td>10</td>\n",
              "    </tr>\n",
              "    <tr>\n",
              "      <th>10021</th>\n",
              "      <td>16081</td>\n",
              "      <td>95880</td>\n",
              "      <td>6/16/2018</td>\n",
              "      <td>1440</td>\n",
              "      <td>sat</td>\n",
              "      <td>weekend</td>\n",
              "      <td>19</td>\n",
              "      <td>19</td>\n",
              "    </tr>\n",
              "    <tr>\n",
              "      <th>10022</th>\n",
              "      <td>16082</td>\n",
              "      <td>95880</td>\n",
              "      <td>6/17/2018</td>\n",
              "      <td>1440</td>\n",
              "      <td>sun</td>\n",
              "      <td>weekend</td>\n",
              "      <td>33</td>\n",
              "      <td>35</td>\n",
              "    </tr>\n",
              "    <tr>\n",
              "      <th>10023</th>\n",
              "      <td>16083</td>\n",
              "      <td>95880</td>\n",
              "      <td>6/18/2018</td>\n",
              "      <td>1440</td>\n",
              "      <td>mon</td>\n",
              "      <td>weekday</td>\n",
              "      <td>11</td>\n",
              "      <td>14</td>\n",
              "    </tr>\n",
              "  </tbody>\n",
              "</table>\n",
              "</div>"
            ],
            "text/plain": [
              "       Unnamed: 0  postal_code  ... total_bluecars_taken  total_bluecars_returned\n",
              "10019       16079        95880  ...                   15                       13\n",
              "10020       16080        95880  ...                   15                       10\n",
              "10021       16081        95880  ...                   19                       19\n",
              "10022       16082        95880  ...                   33                       35\n",
              "10023       16083        95880  ...                   11                       14\n",
              "\n",
              "[5 rows x 8 columns]"
            ]
          },
          "metadata": {
            "tags": []
          },
          "execution_count": 67
        }
      ]
    },
    {
      "cell_type": "markdown",
      "metadata": {
        "id": "txbvyta4tOKP"
      },
      "source": [
        "* Here we first use of value_counts() we call on the postal code column that returns us the count of occurences of each of the unique values in this column.\n",
        "* Then we do the same operation, but this time sort our outputted values in the postal code column, so that values that start with the code that appear least times to the highest.This is considered as ascending order.\n",
        "* We also wanted to know what percentage of the whole is for each value that appears in the column.  So, what percentage of postal code thats the least 92100.The calculation is 0.000998 x 100 =0.0998 %.\n",
        "for the highest which is postal code /94130/94500/94700\n",
        "The calculation\n",
        " 0.012969x100=1.2969 %\n",
        "* To calculate this in pandas with the value_counts() method, set the argument normalize to True."
      ]
    },
    {
      "cell_type": "code",
      "metadata": {
        "id": "NpVVkjz2nm0a",
        "outputId": "d2bf1f13-56fe-4193-bdf9-1541c55bdf92",
        "colab": {
          "base_uri": "https://localhost:8080/"
        }
      },
      "source": [
        "autolib_clean['postal_code'].value_counts(ascending=True)"
      ],
      "execution_count": 80,
      "outputs": [
        {
          "output_type": "execute_result",
          "data": {
            "text/plain": [
              "92100     10\n",
              "93390     72\n",
              "93200    103\n",
              "92130    111\n",
              "92340    122\n",
              "        ... \n",
              "95100    130\n",
              "94700    130\n",
              "94500    130\n",
              "94300    130\n",
              "94130    130\n",
              "Name: postal_code, Length: 79, dtype: int64"
            ]
          },
          "metadata": {
            "tags": []
          },
          "execution_count": 80
        }
      ]
    },
    {
      "cell_type": "code",
      "metadata": {
        "id": "Ygso3WZ2pQMf",
        "outputId": "c5d293fe-40db-4ec2-9643-abd62862d6e8",
        "colab": {
          "base_uri": "https://localhost:8080/"
        }
      },
      "source": [
        "autolib_clean['postal_code'].value_counts(normalize=True,ascending=True)"
      ],
      "execution_count": 82,
      "outputs": [
        {
          "output_type": "execute_result",
          "data": {
            "text/plain": [
              "92100    0.000998\n",
              "93390    0.007183\n",
              "93200    0.010275\n",
              "92130    0.011073\n",
              "92340    0.012171\n",
              "           ...   \n",
              "95100    0.012969\n",
              "94700    0.012969\n",
              "94500    0.012969\n",
              "94300    0.012969\n",
              "94130    0.012969\n",
              "Name: postal_code, Length: 79, dtype: float64"
            ]
          },
          "metadata": {
            "tags": []
          },
          "execution_count": 82
        }
      ]
    },
    {
      "cell_type": "code",
      "metadata": {
        "id": "U7RtffS6p5yL",
        "outputId": "ec4d0e08-25c7-45e3-812c-13f0ac18d8ad",
        "colab": {
          "base_uri": "https://localhost:8080/"
        }
      },
      "source": [
        "autolib_clean['postal_code'].value_counts(bins=10)"
      ],
      "execution_count": 83,
      "outputs": [
        {
          "output_type": "execute_result",
          "data": {
            "text/plain": [
              "(92240.0, 92695.0]      2461\n",
              "(94060.0, 94515.0]      1820\n",
              "(91785.0, 92240.0]      1809\n",
              "(93150.0, 93605.0]      1727\n",
              "(92695.0, 93150.0]       777\n",
              "(93605.0, 94060.0]       390\n",
              "(91325.449, 91785.0]     390\n",
              "(95425.0, 95880.0]       260\n",
              "(94515.0, 94970.0]       260\n",
              "(94970.0, 95425.0]       130\n",
              "Name: postal_code, dtype: int64"
            ]
          },
          "metadata": {
            "tags": []
          },
          "execution_count": 83
        }
      ]
    },
    {
      "cell_type": "markdown",
      "metadata": {
        "id": "qhVCAwA0u2pM"
      },
      "source": [
        "##  Measures of shape"
      ]
    },
    {
      "cell_type": "code",
      "metadata": {
        "id": "wpoJjp348XwZ",
        "outputId": "e8dd42d5-1cbb-4418-f211-b311af10336f",
        "colab": {
          "base_uri": "https://localhost:8080/",
          "height": 297
        }
      },
      "source": [
        "# Histogram of the bluecars_taken sum\n",
        "\n",
        "sns.distplot(autolib_clean.total_bluecars_taken, kde = True)\n"
      ],
      "execution_count": 17,
      "outputs": [
        {
          "output_type": "execute_result",
          "data": {
            "text/plain": [
              "<matplotlib.axes._subplots.AxesSubplot at 0x7fcd3210fc18>"
            ]
          },
          "metadata": {
            "tags": []
          },
          "execution_count": 17
        },
        {
          "output_type": "display_data",
          "data": {
            "image/png": "[encoded data removed]",
            "text/plain": [
              "<Figure size 432x288 with 1 Axes>"
            ]
          },
          "metadata": {
            "tags": [],
            "needs_background": "light"
          }
        }
      ]
    },
    {
      "cell_type": "code",
      "metadata": {
        "id": "eqKj53f6sTEb",
        "outputId": "8529a5e0-440c-4595-ec48-5b9563456a2f",
        "colab": {
          "base_uri": "https://localhost:8080/",
          "height": 297
        }
      },
      "source": [
        " # plotting a  sns histogram of the bluecars_taken sum\n",
        "\n",
        "sns.distplot(autolib_clean.total_bluecars_returned, kde = True)\n"
      ],
      "execution_count": 18,
      "outputs": [
        {
          "output_type": "execute_result",
          "data": {
            "text/plain": [
              "<matplotlib.axes._subplots.AxesSubplot at 0x7fcd2f76b6d8>"
            ]
          },
          "metadata": {
            "tags": []
          },
          "execution_count": 18
        },
        {
          "output_type": "display_data",
          "data": {
            "image/png": "[encoded data removed]",
            "text/plain": [
              "<Figure size 432x288 with 1 Axes>"
            ]
          },
          "metadata": {
            "tags": [],
            "needs_background": "light"
          }
        }
      ]
    },
    {
      "cell_type": "markdown",
      "metadata": {
        "id": "5dWFsRHj9AJI"
      },
      "source": [
        "* The normal distribution is a bell-shaped, symmetrical distribution in which the mean, median and mode are all equal. If the mean, median and mode are unequal, the distribution will be either positively or negatively skewed. Consider the CALCULATIONS ABOVE.\n",
        "\n",
        "* In our case our variables have a right-tailed skewed distribution,because the tail is long to the right side.\n",
        "\n"
      ]
    },
    {
      "cell_type": "code",
      "metadata": {
        "id": "rM0HAj30l55R",
        "outputId": "6c37bb2e-8d8e-457d-cd32-eb66d3d61d76",
        "colab": {
          "base_uri": "https://localhost:8080/",
          "height": 872
        }
      },
      "source": [
        "#getting the most frequent day to appear\n",
        "day = autolib_clean.day_of_week.value_counts()\n",
        "day\n",
        "value_count=day.index\n",
        "plt.figure(figsize = (7,7), dpi = 140)\n",
        "plt.bar(value_count,day, color = 'purple')\n",
        "plt.ylabel(\"value-count\")\n",
        "plt.xlabel('days of week')\n",
        "plt.title(\" Day of week frequencies\", color = 'black')\n",
        "plt.show()"
      ],
      "execution_count": 74,
      "outputs": [
        {
          "output_type": "display_data",
          "data": {
            "image/png": "[encoded data removed]",
            "text/plain": [
              "<Figure size 980x980 with 1 Axes>"
            ]
          },
          "metadata": {
            "tags": [],
            "needs_background": "light"
          }
        }
      ]
    },
    {
      "cell_type": "code",
      "metadata": {
        "id": "HSZNKP__raFu",
        "outputId": "57a882b0-bfeb-4445-e473-ec03386ed6d0",
        "colab": {
          "base_uri": "https://localhost:8080/",
          "height": 281
        }
      },
      "source": [
        "autolib_clean['postal_code'].value_counts()[:10].plot(kind='barh')"
      ],
      "execution_count": 87,
      "outputs": [
        {
          "output_type": "execute_result",
          "data": {
            "text/plain": [
              "<matplotlib.axes._subplots.AxesSubplot at 0x7fcd26d01ba8>"
            ]
          },
          "metadata": {
            "tags": []
          },
          "execution_count": 87
        },
        {
          "output_type": "display_data",
          "data": {
            "image/png": "[encoded data removed]",
            "text/plain": [
              "<Figure size 432x288 with 1 Axes>"
            ]
          },
          "metadata": {
            "tags": [],
            "needs_background": "light"
          }
        }
      ]
    },
    {
      "cell_type": "markdown",
      "metadata": {
        "id": "INkIFWjBvWAZ"
      },
      "source": [
        "As confirmed in the value spread the postal codes from our cleaned data almost have the same value.This will help in coming up with the hypotheses"
      ]
    },
    {
      "cell_type": "markdown",
      "metadata": {
        "id": "Zi6fFUQMgLOW"
      },
      "source": [
        "# Bivariate Analysis"
      ]
    },
    {
      "cell_type": "markdown",
      "metadata": {
        "id": "OHMGGgeTMLVF"
      },
      "source": [
        ">The most important graphical summary of bivariate data is the\n",
        "scatterplot. This is simply a plot of the points (Xi\n",
        ", Yi) in the plane.\n",
        ">The following figures show scatterplots of blue cars taken \n",
        "against blue cars returned"
      ]
    },
    {
      "cell_type": "code",
      "metadata": {
        "id": "cumlknCrMxHs",
        "outputId": "ce4c84f8-6005-4c33-8bac-f2884b567ee5",
        "colab": {
          "base_uri": "https://localhost:8080/",
          "height": 556
        }
      },
      "source": [
        "# Using Matplotlib: Plotting our scatterplot to compare two numerical the variables\n",
        "plt.figure(dpi = 140)\n",
        "plt.scatter(autolib_clean['total_bluecars_taken'], autolib_clean['total_bluecars_returned'], color = 'purple')\n",
        "plt.title('A scatter plot of Bluecars returned vs Bluecars taken', color = 'black')\n",
        "plt.xlabel('total bluecars taken')\n",
        "plt.ylabel('total bluecars returned')\n",
        "plt.show()\n"
      ],
      "execution_count": 48,
      "outputs": [
        {
          "output_type": "display_data",
          "data": {
            "image/png": "[encoded data removed]",
            "text/plain": [
              "<Figure size 840x560 with 1 Axes>"
            ]
          },
          "metadata": {
            "tags": [],
            "needs_background": "light"
          }
        }
      ]
    },
    {
      "cell_type": "markdown",
      "metadata": {
        "id": "MtSXG5YuOSpw"
      },
      "source": [
        "A key feature in a scatterplot is the association, or correalation between\n",
        "blue cars returned and blue cars taken.\n",
        "The total sum of the blue cars taken and blue cars returned have a positive corelation so these two variables have a positive association.\n",
        "We cannot draw causal implications from  the above statements about associations, unless your we do a randomized experiment\n",
        "In general, if blue car taken and blue car returned have an association, then\n",
        "* blue cars returned could cause blue cars taken to change\n",
        "* blue cars taken could cause blue cars returned to change\n",
        "* a third unmeasured (perhaps postal codes) variable could cause both blue cars returned and blue cars taken to change.\n",
        "*  The correlation with the postal code can be ignored here since the postal code has a qualitative characteristic even though it has a numeric data type.\n",
        "* nb:Unless your data come from a randomized experiment, statistical analysis alone is not capable of answering questions about project.\n",
        "* we go ahead and see the highest days of the week that blue cars are returned and taken"
      ]
    },
    {
      "cell_type": "code",
      "metadata": {
        "id": "oVPAVIkthBoD",
        "outputId": "16db505b-7cb9-4574-a2df-e2a51b8d931a",
        "colab": {
          "base_uri": "https://localhost:8080/",
          "height": 362
        }
      },
      "source": [
        "#Bar chart showing total number of blue cars picked up by day of week\n",
        "#\n",
        "autolib_clean.groupby('day_of_week')['total_bluecars_taken'].sum().plot(kind='bar', figsize=(10,5))\n",
        "plt.xlabel(\"Day\")\n",
        "plt.xticks(rotation=45)\n",
        "plt.ylabel(\"total blue Cars taken\")\n",
        "plt.title(\"blue car take up levels By Days of Week\")\n",
        "plt.show()"
      ],
      "execution_count": 64,
      "outputs": [
        {
          "output_type": "display_data",
          "data": {
            "image/png": "[encoded data removed]",
            "text/plain": [
              "<Figure size 720x360 with 1 Axes>"
            ]
          },
          "metadata": {
            "tags": [],
            "needs_background": "light"
          }
        }
      ]
    },
    {
      "cell_type": "code",
      "metadata": {
        "id": "EwMOrrvih1Fd",
        "outputId": "01d7ec46-2d28-4990-ba67-d15f06ad1c7a",
        "colab": {
          "base_uri": "https://localhost:8080/",
          "height": 362
        }
      },
      "source": [
        "#Bar chart showing total number of blue cars picked up by day of week\n",
        "#\n",
        "autolib_clean.groupby('day_of_week')['total_bluecars_returned'].sum().plot(kind='bar', figsize=(10,5))\n",
        "plt.xlabel(\"Day\")\n",
        "plt.xticks(rotation=45)\n",
        "plt.ylabel(\"total blue Cars returned\")\n",
        "plt.title(\"blue car return levels By Days of Week\")\n",
        "plt.show()"
      ],
      "execution_count": 65,
      "outputs": [
        {
          "output_type": "display_data",
          "data": {
            "image/png": "[encoded data removed]",
            "text/plain": [
              "<Figure size 720x360 with 1 Axes>"
            ]
          },
          "metadata": {
            "tags": [],
            "needs_background": "light"
          }
        }
      ]
    },
    {
      "cell_type": "markdown",
      "metadata": {
        "id": "nxUCxJXaiJao"
      },
      "source": [
        "* For both variables the highest pick up and return days are the weekends.That is Saturday and Sunday\n",
        "* We can go ahead and sample now"
      ]
    },
    {
      "cell_type": "markdown",
      "metadata": {
        "id": "tJa3__BHw18r"
      },
      "source": [
        "# Stating the Hypotheses"
      ]
    },
    {
      "cell_type": "markdown",
      "metadata": {
        "id": "h6-2E4_5w7ie"
      },
      "source": [
        "Hypothesis Checklist\n",
        "* Does your hypothesis focus on something that we can actually test?\n",
        "* Does your hypothesis have both an independent and dependent variable?\n",
        "* Can we manipulate the variables?\n",
        "* Can your hypothesis be tested without violating ethical standards?"
      ]
    },
    {
      "cell_type": "markdown",
      "metadata": {
        "id": "UhGmLlxg9ybL"
      },
      "source": [
        "Hypotheses propose a relationship between two or more variables. An independent variable is something the researcher changes or controls(postal codes/areas). A dependent variable is something the researcher observes and measures.(day and day_type)"
      ]
    },
    {
      "cell_type": "markdown",
      "metadata": {
        "id": "LZL9qEMhBViR"
      },
      "source": [
        "\n",
        "* our original dataset has all these departments from 75-95..so our autolib dataset is  from The region Ile-de-France ,which contains The capital city Paris\n",
        "* cities neighbouring Paris(code 75) are 92(Hauts-de-Seine),93(Seine-St-Denis ) & 94(Val-de-Marne )& (91 & 95) represent (Essonne) and (Val-D'Oise) respectively\n",
        "* After cleaning our dataset we remained with postal codes from(91-95)\n",
        "* Where as we saw earlier are all areas surronding the capital city Paris.\n",
        "* This makes it easy to form our hypotheses"
      ]
    },
    {
      "cell_type": "code",
      "metadata": {
        "id": "1uFRgg5LxVph",
        "outputId": "c110e68f-8599-4523-bb60-9cef0df71a69",
        "colab": {
          "base_uri": "https://localhost:8080/"
        }
      },
      "source": [
        "#Checking all unique postal codes in the cleaned  dataset\n",
        "\n",
        "autolib_clean['postal_code'].unique()"
      ],
      "execution_count": 91,
      "outputs": [
        {
          "output_type": "execute_result",
          "data": {
            "text/plain": [
              "array([91330, 91370, 91400, 92000, 92100, 92110, 92120, 92130, 92140,\n",
              "       92150, 92160, 92170, 92190, 92200, 92210, 92220, 92230, 92240,\n",
              "       92250, 92260, 92270, 92290, 92300, 92310, 92320, 92330, 92340,\n",
              "       92350, 92360, 92370, 92380, 92390, 92400, 92410, 92420, 92500,\n",
              "       92600, 92700, 92800, 93100, 93110, 93130, 93150, 93170, 93200,\n",
              "       93230, 93260, 93300, 93310, 93350, 93360, 93370, 93390, 93400,\n",
              "       93440, 93500, 93600, 93700, 93800, 94000, 94100, 94110, 94120,\n",
              "       94130, 94140, 94150, 94160, 94220, 94230, 94300, 94340, 94410,\n",
              "       94450, 94500, 94700, 94800, 95100, 95870, 95880])"
            ]
          },
          "metadata": {
            "tags": []
          },
          "execution_count": 91
        }
      ]
    },
    {
      "cell_type": "markdown",
      "metadata": {
        "id": "2Dax8t1XGwvR"
      },
      "source": [
        "> Null Hypothesis: Motorists who use Autolibs'Blue Car during the weekend are from Hauts-de-Seine\n",
        "\n",
        ">> Ho : μ1 = μ2\n",
        "\n",
        "> Alternative Hypothesis: Motorists who use Autolibs'Blue Car during the weekend not from Hauts-de-Seine.\n",
        "\n",
        ">> Ha : μ1 ≠ μ2 "
      ]
    },
    {
      "cell_type": "markdown",
      "metadata": {
        "id": "8ZoeC9clRkHp"
      },
      "source": [
        "#Sampling Techniques"
      ]
    },
    {
      "cell_type": "markdown",
      "metadata": {
        "id": "ZHbr0B-jRu_I"
      },
      "source": [
        "We will definitely use a probability sampling technique since we want a true representation of the population.\n",
        "Probability sampling techniques include:\n",
        "* random sampling\n",
        "* systematic sampling\n",
        "* stratified sampling.\n",
        ">Each one has its pros and cons and we will eliminate the ones we wont use depending on type of dataset we have."
      ]
    },
    {
      "cell_type": "markdown",
      "metadata": {
        "id": "OWK9CJDQZPXK"
      },
      "source": [
        "## random sampling\n",
        "* >**When**: There is a very large population and it is difficult to identify every member of the population.\n",
        "* >**How**: The entire process of sampling is done in a single step with each subject selected independently of the other members of the population.\n",
        "* >**Pros**: In this technique, each member of the population has an equal chance of being selected as subject.\n",
        "* >**Cons**: When there are very large populations, it is often difficult to identify every member of the population and the pool of subjects becomes biased.A sample created by doing so might leave out many sections of the population that are significant to the study.\n",
        "* >**our case**:We want to study and understand the blue cars pick up and return rate  pattern across Hauts-de-Seine.During the weekends? While it might not be possible to interview every user, we should draw meaningful insights by building our sample from different cities for comparison.(depending on the hypotheses).So simple random technique is not suitable."
      ]
    },
    {
      "cell_type": "markdown",
      "metadata": {
        "id": "XCjNzVLBZTnD"
      },
      "source": [
        "## systematic sampling"
      ]
    },
    {
      "cell_type": "markdown",
      "metadata": {
        "id": "_pe9x3S9cFcn"
      },
      "source": [
        "* >**When**: Your population is homogenous.\n",
        "* > **How**:after you decide the sample size, arrange the elements of the population in some order and select terms at regular intervals from the list.\n",
        "* >**Pros**: advantage of systematic random sampling over simple random sampling is the assurance that the population will be evenly sampled..\n",
        "* >**Cons**: The possible weakness of the method that may compromise the randomness of the sample\n",
        "* >**our Case**:Our dataset is not homogenous and that immediately diqualifies this technique.\n",
        "\n"
      ]
    },
    {
      "cell_type": "markdown",
      "metadata": {
        "id": "8N_1T2rDZX7B"
      },
      "source": [
        "## stratified sampling\n",
        "* >**When**: You can divide your population into characteristics of importance for the research.\n",
        "* >**How**: it tries to recreate the statistical features of the population on a smaller scale. Before sampling, the population is divided into characteristics of importance for the research —for example, by gender, social class,etc. Then the population is randomly sampled within each category or stratum.\n",
        "* >**Pros**:It attempts to overcome the shortcomings of random sampling by splitting the population into various distinct segments.nsures that every category of the population is represented in the sample.\n",
        "* >**Cons**: Stratified sampling is the most complex method of sampling\n",
        "* >**our case**:the population is diverse and from different locations(cities) this  is  best method.We will create our own staratas(cities) from our cleaned dataset then we will create sample from each city in The region Ile-de-France.And compare them with our target city Hauts-de-Seine.the Hauts-de-Seine sample is randomly selected from the Ile-de-France subset of the population.(there are other cities with same characterisitcs value_count)"
      ]
    },
    {
      "cell_type": "code",
      "metadata": {
        "id": "CNKDGiqDNZx5",
        "outputId": "631dd90d-09cf-4178-daa3-eba81527fa6a",
        "colab": {
          "base_uri": "https://localhost:8080/",
          "height": 197
        }
      },
      "source": [
        "# Coding all postal codes with the city they represent\n",
        "\n",
        "# create a list of our postal codes into bins(ranges)of our clenaed data\n",
        "codes = [\n",
        "    (autolib_clean['postal_code'] >= 91000) & (autolib_clean['postal_code'] <= 91999),\n",
        "    (autolib_clean['postal_code'] >= 92000) & (autolib_clean['postal_code'] <= 92999),\n",
        "    (autolib_clean['postal_code'] >= 93000) & (autolib_clean['postal_code'] <= 93999),\n",
        "    (autolib_clean['postal_code'] >= 94000) & (autolib_clean['postal_code'] <= 94999),\n",
        "    (autolib_clean['postal_code'] >= 95000) & (autolib_clean['postal_code'] <= 95999),\n",
        "    ]\n",
        "# create a list of the values we want to assign for each condition\n",
        "cities = [ 'Essonne', 'Hauts-de-Seine', 'Seine-Saint_Denis', 'Val-de-Marne', 'Val-dOise']\n",
        "\n",
        "# create a new column and use np.select  argument to assign values to it using our cities\n",
        "autolib_clean['city'] = np.select(codes,cities)\n",
        "\n",
        "# display updated DataFrame\n",
        "autolib_clean.head()"
      ],
      "execution_count": 92,
      "outputs": [
        {
          "output_type": "execute_result",
          "data": {
            "text/html": [
              "<div>\n",
              "<style scoped>\n",
              "    .dataframe tbody tr th:only-of-type {\n",
              "        vertical-align: middle;\n",
              "    }\n",
              "\n",
              "    .dataframe tbody tr th {\n",
              "        vertical-align: top;\n",
              "    }\n",
              "\n",
              "    .dataframe thead th {\n",
              "        text-align: right;\n",
              "    }\n",
              "</style>\n",
              "<table border=\"1\" class=\"dataframe\">\n",
              "  <thead>\n",
              "    <tr style=\"text-align: right;\">\n",
              "      <th></th>\n",
              "      <th>Unnamed: 0</th>\n",
              "      <th>postal_code</th>\n",
              "      <th>date</th>\n",
              "      <th>daily_data_points</th>\n",
              "      <th>day_of_week</th>\n",
              "      <th>day_type</th>\n",
              "      <th>total_bluecars_taken</th>\n",
              "      <th>total_bluecars_returned</th>\n",
              "      <th>city</th>\n",
              "    </tr>\n",
              "  </thead>\n",
              "  <tbody>\n",
              "    <tr>\n",
              "      <th>0</th>\n",
              "      <td>3899</td>\n",
              "      <td>91330</td>\n",
              "      <td>1/1/2018</td>\n",
              "      <td>1440</td>\n",
              "      <td>mon</td>\n",
              "      <td>weekday</td>\n",
              "      <td>19</td>\n",
              "      <td>9</td>\n",
              "      <td>Essonne</td>\n",
              "    </tr>\n",
              "    <tr>\n",
              "      <th>1</th>\n",
              "      <td>3900</td>\n",
              "      <td>91330</td>\n",
              "      <td>1/2/2018</td>\n",
              "      <td>1438</td>\n",
              "      <td>tue</td>\n",
              "      <td>weekday</td>\n",
              "      <td>10</td>\n",
              "      <td>10</td>\n",
              "      <td>Essonne</td>\n",
              "    </tr>\n",
              "    <tr>\n",
              "      <th>2</th>\n",
              "      <td>3901</td>\n",
              "      <td>91330</td>\n",
              "      <td>1/3/2018</td>\n",
              "      <td>1439</td>\n",
              "      <td>wed</td>\n",
              "      <td>weekday</td>\n",
              "      <td>11</td>\n",
              "      <td>13</td>\n",
              "      <td>Essonne</td>\n",
              "    </tr>\n",
              "    <tr>\n",
              "      <th>3</th>\n",
              "      <td>3903</td>\n",
              "      <td>91330</td>\n",
              "      <td>1/5/2018</td>\n",
              "      <td>1440</td>\n",
              "      <td>fri</td>\n",
              "      <td>weekday</td>\n",
              "      <td>10</td>\n",
              "      <td>6</td>\n",
              "      <td>Essonne</td>\n",
              "    </tr>\n",
              "    <tr>\n",
              "      <th>4</th>\n",
              "      <td>3905</td>\n",
              "      <td>91330</td>\n",
              "      <td>1/7/2018</td>\n",
              "      <td>1440</td>\n",
              "      <td>sun</td>\n",
              "      <td>weekend</td>\n",
              "      <td>28</td>\n",
              "      <td>17</td>\n",
              "      <td>Essonne</td>\n",
              "    </tr>\n",
              "  </tbody>\n",
              "</table>\n",
              "</div>"
            ],
            "text/plain": [
              "   Unnamed: 0  postal_code  ... total_bluecars_returned     city\n",
              "0        3899        91330  ...                       9  Essonne\n",
              "1        3900        91330  ...                      10  Essonne\n",
              "2        3901        91330  ...                      13  Essonne\n",
              "3        3903        91330  ...                       6  Essonne\n",
              "4        3905        91330  ...                      17  Essonne\n",
              "\n",
              "[5 rows x 9 columns]"
            ]
          },
          "metadata": {
            "tags": []
          },
          "execution_count": 92
        }
      ]
    },
    {
      "cell_type": "markdown",
      "metadata": {
        "id": "E6eCiW41ja3E"
      },
      "source": [
        "### starata 1"
      ]
    },
    {
      "cell_type": "code",
      "metadata": {
        "id": "tvP-8u0kN05R",
        "outputId": "088b3d2e-a28f-4e29-a25a-95c65aed5d4d",
        "colab": {
          "base_uri": "https://localhost:8080/",
          "height": 406
        }
      },
      "source": [
        "# Creating a new dataframe with only Hauts-de-Seine\n",
        "# and only weekend records which is the target records\n",
        "\n",
        "final_haut = autolib_clean.loc[autolib_clean['city'].isin(['Hauts-de-Seine']) & autolib_clean['day_type'].isin(['weekend'])]\n",
        "final_haut"
      ],
      "execution_count": 94,
      "outputs": [
        {
          "output_type": "execute_result",
          "data": {
            "text/html": [
              "<div>\n",
              "<style scoped>\n",
              "    .dataframe tbody tr th:only-of-type {\n",
              "        vertical-align: middle;\n",
              "    }\n",
              "\n",
              "    .dataframe tbody tr th {\n",
              "        vertical-align: top;\n",
              "    }\n",
              "\n",
              "    .dataframe thead th {\n",
              "        text-align: right;\n",
              "    }\n",
              "</style>\n",
              "<table border=\"1\" class=\"dataframe\">\n",
              "  <thead>\n",
              "    <tr style=\"text-align: right;\">\n",
              "      <th></th>\n",
              "      <th>Unnamed: 0</th>\n",
              "      <th>postal_code</th>\n",
              "      <th>date</th>\n",
              "      <th>daily_data_points</th>\n",
              "      <th>day_of_week</th>\n",
              "      <th>day_type</th>\n",
              "      <th>total_bluecars_taken</th>\n",
              "      <th>total_bluecars_returned</th>\n",
              "      <th>city</th>\n",
              "    </tr>\n",
              "  </thead>\n",
              "  <tbody>\n",
              "    <tr>\n",
              "      <th>394</th>\n",
              "      <td>4372</td>\n",
              "      <td>92000</td>\n",
              "      <td>1/7/2018</td>\n",
              "      <td>1440</td>\n",
              "      <td>sun</td>\n",
              "      <td>weekend</td>\n",
              "      <td>166</td>\n",
              "      <td>167</td>\n",
              "      <td>Hauts-de-Seine</td>\n",
              "    </tr>\n",
              "    <tr>\n",
              "      <th>400</th>\n",
              "      <td>4378</td>\n",
              "      <td>92000</td>\n",
              "      <td>1/13/2018</td>\n",
              "      <td>1440</td>\n",
              "      <td>sat</td>\n",
              "      <td>weekend</td>\n",
              "      <td>200</td>\n",
              "      <td>184</td>\n",
              "      <td>Hauts-de-Seine</td>\n",
              "    </tr>\n",
              "    <tr>\n",
              "      <th>401</th>\n",
              "      <td>4379</td>\n",
              "      <td>92000</td>\n",
              "      <td>1/14/2018</td>\n",
              "      <td>1440</td>\n",
              "      <td>sun</td>\n",
              "      <td>weekend</td>\n",
              "      <td>145</td>\n",
              "      <td>160</td>\n",
              "      <td>Hauts-de-Seine</td>\n",
              "    </tr>\n",
              "    <tr>\n",
              "      <th>407</th>\n",
              "      <td>4385</td>\n",
              "      <td>92000</td>\n",
              "      <td>1/20/2018</td>\n",
              "      <td>1439</td>\n",
              "      <td>sat</td>\n",
              "      <td>weekend</td>\n",
              "      <td>158</td>\n",
              "      <td>180</td>\n",
              "      <td>Hauts-de-Seine</td>\n",
              "    </tr>\n",
              "    <tr>\n",
              "      <th>408</th>\n",
              "      <td>4386</td>\n",
              "      <td>92000</td>\n",
              "      <td>1/21/2018</td>\n",
              "      <td>1440</td>\n",
              "      <td>sun</td>\n",
              "      <td>weekend</td>\n",
              "      <td>165</td>\n",
              "      <td>165</td>\n",
              "      <td>Hauts-de-Seine</td>\n",
              "    </tr>\n",
              "    <tr>\n",
              "      <th>...</th>\n",
              "      <td>...</td>\n",
              "      <td>...</td>\n",
              "      <td>...</td>\n",
              "      <td>...</td>\n",
              "      <td>...</td>\n",
              "      <td>...</td>\n",
              "      <td>...</td>\n",
              "      <td>...</td>\n",
              "      <td>...</td>\n",
              "    </tr>\n",
              "    <tr>\n",
              "      <th>4904</th>\n",
              "      <td>9950</td>\n",
              "      <td>92800</td>\n",
              "      <td>6/3/2018</td>\n",
              "      <td>1440</td>\n",
              "      <td>sun</td>\n",
              "      <td>weekend</td>\n",
              "      <td>111</td>\n",
              "      <td>118</td>\n",
              "      <td>Hauts-de-Seine</td>\n",
              "    </tr>\n",
              "    <tr>\n",
              "      <th>4910</th>\n",
              "      <td>9956</td>\n",
              "      <td>92800</td>\n",
              "      <td>6/9/2018</td>\n",
              "      <td>1440</td>\n",
              "      <td>sat</td>\n",
              "      <td>weekend</td>\n",
              "      <td>117</td>\n",
              "      <td>110</td>\n",
              "      <td>Hauts-de-Seine</td>\n",
              "    </tr>\n",
              "    <tr>\n",
              "      <th>4911</th>\n",
              "      <td>9957</td>\n",
              "      <td>92800</td>\n",
              "      <td>6/10/2018</td>\n",
              "      <td>1440</td>\n",
              "      <td>sun</td>\n",
              "      <td>weekend</td>\n",
              "      <td>97</td>\n",
              "      <td>113</td>\n",
              "      <td>Hauts-de-Seine</td>\n",
              "    </tr>\n",
              "    <tr>\n",
              "      <th>4917</th>\n",
              "      <td>9963</td>\n",
              "      <td>92800</td>\n",
              "      <td>6/16/2018</td>\n",
              "      <td>1440</td>\n",
              "      <td>sat</td>\n",
              "      <td>weekend</td>\n",
              "      <td>115</td>\n",
              "      <td>112</td>\n",
              "      <td>Hauts-de-Seine</td>\n",
              "    </tr>\n",
              "    <tr>\n",
              "      <th>4918</th>\n",
              "      <td>9964</td>\n",
              "      <td>92800</td>\n",
              "      <td>6/17/2018</td>\n",
              "      <td>1440</td>\n",
              "      <td>sun</td>\n",
              "      <td>weekend</td>\n",
              "      <td>102</td>\n",
              "      <td>106</td>\n",
              "      <td>Hauts-de-Seine</td>\n",
              "    </tr>\n",
              "  </tbody>\n",
              "</table>\n",
              "<p>1381 rows × 9 columns</p>\n",
              "</div>"
            ],
            "text/plain": [
              "      Unnamed: 0  postal_code  ... total_bluecars_returned            city\n",
              "394         4372        92000  ...                     167  Hauts-de-Seine\n",
              "400         4378        92000  ...                     184  Hauts-de-Seine\n",
              "401         4379        92000  ...                     160  Hauts-de-Seine\n",
              "407         4385        92000  ...                     180  Hauts-de-Seine\n",
              "408         4386        92000  ...                     165  Hauts-de-Seine\n",
              "...          ...          ...  ...                     ...             ...\n",
              "4904        9950        92800  ...                     118  Hauts-de-Seine\n",
              "4910        9956        92800  ...                     110  Hauts-de-Seine\n",
              "4911        9957        92800  ...                     113  Hauts-de-Seine\n",
              "4917        9963        92800  ...                     112  Hauts-de-Seine\n",
              "4918        9964        92800  ...                     106  Hauts-de-Seine\n",
              "\n",
              "[1381 rows x 9 columns]"
            ]
          },
          "metadata": {
            "tags": []
          },
          "execution_count": 94
        }
      ]
    },
    {
      "cell_type": "code",
      "metadata": {
        "id": "agQ6P12A-oQj",
        "outputId": "a0568fe1-5695-4113-b86f-033782b2c775",
        "colab": {
          "base_uri": "https://localhost:8080/"
        }
      },
      "source": [
        ""
      ],
      "execution_count": 104,
      "outputs": [
        {
          "output_type": "execute_result",
          "data": {
            "text/plain": [
              "Unnamed: 0                  7269.242578\n",
              "postal_code                92305.488776\n",
              "daily_data_points           1439.829109\n",
              "total_bluecars_taken          80.729182\n",
              "total_bluecars_returned       81.069515\n",
              "dtype: float64"
            ]
          },
          "metadata": {
            "tags": []
          },
          "execution_count": 104
        }
      ]
    },
    {
      "cell_type": "markdown",
      "metadata": {
        "id": "HWTWAzlUjWt4"
      },
      "source": [
        "### starata 2"
      ]
    },
    {
      "cell_type": "code",
      "metadata": {
        "id": "7fgSwGp8iN7k",
        "outputId": "b57229f1-f0ac-45fc-84d8-da36c887c5cd",
        "colab": {
          "base_uri": "https://localhost:8080/",
          "height": 406
        }
      },
      "source": [
        "# Creating a new dataframe with only Essonne\n",
        "# and only weekend records which is the target records\n",
        "\n",
        "final_esso = autolib_clean.loc[autolib_clean['city'].isin(['Essonne']) & autolib_clean['day_type'].isin(['weekend'])]\n",
        "final_esso"
      ],
      "execution_count": 96,
      "outputs": [
        {
          "output_type": "execute_result",
          "data": {
            "text/html": [
              "<div>\n",
              "<style scoped>\n",
              "    .dataframe tbody tr th:only-of-type {\n",
              "        vertical-align: middle;\n",
              "    }\n",
              "\n",
              "    .dataframe tbody tr th {\n",
              "        vertical-align: top;\n",
              "    }\n",
              "\n",
              "    .dataframe thead th {\n",
              "        text-align: right;\n",
              "    }\n",
              "</style>\n",
              "<table border=\"1\" class=\"dataframe\">\n",
              "  <thead>\n",
              "    <tr style=\"text-align: right;\">\n",
              "      <th></th>\n",
              "      <th>Unnamed: 0</th>\n",
              "      <th>postal_code</th>\n",
              "      <th>date</th>\n",
              "      <th>daily_data_points</th>\n",
              "      <th>day_of_week</th>\n",
              "      <th>day_type</th>\n",
              "      <th>total_bluecars_taken</th>\n",
              "      <th>total_bluecars_returned</th>\n",
              "      <th>city</th>\n",
              "    </tr>\n",
              "  </thead>\n",
              "  <tbody>\n",
              "    <tr>\n",
              "      <th>4</th>\n",
              "      <td>3905</td>\n",
              "      <td>91330</td>\n",
              "      <td>1/7/2018</td>\n",
              "      <td>1440</td>\n",
              "      <td>sun</td>\n",
              "      <td>weekend</td>\n",
              "      <td>28</td>\n",
              "      <td>17</td>\n",
              "      <td>Essonne</td>\n",
              "    </tr>\n",
              "    <tr>\n",
              "      <th>10</th>\n",
              "      <td>3911</td>\n",
              "      <td>91330</td>\n",
              "      <td>1/13/2018</td>\n",
              "      <td>1440</td>\n",
              "      <td>sat</td>\n",
              "      <td>weekend</td>\n",
              "      <td>24</td>\n",
              "      <td>21</td>\n",
              "      <td>Essonne</td>\n",
              "    </tr>\n",
              "    <tr>\n",
              "      <th>11</th>\n",
              "      <td>3912</td>\n",
              "      <td>91330</td>\n",
              "      <td>1/14/2018</td>\n",
              "      <td>1440</td>\n",
              "      <td>sun</td>\n",
              "      <td>weekend</td>\n",
              "      <td>27</td>\n",
              "      <td>30</td>\n",
              "      <td>Essonne</td>\n",
              "    </tr>\n",
              "    <tr>\n",
              "      <th>17</th>\n",
              "      <td>3918</td>\n",
              "      <td>91330</td>\n",
              "      <td>1/20/2018</td>\n",
              "      <td>1439</td>\n",
              "      <td>sat</td>\n",
              "      <td>weekend</td>\n",
              "      <td>16</td>\n",
              "      <td>10</td>\n",
              "      <td>Essonne</td>\n",
              "    </tr>\n",
              "    <tr>\n",
              "      <th>18</th>\n",
              "      <td>3919</td>\n",
              "      <td>91330</td>\n",
              "      <td>1/21/2018</td>\n",
              "      <td>1440</td>\n",
              "      <td>sun</td>\n",
              "      <td>weekend</td>\n",
              "      <td>18</td>\n",
              "      <td>14</td>\n",
              "      <td>Essonne</td>\n",
              "    </tr>\n",
              "    <tr>\n",
              "      <th>...</th>\n",
              "      <td>...</td>\n",
              "      <td>...</td>\n",
              "      <td>...</td>\n",
              "      <td>...</td>\n",
              "      <td>...</td>\n",
              "      <td>...</td>\n",
              "      <td>...</td>\n",
              "      <td>...</td>\n",
              "      <td>...</td>\n",
              "    </tr>\n",
              "    <tr>\n",
              "      <th>374</th>\n",
              "      <td>4350</td>\n",
              "      <td>91400</td>\n",
              "      <td>6/3/2018</td>\n",
              "      <td>1440</td>\n",
              "      <td>sun</td>\n",
              "      <td>weekend</td>\n",
              "      <td>12</td>\n",
              "      <td>13</td>\n",
              "      <td>Essonne</td>\n",
              "    </tr>\n",
              "    <tr>\n",
              "      <th>380</th>\n",
              "      <td>4356</td>\n",
              "      <td>91400</td>\n",
              "      <td>6/9/2018</td>\n",
              "      <td>1440</td>\n",
              "      <td>sat</td>\n",
              "      <td>weekend</td>\n",
              "      <td>13</td>\n",
              "      <td>11</td>\n",
              "      <td>Essonne</td>\n",
              "    </tr>\n",
              "    <tr>\n",
              "      <th>381</th>\n",
              "      <td>4357</td>\n",
              "      <td>91400</td>\n",
              "      <td>6/10/2018</td>\n",
              "      <td>1440</td>\n",
              "      <td>sun</td>\n",
              "      <td>weekend</td>\n",
              "      <td>4</td>\n",
              "      <td>4</td>\n",
              "      <td>Essonne</td>\n",
              "    </tr>\n",
              "    <tr>\n",
              "      <th>387</th>\n",
              "      <td>4363</td>\n",
              "      <td>91400</td>\n",
              "      <td>6/16/2018</td>\n",
              "      <td>1440</td>\n",
              "      <td>sat</td>\n",
              "      <td>weekend</td>\n",
              "      <td>9</td>\n",
              "      <td>10</td>\n",
              "      <td>Essonne</td>\n",
              "    </tr>\n",
              "    <tr>\n",
              "      <th>388</th>\n",
              "      <td>4364</td>\n",
              "      <td>91400</td>\n",
              "      <td>6/17/2018</td>\n",
              "      <td>1440</td>\n",
              "      <td>sun</td>\n",
              "      <td>weekend</td>\n",
              "      <td>8</td>\n",
              "      <td>7</td>\n",
              "      <td>Essonne</td>\n",
              "    </tr>\n",
              "  </tbody>\n",
              "</table>\n",
              "<p>120 rows × 9 columns</p>\n",
              "</div>"
            ],
            "text/plain": [
              "     Unnamed: 0  postal_code  ... total_bluecars_returned     city\n",
              "4          3905        91330  ...                      17  Essonne\n",
              "10         3911        91330  ...                      21  Essonne\n",
              "11         3912        91330  ...                      30  Essonne\n",
              "17         3918        91330  ...                      10  Essonne\n",
              "18         3919        91330  ...                      14  Essonne\n",
              "..          ...          ...  ...                     ...      ...\n",
              "374        4350        91400  ...                      13  Essonne\n",
              "380        4356        91400  ...                      11  Essonne\n",
              "381        4357        91400  ...                       4  Essonne\n",
              "387        4363        91400  ...                      10  Essonne\n",
              "388        4364        91400  ...                       7  Essonne\n",
              "\n",
              "[120 rows x 9 columns]"
            ]
          },
          "metadata": {
            "tags": []
          },
          "execution_count": 96
        }
      ]
    },
    {
      "cell_type": "markdown",
      "metadata": {
        "id": "5HjxzTdojUC-"
      },
      "source": [
        "### starata 3"
      ]
    },
    {
      "cell_type": "code",
      "metadata": {
        "id": "a4Owxeukicqt",
        "outputId": "c62e75b5-e83d-40ab-cbd0-5665aa461f4c",
        "colab": {
          "base_uri": "https://localhost:8080/",
          "height": 406
        }
      },
      "source": [
        "# Creating a new dataframe with only Seine-Saint_Denis\n",
        "# and only weekend records which is the target records\n",
        "\n",
        "final_seine = autolib_clean.loc[autolib_clean['city'].isin(['Seine-Saint_Denis']) & autolib_clean['day_type'].isin(['weekend'])]\n",
        "final_seine"
      ],
      "execution_count": 97,
      "outputs": [
        {
          "output_type": "execute_result",
          "data": {
            "text/html": [
              "<div>\n",
              "<style scoped>\n",
              "    .dataframe tbody tr th:only-of-type {\n",
              "        vertical-align: middle;\n",
              "    }\n",
              "\n",
              "    .dataframe tbody tr th {\n",
              "        vertical-align: top;\n",
              "    }\n",
              "\n",
              "    .dataframe thead th {\n",
              "        text-align: right;\n",
              "    }\n",
              "</style>\n",
              "<table border=\"1\" class=\"dataframe\">\n",
              "  <thead>\n",
              "    <tr style=\"text-align: right;\">\n",
              "      <th></th>\n",
              "      <th>Unnamed: 0</th>\n",
              "      <th>postal_code</th>\n",
              "      <th>date</th>\n",
              "      <th>daily_data_points</th>\n",
              "      <th>day_of_week</th>\n",
              "      <th>day_type</th>\n",
              "      <th>total_bluecars_taken</th>\n",
              "      <th>total_bluecars_returned</th>\n",
              "      <th>city</th>\n",
              "    </tr>\n",
              "  </thead>\n",
              "  <tbody>\n",
              "    <tr>\n",
              "      <th>4924</th>\n",
              "      <td>9973</td>\n",
              "      <td>93100</td>\n",
              "      <td>1/7/2018</td>\n",
              "      <td>1440</td>\n",
              "      <td>sun</td>\n",
              "      <td>weekend</td>\n",
              "      <td>141</td>\n",
              "      <td>138</td>\n",
              "      <td>Seine-Saint_Denis</td>\n",
              "    </tr>\n",
              "    <tr>\n",
              "      <th>4930</th>\n",
              "      <td>9979</td>\n",
              "      <td>93100</td>\n",
              "      <td>1/13/2018</td>\n",
              "      <td>1440</td>\n",
              "      <td>sat</td>\n",
              "      <td>weekend</td>\n",
              "      <td>182</td>\n",
              "      <td>185</td>\n",
              "      <td>Seine-Saint_Denis</td>\n",
              "    </tr>\n",
              "    <tr>\n",
              "      <th>4931</th>\n",
              "      <td>9980</td>\n",
              "      <td>93100</td>\n",
              "      <td>1/14/2018</td>\n",
              "      <td>1440</td>\n",
              "      <td>sun</td>\n",
              "      <td>weekend</td>\n",
              "      <td>160</td>\n",
              "      <td>144</td>\n",
              "      <td>Seine-Saint_Denis</td>\n",
              "    </tr>\n",
              "    <tr>\n",
              "      <th>4937</th>\n",
              "      <td>9986</td>\n",
              "      <td>93100</td>\n",
              "      <td>1/20/2018</td>\n",
              "      <td>1439</td>\n",
              "      <td>sat</td>\n",
              "      <td>weekend</td>\n",
              "      <td>204</td>\n",
              "      <td>187</td>\n",
              "      <td>Seine-Saint_Denis</td>\n",
              "    </tr>\n",
              "    <tr>\n",
              "      <th>4938</th>\n",
              "      <td>9987</td>\n",
              "      <td>93100</td>\n",
              "      <td>1/21/2018</td>\n",
              "      <td>1440</td>\n",
              "      <td>sun</td>\n",
              "      <td>weekend</td>\n",
              "      <td>163</td>\n",
              "      <td>164</td>\n",
              "      <td>Seine-Saint_Denis</td>\n",
              "    </tr>\n",
              "    <tr>\n",
              "      <th>...</th>\n",
              "      <td>...</td>\n",
              "      <td>...</td>\n",
              "      <td>...</td>\n",
              "      <td>...</td>\n",
              "      <td>...</td>\n",
              "      <td>...</td>\n",
              "      <td>...</td>\n",
              "      <td>...</td>\n",
              "      <td>...</td>\n",
              "    </tr>\n",
              "    <tr>\n",
              "      <th>7408</th>\n",
              "      <td>12950</td>\n",
              "      <td>93800</td>\n",
              "      <td>6/3/2018</td>\n",
              "      <td>1440</td>\n",
              "      <td>sun</td>\n",
              "      <td>weekend</td>\n",
              "      <td>46</td>\n",
              "      <td>42</td>\n",
              "      <td>Seine-Saint_Denis</td>\n",
              "    </tr>\n",
              "    <tr>\n",
              "      <th>7414</th>\n",
              "      <td>12956</td>\n",
              "      <td>93800</td>\n",
              "      <td>6/9/2018</td>\n",
              "      <td>1440</td>\n",
              "      <td>sat</td>\n",
              "      <td>weekend</td>\n",
              "      <td>39</td>\n",
              "      <td>39</td>\n",
              "      <td>Seine-Saint_Denis</td>\n",
              "    </tr>\n",
              "    <tr>\n",
              "      <th>7415</th>\n",
              "      <td>12957</td>\n",
              "      <td>93800</td>\n",
              "      <td>6/10/2018</td>\n",
              "      <td>1440</td>\n",
              "      <td>sun</td>\n",
              "      <td>weekend</td>\n",
              "      <td>47</td>\n",
              "      <td>42</td>\n",
              "      <td>Seine-Saint_Denis</td>\n",
              "    </tr>\n",
              "    <tr>\n",
              "      <th>7421</th>\n",
              "      <td>12963</td>\n",
              "      <td>93800</td>\n",
              "      <td>6/16/2018</td>\n",
              "      <td>1440</td>\n",
              "      <td>sat</td>\n",
              "      <td>weekend</td>\n",
              "      <td>45</td>\n",
              "      <td>43</td>\n",
              "      <td>Seine-Saint_Denis</td>\n",
              "    </tr>\n",
              "    <tr>\n",
              "      <th>7422</th>\n",
              "      <td>12964</td>\n",
              "      <td>93800</td>\n",
              "      <td>6/17/2018</td>\n",
              "      <td>1440</td>\n",
              "      <td>sun</td>\n",
              "      <td>weekend</td>\n",
              "      <td>47</td>\n",
              "      <td>48</td>\n",
              "      <td>Seine-Saint_Denis</td>\n",
              "    </tr>\n",
              "  </tbody>\n",
              "</table>\n",
              "<p>777 rows × 9 columns</p>\n",
              "</div>"
            ],
            "text/plain": [
              "      Unnamed: 0  postal_code  ... total_bluecars_returned               city\n",
              "4924        9973        93100  ...                     138  Seine-Saint_Denis\n",
              "4930        9979        93100  ...                     185  Seine-Saint_Denis\n",
              "4931        9980        93100  ...                     144  Seine-Saint_Denis\n",
              "4937        9986        93100  ...                     187  Seine-Saint_Denis\n",
              "4938        9987        93100  ...                     164  Seine-Saint_Denis\n",
              "...          ...          ...  ...                     ...                ...\n",
              "7408       12950        93800  ...                      42  Seine-Saint_Denis\n",
              "7414       12956        93800  ...                      39  Seine-Saint_Denis\n",
              "7415       12957        93800  ...                      42  Seine-Saint_Denis\n",
              "7421       12963        93800  ...                      43  Seine-Saint_Denis\n",
              "7422       12964        93800  ...                      48  Seine-Saint_Denis\n",
              "\n",
              "[777 rows x 9 columns]"
            ]
          },
          "metadata": {
            "tags": []
          },
          "execution_count": 97
        }
      ]
    },
    {
      "cell_type": "markdown",
      "metadata": {
        "id": "Ynd35ANGjRxJ"
      },
      "source": [
        "### starata 4"
      ]
    },
    {
      "cell_type": "code",
      "metadata": {
        "id": "IzvtejW5ir4q",
        "outputId": "3fbe84d8-7f0a-4124-cd74-dfd5cdeef386",
        "colab": {
          "base_uri": "https://localhost:8080/",
          "height": 406
        }
      },
      "source": [
        "# Creating a new dataframe with only Val-de-Marne\n",
        "# and only weekend records which is the target records\n",
        "\n",
        "final_val = autolib_clean.loc[autolib_clean['city'].isin(['Val-de-Marne']) & autolib_clean['day_type'].isin(['weekend'])]\n",
        "final_val"
      ],
      "execution_count": 98,
      "outputs": [
        {
          "output_type": "execute_result",
          "data": {
            "text/html": [
              "<div>\n",
              "<style scoped>\n",
              "    .dataframe tbody tr th:only-of-type {\n",
              "        vertical-align: middle;\n",
              "    }\n",
              "\n",
              "    .dataframe tbody tr th {\n",
              "        vertical-align: top;\n",
              "    }\n",
              "\n",
              "    .dataframe thead th {\n",
              "        text-align: right;\n",
              "    }\n",
              "</style>\n",
              "<table border=\"1\" class=\"dataframe\">\n",
              "  <thead>\n",
              "    <tr style=\"text-align: right;\">\n",
              "      <th></th>\n",
              "      <th>Unnamed: 0</th>\n",
              "      <th>postal_code</th>\n",
              "      <th>date</th>\n",
              "      <th>daily_data_points</th>\n",
              "      <th>day_of_week</th>\n",
              "      <th>day_type</th>\n",
              "      <th>total_bluecars_taken</th>\n",
              "      <th>total_bluecars_returned</th>\n",
              "      <th>city</th>\n",
              "    </tr>\n",
              "  </thead>\n",
              "  <tbody>\n",
              "    <tr>\n",
              "      <th>7428</th>\n",
              "      <td>12973</td>\n",
              "      <td>94000</td>\n",
              "      <td>1/7/2018</td>\n",
              "      <td>1440</td>\n",
              "      <td>sun</td>\n",
              "      <td>weekend</td>\n",
              "      <td>117</td>\n",
              "      <td>104</td>\n",
              "      <td>Val-de-Marne</td>\n",
              "    </tr>\n",
              "    <tr>\n",
              "      <th>7434</th>\n",
              "      <td>12979</td>\n",
              "      <td>94000</td>\n",
              "      <td>1/13/2018</td>\n",
              "      <td>1440</td>\n",
              "      <td>sat</td>\n",
              "      <td>weekend</td>\n",
              "      <td>124</td>\n",
              "      <td>121</td>\n",
              "      <td>Val-de-Marne</td>\n",
              "    </tr>\n",
              "    <tr>\n",
              "      <th>7435</th>\n",
              "      <td>12980</td>\n",
              "      <td>94000</td>\n",
              "      <td>1/14/2018</td>\n",
              "      <td>1440</td>\n",
              "      <td>sun</td>\n",
              "      <td>weekend</td>\n",
              "      <td>115</td>\n",
              "      <td>111</td>\n",
              "      <td>Val-de-Marne</td>\n",
              "    </tr>\n",
              "    <tr>\n",
              "      <th>7441</th>\n",
              "      <td>12986</td>\n",
              "      <td>94000</td>\n",
              "      <td>1/20/2018</td>\n",
              "      <td>1439</td>\n",
              "      <td>sat</td>\n",
              "      <td>weekend</td>\n",
              "      <td>134</td>\n",
              "      <td>117</td>\n",
              "      <td>Val-de-Marne</td>\n",
              "    </tr>\n",
              "    <tr>\n",
              "      <th>7442</th>\n",
              "      <td>12987</td>\n",
              "      <td>94000</td>\n",
              "      <td>1/21/2018</td>\n",
              "      <td>1440</td>\n",
              "      <td>sun</td>\n",
              "      <td>weekend</td>\n",
              "      <td>108</td>\n",
              "      <td>127</td>\n",
              "      <td>Val-de-Marne</td>\n",
              "    </tr>\n",
              "    <tr>\n",
              "      <th>...</th>\n",
              "      <td>...</td>\n",
              "      <td>...</td>\n",
              "      <td>...</td>\n",
              "      <td>...</td>\n",
              "      <td>...</td>\n",
              "      <td>...</td>\n",
              "      <td>...</td>\n",
              "      <td>...</td>\n",
              "      <td>...</td>\n",
              "    </tr>\n",
              "    <tr>\n",
              "      <th>9618</th>\n",
              "      <td>15600</td>\n",
              "      <td>94800</td>\n",
              "      <td>6/3/2018</td>\n",
              "      <td>1440</td>\n",
              "      <td>sun</td>\n",
              "      <td>weekend</td>\n",
              "      <td>124</td>\n",
              "      <td>111</td>\n",
              "      <td>Val-de-Marne</td>\n",
              "    </tr>\n",
              "    <tr>\n",
              "      <th>9624</th>\n",
              "      <td>15606</td>\n",
              "      <td>94800</td>\n",
              "      <td>6/9/2018</td>\n",
              "      <td>1440</td>\n",
              "      <td>sat</td>\n",
              "      <td>weekend</td>\n",
              "      <td>121</td>\n",
              "      <td>104</td>\n",
              "      <td>Val-de-Marne</td>\n",
              "    </tr>\n",
              "    <tr>\n",
              "      <th>9625</th>\n",
              "      <td>15607</td>\n",
              "      <td>94800</td>\n",
              "      <td>6/10/2018</td>\n",
              "      <td>1440</td>\n",
              "      <td>sun</td>\n",
              "      <td>weekend</td>\n",
              "      <td>116</td>\n",
              "      <td>125</td>\n",
              "      <td>Val-de-Marne</td>\n",
              "    </tr>\n",
              "    <tr>\n",
              "      <th>9631</th>\n",
              "      <td>15613</td>\n",
              "      <td>94800</td>\n",
              "      <td>6/16/2018</td>\n",
              "      <td>1440</td>\n",
              "      <td>sat</td>\n",
              "      <td>weekend</td>\n",
              "      <td>124</td>\n",
              "      <td>124</td>\n",
              "      <td>Val-de-Marne</td>\n",
              "    </tr>\n",
              "    <tr>\n",
              "      <th>9632</th>\n",
              "      <td>15614</td>\n",
              "      <td>94800</td>\n",
              "      <td>6/17/2018</td>\n",
              "      <td>1440</td>\n",
              "      <td>sun</td>\n",
              "      <td>weekend</td>\n",
              "      <td>125</td>\n",
              "      <td>123</td>\n",
              "      <td>Val-de-Marne</td>\n",
              "    </tr>\n",
              "  </tbody>\n",
              "</table>\n",
              "<p>680 rows × 9 columns</p>\n",
              "</div>"
            ],
            "text/plain": [
              "      Unnamed: 0  postal_code  ... total_bluecars_returned          city\n",
              "7428       12973        94000  ...                     104  Val-de-Marne\n",
              "7434       12979        94000  ...                     121  Val-de-Marne\n",
              "7435       12980        94000  ...                     111  Val-de-Marne\n",
              "7441       12986        94000  ...                     117  Val-de-Marne\n",
              "7442       12987        94000  ...                     127  Val-de-Marne\n",
              "...          ...          ...  ...                     ...           ...\n",
              "9618       15600        94800  ...                     111  Val-de-Marne\n",
              "9624       15606        94800  ...                     104  Val-de-Marne\n",
              "9625       15607        94800  ...                     125  Val-de-Marne\n",
              "9631       15613        94800  ...                     124  Val-de-Marne\n",
              "9632       15614        94800  ...                     123  Val-de-Marne\n",
              "\n",
              "[680 rows x 9 columns]"
            ]
          },
          "metadata": {
            "tags": []
          },
          "execution_count": 98
        }
      ]
    },
    {
      "cell_type": "markdown",
      "metadata": {
        "id": "-QrkBmIzjLII"
      },
      "source": [
        "### starata 5"
      ]
    },
    {
      "cell_type": "code",
      "metadata": {
        "id": "3YeTPGmbi7Hw",
        "outputId": "1cf17d43-4fac-47ad-c2cb-8cf95fbbe880",
        "colab": {
          "base_uri": "https://localhost:8080/",
          "height": 406
        }
      },
      "source": [
        "# Creating a new dataframe with only Val-dOise\n",
        "# and only weekend records which is the target records\n",
        "\n",
        "final_doise = autolib_clean.loc[autolib_clean['city'].isin(['Val-dOise']) & autolib_clean['day_type'].isin(['weekend'])]\n",
        "final_doise"
      ],
      "execution_count": 99,
      "outputs": [
        {
          "output_type": "execute_result",
          "data": {
            "text/html": [
              "<div>\n",
              "<style scoped>\n",
              "    .dataframe tbody tr th:only-of-type {\n",
              "        vertical-align: middle;\n",
              "    }\n",
              "\n",
              "    .dataframe tbody tr th {\n",
              "        vertical-align: top;\n",
              "    }\n",
              "\n",
              "    .dataframe thead th {\n",
              "        text-align: right;\n",
              "    }\n",
              "</style>\n",
              "<table border=\"1\" class=\"dataframe\">\n",
              "  <thead>\n",
              "    <tr style=\"text-align: right;\">\n",
              "      <th></th>\n",
              "      <th>Unnamed: 0</th>\n",
              "      <th>postal_code</th>\n",
              "      <th>date</th>\n",
              "      <th>daily_data_points</th>\n",
              "      <th>day_of_week</th>\n",
              "      <th>day_type</th>\n",
              "      <th>total_bluecars_taken</th>\n",
              "      <th>total_bluecars_returned</th>\n",
              "      <th>city</th>\n",
              "    </tr>\n",
              "  </thead>\n",
              "  <tbody>\n",
              "    <tr>\n",
              "      <th>9638</th>\n",
              "      <td>15623</td>\n",
              "      <td>95100</td>\n",
              "      <td>1/7/2018</td>\n",
              "      <td>1440</td>\n",
              "      <td>sun</td>\n",
              "      <td>weekend</td>\n",
              "      <td>23</td>\n",
              "      <td>18</td>\n",
              "      <td>Val-dOise</td>\n",
              "    </tr>\n",
              "    <tr>\n",
              "      <th>9644</th>\n",
              "      <td>15629</td>\n",
              "      <td>95100</td>\n",
              "      <td>1/13/2018</td>\n",
              "      <td>1440</td>\n",
              "      <td>sat</td>\n",
              "      <td>weekend</td>\n",
              "      <td>31</td>\n",
              "      <td>41</td>\n",
              "      <td>Val-dOise</td>\n",
              "    </tr>\n",
              "    <tr>\n",
              "      <th>9645</th>\n",
              "      <td>15630</td>\n",
              "      <td>95100</td>\n",
              "      <td>1/14/2018</td>\n",
              "      <td>1440</td>\n",
              "      <td>sun</td>\n",
              "      <td>weekend</td>\n",
              "      <td>32</td>\n",
              "      <td>26</td>\n",
              "      <td>Val-dOise</td>\n",
              "    </tr>\n",
              "    <tr>\n",
              "      <th>9651</th>\n",
              "      <td>15636</td>\n",
              "      <td>95100</td>\n",
              "      <td>1/20/2018</td>\n",
              "      <td>1439</td>\n",
              "      <td>sat</td>\n",
              "      <td>weekend</td>\n",
              "      <td>29</td>\n",
              "      <td>26</td>\n",
              "      <td>Val-dOise</td>\n",
              "    </tr>\n",
              "    <tr>\n",
              "      <th>9652</th>\n",
              "      <td>15637</td>\n",
              "      <td>95100</td>\n",
              "      <td>1/21/2018</td>\n",
              "      <td>1440</td>\n",
              "      <td>sun</td>\n",
              "      <td>weekend</td>\n",
              "      <td>23</td>\n",
              "      <td>18</td>\n",
              "      <td>Val-dOise</td>\n",
              "    </tr>\n",
              "    <tr>\n",
              "      <th>...</th>\n",
              "      <td>...</td>\n",
              "      <td>...</td>\n",
              "      <td>...</td>\n",
              "      <td>...</td>\n",
              "      <td>...</td>\n",
              "      <td>...</td>\n",
              "      <td>...</td>\n",
              "      <td>...</td>\n",
              "      <td>...</td>\n",
              "    </tr>\n",
              "    <tr>\n",
              "      <th>10008</th>\n",
              "      <td>16068</td>\n",
              "      <td>95880</td>\n",
              "      <td>6/3/2018</td>\n",
              "      <td>1440</td>\n",
              "      <td>sun</td>\n",
              "      <td>weekend</td>\n",
              "      <td>36</td>\n",
              "      <td>33</td>\n",
              "      <td>Val-dOise</td>\n",
              "    </tr>\n",
              "    <tr>\n",
              "      <th>10014</th>\n",
              "      <td>16074</td>\n",
              "      <td>95880</td>\n",
              "      <td>6/9/2018</td>\n",
              "      <td>1440</td>\n",
              "      <td>sat</td>\n",
              "      <td>weekend</td>\n",
              "      <td>15</td>\n",
              "      <td>15</td>\n",
              "      <td>Val-dOise</td>\n",
              "    </tr>\n",
              "    <tr>\n",
              "      <th>10015</th>\n",
              "      <td>16075</td>\n",
              "      <td>95880</td>\n",
              "      <td>6/10/2018</td>\n",
              "      <td>1440</td>\n",
              "      <td>sun</td>\n",
              "      <td>weekend</td>\n",
              "      <td>34</td>\n",
              "      <td>32</td>\n",
              "      <td>Val-dOise</td>\n",
              "    </tr>\n",
              "    <tr>\n",
              "      <th>10021</th>\n",
              "      <td>16081</td>\n",
              "      <td>95880</td>\n",
              "      <td>6/16/2018</td>\n",
              "      <td>1440</td>\n",
              "      <td>sat</td>\n",
              "      <td>weekend</td>\n",
              "      <td>19</td>\n",
              "      <td>19</td>\n",
              "      <td>Val-dOise</td>\n",
              "    </tr>\n",
              "    <tr>\n",
              "      <th>10022</th>\n",
              "      <td>16082</td>\n",
              "      <td>95880</td>\n",
              "      <td>6/17/2018</td>\n",
              "      <td>1440</td>\n",
              "      <td>sun</td>\n",
              "      <td>weekend</td>\n",
              "      <td>33</td>\n",
              "      <td>35</td>\n",
              "      <td>Val-dOise</td>\n",
              "    </tr>\n",
              "  </tbody>\n",
              "</table>\n",
              "<p>120 rows × 9 columns</p>\n",
              "</div>"
            ],
            "text/plain": [
              "       Unnamed: 0  postal_code  ... total_bluecars_returned       city\n",
              "9638        15623        95100  ...                      18  Val-dOise\n",
              "9644        15629        95100  ...                      41  Val-dOise\n",
              "9645        15630        95100  ...                      26  Val-dOise\n",
              "9651        15636        95100  ...                      26  Val-dOise\n",
              "9652        15637        95100  ...                      18  Val-dOise\n",
              "...           ...          ...  ...                     ...        ...\n",
              "10008       16068        95880  ...                      33  Val-dOise\n",
              "10014       16074        95880  ...                      15  Val-dOise\n",
              "10015       16075        95880  ...                      32  Val-dOise\n",
              "10021       16081        95880  ...                      19  Val-dOise\n",
              "10022       16082        95880  ...                      35  Val-dOise\n",
              "\n",
              "[120 rows x 9 columns]"
            ]
          },
          "metadata": {
            "tags": []
          },
          "execution_count": 99
        }
      ]
    },
    {
      "cell_type": "markdown",
      "metadata": {
        "id": "bg3gouE4rAmx"
      },
      "source": [
        "# Determining significance level and test statistic to use"
      ]
    },
    {
      "cell_type": "markdown",
      "metadata": {
        "id": "b3FzhjjorK2k"
      },
      "source": [
        "* >The determination of distribution type is necessary to determine the critical value(significance level) and test to be chosen to validate any hypothesis.\n",
        "* > when we are clear on population, sample, and distribution we can move forward to understand different kinds of test and the distribution types for which they are used.\n",
        "\n",
        "* >A sampling distribution is where you take a population (N), and find a statistic from that population. The “standard deviation of the sampling distribution of the proportion” means that in this case, you would calculate the standard deviation. This is repeated for all possible samples from the population.\n",
        "* >if a random sample of n observations is taken from a binomial population with parameter p, the sampling distribution (i.e. all possible samples taken from the population) will have a mean up=p\n",
        "* >with a binomial With a large sample, the sampling distribution of a proportion will have an approximate normal distribution.\n",
        "* >the central limit theorem tells us that if we have a large number of independent, identically distributed variables, the distribution will approximately follow a normal distribution. It doesn’t matter what the underlying distribution is.\n",
        "* >**Through the above assumptions we have now assumed a normal distribution** and since we already know that it has a right-tail we **will assume a significant level of alpha=0.05%**\n",
        "*>**ANOVA**, also known as analysis of variance, is used to compare multiple (three or more) samples with a single test.Test usually used it the **F-test statistic**.Which we will use since **we have more than 3 samples**...**we have 5**."
      ]
    },
    {
      "cell_type": "markdown",
      "metadata": {
        "id": "vBzabuVF30aC"
      },
      "source": [
        "##step 1: baseline numbers to work with\n",
        ">with level of significance α = 0.05 we go ahead get the mean of each strata"
      ]
    },
    {
      "cell_type": "code",
      "metadata": {
        "id": "06FFFIkE7qBp",
        "outputId": "b599e853-0323-4089-9906-682bb8323a18",
        "colab": {
          "base_uri": "https://localhost:8080/",
          "height": 227
        }
      },
      "source": [
        "# What are the mean of each strata against our target strata=strata 1\n",
        "#We first get our overall mean\n",
        "autolib_clean.groupby('city').mean()\n"
      ],
      "execution_count": 103,
      "outputs": [
        {
          "output_type": "execute_result",
          "data": {
            "text/html": [
              "<div>\n",
              "<style scoped>\n",
              "    .dataframe tbody tr th:only-of-type {\n",
              "        vertical-align: middle;\n",
              "    }\n",
              "\n",
              "    .dataframe tbody tr th {\n",
              "        vertical-align: top;\n",
              "    }\n",
              "\n",
              "    .dataframe thead th {\n",
              "        text-align: right;\n",
              "    }\n",
              "</style>\n",
              "<table border=\"1\" class=\"dataframe\">\n",
              "  <thead>\n",
              "    <tr style=\"text-align: right;\">\n",
              "      <th></th>\n",
              "      <th>Unnamed: 0</th>\n",
              "      <th>postal_code</th>\n",
              "      <th>daily_data_points</th>\n",
              "      <th>total_bluecars_taken</th>\n",
              "      <th>total_bluecars_returned</th>\n",
              "    </tr>\n",
              "    <tr>\n",
              "      <th>city</th>\n",
              "      <th></th>\n",
              "      <th></th>\n",
              "      <th></th>\n",
              "      <th></th>\n",
              "      <th></th>\n",
              "    </tr>\n",
              "  </thead>\n",
              "  <tbody>\n",
              "    <tr>\n",
              "      <th>Essonne</th>\n",
              "      <td>4132.015385</td>\n",
              "      <td>91366.666667</td>\n",
              "      <td>1439.700000</td>\n",
              "      <td>11.858974</td>\n",
              "      <td>11.635897</td>\n",
              "    </tr>\n",
              "    <tr>\n",
              "      <th>Hauts-de-Seine</th>\n",
              "      <td>7244.014349</td>\n",
              "      <td>92303.763797</td>\n",
              "      <td>1439.699117</td>\n",
              "      <td>71.715894</td>\n",
              "      <td>71.754084</td>\n",
              "    </tr>\n",
              "    <tr>\n",
              "      <th>Seine-Saint_Denis</th>\n",
              "      <td>11467.093051</td>\n",
              "      <td>93344.033546</td>\n",
              "      <td>1439.700479</td>\n",
              "      <td>34.068291</td>\n",
              "      <td>34.043131</td>\n",
              "    </tr>\n",
              "    <tr>\n",
              "      <th>Val-dOise</th>\n",
              "      <td>15850.015385</td>\n",
              "      <td>95616.666667</td>\n",
              "      <td>1439.700000</td>\n",
              "      <td>18.797436</td>\n",
              "      <td>18.597436</td>\n",
              "    </tr>\n",
              "    <tr>\n",
              "      <th>Val-de-Marne</th>\n",
              "      <td>14290.897738</td>\n",
              "      <td>94285.882353</td>\n",
              "      <td>1439.700000</td>\n",
              "      <td>44.137557</td>\n",
              "      <td>44.038009</td>\n",
              "    </tr>\n",
              "  </tbody>\n",
              "</table>\n",
              "</div>"
            ],
            "text/plain": [
              "                     Unnamed: 0  ...  total_bluecars_returned\n",
              "city                             ...                         \n",
              "Essonne             4132.015385  ...                11.635897\n",
              "Hauts-de-Seine      7244.014349  ...                71.754084\n",
              "Seine-Saint_Denis  11467.093051  ...                34.043131\n",
              "Val-dOise          15850.015385  ...                18.597436\n",
              "Val-de-Marne       14290.897738  ...                44.038009\n",
              "\n",
              "[5 rows x 5 columns]"
            ]
          },
          "metadata": {
            "tags": []
          },
          "execution_count": 103
        }
      ]
    },
    {
      "cell_type": "code",
      "metadata": {
        "id": "SDlmKpRu_1qL",
        "outputId": "e3905812-45ad-442d-fc42-14b0d3787c6c",
        "colab": {
          "base_uri": "https://localhost:8080/"
        }
      },
      "source": [
        "# What is the overall mean?\n",
        "autolib_clean.mean()"
      ],
      "execution_count": 110,
      "outputs": [
        {
          "output_type": "execute_result",
          "data": {
            "text/plain": [
              "Unnamed: 0                 10066.327015\n",
              "postal_code                93093.057662\n",
              "daily_data_points           1439.699721\n",
              "total_bluecars_taken          51.843575\n",
              "total_bluecars_returned       51.816141\n",
              "dtype: float64"
            ]
          },
          "metadata": {
            "tags": []
          },
          "execution_count": 110
        }
      ]
    },
    {
      "cell_type": "code",
      "metadata": {
        "id": "DXlG4DDA_Ok8",
        "outputId": "e01cfb77-2aba-4bca-e6db-a4919129e2ce",
        "colab": {
          "base_uri": "https://localhost:8080/"
        }
      },
      "source": [
        "# What are the mean of each group?=strata 1\n",
        "final_haut.mean()"
      ],
      "execution_count": 105,
      "outputs": [
        {
          "output_type": "execute_result",
          "data": {
            "text/plain": [
              "Unnamed: 0                  7269.242578\n",
              "postal_code                92305.488776\n",
              "daily_data_points           1439.829109\n",
              "total_bluecars_taken          80.729182\n",
              "total_bluecars_returned       81.069515\n",
              "dtype: float64"
            ]
          },
          "metadata": {
            "tags": []
          },
          "execution_count": 105
        }
      ]
    },
    {
      "cell_type": "code",
      "metadata": {
        "id": "42tEdjyn_Ysr",
        "outputId": "ecf77e62-0905-4abf-b623-f4c1cc3183a2",
        "colab": {
          "base_uri": "https://localhost:8080/"
        }
      },
      "source": [
        "# What are the mean of each group?=strata2\n",
        "final_doise.mean()"
      ],
      "execution_count": 106,
      "outputs": [
        {
          "output_type": "execute_result",
          "data": {
            "text/plain": [
              "Unnamed: 0                 15854.350000\n",
              "postal_code                95616.666667\n",
              "daily_data_points           1439.825000\n",
              "total_bluecars_taken          28.108333\n",
              "total_bluecars_returned       26.425000\n",
              "dtype: float64"
            ]
          },
          "metadata": {
            "tags": []
          },
          "execution_count": 106
        }
      ]
    },
    {
      "cell_type": "code",
      "metadata": {
        "id": "KcmIlgwS_ZZv",
        "outputId": "c6903bd0-d300-4f7f-c6c8-1f680d4a4a5a",
        "colab": {
          "base_uri": "https://localhost:8080/"
        }
      },
      "source": [
        "# What are the mean of each group?strata3\n",
        "final_esso.mean()"
      ],
      "execution_count": 107,
      "outputs": [
        {
          "output_type": "execute_result",
          "data": {
            "text/plain": [
              "Unnamed: 0                  4136.350000\n",
              "postal_code                91366.666667\n",
              "daily_data_points           1439.825000\n",
              "total_bluecars_taken          17.683333\n",
              "total_bluecars_returned       14.783333\n",
              "dtype: float64"
            ]
          },
          "metadata": {
            "tags": []
          },
          "execution_count": 107
        }
      ]
    },
    {
      "cell_type": "code",
      "metadata": {
        "id": "l7yioU6F_ZDl",
        "outputId": "dc62ee4e-e750-4db4-a9f6-3d75bcb3b45e",
        "colab": {
          "base_uri": "https://localhost:8080/"
        }
      },
      "source": [
        "# What are the mean of each group?strata 4\n",
        "final_seine.mean()\n"
      ],
      "execution_count": 108,
      "outputs": [
        {
          "output_type": "execute_result",
          "data": {
            "text/plain": [
              "Unnamed: 0                 11471.891892\n",
              "postal_code                93343.835264\n",
              "daily_data_points           1439.824968\n",
              "total_bluecars_taken          42.876448\n",
              "total_bluecars_returned       42.438867\n",
              "dtype: float64"
            ]
          },
          "metadata": {
            "tags": []
          },
          "execution_count": 108
        }
      ]
    },
    {
      "cell_type": "code",
      "metadata": {
        "id": "b20ju4Sp_YP_",
        "outputId": "bcb74499-4194-416c-87ae-e78d88146d62",
        "colab": {
          "base_uri": "https://localhost:8080/"
        }
      },
      "source": [
        "# What are the mean of each group?strata 5\n",
        "final_val.mean()"
      ],
      "execution_count": 109,
      "outputs": [
        {
          "output_type": "execute_result",
          "data": {
            "text/plain": [
              "Unnamed: 0                 14295.232353\n",
              "postal_code                94285.882353\n",
              "daily_data_points           1439.825000\n",
              "total_bluecars_taken          56.889706\n",
              "total_bluecars_returned       56.117647\n",
              "dtype: float64"
            ]
          },
          "metadata": {
            "tags": []
          },
          "execution_count": 109
        }
      ]
    },
    {
      "cell_type": "markdown",
      "metadata": {
        "id": "r8G6xYJ6Ant6"
      },
      "source": [
        "**NB**:If our null hypothesis is correct that all the means of the groups are equal, the numerator and denominator should be roughly close to the same and the F-statistic should be near 1.0. And, with a higher ratio — when the F-statistic is far greater than 1.0 — implies the samples are drawn from populations with quite different mean values."
      ]
    },
    {
      "cell_type": "markdown",
      "metadata": {
        "id": "PqiUoy98A2qo"
      },
      "source": [
        "##step 2:Assumptions of the F-test"
      ]
    },
    {
      "cell_type": "markdown",
      "metadata": {
        "id": "NOvCjW0HBFQC"
      },
      "source": [
        "Before we jump into the F-test make sure a few assumptions are met from the data, as this test is highly sensitive to non-normal data.\n",
        "* Data is normally distributed;\n",
        "* The samples are independent of one another\n",
        "* The population standard deviations of the stratas are homoscedastic."
      ]
    },
    {
      "cell_type": "code",
      "metadata": {
        "id": "pASCup5bAmfP",
        "outputId": "cd51a36c-e641-4691-d2e1-a318a26f11a3",
        "colab": {
          "base_uri": "https://localhost:8080/"
        }
      },
      "source": [
        "# Get names of each feature first\n",
        "autox=autolib_clean['city'].unique()\n",
        "autox"
      ],
      "execution_count": 122,
      "outputs": [
        {
          "output_type": "execute_result",
          "data": {
            "text/plain": [
              "array(['Essonne', 'Hauts-de-Seine', 'Seine-Saint_Denis', 'Val-de-Marne',\n",
              "       'Val-dOise'], dtype=object)"
            ]
          },
          "metadata": {
            "tags": []
          },
          "execution_count": 122
        }
      ]
    },
    {
      "cell_type": "markdown",
      "metadata": {
        "id": "tgdr9RBbEGcx"
      },
      "source": [
        "Let’s test these assumptions on total_bluecars_taken for each target city using a Shapiro-Wilks test to look at the normality of our data. \n",
        "If our p-value is > .05, we would reject the normality of our data."
      ]
    },
    {
      "cell_type": "code",
      "metadata": {
        "id": "E8pugWIHGKx2"
      },
      "source": [
        "from scipy.stats import shapiro"
      ],
      "execution_count": 124,
      "outputs": []
    },
    {
      "cell_type": "code",
      "metadata": {
        "id": "4ow3HC2OETAO",
        "outputId": "7112e5a6-b053-4507-d408-7c92b9996c55",
        "colab": {
          "base_uri": "https://localhost:8080/"
        }
      },
      "source": [
        "for city in autox:\n",
        "    print( \"{}:{}\".format(city, stats.shapiro(autolib_clean['total_bluecars_taken'][autolib_clean['city'] == 'Hauts-de-Seine'])))"
      ],
      "execution_count": 127,
      "outputs": [
        {
          "output_type": "stream",
          "text": [
            "Essonne:(0.873421311378479, 0.0)\n",
            "Hauts-de-Seine:(0.873421311378479, 0.0)\n",
            "Seine-Saint_Denis:(0.873421311378479, 0.0)\n",
            "Val-de-Marne:(0.873421311378479, 0.0)\n",
            "Val-dOise:(0.873421311378479, 0.0)\n"
          ],
          "name": "stdout"
        }
      ]
    },
    {
      "cell_type": "code",
      "metadata": {
        "id": "BulG3z6PHIkx"
      },
      "source": [
        "#all our p-values are 0 so none is rejected"
      ],
      "execution_count": null,
      "outputs": []
    },
    {
      "cell_type": "code",
      "metadata": {
        "id": "xUk8BK5kGvzv",
        "outputId": "7a0de715-2724-435e-d405-4947da202940",
        "colab": {
          "base_uri": "https://localhost:8080/"
        }
      },
      "source": [
        "for city in autox:\n",
        "    print( \"{}:{}\".format(city, stats.shapiro(autolib_clean['total_bluecars_returned'][autolib_clean['city'] == 'Hauts-de-Seine'])))"
      ],
      "execution_count": 128,
      "outputs": [
        {
          "output_type": "stream",
          "text": [
            "Essonne:(0.8727265000343323, 0.0)\n",
            "Hauts-de-Seine:(0.8727265000343323, 0.0)\n",
            "Seine-Saint_Denis:(0.8727265000343323, 0.0)\n",
            "Val-de-Marne:(0.8727265000343323, 0.0)\n",
            "Val-dOise:(0.8727265000343323, 0.0)\n"
          ],
          "name": "stdout"
        }
      ]
    },
    {
      "cell_type": "code",
      "metadata": {
        "id": "MRbDNCLmHOut"
      },
      "source": [
        "#all our p-values are 0 so none is rejected"
      ],
      "execution_count": null,
      "outputs": []
    },
    {
      "cell_type": "markdown",
      "metadata": {
        "id": "ZWU5y03gHaOJ"
      },
      "source": [
        "Nothing here has been rejected, so we can keep our first assumption held."
      ]
    },
    {
      "cell_type": "markdown",
      "metadata": {
        "id": "14AcKz0yHbkx"
      },
      "source": [
        "Finally let’s check for homoscedasticity using a Bartlett test. If we reject the null hypothesis, we can also reject the assumption of homoscedasticity."
      ]
    },
    {
      "cell_type": "code",
      "metadata": {
        "id": "qOjzgWhBIBwO",
        "outputId": "75c77a19-ddcd-4741-a947-ef131d7d2307",
        "colab": {
          "base_uri": "https://localhost:8080/"
        }
      },
      "source": [
        "stats.bartlett(autolib_clean['total_bluecars_taken'][autolib_clean['city'] == autox[0]], \n",
        "               autolib_clean['total_bluecars_taken'][autolib_clean['city'] == autox[1]], \n",
        "               autolib_clean['total_bluecars_taken'][autolib_clean['city'] == autox[2]],\n",
        "               autolib_clean['total_bluecars_taken'][autolib_clean['city'] == autox[3]],\n",
        "               autolib_clean['total_bluecars_taken'][autolib_clean['city'] == autox[4]])\n",
        "# Results"
      ],
      "execution_count": 129,
      "outputs": [
        {
          "output_type": "execute_result",
          "data": {
            "text/plain": [
              "BartlettResult(statistic=3456.0889514839955, pvalue=0.0)"
            ]
          },
          "metadata": {
            "tags": []
          },
          "execution_count": 129
        }
      ]
    },
    {
      "cell_type": "code",
      "metadata": {
        "id": "XeyvNArWJa5Z",
        "outputId": "f3441152-660f-45c7-887b-204d2968d9b5",
        "colab": {
          "base_uri": "https://localhost:8080/"
        }
      },
      "source": [
        "stats.bartlett(autolib_clean['total_bluecars_returned'][autolib_clean['city'] == autox[0]], \n",
        "               autolib_clean['total_bluecars_returned'][autolib_clean['city'] == autox[1]], \n",
        "               autolib_clean['total_bluecars_returned'][autolib_clean['city'] == autox[2]],\n",
        "               autolib_clean['total_bluecars_returned'][autolib_clean['city'] == autox[3]],\n",
        "               autolib_clean['total_bluecars_returned'][autolib_clean['city'] == autox[4]])\n",
        "# Results"
      ],
      "execution_count": 131,
      "outputs": [
        {
          "output_type": "execute_result",
          "data": {
            "text/plain": [
              "BartlettResult(statistic=3718.9193111674676, pvalue=0.0)"
            ]
          },
          "metadata": {
            "tags": []
          },
          "execution_count": 131
        }
      ]
    },
    {
      "cell_type": "markdown",
      "metadata": {
        "id": "9TY-ealKJwb7"
      },
      "source": [
        "###step 2.1 power of a test"
      ]
    },
    {
      "cell_type": "markdown",
      "metadata": {
        "id": "99pCCSDxJJ2I"
      },
      "source": [
        "What about our Levene test, which has the same assumption as Bartlett."
      ]
    },
    {
      "cell_type": "code",
      "metadata": {
        "id": "-QHSbLqKJK0h",
        "outputId": "fe45500d-0fec-42c2-8ea3-78678179fdd6",
        "colab": {
          "base_uri": "https://localhost:8080/"
        }
      },
      "source": [
        "stats.levene  (autolib_clean['total_bluecars_taken'][autolib_clean['city'] == autox[0]], \n",
        "               autolib_clean['total_bluecars_taken'][autolib_clean['city'] == autox[1]], \n",
        "               autolib_clean['total_bluecars_taken'][autolib_clean['city'] == autox[2]],\n",
        "               autolib_clean['total_bluecars_taken'][autolib_clean['city'] == autox[3]],\n",
        "               autolib_clean['total_bluecars_taken'][autolib_clean['city'] == autox[4]])\n",
        "# Results"
      ],
      "execution_count": 130,
      "outputs": [
        {
          "output_type": "execute_result",
          "data": {
            "text/plain": [
              "LeveneResult(statistic=365.97687222991254, pvalue=1.2759322517256923e-294)"
            ]
          },
          "metadata": {
            "tags": []
          },
          "execution_count": 130
        }
      ]
    },
    {
      "cell_type": "code",
      "metadata": {
        "id": "SzhHDMZfJrFh",
        "outputId": "92d124e4-d55c-49e7-a881-dd57ce03cdd8",
        "colab": {
          "base_uri": "https://localhost:8080/"
        }
      },
      "source": [
        "stats.levene (autolib_clean['total_bluecars_returned'][autolib_clean['city'] == autox[0]], \n",
        "               autolib_clean['total_bluecars_returned'][autolib_clean['city'] == autox[1]], \n",
        "               autolib_clean['total_bluecars_returned'][autolib_clean['city'] == autox[2]],\n",
        "               autolib_clean['total_bluecars_returned'][autolib_clean['city'] == autox[3]],\n",
        "               autolib_clean['total_bluecars_returned'][autolib_clean['city'] == autox[4]])\n",
        "# Results"
      ],
      "execution_count": 132,
      "outputs": [
        {
          "output_type": "execute_result",
          "data": {
            "text/plain": [
              "LeveneResult(statistic=382.58238039803825, pvalue=3.751787887120449e-307)"
            ]
          },
          "metadata": {
            "tags": []
          },
          "execution_count": 132
        }
      ]
    },
    {
      "cell_type": "markdown",
      "metadata": {
        "id": "t4vBRSA8J9-4"
      },
      "source": [
        "Keep in mind, the Bartlett test can provide incorrect results if the data is non-normal, while Levene’s test is more robust against that type of data. This is why it is possible to get different results from the two tests.\n",
        "Our data is normal so we can proceed to step3"
      ]
    },
    {
      "cell_type": "markdown",
      "metadata": {
        "id": "aOMubcqhKHE8"
      },
      "source": [
        "## step 3:Performing our F-test"
      ]
    },
    {
      "cell_type": "markdown",
      "metadata": {
        "id": "dFI15eLEKrS_"
      },
      "source": [
        "We need to evaluate the F-Statistic against a critical point on the F-Distribution to determine if our result is significant. We’ll get to a more detailed example of how to evaluate that when we get to the ANOVA test."
      ]
    },
    {
      "cell_type": "code",
      "metadata": {
        "id": "lpgqfpCoLPEY",
        "outputId": "547f2c8b-caa4-4b1c-8c56-945b70f46be0",
        "colab": {
          "base_uri": "https://localhost:8080/"
        }
      },
      "source": [
        "stats.f_oneway (autolib_clean['total_bluecars_taken'][autolib_clean['city'] == autox[0]], \n",
        "               autolib_clean['total_bluecars_taken'][autolib_clean['city'] == autox[1]], \n",
        "               autolib_clean['total_bluecars_taken'][autolib_clean['city'] == autox[2]],\n",
        "               autolib_clean['total_bluecars_taken'][autolib_clean['city'] == autox[3]],\n",
        "               autolib_clean['total_bluecars_taken'][autolib_clean['city'] == autox[4]])\n",
        "# Results"
      ],
      "execution_count": 134,
      "outputs": [
        {
          "output_type": "execute_result",
          "data": {
            "text/plain": [
              "F_onewayResult(statistic=437.67114929346326, pvalue=0.0)"
            ]
          },
          "metadata": {
            "tags": []
          },
          "execution_count": 134
        }
      ]
    },
    {
      "cell_type": "code",
      "metadata": {
        "id": "FVrtt9XdKUtT",
        "outputId": "1a66c480-dba6-41f6-ed94-482d48afc0e4",
        "colab": {
          "base_uri": "https://localhost:8080/"
        }
      },
      "source": [
        "stats.f_oneway (autolib_clean['total_bluecars_returned'][autolib_clean['city'] == autox[0]], \n",
        "               autolib_clean['total_bluecars_returned'][autolib_clean['city'] == autox[1]], \n",
        "               autolib_clean['total_bluecars_returned'][autolib_clean['city'] == autox[2]],\n",
        "               autolib_clean['total_bluecars_returned'][autolib_clean['city'] == autox[3]],\n",
        "               autolib_clean['total_bluecars_returned'][autolib_clean['city'] == autox[4]])\n",
        "# Results"
      ],
      "execution_count": 133,
      "outputs": [
        {
          "output_type": "execute_result",
          "data": {
            "text/plain": [
              "F_onewayResult(statistic=442.8999683194956, pvalue=0.0)"
            ]
          },
          "metadata": {
            "tags": []
          },
          "execution_count": 133
        }
      ]
    },
    {
      "cell_type": "code",
      "metadata": {
        "id": "9Ciu_FSnK8Ya"
      },
      "source": [
        "#Our F-statistic of 442.36 suggests the between-groups variance is 442x the within-group variance. \n",
        "#Now we know the ratio of our variances doesn’t equal one, \n",
        "#and the null hypothesis of equal mean values is rejected due to the p value being < 0.05."
      ],
      "execution_count": null,
      "outputs": []
    },
    {
      "cell_type": "code",
      "metadata": {
        "id": "K3KEWXHQL_rH"
      },
      "source": [
        "#the null hypotheses has been rejected which suggests the alternative"
      ],
      "execution_count": null,
      "outputs": []
    },
    {
      "cell_type": "markdown",
      "metadata": {
        "id": "3pugIJ6cMXkd"
      },
      "source": [
        "## step 4:Discussion of Test Sensitivity "
      ]
    },
    {
      "cell_type": "markdown",
      "metadata": {
        "id": "uBlFD-L6M0GA"
      },
      "source": [
        "* >If we were comparing just one set of city in our autolib dataset to a single grouping of any of other four, we could still use a t-test at a 95% CI to compare the two values. Meaning, our Type I error would be constant at 5%.\n",
        "* >However as soon as we add another comparison and used an additional t-test to make we’re increasing the chance of a Type I error. We are adding another test which also has a 5% probability of incorrectly rejecting the null hypothesis.\n",
        "* >Because we’re comparing 5 distinct groups with five tests, instead of just a single t-test, the probability of us calculating a result which is incorrect increase by 1-(1-.05)^5 = 0.03125 instead of just 5%. So the probability of creating a Type-I error is just over 3 in 10 , rather than 5 in 10.\n",
        "* >By using an F-test / ANOVA we can control for these knock-on Type-I errors, by performing a single test. This keeps the probability of incorrectly rejecting H0 at 5%. As well, we can be more confident that any statistically significant results found are not the result of running of test after test.\n"
      ]
    },
    {
      "cell_type": "markdown",
      "metadata": {
        "id": "lCPIlw_OP15c"
      },
      "source": [
        "## step 5:Summary and Conclusions"
      ]
    },
    {
      "cell_type": "markdown",
      "metadata": {
        "id": "YzeVmQ96RSnL"
      },
      "source": [
        "Performing f_oneway leaves much to be desired, and much of the analysis and understanding of the calculation are put in a black box.\n",
        "For instance, do you know:\n",
        "* What are the sum of squares?\n",
        "* How do the coefficient values interact with each other?\n",
        "* The significance of each strata?"
      ]
    },
    {
      "cell_type": "markdown",
      "metadata": {
        "id": "rOYFrHD4Rg5l"
      },
      "source": [
        "* >The Analysis of Variance (ANOVA) will assign the total variation of each independent variable, and tests each for its significance against the dependent variables. And it will illuminate some of the abstraction our one way F-test hid from us.\n",
        "* >To do this we run a regular ols regression of with **total_bluecars_returned** and **total_bluecars_taken** as the dependent variable, and our target **city groups** as the categorical independent variables."
      ]
    },
    {
      "cell_type": "code",
      "metadata": {
        "id": "6nwnW3X2SB_6",
        "outputId": "53b69d1b-7f68-42de-e3b1-8ef39f01ffec",
        "colab": {
          "base_uri": "https://localhost:8080/"
        }
      },
      "source": [
        "import statsmodels.api as sm\n",
        "from statsmodels.formula.api import ols\n",
        "\n",
        "results = ols('total_bluecars_taken ~ C(city)', data=autolib_clean).fit()\n",
        "print(results.summary())"
      ],
      "execution_count": 136,
      "outputs": [
        {
          "output_type": "stream",
          "text": [
            "                             OLS Regression Results                             \n",
            "================================================================================\n",
            "Dep. Variable:     total_bluecars_taken   R-squared:                       0.149\n",
            "Model:                              OLS   Adj. R-squared:                  0.148\n",
            "Method:                   Least Squares   F-statistic:                     437.7\n",
            "Date:                  Mon, 02 Nov 2020   Prob (F-statistic):               0.00\n",
            "Time:                          00:12:40   Log-Likelihood:                -52675.\n",
            "No. Observations:                 10024   AIC:                         1.054e+05\n",
            "Df Residuals:                     10019   BIC:                         1.054e+05\n",
            "Df Model:                             4                                         \n",
            "Covariance Type:              nonrobust                                         \n",
            "================================================================================================\n",
            "                                   coef    std err          t      P>|t|      [0.025      0.975]\n",
            "------------------------------------------------------------------------------------------------\n",
            "Intercept                       11.8590      2.347      5.053      0.000       7.259      16.459\n",
            "C(city)[T.Hauts-de-Seine]       59.8569      2.446     24.473      0.000      55.063      64.651\n",
            "C(city)[T.Seine-Saint_Denis]    22.2093      2.523      8.802      0.000      17.264      27.155\n",
            "C(city)[T.Val-dOise]             6.9385      3.319      2.090      0.037       0.432      13.445\n",
            "C(city)[T.Val-de-Marne]         32.2786      2.546     12.680      0.000      27.289      37.268\n",
            "==============================================================================\n",
            "Omnibus:                     3292.242   Durbin-Watson:                   0.172\n",
            "Prob(Omnibus):                  0.000   Jarque-Bera (JB):            11234.201\n",
            "Skew:                           1.659   Prob(JB):                         0.00\n",
            "Kurtosis:                       6.985   Cond. No.                         13.5\n",
            "==============================================================================\n",
            "\n",
            "Warnings:\n",
            "[1] Standard Errors assume that the covariance matrix of the errors is correctly specified.\n"
          ],
          "name": "stdout"
        }
      ]
    },
    {
      "cell_type": "code",
      "metadata": {
        "id": "8z-PuHx7Tvq4"
      },
      "source": [
        "# Let's pull out the really important numbers\n",
        "F(df model, df residuals) = F(4, 10019) = F-stat = 437.7\n",
        "Prob (F-stat): 0.00 "
      ],
      "execution_count": null,
      "outputs": []
    },
    {
      "cell_type": "code",
      "metadata": {
        "id": "bfViELRFUKXP"
      },
      "source": [
        "#We get the same F-statistic as before \n",
        "#we’re still rejecting H0 so nothing has changed there \n",
        "#and we’re also able to break it down more, as we have more information on how our result calculated."
      ],
      "execution_count": null,
      "outputs": []
    },
    {
      "cell_type": "markdown",
      "metadata": {
        "id": "MrEO4YP1Xfjz"
      },
      "source": [
        "* >**What does a very low F-statistic mean?**\n",
        "It implies there is a low variability between the means of each group, relative to the variability within each group. It would be harder to reject the null hypothesis of different means, as our critical value would most likely be larger than our F-statistic.\n",
        "* >**What does a high F statistic mean?**\n",
        "Opposite from the above, the variability between group means is much larger than within the group. It will be much easier to reject the null hypothesis that the group means are equal, as our F-statistic will be quite high.\n",
        "* >**our case?**\n",
        "High F statistic which makes it easy to reject the null hypotheses that the stratas means are equal as our F-statistic is** high 437.7**\n",
        "* >**Interpretation**\n",
        "> Null Hypothesis: Motorists who use Autolibs'Blue Car during the weekend are from Hauts-de-Seine\n",
        ">> Ho : μ1 = μ2\n",
        "> Alternative Hypothesis: Motorists who use Autolibs'Blue Car during the weekend not from Hauts-de-Seine.\n",
        ">> Ha : μ1 ≠ μ2 \n",
        "meaning all our groups(stratas) are significant to the project.And they(samples) are a representaion of the true population."
      ]
    },
    {
      "cell_type": "markdown",
      "metadata": {
        "id": "mvTVwt-aUja6"
      },
      "source": [
        "## Further Analysis\n",
        "* >Let’s take a look at coef for each of our target city. Our Hauts-de-Seine is 59.8.11 is the intercept of our model, and the base difference in mean values for our other cities. If you check the box plot earlier in the article, you can see just how much greater it is than the other four city types.\n",
        "* >Furthermore, the ANOVA reports the Durban-Watson (DW) result at 0.172 .Generally if our DW stat is not 1.5 < DW < 2.5 we should look into if the assumptions were violated, but in this case we’re** not fine** as our result is ** not within** this range.\n",
        "* >The Cond. No. or Condition Number checks for multicollinearity within our data if the results is over 20. Luckily the results from statsmodels will print this warning with your output, so just keep an eye out for this. Our result is 13.5 so we don’t need to worry.\n",
        "* >Finally, the Jarque-Bera (JB) number further checks our previous assumption of normality with our data. I know we went through this before with the Shapiro-Wilks test, but this is one final check. As the JB number trends to 0, the more our data is assumed to be normally distributed with a skew of 1.659 and a kurtosis of 6.985. Our number is 11234.201, which **accepts the normality**assumption."
      ]
    },
    {
      "cell_type": "code",
      "metadata": {
        "id": "d_wzKA4JUi7R"
      },
      "source": [
        ""
      ],
      "execution_count": null,
      "outputs": []
    }
  ]
}