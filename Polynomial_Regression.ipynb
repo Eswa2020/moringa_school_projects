{
  "nbformat": 4,
  "nbformat_minor": 0,
  "metadata": {
    "colab": {
      "name": "Polynomial Regression.ipynb",
      "provenance": [],
      "toc_visible": true,
      "include_colab_link": true
    },
    "kernelspec": {
      "name": "python3",
      "display_name": "Python 3"
    }
  },
  "cells": [
    {
      "cell_type": "markdown",
      "metadata": {
        "id": "view-in-github",
        "colab_type": "text"
      },
      "source": [
        "<a href=\"https://colab.research.google.com/github/Eswa2020/moringa_school_projects/blob/master/Polynomial_Regression.ipynb\" target=\"_parent\"><img src=\"https://colab.research.google.com/assets/colab-badge.svg\" alt=\"Open In Colab\"/></a>"
      ]
    },
    {
      "cell_type": "markdown",
      "metadata": {
        "id": "X6fnxjPMh87f"
      },
      "source": [
        "# <font color=\"green\">Polynomial Regression in Python</font>"
      ]
    },
    {
      "cell_type": "markdown",
      "metadata": {
        "id": "cQrBa1eIxgNj"
      },
      "source": [
        "# <font color=\"green\">Example 1</font> \n"
      ]
    },
    {
      "cell_type": "markdown",
      "metadata": {
        "id": "DONC8-1iyE9D"
      },
      "source": [
        "Let's look at a practical way of performing a polynomial regression.\n",
        "\n",
        "In this example we are going to predict the salary of a candidate given the experience the candidate has. The HR of Sanford and Sons Limited, is looking to hire for a senior postion in the company. As a policy, the company has a salary distribution dataset that they use to determine how much salary to give to their employees based on their experience. As a data scientist, you are tasked creating a model that will help them with making salary predictions given  years of experience. In this case, we want to predict the amount of salary a canditate with 6 and half years of experience should get. You are provided with following dataset.\n",
        "\n",
        "[Download Dataset](https://drive.google.com/file/d/153tLxmGZxDhVmh2o0wUP8UjFPZPmW0Ux/view?usp=sharing)"
      ]
    },
    {
      "cell_type": "markdown",
      "metadata": {
        "id": "mJfuckv17tQQ"
      },
      "source": [
        "**Import Libraries**"
      ]
    },
    {
      "cell_type": "code",
      "metadata": {
        "id": "hcEDgdZd72YS"
      },
      "source": [
        "#Import libaries\n",
        "import numpy as np\n",
        "import pandas as pd\n",
        "import matplotlib.pyplot as plt\n",
        "\n",
        "from sklearn.preprocessing import PolynomialFeatures\n",
        "\n",
        "from sklearn.model_selection import train_test_split\n",
        "\n",
        "# Import LinearRegression method from sklearn linear_model library\n",
        "from sklearn.linear_model import LinearRegression\n"
      ],
      "execution_count": 1,
      "outputs": []
    },
    {
      "cell_type": "markdown",
      "metadata": {
        "id": "9xnxzHXf8ZTP"
      },
      "source": [
        "**Load data**"
      ]
    },
    {
      "cell_type": "code",
      "metadata": {
        "id": "FUXiOEgg8jPp",
        "outputId": "1ca2ad27-ac40-4ad2-a17e-b00274fa70c8",
        "colab": {
          "base_uri": "https://localhost:8080/"
        }
      },
      "source": [
        "# Load the dataset\n",
        "dataset = pd.read_csv('/content/position_salaries.csv')\n",
        "\n",
        "print(dataset)\n",
        "\n",
        "#Get the 2 and the last column from the dataset \n",
        "X = dataset.iloc[:, 1:2].values\n",
        "y = dataset.iloc[:, 2].values\n",
        "print(X)\n",
        "print(y)"
      ],
      "execution_count": 2,
      "outputs": [
        {
          "output_type": "stream",
          "text": [
            "            Position  Level   Salary\n",
            "0   Business Analyst      1    45000\n",
            "1  Junior Consultant      2    50000\n",
            "2  Senior Consultant      3    60000\n",
            "3            Manager      4    80000\n",
            "4    Country Manager      5   110000\n",
            "5     Region Manager      6   150000\n",
            "6            Partner      7   200000\n",
            "7     Senior Partner      8   300000\n",
            "8            C-level      9   500000\n",
            "9                CEO     10  1000000\n",
            "[[ 1]\n",
            " [ 2]\n",
            " [ 3]\n",
            " [ 4]\n",
            " [ 5]\n",
            " [ 6]\n",
            " [ 7]\n",
            " [ 8]\n",
            " [ 9]\n",
            " [10]]\n",
            "[  45000   50000   60000   80000  110000  150000  200000  300000  500000\n",
            " 1000000]\n"
          ],
          "name": "stdout"
        }
      ]
    },
    {
      "cell_type": "markdown",
      "metadata": {
        "id": "miJnKMeV9CTU"
      },
      "source": [
        "**Analysis of the data**"
      ]
    },
    {
      "cell_type": "code",
      "metadata": {
        "id": "eyc8b6Dq-FQC",
        "outputId": "1bb9b39e-9b6c-494f-cfb9-881a49eccb72",
        "colab": {
          "base_uri": "https://localhost:8080/",
          "height": 296
        }
      },
      "source": [
        "# Since our dataset is pretty clean, let's start by visualizing our dataset by plotting a scatter plot\n",
        "\n",
        "plt.scatter(X, y, color='blue') \n",
        "plt.title('Salary')\n",
        "plt.xlabel('Position Level')\n",
        "plt.ylabel('Salary')\n",
        "plt.show()"
      ],
      "execution_count": 3,
      "outputs": [
        {
          "output_type": "display_data",
          "data": {
            "image/png": "[encoded data removed]",
            "text/plain": [
              "<Figure size 432x288 with 1 Axes>"
            ]
          },
          "metadata": {
            "tags": [],
            "needs_background": "light"
          }
        }
      ]
    },
    {
      "cell_type": "markdown",
      "metadata": {
        "id": "n3Nm7UEW_Zvz"
      },
      "source": [
        "**Observation**\n",
        "\n",
        "From the scatter plot, the data does not appear to be linear. So if were to fit a simple linear straight line, it would not cover most of the points. Which is why applying Linear regression on this dataset would not give us the correct value.\n",
        "\n",
        "The other alternative we are left with is applying polynomial regression.\n",
        "\n",
        "**Manual prediction**\n",
        "\n",
        "Before we dive into polynomial regression, let's do some manual prediction of own and then we can compare the results we get to the results we'll get after doing polynomial regression in a short while.\n",
        "\n",
        "From our problem statement, we need to predict the salary of a candidate with 6.5 years of experience. From our dataset, we already know the salary for  candidates with 6 and 7 years of experience which is Ksh 150,000 and Ksh 200,000 respectively.This means that the salary for a candidate with 6.5 years of experience lies between this two years.Therefore, all we need to do is get the mean of this two years, right?\n",
        "\n",
        "(150,000 + 200,000)/ 2 = KSh 175,000\n",
        "\n",
        "From this, we can conclude that the desired salary is 175,000\n",
        "\n",
        "Now let's do it using polynomial regression "
      ]
    },
    {
      "cell_type": "markdown",
      "metadata": {
        "id": "wz5qKJgkFcZB"
      },
      "source": [
        "**Polynomial Regression**"
      ]
    },
    {
      "cell_type": "code",
      "metadata": {
        "id": "eGVsFvrKKF9N",
        "outputId": "b5b77691-2abf-41fc-f124-47ed501e6ba1",
        "colab": {
          "base_uri": "https://localhost:8080/",
          "height": 574
        }
      },
      "source": [
        "# Split the dataset into train and test sets\n",
        "X_train, Y_train, X_test, Y_test = train_test_split(X,y, test_size = 0.2, random_state=0)\n",
        "\n",
        "\n",
        "# Fit Linear Regression model to the dataset(this is optional. We are doing this for the sole purpose of comparing the linear regression model to the polynomial regression model)\n",
        "reg_line = LinearRegression()\n",
        "reg_line.fit(X,y)\n",
        "\n",
        "# Visualize the Linear Regression results\n",
        "plt.scatter(X, y, color='blue') # You can put any color you like. This just helps us highlight the data points\n",
        "plt.plot(X, reg_line.predict(X), color='red')\n",
        "plt.title('Salary Prediction(Linear Regression)')\n",
        "plt.xlabel('Position Level')\n",
        "plt.ylabel('Salary')\n",
        "plt.show()\n",
        "\n",
        "\n",
        "# Fit polynomial Regression to the dataset\n",
        "poly_reg = PolynomialFeatures(degree = 2) \n",
        "X_poly = poly_reg.fit_transform(X)\n",
        "\n",
        "\n",
        "pol_reg = LinearRegression()\n",
        "pol_reg.fit(X_poly, y)\n",
        "\n",
        "#Visualize the Polynomial Regression results\n",
        "plt.scatter(X, y, color='blue') # You can put any color you like. This just helps us highlight the data points\n",
        "plt.plot(X, pol_reg.predict(X_poly), color='red')\n",
        "plt.title('Salary Prediction (Polynomial Regression)')\n",
        "plt.xlabel('Position Level')\n",
        "plt.ylabel('Salary')\n",
        "plt.show()\n",
        "\n",
        "# pol_reg.predict(poly_reg.fit_transform([[5.5]]))\n",
        "\n",
        "\n"
      ],
      "execution_count": 4,
      "outputs": [
        {
          "output_type": "display_data",
          "data": {
            "image/png": "[encoded data removed]",
            "text/plain": [
              "<Figure size 432x288 with 1 Axes>"
            ]
          },
          "metadata": {
            "tags": [],
            "needs_background": "light"
          }
        },
        {
          "output_type": "display_data",
          "data": {
            "image/png": "[encoded data removed]",
            "text/plain": [
              "<Figure size 432x288 with 1 Axes>"
            ]
          },
          "metadata": {
            "tags": [],
            "needs_background": "light"
          }
        }
      ]
    },
    {
      "cell_type": "markdown",
      "metadata": {
        "id": "dC1ZQqSaIZoZ"
      },
      "source": [
        "**Code Explanation**\n",
        " \n",
        "Remember earlier on we said that a polynomial equation is written in the form;\n",
        "\n",
        "y = b0+b1x+b2x^2.....bnx^n\n",
        "\n",
        "Therefore,everytime we add an  nth degree of polynomial x its considered as though we are adding a feature.\n",
        "\n",
        "So the function \n",
        "\n",
        "\n",
        "```\n",
        "PolynomialFeatures(degree = 2)\n",
        "```\n",
        "\n",
        "\n",
        "helps us to add the degree polynomial x.For example, in our code we have specified the degree to be 2 hence the equation would look like this\n",
        "\n",
        "y = b0+b1x+b2x^2\n",
        "\n",
        "\n",
        "On the next line, we fit and transform our X independent variable into a format that has the polynomial features\n",
        "\n",
        "Next, we apply our polynomial feature to linear regression. \n",
        "\n"
      ]
    },
    {
      "cell_type": "markdown",
      "metadata": {
        "id": "kXwqH8BhW8OF"
      },
      "source": [
        "**Observation**\n",
        "\n",
        "Looking at the two graphs, we can clearly see that the polynomial graph has given us way better results than the simple linear one.\n",
        "\n",
        "Using the polynomial graph it becomes easier to draw meaningful conclusion from it. However, the curve is not passing through as many points as we'd want hence we can say that this graph is not fully optimized."
      ]
    },
    {
      "cell_type": "markdown",
      "metadata": {
        "id": "-sKhhgoCZN5Q"
      },
      "source": [
        "**Optimization in Polynomial Regression**\n",
        "\n",
        "How do we choose an optimal model?\n",
        "\n",
        "For us to answer this question, we need to first understand this 3 very important terms\n",
        "\n",
        "\n",
        "1.   Bias\n",
        "2.   Variance\n",
        "\n",
        "\n",
        "**Bias**: This is the error we get due to the model's simplistic assumptions when fitting a dataset. In other words, a high bias translates to the model being unable to capture the pattern in a dataset. As a result, it leads to **under-fitting**. A perfect example is when we tried to use simple linear regression in our dataset.\n",
        "\n",
        "**Variance**: Unlike bias, this is the error we get due to trying to fit a complex model to our data. A high variance translates to the model passing through most of the data points, leading to **over-fitting**. This is not good because the model will fail to generalise on unseen data. This means that if we subject the model to another dataset it will fail to fit the pattern . \n",
        "\n",
        "Therefore, for us to choose an optimal model the model needs to have a low bias and a low varinace.That is to say the model should not capture too many data points and at the same time its should not capture very few data points. \n",
        "\n",
        "So now let's optimize our model\n",
        "\n",
        "\n",
        "\n"
      ]
    },
    {
      "cell_type": "code",
      "metadata": {
        "id": "p1IBBtLAg6RW",
        "outputId": "c3b11376-fc1a-4e2a-e262-f10f2dc8c3d2",
        "colab": {
          "base_uri": "https://localhost:8080/",
          "height": 296
        }
      },
      "source": [
        "# To improve on the model, all we need to do is to increase degree of the polynomial\n",
        "# Let's increase the degree to 3\n",
        "\n",
        "# Fit polynomial Regression to the dataset\n",
        "poly_reg = PolynomialFeatures(degree = 3) \n",
        "X_poly = poly_reg.fit_transform(X)\n",
        "\n",
        "\n",
        "pol_reg = LinearRegression()\n",
        "pol_reg.fit(X_poly, y)\n",
        "\n",
        "#Visualize the Polynomial Regression results\n",
        "plt.scatter(X, y, color='blue') # You can put any color you like. This just helps us highlight the data points\n",
        "plt.plot(X, pol_reg.predict(X_poly), color='red')\n",
        "plt.title('Salary Prediction (Polynomial Regression)')\n",
        "plt.xlabel('Position Level')\n",
        "plt.ylabel('Salary')\n",
        "plt.show()"
      ],
      "execution_count": 5,
      "outputs": [
        {
          "output_type": "display_data",
          "data": {
            "image/png": "[encoded data removed]",
            "text/plain": [
              "<Figure size 432x288 with 1 Axes>"
            ]
          },
          "metadata": {
            "tags": [],
            "needs_background": "light"
          }
        }
      ]
    },
    {
      "cell_type": "markdown",
      "metadata": {
        "id": "7jmdajSDiq1m"
      },
      "source": [
        "**Observation**\n",
        "\n",
        "When we increase the degree to 3, the curve captures slightly more data points."
      ]
    },
    {
      "cell_type": "code",
      "metadata": {
        "id": "cYNew_n7jL1d",
        "outputId": "e6246786-6d52-48a9-a94f-65fca0b6119a",
        "colab": {
          "base_uri": "https://localhost:8080/",
          "height": 296
        }
      },
      "source": [
        "# Let's improve it the model further\n",
        "\n",
        "# Fit polynomial Regression to the dataset\n",
        "poly_reg = PolynomialFeatures(degree = 6) \n",
        "X_poly = poly_reg.fit_transform(X)\n",
        "\n",
        "\n",
        "pol_reg = LinearRegression()\n",
        "pol_reg.fit(X_poly, y)\n",
        "\n",
        "#Visualize the Polynomial Regression results\n",
        "plt.scatter(X, y, color='blue') # You can put any color you like. This just helps us highlight the data points\n",
        "plt.plot(X, pol_reg.predict(X_poly), color='red')\n",
        "plt.title('Salary Prediction (Polynomial Regression)')\n",
        "plt.xlabel('Position Level')\n",
        "plt.ylabel('Salary')\n",
        "plt.show()"
      ],
      "execution_count": 6,
      "outputs": [
        {
          "output_type": "display_data",
          "data": {
            "image/png": "[encoded data removed]",
            "text/plain": [
              "<Figure size 432x288 with 1 Axes>"
            ]
          },
          "metadata": {
            "tags": [],
            "needs_background": "light"
          }
        }
      ]
    },
    {
      "cell_type": "markdown",
      "metadata": {
        "id": "18OUnCvNjcm-"
      },
      "source": [
        "**Observation**\n",
        "\n",
        "When we increase the degree to 6, the model is able to capture all of the data points. This is an example of over-fitting. This model is simply too perfect which is not good for us when we using an unseen data."
      ]
    },
    {
      "cell_type": "code",
      "metadata": {
        "id": "x77UTOG1kNN2",
        "outputId": "fa29a684-7754-4e61-982e-23c5989e43d0",
        "colab": {
          "base_uri": "https://localhost:8080/",
          "height": 296
        }
      },
      "source": [
        "# Now we know where our cap is, let's decrease the degrees slightly \n",
        "\n",
        "# Fit polynomial Regression to the dataset\n",
        "poly_reg_4 = PolynomialFeatures(degree = 4) \n",
        "X_poly = poly_reg_4.fit_transform(X)\n",
        "\n",
        "\n",
        "pol_reg = LinearRegression()\n",
        "pol_reg.fit(X_poly, y)\n",
        "\n",
        "#Visualize the Polynomial Regression results\n",
        "plt.scatter(X, y, color='blue') # You can put any color you like. This just helps us highlight the data points\n",
        "plt.plot(X, pol_reg.predict(X_poly), color='red')\n",
        "plt.title('Salary Prediction (Polynomial Regression)')\n",
        "plt.xlabel('Position Level')\n",
        "plt.ylabel('Salary')\n",
        "plt.show()"
      ],
      "execution_count": 7,
      "outputs": [
        {
          "output_type": "display_data",
          "data": {
            "image/png": "[encoded data removed]",
            "text/plain": [
              "<Figure size 432x288 with 1 Axes>"
            ]
          },
          "metadata": {
            "tags": [],
            "needs_background": "light"
          }
        }
      ]
    },
    {
      "cell_type": "markdown",
      "metadata": {
        "id": "OiQRbRSSk0EF"
      },
      "source": [
        "**Obsevartion**\n",
        "\n",
        "We can conclude that this is a pretty good model because it passes just about the right amoung of points and also the  distance from the curve to the points that it does not pass through is at a minimum. Hence, we can use this model to make our predictions."
      ]
    },
    {
      "cell_type": "markdown",
      "metadata": {
        "id": "8IABpBSZuW1g"
      },
      "source": [
        "**Making Predictions**\n",
        "\n",
        "The final step is use the model we created to make the our desired prediction.\n",
        "\n",
        "To check how accurate polynomial regression is, we are going to predict the salary using both linear regression and polynomial regression"
      ]
    },
    {
      "cell_type": "code",
      "metadata": {
        "id": "kR-M0RXZweuX",
        "outputId": "056a1866-4679-4610-e9f8-8a2165195f5a",
        "colab": {
          "base_uri": "https://localhost:8080/"
        }
      },
      "source": [
        "# Predict using linear regression\n",
        "lin_pred = reg_line.predict([[6.5]])\n",
        "print('Linear prediction: %d' %lin_pred)\n",
        "\n",
        "# Predict using Polynomial Regression\n",
        "poly_pred = pol_reg.predict(poly_reg_4.fit_transform([[6.5]]))\n",
        "print('Polynomial prediction: %d' %poly_pred)\n",
        "\n",
        "# We can also get the predictions as an array\n",
        "poly_arr_pred = pol_reg.predict(poly_reg_4.fit_transform(X))"
      ],
      "execution_count": 8,
      "outputs": [
        {
          "output_type": "stream",
          "text": [
            "Linear prediction: 330378\n",
            "Polynomial prediction: 158862\n"
          ],
          "name": "stdout"
        }
      ]
    },
    {
      "cell_type": "markdown",
      "metadata": {
        "id": "7aKkBsgnFnNs"
      },
      "source": [
        "**Conclusion**\n",
        "\n",
        "The predicted salary using linear regression is Ksh 330,379. This is not accepteable because it falls out of the range Ksh 150,000 and 200,000.\n",
        "\n",
        "On the other hand,the predicted salary using polynomial regression is Ksh 158,862"
      ]
    },
    {
      "cell_type": "markdown",
      "metadata": {
        "id": "fv9VRI1n9pIb"
      },
      "source": [
        "# <font color=\"green\">Challenges</font>\n"
      ]
    },
    {
      "cell_type": "code",
      "metadata": {
        "id": "gHJa-iFU91TH",
        "outputId": "3667c366-fc42-45c5-b77c-7e501e551220",
        "colab": {
          "base_uri": "https://localhost:8080/",
          "height": 188
        }
      },
      "source": [
        "# Challenge 1\n",
        "# You are given a dataset that contains the prices and other attributes of diamonds. The dataset has 9 columns: Carat, color, cut, clarity, depth, table, price, x, y, z.\n",
        "# carat: Carat weight of the diamond\n",
        "# cut: Describes cut quality of the diamond. Quality in increasing order Fair, Good, Very Good, Premium, Ideal\n",
        "# color: Color of the diamond, with D being the best and J the worst\n",
        "# clarity: How obvious inclusions are within the diamond:(in order from best to worst, FL = flawless, I3= level 3 inclusions) FL,IF, VVS1, VVS2, VS1, VS2, SI1, SI2, I1, I2, I3\n",
        "# depth % :The height of a diamond, measured from the culet to the table, divided by its average girdle diameter\n",
        "# table %: The width of the diamond's table expressed as a percentage of its average diameter\n",
        "# price: The price of the diamond\n",
        "# x: length mm\n",
        "# y: width mm\n",
        "# z: depth mm\n",
        "# Your task is to predict the prices of diamonds given carat weight\n",
        "# Here is the dataset: https://drive.google.com/file/d/1lSgupNhVwXzR9aXbz2G0VwKQGEpx6pFl/view?usp=sharing\n",
        "\n",
        "# Load the dataset\n",
        "diamonds = pd.read_csv('/content/diamonds.csv',index_col=0)\n",
        "diamonds.head()\n",
        "\n",
        "\n",
        "\n",
        "\n"
      ],
      "execution_count": 29,
      "outputs": [
        {
          "output_type": "execute_result",
          "data": {
            "text/html": [
              "<div>\n",
              "<style scoped>\n",
              "    .dataframe tbody tr th:only-of-type {\n",
              "        vertical-align: middle;\n",
              "    }\n",
              "\n",
              "    .dataframe tbody tr th {\n",
              "        vertical-align: top;\n",
              "    }\n",
              "\n",
              "    .dataframe thead th {\n",
              "        text-align: right;\n",
              "    }\n",
              "</style>\n",
              "<table border=\"1\" class=\"dataframe\">\n",
              "  <thead>\n",
              "    <tr style=\"text-align: right;\">\n",
              "      <th></th>\n",
              "      <th>carat</th>\n",
              "      <th>cut</th>\n",
              "      <th>color</th>\n",
              "      <th>clarity</th>\n",
              "      <th>depth</th>\n",
              "      <th>table</th>\n",
              "      <th>price</th>\n",
              "      <th>x</th>\n",
              "      <th>y</th>\n",
              "      <th>z</th>\n",
              "    </tr>\n",
              "  </thead>\n",
              "  <tbody>\n",
              "    <tr>\n",
              "      <th>1</th>\n",
              "      <td>0.23</td>\n",
              "      <td>Ideal</td>\n",
              "      <td>E</td>\n",
              "      <td>SI2</td>\n",
              "      <td>61.5</td>\n",
              "      <td>55.0</td>\n",
              "      <td>326</td>\n",
              "      <td>3.95</td>\n",
              "      <td>3.98</td>\n",
              "      <td>2.43</td>\n",
              "    </tr>\n",
              "    <tr>\n",
              "      <th>2</th>\n",
              "      <td>0.21</td>\n",
              "      <td>Premium</td>\n",
              "      <td>E</td>\n",
              "      <td>SI1</td>\n",
              "      <td>59.8</td>\n",
              "      <td>61.0</td>\n",
              "      <td>326</td>\n",
              "      <td>3.89</td>\n",
              "      <td>3.84</td>\n",
              "      <td>2.31</td>\n",
              "    </tr>\n",
              "    <tr>\n",
              "      <th>3</th>\n",
              "      <td>0.23</td>\n",
              "      <td>Good</td>\n",
              "      <td>E</td>\n",
              "      <td>VS1</td>\n",
              "      <td>56.9</td>\n",
              "      <td>65.0</td>\n",
              "      <td>327</td>\n",
              "      <td>4.05</td>\n",
              "      <td>4.07</td>\n",
              "      <td>2.31</td>\n",
              "    </tr>\n",
              "    <tr>\n",
              "      <th>4</th>\n",
              "      <td>0.29</td>\n",
              "      <td>Premium</td>\n",
              "      <td>I</td>\n",
              "      <td>VS2</td>\n",
              "      <td>62.4</td>\n",
              "      <td>58.0</td>\n",
              "      <td>334</td>\n",
              "      <td>4.20</td>\n",
              "      <td>4.23</td>\n",
              "      <td>2.63</td>\n",
              "    </tr>\n",
              "    <tr>\n",
              "      <th>5</th>\n",
              "      <td>0.31</td>\n",
              "      <td>Good</td>\n",
              "      <td>J</td>\n",
              "      <td>SI2</td>\n",
              "      <td>63.3</td>\n",
              "      <td>58.0</td>\n",
              "      <td>335</td>\n",
              "      <td>4.34</td>\n",
              "      <td>4.35</td>\n",
              "      <td>2.75</td>\n",
              "    </tr>\n",
              "  </tbody>\n",
              "</table>\n",
              "</div>"
            ],
            "text/plain": [
              "   carat      cut color clarity  depth  table  price     x     y     z\n",
              "1   0.23    Ideal     E     SI2   61.5   55.0    326  3.95  3.98  2.43\n",
              "2   0.21  Premium     E     SI1   59.8   61.0    326  3.89  3.84  2.31\n",
              "3   0.23     Good     E     VS1   56.9   65.0    327  4.05  4.07  2.31\n",
              "4   0.29  Premium     I     VS2   62.4   58.0    334  4.20  4.23  2.63\n",
              "5   0.31     Good     J     SI2   63.3   58.0    335  4.34  4.35  2.75"
            ]
          },
          "metadata": {
            "tags": []
          },
          "execution_count": 29
        }
      ]
    },
    {
      "cell_type": "code",
      "metadata": {
        "id": "Gt0riO7x1lQn",
        "outputId": "2a7420cb-d706-4806-e1a8-a126adfba329",
        "colab": {
          "base_uri": "https://localhost:8080/"
        }
      },
      "source": [
        "diamonds.shape"
      ],
      "execution_count": 38,
      "outputs": [
        {
          "output_type": "execute_result",
          "data": {
            "text/plain": [
              "(53940, 10)"
            ]
          },
          "metadata": {
            "tags": []
          },
          "execution_count": 38
        }
      ]
    },
    {
      "cell_type": "code",
      "metadata": {
        "id": "XqB2ljK80Bhe"
      },
      "source": [
        "x1 = diamonds['carat'].values.reshape(-1,1)\n",
        "\n",
        "y1 = diamonds['price'].values.reshape(-1,1)\n"
      ],
      "execution_count": 35,
      "outputs": []
    },
    {
      "cell_type": "code",
      "metadata": {
        "id": "5B-wDYj7x9gD",
        "outputId": "3f317609-ad19-4f4c-d0b7-ab64453e2da2",
        "colab": {
          "base_uri": "https://localhost:8080/"
        }
      },
      "source": [
        "#Split the dataset into train and test sets\n",
        "x1_train, y1_train, x1_test, y1_test = train_test_split(x1,y1, test_size = 0.3, random_state=0)\n",
        "\n",
        "\n",
        "# Fit Linear Regression model to the dataset(this is optional. We are doing this for the sole purpose of comparing the linear regression model to the polynomial regression model)\n",
        "reg_line = LinearRegression()\n",
        "reg_line.fit(x1,y1)\n",
        "\n",
        "#Fit polynomial Regression to the dataset\n",
        "poly_reg = PolynomialFeatures(degree = 4) \n",
        "x1_poly = poly_reg.fit_transform(x1)\n",
        "\n",
        "pol_reg = LinearRegression()\n",
        "pol_reg.fit(x1_poly, y1)"
      ],
      "execution_count": 43,
      "outputs": [
        {
          "output_type": "execute_result",
          "data": {
            "text/plain": [
              "LinearRegression(copy_X=True, fit_intercept=True, n_jobs=None, normalize=False)"
            ]
          },
          "metadata": {
            "tags": []
          },
          "execution_count": 43
        }
      ]
    },
    {
      "cell_type": "code",
      "metadata": {
        "id": "aVMWj7-e0yU6",
        "outputId": "a6a778f0-c565-441e-a37c-788a03e92c73",
        "colab": {
          "base_uri": "https://localhost:8080/",
          "height": 296
        }
      },
      "source": [
        "\n",
        "#Visualize the Polynomial Regression results\n",
        "plt.scatter(x1, y1, color='blue') # You can put any color you like. This just helps us highlight the data points\n",
        "plt.plot(x1, pol_reg.predict(x1_poly), color='red')\n",
        "plt.title('diamond price Prediction (Polynomial Regression)')\n",
        "plt.xlabel('carat')\n",
        "plt.ylabel('price')\n",
        "plt.show()"
      ],
      "execution_count": 44,
      "outputs": [
        {
          "output_type": "display_data",
          "data": {
            "image/png": "[encoded data removed]",
            "text/plain": [
              "<Figure size 432x288 with 1 Axes>"
            ]
          },
          "metadata": {
            "tags": [],
            "needs_background": "light"
          }
        }
      ]
    },
    {
      "cell_type": "code",
      "metadata": {
        "id": "O9jzdnBV10w7"
      },
      "source": [
        "# Predict using linear regression\n",
        "lin_pred = reg_line.predict([[6.5]])\n",
        "print('Linear prediction: %d' %lin_pred)\n",
        "\n",
        "# Predict using Polynomial Regression\n",
        "poly_pred = pol_reg.predict(poly_reg_4.fit_transform([[6.5]]))\n",
        "print('Polynomial prediction: %d' %poly_pred)\n",
        "\n",
        "# We can also get the predictions as an array\n",
        "poly_arr_pred = pol_reg.predict(poly_reg_4.fit_transform(X))"
      ],
      "execution_count": null,
      "outputs": []
    },
    {
      "cell_type": "code",
      "metadata": {
        "id": "Ezh0hqhRNSwE"
      },
      "source": [
        "# Challenge 2\n",
        "# The dataset for this challenge represents the physicochemical tests of wine and the quality of wine as a result of these physicochemical tests. Here's a brief description of the columns\n",
        "# volatile acidity: The amount of acetic acid in wine, which at too high of levels can lead to an unpleasant, vinegar taste\n",
        "# citric acid: Found in small quantities, citric acid can add 'freshness' and flavor to wines\n",
        "# residual sugar: The amount of sugar remaining after fermentation stops, it's rare to find wines with less than 1 gram/liter and wines with greater than 45 grams/liter are considered sweet\n",
        "# chlorides: The amount of salt in the wine\n",
        "# free sulfur dioxide: The free form of SO2 exists in equilibrium between molecular SO2 (as a dissolved gas) and bisulfite ion; it prevents microbial growth and the oxidation of wine\n",
        "# total sulfur dioxide: Amount of free and bound forms of S02; in low concentrations, SO2 is mostly undetectable in wine, but at free SO2 concentrations over 50 ppm, SO2 becomes evident in the nose and taste of wine\n",
        "# density: The density of water is close to that of water depending on the percent alcohol and sugar content\n",
        "# pH: Describes how acidic or basic a wine is on a scale from 0 (very acidic) to 14 (very basic); most wines are between 3-4 on the pH scale\n",
        "# sulphates: A wine additive which can contribute to sulfur dioxide gas (S02) levels, wich acts as an antimicrobial and antioxidant\n",
        "# alcohol: The percent alcohol content of the wine\n",
        "# quality: Output variable (based on sensory data, score between 0 and 10)\n",
        "\n",
        "# Here is a link to the dataset: https://drive.google.com/open?id=1cctsp46KVzNKGAK0kLl3mY6wRTDlUBp4\n",
        "\n",
        "# Use polynomial regression to predict quality of wine using the physiochemical tests\n",
        "\n",
        "# Hint:Try to get how well your model has been fitted using RMSE without necessarily plotting a graph\n",
        "\n",
        "Your code goes here"
      ],
      "execution_count": null,
      "outputs": []
    }
  ]
}