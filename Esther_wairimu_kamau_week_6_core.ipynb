{
  "nbformat": 4,
  "nbformat_minor": 0,
  "metadata": {
    "colab": {
      "name": "Esther_wairimu_kamau_week_6_core",
      "provenance": [],
      "collapsed_sections": [],
      "toc_visible": true,
      "include_colab_link": true
    },
    "kernelspec": {
      "name": "python3",
      "display_name": "Python 3"
    }
  },
  "cells": [
    {
      "cell_type": "markdown",
      "metadata": {
        "id": "view-in-github",
        "colab_type": "text"
      },
      "source": [
        "<a href=\"https://colab.research.google.com/github/Eswa2020/moringa_school_projects/blob/master/Esther_wairimu_kamau_week_6_core.ipynb\" target=\"_parent\"><img src=\"https://colab.research.google.com/assets/colab-badge.svg\" alt=\"Open In Colab\"/></a>"
      ]
    },
    {
      "cell_type": "markdown",
      "metadata": {
        "id": "kLG2VTrnTvYL"
      },
      "source": [
        "## 1. Defining the Question"
      ]
    },
    {
      "cell_type": "markdown",
      "metadata": {
        "id": "XecOwPNorl2W"
      },
      "source": [
        "###  a)Specifying the Question"
      ]
    },
    {
      "cell_type": "markdown",
      "metadata": {
        "id": "8l3-hBO6bODP"
      },
      "source": [
        "\n",
        "**Problem statement:**\n",
        "You have been recruited as a football data analyst in a company -    **Mchezopesa Ltd **and tasked to accomplish the task below.\n",
        "\n",
        "A prediction result of a game between team 1 and team 2, based on who's home and who's away, and on whether or not the game is friendly (include rank in your training).\n",
        "\n",
        "You have two possible approaches (as  shown below) given the datasets that will be provided\n",
        "\n",
        "**Input**: Home team, Away team, Tournament type (World cup, Friendly, Other)\n",
        "\n",
        "\n",
        "**Background Information:**\n",
        "\n",
        "Since their introduction in 1992, the FIFA World Rankings have been the subject of much debate, particularly regarding the calculation procedure and the resulting disparity between generally perceived quality and world ranking of some teams. The perceived flaws in the FIFA system have led to the creation of a number of alternative rankings from football statisticians.\n",
        "\n",
        "The initial system was very simple, with no weighting for the quality of opponent or importance of a match. The rankings were adapted in 1999 to include weightings based on the importance of the match and the strength of the opponent. A win over a weak opponent resulted in fewer points being awarded than a win over a much stronger one. Further adaptations in 2006 were made to reduce the number of years' results considered from 8 to 4, with greater reliance on matches from within the previous 12 months.\n",
        "\n",
        "Still, criticisms of the rankings remained, with particular anomalies being noted including: the United States rise to fourth in 2006, to the surprise of even their own players;**Israel's climb to 15th in November 2008**, which surprised the Israeli press and Belgium's rank of world number 1 in November 2015, given that Belgium had only played in one tournament final stage in the past 13 years.\n",
        "\n",
        "\n",
        "\n",
        "In the 2010s, teams realized the ranking system could be 'gamed', specifically by avoiding playing non-competitive matches, particularly against weaker opponents.This was because the low weighting of friendlies meant that even victories could reduce a team's average score: in other words, a team could win a match and lose points. Prior to the seeding of the 2018 World Cup preliminary draw, \n",
        "\n",
        "\n",
        "\n",
        "\n",
        "\n",
        "\n"
      ]
    },
    {
      "cell_type": "markdown",
      "metadata": {
        "id": "aFk2fjqAQN94"
      },
      "source": [
        "The  model will be considered succesful if the models that will be used to predict the results of a match are:\n",
        "### b) Defining the Metric for Success\n",
        "**Approach 1**: Polynomial approach\n",
        "\n",
        "\n",
        "What to train given:\n",
        "\n",
        "*   **Rank of home team**\n",
        "*   **Rank of away team**\n",
        "\n",
        "\n",
        "Tournament type\n",
        "* Model 1: Predict how many goals the home team scores.\n",
        "\n",
        "* Model 2: Predict how many goals the away team scores.\n",
        "\n",
        "**Approach 2**: Logistic approach\n",
        "\n",
        "Feature Engineering: Figure out from the home team’s perspective if the game is a Win, Lose or Draw (W, L, D)\n"
      ]
    },
    {
      "cell_type": "markdown",
      "metadata": {
        "id": "TuQjHKSSy3Wv"
      },
      "source": [
        "### c) Understanding the context \n",
        "\n",
        "After a long period testing and analysing the best way to calculate the FIFA/Coca-Cola World Ranking, a new model took effect in August 2018 after approval by the FIFA Council.\n",
        "\n",
        "This new version developed by FIFA was named \"SUM\" as it relies on adding/subtracting points won or lost for a game to/from the previous point totals rather than averaging game points over a given time period as in the previous version of the World Ranking.\n",
        "\n",
        "The points which are added or subtracted are partially determined by the relative strength of the two opponents, including the logical expectation that teams higher in the ranking should fare better against teams lower in the ranking.\n",
        "Dataset Columns\n",
        "\n",
        "* Rank\n",
        "* Country Abbreviation\n",
        "* Total Points\n",
        "* Previous Points\n",
        "* Rank Change\n",
        "* Average Previous Years Points\n",
        "* Average Previous Years Points Weighted (50%)\n",
        "* Average 2 Years Ago Points\n",
        "* Average 2 Years Ago Points Weighted (30%)\n",
        "* Average 3 Years Ago Points\n",
        "* Average 3 Years Ago Points Weighted (20%)\n",
        "* Confederation\n",
        "* Date - date of the match\n",
        "* Home_team - the name of the home team\n",
        "* Away_team - the name of the away team\n",
        "* Home_score - full-time home team score including extra time, not including penalty-shootouts\n",
        "* Away_score - full-time away team score including extra time, not including penalty-shootouts\n",
        "* Tournament - the name of the tournament\n",
        "* City - the name of the city/town/administrative unit where the match was played\n",
        "* Country - the name of the country where the match was played\n",
        "* Neutral - TRUE/FALSE column indicating whether the match was played at a neutral venue"
      ]
    },
    {
      "cell_type": "markdown",
      "metadata": {
        "id": "zSGyg6kWsBUl"
      },
      "source": [
        "###  d)Data Relevance"
      ]
    },
    {
      "cell_type": "markdown",
      "metadata": {
        "id": "oXYueSDBNhpA"
      },
      "source": [
        "there were two datasets provided:\n",
        "\n",
        "FIFA rankings from 1993 to 2018.\n",
        "I used this to get the FIFA ranking and points for the teams, which proves to a decent predictor of team performance\n",
        "\n",
        "International Soccer matches from 1872 to 2018.\n",
        "This I will use to find out how much the difference in point, ranks and the current rank of the team affects the outcome of a match"
      ]
    },
    {
      "cell_type": "markdown",
      "metadata": {
        "id": "iUNbvIvnT7ep"
      },
      "source": [
        "## 2. Reading the Data"
      ]
    },
    {
      "cell_type": "code",
      "metadata": {
        "id": "XJn2KjW-WMlG"
      },
      "source": [
        "# Loading the results Dataset and importing the relavant libraries\n",
        "#importing our libraries \n",
        "\n",
        "import numpy as np \n",
        "import pandas as pd\n",
        "import seaborn as sns\n",
        "import matplotlib.pyplot as plt\n",
        "from sklearn.preprocessing import PolynomialFeatures\n",
        "from sklearn.model_selection import train_test_split\n",
        "from sklearn.linear_model import LogisticRegression\n",
        "from sklearn.preprocessing import PolynomialFeatures\n",
        "from sklearn.model_selection import train_test_split\n",
        "from sklearn.linear_model import LinearRegression\n",
        "\n"
      ],
      "execution_count": 1,
      "outputs": []
    },
    {
      "cell_type": "code",
      "metadata": {
        "id": "qw0yF7UdRE0f"
      },
      "source": [
        "# loading the results dataset\n",
        "results_df = pd.read_csv(\"/content/results.csv\")\n",
        "# loading other dataset\n",
        "fifa_ranking_df = pd.read_csv('/content/fifa_ranking.csv')"
      ],
      "execution_count": 2,
      "outputs": []
    },
    {
      "cell_type": "code",
      "metadata": {
        "id": "1v0gQxSK0fQE",
        "colab": {
          "base_uri": "https://localhost:8080/"
        },
        "outputId": "2d3e6a8e-3c86-4864-fd9b-0f0c0737556d"
      },
      "source": [
        "print(results_df.shape)\n",
        "print(fifa_ranking_df.shape)"
      ],
      "execution_count": 3,
      "outputs": [
        {
          "output_type": "stream",
          "text": [
            "(40839, 9)\n",
            "(41361, 16)\n"
          ],
          "name": "stdout"
        }
      ]
    },
    {
      "cell_type": "markdown",
      "metadata": {
        "id": "OI3P3YnHUEBk"
      },
      "source": [
        "## 3. Checking and manipulating the Data"
      ]
    },
    {
      "cell_type": "code",
      "metadata": {
        "id": "xHhTw5eKWr0n",
        "colab": {
          "base_uri": "https://localhost:8080/"
        },
        "outputId": "4ddadbb0-14db-4b78-d445-bed4a963124c"
      },
      "source": [
        "# Previewing the top of the dataset\n",
        "#\n",
        "print(results_df.head(3))\n",
        "print(fifa_ranking_df.head(3))"
      ],
      "execution_count": 4,
      "outputs": [
        {
          "output_type": "stream",
          "text": [
            "         date home_team away_team  ...     city   country neutral\n",
            "0  1872-11-30  Scotland   England  ...  Glasgow  Scotland   False\n",
            "1  1873-03-08   England  Scotland  ...   London   England   False\n",
            "2  1874-03-07  Scotland   England  ...  Glasgow  Scotland   False\n",
            "\n",
            "[3 rows x 9 columns]\n",
            "   rank country_full  ... confederation   rank_date\n",
            "0     1      Germany  ...          UEFA  1993-08-08\n",
            "1     2        Italy  ...          UEFA  1993-08-08\n",
            "2     3  Switzerland  ...          UEFA  1993-08-08\n",
            "\n",
            "[3 rows x 16 columns]\n"
          ],
          "name": "stdout"
        }
      ]
    },
    {
      "cell_type": "code",
      "metadata": {
        "id": "e9AzGcZFrIIr",
        "colab": {
          "base_uri": "https://localhost:8080/"
        },
        "outputId": "559083a0-2352-4e33-ea52-5cd3441f2e6e"
      },
      "source": [
        "# Previewing the bottom of the datasets\n",
        "# \n",
        "print(results_df.tail(3))\n",
        "print(fifa_ranking_df.tail(3))"
      ],
      "execution_count": 5,
      "outputs": [
        {
          "output_type": "stream",
          "text": [
            "             date         home_team    away_team  ...       city  country neutral\n",
            "40836  2019-07-19           Senegal      Algeria  ...      Cairo    Egypt    True\n",
            "40837  2019-07-19        Tajikistan  North Korea  ...  Ahmedabad    India    True\n",
            "40838  2019-07-20  Papua New Guinea         Fiji  ...       Apia    Samoa    True\n",
            "\n",
            "[3 rows x 9 columns]\n",
            "       rank country_full  ... confederation   rank_date\n",
            "41358   151        Yemen  ...           AFC  2011-12-21\n",
            "41359   151      Curaçao  ...      CONCACAF  2011-12-21\n",
            "41360   153          Nep  ...           NaN         NaN\n",
            "\n",
            "[3 rows x 16 columns]\n"
          ],
          "name": "stdout"
        }
      ]
    },
    {
      "cell_type": "code",
      "metadata": {
        "id": "n8-dW4sQWzbc",
        "colab": {
          "base_uri": "https://localhost:8080/"
        },
        "outputId": "bb5e94c5-2471-4972-c602-b6b2d12b39cb"
      },
      "source": [
        "# Checking whether each column has an appropriate datatypes and thre null values\n",
        "# we can see that most of our values are not null values\n",
        "print(results_df.info())\n",
        "print(fifa_ranking_df.info())"
      ],
      "execution_count": 6,
      "outputs": [
        {
          "output_type": "stream",
          "text": [
            "<class 'pandas.core.frame.DataFrame'>\n",
            "RangeIndex: 40839 entries, 0 to 40838\n",
            "Data columns (total 9 columns):\n",
            " #   Column      Non-Null Count  Dtype \n",
            "---  ------      --------------  ----- \n",
            " 0   date        40839 non-null  object\n",
            " 1   home_team   40839 non-null  object\n",
            " 2   away_team   40839 non-null  object\n",
            " 3   home_score  40839 non-null  int64 \n",
            " 4   away_score  40839 non-null  int64 \n",
            " 5   tournament  40839 non-null  object\n",
            " 6   city        40839 non-null  object\n",
            " 7   country     40839 non-null  object\n",
            " 8   neutral     40839 non-null  bool  \n",
            "dtypes: bool(1), int64(2), object(6)\n",
            "memory usage: 2.5+ MB\n",
            "None\n",
            "<class 'pandas.core.frame.DataFrame'>\n",
            "RangeIndex: 41361 entries, 0 to 41360\n",
            "Data columns (total 16 columns):\n",
            " #   Column                   Non-Null Count  Dtype  \n",
            "---  ------                   --------------  -----  \n",
            " 0   rank                     41361 non-null  int64  \n",
            " 1   country_full             41361 non-null  object \n",
            " 2   country_abrv             41360 non-null  object \n",
            " 3   total_points             41360 non-null  float64\n",
            " 4   previous_points          41360 non-null  float64\n",
            " 5   rank_change              41360 non-null  float64\n",
            " 6   cur_year_avg             41360 non-null  float64\n",
            " 7   cur_year_avg_weighted    41360 non-null  float64\n",
            " 8   last_year_avg            41360 non-null  float64\n",
            " 9   last_year_avg_weighted   41360 non-null  float64\n",
            " 10  two_year_ago_avg         41360 non-null  float64\n",
            " 11  two_year_ago_weighted    41360 non-null  float64\n",
            " 12  three_year_ago_avg       41360 non-null  float64\n",
            " 13  three_year_ago_weighted  41360 non-null  float64\n",
            " 14  confederation            41360 non-null  object \n",
            " 15  rank_date                41360 non-null  object \n",
            "dtypes: float64(11), int64(1), object(4)\n",
            "memory usage: 5.0+ MB\n",
            "None\n"
          ],
          "name": "stdout"
        }
      ]
    },
    {
      "cell_type": "code",
      "metadata": {
        "id": "zs6WyUXDzoDT",
        "colab": {
          "base_uri": "https://localhost:8080/"
        },
        "outputId": "f96f3b56-1528-426d-f811-7e86f6728873"
      },
      "source": [
        "#we check the columns that we have \n",
        "print(fifa_ranking_df.columns)\n",
        "print(results_df.columns)"
      ],
      "execution_count": 7,
      "outputs": [
        {
          "output_type": "stream",
          "text": [
            "Index(['rank', 'country_full', 'country_abrv', 'total_points',\n",
            "       'previous_points', 'rank_change', 'cur_year_avg',\n",
            "       'cur_year_avg_weighted', 'last_year_avg', 'last_year_avg_weighted',\n",
            "       'two_year_ago_avg', 'two_year_ago_weighted', 'three_year_ago_avg',\n",
            "       'three_year_ago_weighted', 'confederation', 'rank_date'],\n",
            "      dtype='object')\n",
            "Index(['date', 'home_team', 'away_team', 'home_score', 'away_score',\n",
            "       'tournament', 'city', 'country', 'neutral'],\n",
            "      dtype='object')\n"
          ],
          "name": "stdout"
        }
      ]
    },
    {
      "cell_type": "code",
      "metadata": {
        "id": "tlDIstFLz8er",
        "colab": {
          "base_uri": "https://localhost:8080/"
        },
        "outputId": "5ff78d24-2e2a-415c-d031-9da2030def34"
      },
      "source": [
        "#check if there are any duplicated values in our dataset\n",
        "#and we can see fifa_ranking \n",
        "print(results_df.duplicated().any())\n",
        "print(fifa_ranking_df.duplicated( ).any())"
      ],
      "execution_count": 8,
      "outputs": [
        {
          "output_type": "stream",
          "text": [
            "False\n",
            "True\n"
          ],
          "name": "stdout"
        }
      ]
    },
    {
      "cell_type": "code",
      "metadata": {
        "id": "lDKkfQ7g4uor"
      },
      "source": [
        "#dropping the duplicates from the dataset\n",
        "fifa_ranking_df.drop_duplicates()\n",
        "fifa_ranking_df.drop_duplicates( keep = False, inplace = True)\n"
      ],
      "execution_count": 9,
      "outputs": []
    },
    {
      "cell_type": "code",
      "metadata": {
        "id": "mMkV8XqD9Ilh",
        "colab": {
          "base_uri": "https://localhost:8080/"
        },
        "outputId": "7eb17722-e725-4391-a85d-f32394cdd5a4"
      },
      "source": [
        "#checking the duplicates have been dropped\n",
        "print(fifa_ranking_df.duplicated().any())"
      ],
      "execution_count": 10,
      "outputs": [
        {
          "output_type": "stream",
          "text": [
            "False\n"
          ],
          "name": "stdout"
        }
      ]
    },
    {
      "cell_type": "code",
      "metadata": {
        "id": "-fVVVsJvAGz6",
        "colab": {
          "base_uri": "https://localhost:8080/"
        },
        "outputId": "c7dde932-5f90-4918-8789-a6b7121ce003"
      },
      "source": [
        "print(fifa_ranking_df.shape)\n",
        "print(results_df.shape)"
      ],
      "execution_count": 11,
      "outputs": [
        {
          "output_type": "stream",
          "text": [
            "(41359, 16)\n",
            "(40839, 9)\n"
          ],
          "name": "stdout"
        }
      ]
    },
    {
      "cell_type": "code",
      "metadata": {
        "id": "qxUZjhrq3XDi",
        "colab": {
          "base_uri": "https://localhost:8080/"
        },
        "outputId": "a047e3a4-dbfd-40c6-edfd-01c990c3d9da"
      },
      "source": [
        "# convert date from object datatype to date type\n",
        "fifa_ranking_df['rank_date'] = pd.to_datetime(fifa_ranking_df['rank_date'])\n",
        "print(fifa_ranking_df.dtypes)\n",
        "# convert date from object to date type\n",
        "results_df['date'] = pd.to_datetime(results_df['date'])\n",
        "print(results_df.dtypes)"
      ],
      "execution_count": 12,
      "outputs": [
        {
          "output_type": "stream",
          "text": [
            "rank                                int64\n",
            "country_full                       object\n",
            "country_abrv                       object\n",
            "total_points                      float64\n",
            "previous_points                   float64\n",
            "rank_change                       float64\n",
            "cur_year_avg                      float64\n",
            "cur_year_avg_weighted             float64\n",
            "last_year_avg                     float64\n",
            "last_year_avg_weighted            float64\n",
            "two_year_ago_avg                  float64\n",
            "two_year_ago_weighted             float64\n",
            "three_year_ago_avg                float64\n",
            "three_year_ago_weighted           float64\n",
            "confederation                      object\n",
            "rank_date                  datetime64[ns]\n",
            "dtype: object\n",
            "date          datetime64[ns]\n",
            "home_team             object\n",
            "away_team             object\n",
            "home_score             int64\n",
            "away_score             int64\n",
            "tournament            object\n",
            "city                  object\n",
            "country               object\n",
            "neutral                 bool\n",
            "dtype: object\n"
          ],
          "name": "stdout"
        }
      ]
    },
    {
      "cell_type": "code",
      "metadata": {
        "id": "GFpy8fOw3YF0"
      },
      "source": [
        "#we have to get rid of all columns with datatypes objects \n",
        "#we use the following code\n",
        "fifa_ranking_df.loc[:, fifa_ranking_df.dtypes == 'object'] =\\\n",
        "fifa_ranking_df.select_dtypes(['object'])\\\n",
        ".apply(lambda x: x.astype('category'))\n"
      ],
      "execution_count": 13,
      "outputs": []
    },
    {
      "cell_type": "code",
      "metadata": {
        "id": "OABO0dr3BhdE"
      },
      "source": [
        "#we have to get rid of all columns with datatypes objects \n",
        "#we use the following code\n",
        "results_df.loc[:, results_df.dtypes == 'object'] =\\\n",
        "results_df.select_dtypes(['object'])\\\n",
        ".apply(lambda x: x.astype('category'))\n"
      ],
      "execution_count": 14,
      "outputs": []
    },
    {
      "cell_type": "code",
      "metadata": {
        "id": "C0KKLtN9Buew",
        "colab": {
          "base_uri": "https://localhost:8080/"
        },
        "outputId": "11168a9e-cac5-400c-c384-1b060c8319e6"
      },
      "source": [
        "print(fifa_ranking_df.dtypes)\n",
        "print(results_df.dtypes)"
      ],
      "execution_count": 15,
      "outputs": [
        {
          "output_type": "stream",
          "text": [
            "rank                                int64\n",
            "country_full                     category\n",
            "country_abrv                     category\n",
            "total_points                      float64\n",
            "previous_points                   float64\n",
            "rank_change                       float64\n",
            "cur_year_avg                      float64\n",
            "cur_year_avg_weighted             float64\n",
            "last_year_avg                     float64\n",
            "last_year_avg_weighted            float64\n",
            "two_year_ago_avg                  float64\n",
            "two_year_ago_weighted             float64\n",
            "three_year_ago_avg                float64\n",
            "three_year_ago_weighted           float64\n",
            "confederation                    category\n",
            "rank_date                  datetime64[ns]\n",
            "dtype: object\n",
            "date          datetime64[ns]\n",
            "home_team           category\n",
            "away_team           category\n",
            "home_score             int64\n",
            "away_score             int64\n",
            "tournament          category\n",
            "city                category\n",
            "country             category\n",
            "neutral                 bool\n",
            "dtype: object\n"
          ],
          "name": "stdout"
        }
      ]
    },
    {
      "cell_type": "code",
      "metadata": {
        "id": "GtXk5DV98Voi",
        "colab": {
          "base_uri": "https://localhost:8080/"
        },
        "outputId": "2bcc1eeb-8184-4b1c-e102-705b7780d4b0"
      },
      "source": [
        "#renaming the common columns in our datasets\n",
        "#since we have to merge the datasets we change the names of the common columns\n",
        "#the common columns are 'country' and 'date'\n",
        "#\n",
        "fifa_ranking_df.rename(columns={'country_full': 'country','rank_date':'date'},inplace = True)\n",
        "fifa_ranking_df.columns\n"
      ],
      "execution_count": 16,
      "outputs": [
        {
          "output_type": "execute_result",
          "data": {
            "text/plain": [
              "Index(['rank', 'country', 'country_abrv', 'total_points', 'previous_points',\n",
              "       'rank_change', 'cur_year_avg', 'cur_year_avg_weighted', 'last_year_avg',\n",
              "       'last_year_avg_weighted', 'two_year_ago_avg', 'two_year_ago_weighted',\n",
              "       'three_year_ago_avg', 'three_year_ago_weighted', 'confederation',\n",
              "       'date'],\n",
              "      dtype='object')"
            ]
          },
          "metadata": {
            "tags": []
          },
          "execution_count": 16
        }
      ]
    },
    {
      "cell_type": "code",
      "metadata": {
        "id": "KIUmcMWUCPRY"
      },
      "source": [
        "#we drop all columns that are not necessary depending with our problem statement\n",
        "fifa_ranking_df.drop(['country_abrv','cur_year_avg', 'cur_year_avg_weighted', 'last_year_avg',\n",
        "       'last_year_avg_weighted', 'two_year_ago_avg', 'two_year_ago_weighted',\n",
        "       'three_year_ago_avg', 'three_year_ago_weighted','total_points'], axis=1, inplace=True)"
      ],
      "execution_count": 17,
      "outputs": []
    },
    {
      "cell_type": "code",
      "metadata": {
        "id": "9ZfsjQ0AERhN",
        "colab": {
          "base_uri": "https://localhost:8080/"
        },
        "outputId": "d17ed91b-435d-4d79-bb2b-df7d786fa7ed"
      },
      "source": [
        "fifa_ranking_df.columns"
      ],
      "execution_count": 18,
      "outputs": [
        {
          "output_type": "execute_result",
          "data": {
            "text/plain": [
              "Index(['rank', 'country', 'previous_points', 'rank_change', 'confederation',\n",
              "       'date'],\n",
              "      dtype='object')"
            ]
          },
          "metadata": {
            "tags": []
          },
          "execution_count": 18
        }
      ]
    },
    {
      "cell_type": "code",
      "metadata": {
        "id": "Arh2-vXDEYj8",
        "colab": {
          "base_uri": "https://localhost:8080/"
        },
        "outputId": "96f65ec3-9014-4e69-f606-f35636f4a7e2"
      },
      "source": [
        "results_df.columns"
      ],
      "execution_count": 19,
      "outputs": [
        {
          "output_type": "execute_result",
          "data": {
            "text/plain": [
              "Index(['date', 'home_team', 'away_team', 'home_score', 'away_score',\n",
              "       'tournament', 'city', 'country', 'neutral'],\n",
              "      dtype='object')"
            ]
          },
          "metadata": {
            "tags": []
          },
          "execution_count": 19
        }
      ]
    },
    {
      "cell_type": "code",
      "metadata": {
        "id": "ACJ_2GraEVwT"
      },
      "source": [
        "#since  hometown and country are the same we drop country column\n",
        "results_df.drop(['country'], axis=1, inplace=True)"
      ],
      "execution_count": 20,
      "outputs": []
    },
    {
      "cell_type": "code",
      "metadata": {
        "id": "jzX1QuSuFhWy",
        "colab": {
          "base_uri": "https://localhost:8080/"
        },
        "outputId": "f8c5d30b-3a7e-45b5-8dbd-0755b23a25c3"
      },
      "source": [
        "results_df.columns"
      ],
      "execution_count": 21,
      "outputs": [
        {
          "output_type": "execute_result",
          "data": {
            "text/plain": [
              "Index(['date', 'home_team', 'away_team', 'home_score', 'away_score',\n",
              "       'tournament', 'city', 'neutral'],\n",
              "      dtype='object')"
            ]
          },
          "metadata": {
            "tags": []
          },
          "execution_count": 21
        }
      ]
    },
    {
      "cell_type": "code",
      "metadata": {
        "id": "Ek-z_cFfITrY",
        "colab": {
          "base_uri": "https://localhost:8080/",
          "height": 198
        },
        "outputId": "ed956e36-d26f-415e-a3c0-b758a4a92a24"
      },
      "source": [
        "#adding columns\n",
        "#we can only get goals by subtracting the 'away goals' from the 'home goals'\n",
        "# When answer is '0' it is a Draw(when home goal and away goal are equal)\n",
        "# When answer is '>1' it is a Win(when  home goal is greater than away goal)\n",
        "# When answer is  '<1' it is a lose(when  home goal is less than away goal)\n",
        "# to get this we code the following\n",
        "#Creating a column of goals of the dataset results with: Win, lose and draw\n",
        "results_df['goals'] = ['draw' if i == 0  else 'win' if i > 1  else 'lose' for i in results_df['home_score'] - results_df['away_score']]\n",
        "results_df.head()"
      ],
      "execution_count": 22,
      "outputs": [
        {
          "output_type": "execute_result",
          "data": {
            "text/html": [
              "<div>\n",
              "<style scoped>\n",
              "    .dataframe tbody tr th:only-of-type {\n",
              "        vertical-align: middle;\n",
              "    }\n",
              "\n",
              "    .dataframe tbody tr th {\n",
              "        vertical-align: top;\n",
              "    }\n",
              "\n",
              "    .dataframe thead th {\n",
              "        text-align: right;\n",
              "    }\n",
              "</style>\n",
              "<table border=\"1\" class=\"dataframe\">\n",
              "  <thead>\n",
              "    <tr style=\"text-align: right;\">\n",
              "      <th></th>\n",
              "      <th>date</th>\n",
              "      <th>home_team</th>\n",
              "      <th>away_team</th>\n",
              "      <th>home_score</th>\n",
              "      <th>away_score</th>\n",
              "      <th>tournament</th>\n",
              "      <th>city</th>\n",
              "      <th>neutral</th>\n",
              "      <th>goals</th>\n",
              "    </tr>\n",
              "  </thead>\n",
              "  <tbody>\n",
              "    <tr>\n",
              "      <th>0</th>\n",
              "      <td>1872-11-30</td>\n",
              "      <td>Scotland</td>\n",
              "      <td>England</td>\n",
              "      <td>0</td>\n",
              "      <td>0</td>\n",
              "      <td>Friendly</td>\n",
              "      <td>Glasgow</td>\n",
              "      <td>False</td>\n",
              "      <td>draw</td>\n",
              "    </tr>\n",
              "    <tr>\n",
              "      <th>1</th>\n",
              "      <td>1873-03-08</td>\n",
              "      <td>England</td>\n",
              "      <td>Scotland</td>\n",
              "      <td>4</td>\n",
              "      <td>2</td>\n",
              "      <td>Friendly</td>\n",
              "      <td>London</td>\n",
              "      <td>False</td>\n",
              "      <td>win</td>\n",
              "    </tr>\n",
              "    <tr>\n",
              "      <th>2</th>\n",
              "      <td>1874-03-07</td>\n",
              "      <td>Scotland</td>\n",
              "      <td>England</td>\n",
              "      <td>2</td>\n",
              "      <td>1</td>\n",
              "      <td>Friendly</td>\n",
              "      <td>Glasgow</td>\n",
              "      <td>False</td>\n",
              "      <td>lose</td>\n",
              "    </tr>\n",
              "    <tr>\n",
              "      <th>3</th>\n",
              "      <td>1875-03-06</td>\n",
              "      <td>England</td>\n",
              "      <td>Scotland</td>\n",
              "      <td>2</td>\n",
              "      <td>2</td>\n",
              "      <td>Friendly</td>\n",
              "      <td>London</td>\n",
              "      <td>False</td>\n",
              "      <td>draw</td>\n",
              "    </tr>\n",
              "    <tr>\n",
              "      <th>4</th>\n",
              "      <td>1876-03-04</td>\n",
              "      <td>Scotland</td>\n",
              "      <td>England</td>\n",
              "      <td>3</td>\n",
              "      <td>0</td>\n",
              "      <td>Friendly</td>\n",
              "      <td>Glasgow</td>\n",
              "      <td>False</td>\n",
              "      <td>win</td>\n",
              "    </tr>\n",
              "  </tbody>\n",
              "</table>\n",
              "</div>"
            ],
            "text/plain": [
              "        date home_team away_team  home_score  ...  tournament     city neutral  goals\n",
              "0 1872-11-30  Scotland   England           0  ...    Friendly  Glasgow   False   draw\n",
              "1 1873-03-08   England  Scotland           4  ...    Friendly   London   False    win\n",
              "2 1874-03-07  Scotland   England           2  ...    Friendly  Glasgow   False   lose\n",
              "3 1875-03-06   England  Scotland           2  ...    Friendly   London   False   draw\n",
              "4 1876-03-04  Scotland   England           3  ...    Friendly  Glasgow   False    win\n",
              "\n",
              "[5 rows x 9 columns]"
            ]
          },
          "metadata": {
            "tags": []
          },
          "execution_count": 22
        }
      ]
    },
    {
      "cell_type": "code",
      "metadata": {
        "id": "sg3Sik3hJRWh",
        "colab": {
          "base_uri": "https://localhost:8080/"
        },
        "outputId": "58d731d2-d312-47d7-c4a0-5d8b016982ff"
      },
      "source": [
        "#since we have to merge the datasets we get the common columns \n",
        "#the common columns are 'country' and 'date' in the fifa\n",
        "#and we can merge on the home team and the away team as  it is one of the ways we solve the problem\n",
        "#we start by creating home rank and away rank\n",
        "\n",
        "#  merge the home team to get the home country ranks\n",
        "rank_home = pd.merge(results_df, fifa_ranking_df, left_on= ['date', 'home_team'], \n",
        "                     right_on= ['date', 'country'], how = 'inner')\n",
        "#after merging we rename our 'rank column to home_rank\n",
        "\n",
        "rank_home.rename(columns={'rank':'homerank'}, inplace=True)\n",
        "\n",
        "print(rank_home.head())\n"
      ],
      "execution_count": 23,
      "outputs": [
        {
          "output_type": "stream",
          "text": [
            "        date home_team  ... rank_change  confederation\n",
            "0 1993-08-08   Bolivia  ...        28.0       CONMEBOL\n",
            "1 1993-08-08    Brazil  ...        -5.0       CONMEBOL\n",
            "2 1993-08-08   Ecuador  ...        30.0       CONMEBOL\n",
            "3 1993-08-08    Guinea  ...        -2.0            CAF\n",
            "4 1993-08-08  Paraguay  ...         1.0       CONMEBOL\n",
            "\n",
            "[5 rows x 14 columns]\n"
          ],
          "name": "stdout"
        }
      ]
    },
    {
      "cell_type": "code",
      "metadata": {
        "id": "-X9Ggj4AE0vt",
        "colab": {
          "base_uri": "https://localhost:8080/"
        },
        "outputId": "e9bb4374-4f31-49b7-f643-9c23f61fd943"
      },
      "source": [
        "print(rank_home.shape)\n",
        "print(rank_home.columns)"
      ],
      "execution_count": 24,
      "outputs": [
        {
          "output_type": "stream",
          "text": [
            "(880, 14)\n",
            "Index(['date', 'home_team', 'away_team', 'home_score', 'away_score',\n",
            "       'tournament', 'city', 'neutral', 'goals', 'homerank', 'country',\n",
            "       'previous_points', 'rank_change', 'confederation'],\n",
            "      dtype='object')\n"
          ],
          "name": "stdout"
        }
      ]
    },
    {
      "cell_type": "code",
      "metadata": {
        "id": "44p4nx9LOx8y",
        "colab": {
          "base_uri": "https://localhost:8080/"
        },
        "outputId": "4d45f900-ed0f-475d-b115-2a29c22f64b1"
      },
      "source": [
        "#  merge the away team to get the away country ranks\n",
        "rank_away = pd.merge(results_df, fifa_ranking_df, left_on= ['date','away_team'], \n",
        "                     right_on= ['date','country'], how = 'inner')\n",
        "#after merging we rename our 'rank column to away_rank\n",
        "#to obtain our awayrank column\n",
        "\n",
        "rank_away.rename(columns={'rank':'awayrank'}, inplace=True)\n",
        "\n",
        "print(rank_away.head())"
      ],
      "execution_count": 25,
      "outputs": [
        {
          "output_type": "stream",
          "text": [
            "        date home_team  ... rank_change  confederation\n",
            "0 1993-08-08   Bolivia  ...        -6.0       CONMEBOL\n",
            "1 1993-08-08    Brazil  ...        11.0       CONCACAF\n",
            "2 1993-08-08   Ecuador  ...        31.0       CONMEBOL\n",
            "3 1993-08-08    Guinea  ...        -7.0            CAF\n",
            "4 1993-08-08  Paraguay  ...         5.0       CONMEBOL\n",
            "\n",
            "[5 rows x 14 columns]\n"
          ],
          "name": "stdout"
        }
      ]
    },
    {
      "cell_type": "code",
      "metadata": {
        "id": "AxiHRmEUPPVq",
        "colab": {
          "base_uri": "https://localhost:8080/"
        },
        "outputId": "4d6c343b-9b60-42d9-f308-74eb19bdefc0"
      },
      "source": [
        "print(rank_away.shape)\n",
        "print(rank_away.columns)"
      ],
      "execution_count": 26,
      "outputs": [
        {
          "output_type": "stream",
          "text": [
            "(857, 14)\n",
            "Index(['date', 'home_team', 'away_team', 'home_score', 'away_score',\n",
            "       'tournament', 'city', 'neutral', 'goals', 'awayrank', 'country',\n",
            "       'previous_points', 'rank_change', 'confederation'],\n",
            "      dtype='object')\n"
          ],
          "name": "stdout"
        }
      ]
    },
    {
      "cell_type": "code",
      "metadata": {
        "id": "gUMZL4XwQ8pQ"
      },
      "source": [
        "finalrank=pd.merge(rank_home,rank_away, left_on = ['date', 'home_team', 'away_team', 'home_score', 'away_score',\n",
        "       'tournament', 'city', 'neutral', 'goals', 'country',\n",
        "       'previous_points', 'rank_change', 'confederation'],\n",
        "                 right_on = ['date', 'home_team', 'away_team', 'home_score', 'away_score',\n",
        "       'tournament', 'city', 'neutral', 'goals', 'country','previous_points', 'rank_change', 'confederation'], how = 'outer')"
      ],
      "execution_count": 27,
      "outputs": []
    },
    {
      "cell_type": "code",
      "metadata": {
        "id": "nOSlkYr3ROe-",
        "colab": {
          "base_uri": "https://localhost:8080/"
        },
        "outputId": "0be9feca-e54b-49a3-9108-9330817f4b37"
      },
      "source": [
        "print(finalrank.shape)\n",
        "print(finalrank.columns)"
      ],
      "execution_count": 28,
      "outputs": [
        {
          "output_type": "stream",
          "text": [
            "(1737, 15)\n",
            "Index(['date', 'home_team', 'away_team', 'home_score', 'away_score',\n",
            "       'tournament', 'city', 'neutral', 'goals', 'homerank', 'country',\n",
            "       'previous_points', 'rank_change', 'confederation', 'awayrank'],\n",
            "      dtype='object')\n"
          ],
          "name": "stdout"
        }
      ]
    },
    {
      "cell_type": "code",
      "metadata": {
        "id": "10c63GRSTmAZ",
        "colab": {
          "base_uri": "https://localhost:8080/",
          "height": 356
        },
        "outputId": "f9f0e3e0-b9ee-4c6d-a426-11b54ff22db1"
      },
      "source": [
        "finalrank.head(5)"
      ],
      "execution_count": 29,
      "outputs": [
        {
          "output_type": "execute_result",
          "data": {
            "text/html": [
              "<div>\n",
              "<style scoped>\n",
              "    .dataframe tbody tr th:only-of-type {\n",
              "        vertical-align: middle;\n",
              "    }\n",
              "\n",
              "    .dataframe tbody tr th {\n",
              "        vertical-align: top;\n",
              "    }\n",
              "\n",
              "    .dataframe thead th {\n",
              "        text-align: right;\n",
              "    }\n",
              "</style>\n",
              "<table border=\"1\" class=\"dataframe\">\n",
              "  <thead>\n",
              "    <tr style=\"text-align: right;\">\n",
              "      <th></th>\n",
              "      <th>date</th>\n",
              "      <th>home_team</th>\n",
              "      <th>away_team</th>\n",
              "      <th>home_score</th>\n",
              "      <th>away_score</th>\n",
              "      <th>tournament</th>\n",
              "      <th>city</th>\n",
              "      <th>neutral</th>\n",
              "      <th>goals</th>\n",
              "      <th>homerank</th>\n",
              "      <th>country</th>\n",
              "      <th>previous_points</th>\n",
              "      <th>rank_change</th>\n",
              "      <th>confederation</th>\n",
              "      <th>awayrank</th>\n",
              "    </tr>\n",
              "  </thead>\n",
              "  <tbody>\n",
              "    <tr>\n",
              "      <th>0</th>\n",
              "      <td>1993-08-08</td>\n",
              "      <td>Bolivia</td>\n",
              "      <td>Uruguay</td>\n",
              "      <td>3</td>\n",
              "      <td>1</td>\n",
              "      <td>FIFA World Cup qualification</td>\n",
              "      <td>La Paz</td>\n",
              "      <td>False</td>\n",
              "      <td>win</td>\n",
              "      <td>59.0</td>\n",
              "      <td>Bolivia</td>\n",
              "      <td>13.0</td>\n",
              "      <td>28.0</td>\n",
              "      <td>CONMEBOL</td>\n",
              "      <td>NaN</td>\n",
              "    </tr>\n",
              "    <tr>\n",
              "      <th>1</th>\n",
              "      <td>1993-08-08</td>\n",
              "      <td>Brazil</td>\n",
              "      <td>Mexico</td>\n",
              "      <td>1</td>\n",
              "      <td>1</td>\n",
              "      <td>Friendly</td>\n",
              "      <td>Maceió</td>\n",
              "      <td>False</td>\n",
              "      <td>draw</td>\n",
              "      <td>8.0</td>\n",
              "      <td>Brazil</td>\n",
              "      <td>55.0</td>\n",
              "      <td>-5.0</td>\n",
              "      <td>CONMEBOL</td>\n",
              "      <td>NaN</td>\n",
              "    </tr>\n",
              "    <tr>\n",
              "      <th>2</th>\n",
              "      <td>1993-08-08</td>\n",
              "      <td>Ecuador</td>\n",
              "      <td>Venezuela</td>\n",
              "      <td>5</td>\n",
              "      <td>0</td>\n",
              "      <td>FIFA World Cup qualification</td>\n",
              "      <td>Quito</td>\n",
              "      <td>False</td>\n",
              "      <td>win</td>\n",
              "      <td>35.0</td>\n",
              "      <td>Ecuador</td>\n",
              "      <td>23.0</td>\n",
              "      <td>30.0</td>\n",
              "      <td>CONMEBOL</td>\n",
              "      <td>NaN</td>\n",
              "    </tr>\n",
              "    <tr>\n",
              "      <th>3</th>\n",
              "      <td>1993-08-08</td>\n",
              "      <td>Guinea</td>\n",
              "      <td>Sierra Leone</td>\n",
              "      <td>1</td>\n",
              "      <td>0</td>\n",
              "      <td>Friendly</td>\n",
              "      <td>Conakry</td>\n",
              "      <td>False</td>\n",
              "      <td>lose</td>\n",
              "      <td>65.0</td>\n",
              "      <td>Guinea</td>\n",
              "      <td>23.0</td>\n",
              "      <td>-2.0</td>\n",
              "      <td>CAF</td>\n",
              "      <td>NaN</td>\n",
              "    </tr>\n",
              "    <tr>\n",
              "      <th>4</th>\n",
              "      <td>1993-08-08</td>\n",
              "      <td>Paraguay</td>\n",
              "      <td>Argentina</td>\n",
              "      <td>1</td>\n",
              "      <td>3</td>\n",
              "      <td>FIFA World Cup qualification</td>\n",
              "      <td>Asunción</td>\n",
              "      <td>False</td>\n",
              "      <td>lose</td>\n",
              "      <td>67.0</td>\n",
              "      <td>Paraguay</td>\n",
              "      <td>22.0</td>\n",
              "      <td>1.0</td>\n",
              "      <td>CONMEBOL</td>\n",
              "      <td>NaN</td>\n",
              "    </tr>\n",
              "  </tbody>\n",
              "</table>\n",
              "</div>"
            ],
            "text/plain": [
              "        date home_team     away_team  ...  rank_change  confederation awayrank\n",
              "0 1993-08-08   Bolivia       Uruguay  ...         28.0       CONMEBOL      NaN\n",
              "1 1993-08-08    Brazil        Mexico  ...         -5.0       CONMEBOL      NaN\n",
              "2 1993-08-08   Ecuador     Venezuela  ...         30.0       CONMEBOL      NaN\n",
              "3 1993-08-08    Guinea  Sierra Leone  ...         -2.0            CAF      NaN\n",
              "4 1993-08-08  Paraguay     Argentina  ...          1.0       CONMEBOL      NaN\n",
              "\n",
              "[5 rows x 15 columns]"
            ]
          },
          "metadata": {
            "tags": []
          },
          "execution_count": 29
        }
      ]
    },
    {
      "cell_type": "code",
      "metadata": {
        "id": "dfNsyT7eU8OE",
        "colab": {
          "base_uri": "https://localhost:8080/",
          "height": 391
        },
        "outputId": "b6afecd1-1c27-46d2-ac79-8a7045b78e97"
      },
      "source": [
        "finalrank.tail()"
      ],
      "execution_count": 30,
      "outputs": [
        {
          "output_type": "execute_result",
          "data": {
            "text/html": [
              "<div>\n",
              "<style scoped>\n",
              "    .dataframe tbody tr th:only-of-type {\n",
              "        vertical-align: middle;\n",
              "    }\n",
              "\n",
              "    .dataframe tbody tr th {\n",
              "        vertical-align: top;\n",
              "    }\n",
              "\n",
              "    .dataframe thead th {\n",
              "        text-align: right;\n",
              "    }\n",
              "</style>\n",
              "<table border=\"1\" class=\"dataframe\">\n",
              "  <thead>\n",
              "    <tr style=\"text-align: right;\">\n",
              "      <th></th>\n",
              "      <th>date</th>\n",
              "      <th>home_team</th>\n",
              "      <th>away_team</th>\n",
              "      <th>home_score</th>\n",
              "      <th>away_score</th>\n",
              "      <th>tournament</th>\n",
              "      <th>city</th>\n",
              "      <th>neutral</th>\n",
              "      <th>goals</th>\n",
              "      <th>homerank</th>\n",
              "      <th>country</th>\n",
              "      <th>previous_points</th>\n",
              "      <th>rank_change</th>\n",
              "      <th>confederation</th>\n",
              "      <th>awayrank</th>\n",
              "    </tr>\n",
              "  </thead>\n",
              "  <tbody>\n",
              "    <tr>\n",
              "      <th>1732</th>\n",
              "      <td>2011-06-29</td>\n",
              "      <td>Vietnam</td>\n",
              "      <td>Macau</td>\n",
              "      <td>6</td>\n",
              "      <td>0</td>\n",
              "      <td>FIFA World Cup qualification</td>\n",
              "      <td>Ho Chi Minh City</td>\n",
              "      <td>False</td>\n",
              "      <td>win</td>\n",
              "      <td>NaN</td>\n",
              "      <td>Macau</td>\n",
              "      <td>32.0</td>\n",
              "      <td>1.0</td>\n",
              "      <td>AFC</td>\n",
              "      <td>183.0</td>\n",
              "    </tr>\n",
              "    <tr>\n",
              "      <th>1733</th>\n",
              "      <td>2011-07-27</td>\n",
              "      <td>Vanuatu</td>\n",
              "      <td>Solomon Islands</td>\n",
              "      <td>0</td>\n",
              "      <td>0</td>\n",
              "      <td>Friendly</td>\n",
              "      <td>Port Vila</td>\n",
              "      <td>False</td>\n",
              "      <td>draw</td>\n",
              "      <td>NaN</td>\n",
              "      <td>Solomon Islands</td>\n",
              "      <td>40.0</td>\n",
              "      <td>-1.0</td>\n",
              "      <td>OFC</td>\n",
              "      <td>181.0</td>\n",
              "    </tr>\n",
              "    <tr>\n",
              "      <th>1734</th>\n",
              "      <td>2011-08-24</td>\n",
              "      <td>Guyana</td>\n",
              "      <td>India</td>\n",
              "      <td>2</td>\n",
              "      <td>1</td>\n",
              "      <td>Friendly</td>\n",
              "      <td>Providence</td>\n",
              "      <td>False</td>\n",
              "      <td>lose</td>\n",
              "      <td>NaN</td>\n",
              "      <td>India</td>\n",
              "      <td>135.0</td>\n",
              "      <td>-5.0</td>\n",
              "      <td>AFC</td>\n",
              "      <td>158.0</td>\n",
              "    </tr>\n",
              "    <tr>\n",
              "      <th>1735</th>\n",
              "      <td>2011-08-24</td>\n",
              "      <td>Thailand</td>\n",
              "      <td>Singapore</td>\n",
              "      <td>0</td>\n",
              "      <td>0</td>\n",
              "      <td>Friendly</td>\n",
              "      <td>Bangkok</td>\n",
              "      <td>False</td>\n",
              "      <td>draw</td>\n",
              "      <td>NaN</td>\n",
              "      <td>Singapore</td>\n",
              "      <td>200.0</td>\n",
              "      <td>2.0</td>\n",
              "      <td>AFC</td>\n",
              "      <td>129.0</td>\n",
              "    </tr>\n",
              "    <tr>\n",
              "      <th>1736</th>\n",
              "      <td>2011-12-21</td>\n",
              "      <td>Chile</td>\n",
              "      <td>Paraguay</td>\n",
              "      <td>3</td>\n",
              "      <td>2</td>\n",
              "      <td>Friendly</td>\n",
              "      <td>La Serena</td>\n",
              "      <td>False</td>\n",
              "      <td>lose</td>\n",
              "      <td>NaN</td>\n",
              "      <td>Paraguay</td>\n",
              "      <td>795.0</td>\n",
              "      <td>0.0</td>\n",
              "      <td>CONMEBOL</td>\n",
              "      <td>24.0</td>\n",
              "    </tr>\n",
              "  </tbody>\n",
              "</table>\n",
              "</div>"
            ],
            "text/plain": [
              "           date home_team        away_team  ...  rank_change  confederation awayrank\n",
              "1732 2011-06-29   Vietnam            Macau  ...          1.0            AFC    183.0\n",
              "1733 2011-07-27   Vanuatu  Solomon Islands  ...         -1.0            OFC    181.0\n",
              "1734 2011-08-24    Guyana            India  ...         -5.0            AFC    158.0\n",
              "1735 2011-08-24  Thailand        Singapore  ...          2.0            AFC    129.0\n",
              "1736 2011-12-21     Chile         Paraguay  ...          0.0       CONMEBOL     24.0\n",
              "\n",
              "[5 rows x 15 columns]"
            ]
          },
          "metadata": {
            "tags": []
          },
          "execution_count": 30
        }
      ]
    },
    {
      "cell_type": "code",
      "metadata": {
        "id": "lnuachFj-_sJ",
        "colab": {
          "base_uri": "https://localhost:8080/"
        },
        "outputId": "b5a948fa-cd68-4376-cf38-212223f4fcbe"
      },
      "source": [
        "finalrank.isna().sum()"
      ],
      "execution_count": 31,
      "outputs": [
        {
          "output_type": "execute_result",
          "data": {
            "text/plain": [
              "date                 0\n",
              "home_team            0\n",
              "away_team            0\n",
              "home_score           0\n",
              "away_score           0\n",
              "tournament           0\n",
              "city                 0\n",
              "neutral              0\n",
              "goals                0\n",
              "homerank           857\n",
              "country              0\n",
              "previous_points      0\n",
              "rank_change          0\n",
              "confederation        0\n",
              "awayrank           880\n",
              "dtype: int64"
            ]
          },
          "metadata": {
            "tags": []
          },
          "execution_count": 31
        }
      ]
    },
    {
      "cell_type": "code",
      "metadata": {
        "id": "gNuVPTuPVdel"
      },
      "source": [
        "#we will use fillna.to replace the null values in the our dataframe\n",
        "finalrank[\"homerank\"].fillna(\"0\", inplace = True) \n",
        "finalrank[\"awayrank\"].fillna(\"0\", inplace = True)\n",
        "  "
      ],
      "execution_count": 32,
      "outputs": []
    },
    {
      "cell_type": "code",
      "metadata": {
        "id": "wtKRAJEL_GHg",
        "colab": {
          "base_uri": "https://localhost:8080/"
        },
        "outputId": "fec38c44-fc91-4172-e75d-4d5d99efc308"
      },
      "source": [
        "print(finalrank.shape)\n",
        "print(finalrank.isnull().sum())"
      ],
      "execution_count": 33,
      "outputs": [
        {
          "output_type": "stream",
          "text": [
            "(1737, 15)\n",
            "date               0\n",
            "home_team          0\n",
            "away_team          0\n",
            "home_score         0\n",
            "away_score         0\n",
            "tournament         0\n",
            "city               0\n",
            "neutral            0\n",
            "goals              0\n",
            "homerank           0\n",
            "country            0\n",
            "previous_points    0\n",
            "rank_change        0\n",
            "confederation      0\n",
            "awayrank           0\n",
            "dtype: int64\n"
          ],
          "name": "stdout"
        }
      ]
    },
    {
      "cell_type": "code",
      "metadata": {
        "id": "DxU51v4khUWi"
      },
      "source": [
        "# Reset our index so datetime_utc becomes a column\n",
        "finalrank.reset_index(inplace=True)"
      ],
      "execution_count": 34,
      "outputs": []
    },
    {
      "cell_type": "code",
      "metadata": {
        "id": "V6UxGunASdHi",
        "colab": {
          "base_uri": "https://localhost:8080/"
        },
        "outputId": "6c6f5e6d-a5f2-4235-def1-ca9845981f21"
      },
      "source": [
        "# checking for duplicates in our dataset\n",
        "finalrank.duplicated().any()"
      ],
      "execution_count": 35,
      "outputs": [
        {
          "output_type": "execute_result",
          "data": {
            "text/plain": [
              "False"
            ]
          },
          "metadata": {
            "tags": []
          },
          "execution_count": 35
        }
      ]
    },
    {
      "cell_type": "code",
      "metadata": {
        "id": "IiUSsav0WvMV"
      },
      "source": [
        "# saving the cleaned dataset to csv\n",
        "finalrank.to_csv('cleaned_rank.csv')"
      ],
      "execution_count": 36,
      "outputs": []
    },
    {
      "cell_type": "markdown",
      "metadata": {
        "id": "rF2ABPsHUtbZ"
      },
      "source": [
        "## 6. Exploratory Analysis\n",
        "#### a)Univariate Analysis"
      ]
    },
    {
      "cell_type": "code",
      "metadata": {
        "id": "-1mj6tEwYHq0",
        "colab": {
          "base_uri": "https://localhost:8080/",
          "height": 288
        },
        "outputId": "a38e836f-cdd3-4ea2-d641-68b9e4072b79"
      },
      "source": [
        "# We first check stastics of each numeric variable and how far they are from the mean\n",
        " \n",
        "finalrank.describe()"
      ],
      "execution_count": 37,
      "outputs": [
        {
          "output_type": "execute_result",
          "data": {
            "text/html": [
              "<div>\n",
              "<style scoped>\n",
              "    .dataframe tbody tr th:only-of-type {\n",
              "        vertical-align: middle;\n",
              "    }\n",
              "\n",
              "    .dataframe tbody tr th {\n",
              "        vertical-align: top;\n",
              "    }\n",
              "\n",
              "    .dataframe thead th {\n",
              "        text-align: right;\n",
              "    }\n",
              "</style>\n",
              "<table border=\"1\" class=\"dataframe\">\n",
              "  <thead>\n",
              "    <tr style=\"text-align: right;\">\n",
              "      <th></th>\n",
              "      <th>index</th>\n",
              "      <th>home_score</th>\n",
              "      <th>away_score</th>\n",
              "      <th>previous_points</th>\n",
              "      <th>rank_change</th>\n",
              "    </tr>\n",
              "  </thead>\n",
              "  <tbody>\n",
              "    <tr>\n",
              "      <th>count</th>\n",
              "      <td>1737.000000</td>\n",
              "      <td>1737.000000</td>\n",
              "      <td>1737.000000</td>\n",
              "      <td>1737.000000</td>\n",
              "      <td>1737.000000</td>\n",
              "    </tr>\n",
              "    <tr>\n",
              "      <th>mean</th>\n",
              "      <td>868.000000</td>\n",
              "      <td>1.617732</td>\n",
              "      <td>1.025331</td>\n",
              "      <td>456.209557</td>\n",
              "      <td>0.033391</td>\n",
              "    </tr>\n",
              "    <tr>\n",
              "      <th>std</th>\n",
              "      <td>501.573026</td>\n",
              "      <td>1.854465</td>\n",
              "      <td>1.161222</td>\n",
              "      <td>306.218919</td>\n",
              "      <td>4.491548</td>\n",
              "    </tr>\n",
              "    <tr>\n",
              "      <th>min</th>\n",
              "      <td>0.000000</td>\n",
              "      <td>0.000000</td>\n",
              "      <td>0.000000</td>\n",
              "      <td>0.000000</td>\n",
              "      <td>-43.000000</td>\n",
              "    </tr>\n",
              "    <tr>\n",
              "      <th>25%</th>\n",
              "      <td>434.000000</td>\n",
              "      <td>0.000000</td>\n",
              "      <td>0.000000</td>\n",
              "      <td>213.000000</td>\n",
              "      <td>-2.000000</td>\n",
              "    </tr>\n",
              "    <tr>\n",
              "      <th>50%</th>\n",
              "      <td>868.000000</td>\n",
              "      <td>1.000000</td>\n",
              "      <td>1.000000</td>\n",
              "      <td>479.000000</td>\n",
              "      <td>0.000000</td>\n",
              "    </tr>\n",
              "    <tr>\n",
              "      <th>75%</th>\n",
              "      <td>1302.000000</td>\n",
              "      <td>2.000000</td>\n",
              "      <td>2.000000</td>\n",
              "      <td>642.000000</td>\n",
              "      <td>1.000000</td>\n",
              "    </tr>\n",
              "    <tr>\n",
              "      <th>max</th>\n",
              "      <td>1736.000000</td>\n",
              "      <td>31.000000</td>\n",
              "      <td>9.000000</td>\n",
              "      <td>1883.000000</td>\n",
              "      <td>38.000000</td>\n",
              "    </tr>\n",
              "  </tbody>\n",
              "</table>\n",
              "</div>"
            ],
            "text/plain": [
              "             index   home_score   away_score  previous_points  rank_change\n",
              "count  1737.000000  1737.000000  1737.000000      1737.000000  1737.000000\n",
              "mean    868.000000     1.617732     1.025331       456.209557     0.033391\n",
              "std     501.573026     1.854465     1.161222       306.218919     4.491548\n",
              "min       0.000000     0.000000     0.000000         0.000000   -43.000000\n",
              "25%     434.000000     0.000000     0.000000       213.000000    -2.000000\n",
              "50%     868.000000     1.000000     1.000000       479.000000     0.000000\n",
              "75%    1302.000000     2.000000     2.000000       642.000000     1.000000\n",
              "max    1736.000000    31.000000     9.000000      1883.000000    38.000000"
            ]
          },
          "metadata": {
            "tags": []
          },
          "execution_count": 37
        }
      ]
    },
    {
      "cell_type": "code",
      "metadata": {
        "id": "qn6l1T4jXOJl",
        "colab": {
          "base_uri": "https://localhost:8080/",
          "height": 845
        },
        "outputId": "842a29f9-cd57-4c8c-e117-190fab7d0481"
      },
      "source": [
        "## Ploting the univariate summaries and recording our observations\n",
        "\n",
        "rank_num = finalrank.describe()\n",
        "rank_num\n",
        "\n",
        "sns.set(font_scale=1.3)\n",
        "fig, axes = plt.subplots(3, 2, figsize=(18, 14))\n",
        "axes = [ax for axes_row in axes for ax in axes_row]\n",
        "for i, c in enumerate(rank_num):\n",
        "  plot = sns.kdeplot(data=finalrank, x=c, ax=axes[i], fill=True)\n",
        "plt.tight_layout()"
      ],
      "execution_count": 38,
      "outputs": [
        {
          "output_type": "display_data",
          "data": {
            "image/png": "[encoded data removed]",
            "text/plain": [
              "<Figure size 1296x1008 with 6 Axes>"
            ]
          },
          "metadata": {
            "tags": []
          }
        }
      ]
    },
    {
      "cell_type": "code",
      "metadata": {
        "id": "Dbq0H18dYACz",
        "colab": {
          "base_uri": "https://localhost:8080/"
        },
        "outputId": "91f02d7a-013c-4bb3-f0f1-cf56e0907f8b"
      },
      "source": [
        "#Checking for skewness\n",
        "finalrank.skew()"
      ],
      "execution_count": null,
      "outputs": [
        {
          "output_type": "execute_result",
          "data": {
            "text/plain": [
              "level_0            0.000000\n",
              "index              0.000000\n",
              "home_score         5.156875\n",
              "away_score         1.762220\n",
              "neutral            1.816098\n",
              "homerank           1.424877\n",
              "previous_points    0.618722\n",
              "rank_change        1.087541\n",
              "awayrank           1.428428\n",
              "dtype: float64"
            ]
          },
          "metadata": {
            "tags": []
          },
          "execution_count": 128
        }
      ]
    },
    {
      "cell_type": "code",
      "metadata": {
        "id": "VEu6SugSmJ89",
        "colab": {
          "base_uri": "https://localhost:8080/",
          "height": 308
        },
        "outputId": "3514623a-5117-4953-a8b0-e8d254a14c4c"
      },
      "source": [
        "#Checking tournament type value counts\n",
        "finalrank.tournament.value_counts().head(10).plot(kind = 'barh',title = 'types of tournamets')"
      ],
      "execution_count": 39,
      "outputs": [
        {
          "output_type": "execute_result",
          "data": {
            "text/plain": [
              "<matplotlib.axes._subplots.AxesSubplot at 0x7fe3f38ab518>"
            ]
          },
          "metadata": {
            "tags": []
          },
          "execution_count": 39
        },
        {
          "output_type": "display_data",
          "data": {
            "image/png": "[encoded data removed]",
            "text/plain": [
              "<Figure size 432x288 with 1 Axes>"
            ]
          },
          "metadata": {
            "tags": []
          }
        }
      ]
    },
    {
      "cell_type": "markdown",
      "metadata": {
        "id": "1bY7k33A_sGD"
      },
      "source": [
        "#### friendly matches are more than the other types,followed by the fifa the least is the african cup of nations"
      ]
    },
    {
      "cell_type": "code",
      "metadata": {
        "colab": {
          "base_uri": "https://localhost:8080/",
          "height": 805
        },
        "id": "JRrmfnZUFHPc",
        "outputId": "9a649536-fc8f-44b6-8e4b-270075a92eff"
      },
      "source": [
        "#Checking tournament type value counts\n",
        "finalrank.confederation.value_counts().head(10).plot(kind = 'barh',title = 'types of confederation')"
      ],
      "execution_count": 60,
      "outputs": [
        {
          "output_type": "execute_result",
          "data": {
            "text/plain": [
              "<matplotlib.axes._subplots.AxesSubplot at 0x7fe3ed7027f0>"
            ]
          },
          "metadata": {
            "tags": []
          },
          "execution_count": 60
        },
        {
          "output_type": "display_data",
          "data": {
            "image/png": "[encoded data removed]",
            "text/plain": [
              "<Figure size 1440x1080 with 1 Axes>"
            ]
          },
          "metadata": {
            "tags": []
          }
        }
      ]
    },
    {
      "cell_type": "markdown",
      "metadata": {
        "id": "PmTyrNslFWb3"
      },
      "source": [
        "#### confederation with most team is the uefa (mostly for the european countries) and afc(mostly for the african countries).The are the most active confedarations currently\n",
        "\n",
        "---\n",
        "\n"
      ]
    },
    {
      "cell_type": "code",
      "metadata": {
        "colab": {
          "base_uri": "https://localhost:8080/",
          "height": 800
        },
        "id": "IQIk-VVnFdw9",
        "outputId": "f5f4d487-1395-455d-9972-e348b03448c0"
      },
      "source": [
        "#Checking tournament type value counts\n",
        "finalrank.home_team.value_counts().head(10).plot(kind = 'barh',title = 'top 10 countries that played')"
      ],
      "execution_count": 74,
      "outputs": [
        {
          "output_type": "execute_result",
          "data": {
            "text/plain": [
              "<matplotlib.axes._subplots.AxesSubplot at 0x7fe3ecf0f748>"
            ]
          },
          "metadata": {
            "tags": []
          },
          "execution_count": 74
        },
        {
          "output_type": "display_data",
          "data": {
            "image/png": "[encoded data removed]",
            "text/plain": [
              "<Figure size 1440x1080 with 1 Axes>"
            ]
          },
          "metadata": {
            "tags": []
          }
        }
      ]
    },
    {
      "cell_type": "markdown",
      "metadata": {
        "id": "17IPmkIcFyfP"
      },
      "source": [
        "#### the country that has had most playoffs in home soil is 'mexico'.followed by estonia"
      ]
    },
    {
      "cell_type": "code",
      "metadata": {
        "id": "54AtVBNGmz5N",
        "colab": {
          "base_uri": "https://localhost:8080/",
          "height": 330
        },
        "outputId": "2e59c835-cd32-444c-8881-cff261de1577"
      },
      "source": [
        "#Checking tournament type value counts\n",
        "finalrank.neutral.value_counts().head(10).plot(kind = 'bar',title = 'neutrality')"
      ],
      "execution_count": 40,
      "outputs": [
        {
          "output_type": "execute_result",
          "data": {
            "text/plain": [
              "<matplotlib.axes._subplots.AxesSubplot at 0x7fe3ede11ef0>"
            ]
          },
          "metadata": {
            "tags": []
          },
          "execution_count": 40
        },
        {
          "output_type": "display_data",
          "data": {
            "image/png": "[encoded data removed]",
            "text/plain": [
              "<Figure size 432x288 with 1 Axes>"
            ]
          },
          "metadata": {
            "tags": []
          }
        }
      ]
    },
    {
      "cell_type": "markdown",
      "metadata": {
        "id": "WZNMQ71kGEXt"
      },
      "source": [
        "#### most matches are not neutral "
      ]
    },
    {
      "cell_type": "code",
      "metadata": {
        "id": "naS38uWEAyB9"
      },
      "source": [
        "rank_now = finalrank[['date', 'home_team', 'away_team', 'home_score',\n",
        "       'away_score', 'tournament', 'city', 'neutral', 'goals', 'homerank','awayrank','confederation']]"
      ],
      "execution_count": 116,
      "outputs": []
    },
    {
      "cell_type": "code",
      "metadata": {
        "colab": {
          "base_uri": "https://localhost:8080/",
          "height": 470
        },
        "id": "_vVlHohQIWhO",
        "outputId": "9401b6bc-adc5-4c7d-f29b-17942f11b9f0"
      },
      "source": [
        "# the top ten teams who scored the most goals\n",
        "plt.figure(figsize = (10,7))\n",
        "sns.set_style(\"whitegrid\")\n",
        "plt_data = rank_now.sort_values(by='goals', ascending=False)[:10]\n",
        "ax = sns.barplot(x=\"home_team\", y=\"homerank\", data=plt_data, palette=\"Blues_r\")\n",
        "ax.set_xlabel('Team', size=16)\n",
        "ax.set_ylabel('Number of goals', size=16)\n",
        "ax.set_title(\"TOP 10 highest homeground GOALS\", fontsize=18)\n",
        "\n",
        "del plt_data, rank_now"
      ],
      "execution_count": 68,
      "outputs": [
        {
          "output_type": "display_data",
          "data": {
            "image/png": "[encoded data removed]",
            "text/plain": [
              "<Figure size 720x504 with 1 Axes>"
            ]
          },
          "metadata": {
            "tags": []
          }
        }
      ]
    },
    {
      "cell_type": "code",
      "metadata": {
        "colab": {
          "base_uri": "https://localhost:8080/",
          "height": 836
        },
        "id": "2X3FYg3LNk4b",
        "outputId": "3eb1429a-fcce-4380-e63c-f810293a16a1"
      },
      "source": [
        "sns.countplot(x='goals',data=finalrank, palette='hls')\n",
        "plt.title('position spread')\n",
        "plt.xlabel('position')\n",
        "plt.ylabel('count')"
      ],
      "execution_count": 85,
      "outputs": [
        {
          "output_type": "execute_result",
          "data": {
            "text/plain": [
              "Text(0, 0.5, 'count')"
            ]
          },
          "metadata": {
            "tags": []
          },
          "execution_count": 85
        },
        {
          "output_type": "display_data",
          "data": {
            "image/png": "[encoded data removed]",
            "text/plain": [
              "<Figure size 1440x1080 with 1 Axes>"
            ]
          },
          "metadata": {
            "tags": []
          }
        }
      ]
    },
    {
      "cell_type": "markdown",
      "metadata": {
        "id": "n-8g0ptZNxbJ"
      },
      "source": [
        "### our dataset is imbalanced it has captured most loses than wins and draws\n"
      ]
    },
    {
      "cell_type": "code",
      "metadata": {
        "colab": {
          "base_uri": "https://localhost:8080/"
        },
        "id": "kH2wVnOBP5bN",
        "outputId": "1fc57d0e-9a98-4bb5-eabe-78d8c39d2e19"
      },
      "source": [
        "rank_now.tournament.value_counts()"
      ],
      "execution_count": 89,
      "outputs": [
        {
          "output_type": "execute_result",
          "data": {
            "text/plain": [
              "Friendly                           1166\n",
              "FIFA World Cup qualification        273\n",
              "AFC Asian Cup qualification          64\n",
              "UEFA Euro qualification              60\n",
              "Cyprus International Tournament      16\n",
              "                                   ... \n",
              "Lunar New Year Cup                    0\n",
              "Merlion Cup                           0\n",
              "Mundialito                            0\n",
              "NAFU Championship                     0\n",
              "ABCS Tournament                       0\n",
              "Name: tournament, Length: 109, dtype: int64"
            ]
          },
          "metadata": {
            "tags": []
          },
          "execution_count": 89
        }
      ]
    },
    {
      "cell_type": "markdown",
      "metadata": {
        "id": "GqmaN4sABJyb"
      },
      "source": [
        "###  b.}Bivariate Analysis"
      ]
    },
    {
      "cell_type": "code",
      "metadata": {
        "id": "iffmMtPKZbAD",
        "colab": {
          "base_uri": "https://localhost:8080/",
          "height": 494
        },
        "outputId": "52bc1179-b22d-4783-dd7b-be32a7616553"
      },
      "source": [
        "#ploting the away score  with the home score to check if they have any relationship\n",
        "sns.set(rc={'figure.figsize':(20, 15)})\n",
        "sns.jointplot(\"home_score\", \"away_score\", data=finalrank, kind='reg');"
      ],
      "execution_count": 42,
      "outputs": [
        {
          "output_type": "stream",
          "text": [
            "/usr/local/lib/python3.6/dist-packages/seaborn/_decorators.py:43: FutureWarning: Pass the following variables as keyword args: x, y. From version 0.12, the only valid positional argument will be `data`, and passing other arguments without an explicit keyword will result in an error or misinterpretation.\n",
            "  FutureWarning\n"
          ],
          "name": "stderr"
        },
        {
          "output_type": "display_data",
          "data": {
            "image/png": "[encoded data removed]",
            "text/plain": [
              "<Figure size 432x432 with 3 Axes>"
            ]
          },
          "metadata": {
            "tags": []
          }
        }
      ]
    },
    {
      "cell_type": "markdown",
      "metadata": {
        "id": "NhXGvQ9aAfa0"
      },
      "source": [
        "#### the home score and away score have no relationship whatsoever"
      ]
    },
    {
      "cell_type": "code",
      "metadata": {
        "id": "yN7pjoUcZ6A2",
        "colab": {
          "base_uri": "https://localhost:8080/"
        },
        "outputId": "0c454c3f-ca0b-49f5-cdc2-761ba8a284ff"
      },
      "source": [
        "# finding the average score based on home and away\n",
        "means = finalrank[['home_score','away_score']].mean()\n",
        "means"
      ],
      "execution_count": 44,
      "outputs": [
        {
          "output_type": "execute_result",
          "data": {
            "text/plain": [
              "home_score    1.617732\n",
              "away_score    1.025331\n",
              "dtype: float64"
            ]
          },
          "metadata": {
            "tags": []
          },
          "execution_count": 44
        }
      ]
    },
    {
      "cell_type": "markdown",
      "metadata": {
        "id": "qbhWRwj-sKrz"
      },
      "source": [
        "#### You’ll notice that, on average, the home team scores more goals than the away team. This is the so called ‘home (field) advantage’."
      ]
    },
    {
      "cell_type": "code",
      "metadata": {
        "colab": {
          "base_uri": "https://localhost:8080/",
          "height": 845
        },
        "id": "K6sgrnEKOD9n",
        "outputId": "c2ff0960-6359-4736-ecbb-fd576d2d0648"
      },
      "source": [
        "sns.boxplot(x='goals', y='away_score', data=rank_now, palette='hls')\n",
        "plt.title('position vrs away_score')\n",
        "plt.xlabel('position')\n",
        "plt.ylabel('away_score')"
      ],
      "execution_count": 87,
      "outputs": [
        {
          "output_type": "execute_result",
          "data": {
            "text/plain": [
              "Text(0, 0.5, 'away_score')"
            ]
          },
          "metadata": {
            "tags": []
          },
          "execution_count": 87
        },
        {
          "output_type": "display_data",
          "data": {
            "image/png": "[encoded data removed]",
            "text/plain": [
              "<Figure size 1440x1080 with 1 Axes>"
            ]
          },
          "metadata": {
            "tags": []
          }
        }
      ]
    },
    {
      "cell_type": "markdown",
      "metadata": {
        "id": "4f33PZGBOjWH"
      },
      "source": [
        "#### most loses captured in  'awaysoil'"
      ]
    },
    {
      "cell_type": "code",
      "metadata": {
        "colab": {
          "base_uri": "https://localhost:8080/",
          "height": 841
        },
        "id": "imapgp27OD1U",
        "outputId": "fa5142e8-e04b-4eb5-acab-d8b881361a58"
      },
      "source": [
        "sns.boxplot(x='goals', y='home_score', data=rank_now, palette='hls')\n",
        "plt.title('position vrs home_score')\n",
        "plt.xlabel('position')\n",
        "plt.ylabel('home_score')"
      ],
      "execution_count": 88,
      "outputs": [
        {
          "output_type": "execute_result",
          "data": {
            "text/plain": [
              "Text(0, 0.5, 'home_score')"
            ]
          },
          "metadata": {
            "tags": []
          },
          "execution_count": 88
        },
        {
          "output_type": "display_data",
          "data": {
            "image/png": "[encoded data removed]",
            "text/plain": [
              "<Figure size 1440x1080 with 1 Axes>"
            ]
          },
          "metadata": {
            "tags": []
          }
        }
      ]
    },
    {
      "cell_type": "markdown",
      "metadata": {
        "id": "76l8W6vWOdGX"
      },
      "source": [
        "#### more wins captured in homeground"
      ]
    },
    {
      "cell_type": "code",
      "metadata": {
        "id": "8DRoIioQaJ1Y",
        "colab": {
          "base_uri": "https://localhost:8080/"
        },
        "outputId": "34a8b10c-053d-4014-ab21-82b14cf3047a"
      },
      "source": [
        "finalrank.columns"
      ],
      "execution_count": null,
      "outputs": [
        {
          "output_type": "execute_result",
          "data": {
            "text/plain": [
              "Index(['level_0', 'index', 'date', 'home_team', 'away_team', 'home_score',\n",
              "       'away_score', 'tournament', 'city', 'neutral', 'goals', 'homerank',\n",
              "       'country', 'previous_points', 'rank_change', 'confederation',\n",
              "       'awayrank'],\n",
              "      dtype='object')"
            ]
          },
          "metadata": {
            "tags": []
          },
          "execution_count": 137
        }
      ]
    },
    {
      "cell_type": "code",
      "metadata": {
        "colab": {
          "base_uri": "https://localhost:8080/",
          "height": 138
        },
        "id": "MZfETypVSwo2",
        "outputId": "4e4f7edf-5e18-4a1f-f2b1-f9bc31e94191"
      },
      "source": [
        "#The percentage of wins,draws and loses over the year\n",
        "goals_grp = rank_now[['home_score','goals']]\n",
        "goals_rank = rank_now.groupby('goals')['home_score'].count()\n",
        "goals_rank =pd.DataFrame({'goals':goals_rank.index, 'home_score':goals_rank.values})\n",
        "goals_rank\n"
      ],
      "execution_count": 98,
      "outputs": [
        {
          "output_type": "execute_result",
          "data": {
            "text/html": [
              "<div>\n",
              "<style scoped>\n",
              "    .dataframe tbody tr th:only-of-type {\n",
              "        vertical-align: middle;\n",
              "    }\n",
              "\n",
              "    .dataframe tbody tr th {\n",
              "        vertical-align: top;\n",
              "    }\n",
              "\n",
              "    .dataframe thead th {\n",
              "        text-align: right;\n",
              "    }\n",
              "</style>\n",
              "<table border=\"1\" class=\"dataframe\">\n",
              "  <thead>\n",
              "    <tr style=\"text-align: right;\">\n",
              "      <th></th>\n",
              "      <th>goals</th>\n",
              "      <th>home_score</th>\n",
              "    </tr>\n",
              "  </thead>\n",
              "  <tbody>\n",
              "    <tr>\n",
              "      <th>0</th>\n",
              "      <td>draw</td>\n",
              "      <td>450</td>\n",
              "    </tr>\n",
              "    <tr>\n",
              "      <th>1</th>\n",
              "      <td>lose</td>\n",
              "      <td>824</td>\n",
              "    </tr>\n",
              "    <tr>\n",
              "      <th>2</th>\n",
              "      <td>win</td>\n",
              "      <td>463</td>\n",
              "    </tr>\n",
              "  </tbody>\n",
              "</table>\n",
              "</div>"
            ],
            "text/plain": [
              "  goals  home_score\n",
              "0  draw         450\n",
              "1  lose         824\n",
              "2   win         463"
            ]
          },
          "metadata": {
            "tags": []
          },
          "execution_count": 98
        }
      ]
    },
    {
      "cell_type": "code",
      "metadata": {
        "colab": {
          "base_uri": "https://localhost:8080/",
          "height": 138
        },
        "id": "1k8d05w2TZjn",
        "outputId": "20f7ce7d-7a0d-4049-a6e0-480e8b201d49"
      },
      "source": [
        "#The percentage of wins,draws and loses over the year\n",
        "goals_grp2 = rank_now[['away_score','goals']]\n",
        "goals_rank2 = rank_now.groupby('goals')['away_score'].count()\n",
        "goals_rank2 =pd.DataFrame({'goals':goals_rank2.index, 'away_score':goals_rank2.values})\n",
        "goals_rank2\n"
      ],
      "execution_count": 100,
      "outputs": [
        {
          "output_type": "execute_result",
          "data": {
            "text/html": [
              "<div>\n",
              "<style scoped>\n",
              "    .dataframe tbody tr th:only-of-type {\n",
              "        vertical-align: middle;\n",
              "    }\n",
              "\n",
              "    .dataframe tbody tr th {\n",
              "        vertical-align: top;\n",
              "    }\n",
              "\n",
              "    .dataframe thead th {\n",
              "        text-align: right;\n",
              "    }\n",
              "</style>\n",
              "<table border=\"1\" class=\"dataframe\">\n",
              "  <thead>\n",
              "    <tr style=\"text-align: right;\">\n",
              "      <th></th>\n",
              "      <th>goals</th>\n",
              "      <th>away_score</th>\n",
              "    </tr>\n",
              "  </thead>\n",
              "  <tbody>\n",
              "    <tr>\n",
              "      <th>0</th>\n",
              "      <td>draw</td>\n",
              "      <td>450</td>\n",
              "    </tr>\n",
              "    <tr>\n",
              "      <th>1</th>\n",
              "      <td>lose</td>\n",
              "      <td>824</td>\n",
              "    </tr>\n",
              "    <tr>\n",
              "      <th>2</th>\n",
              "      <td>win</td>\n",
              "      <td>463</td>\n",
              "    </tr>\n",
              "  </tbody>\n",
              "</table>\n",
              "</div>"
            ],
            "text/plain": [
              "  goals  away_score\n",
              "0  draw         450\n",
              "1  lose         824\n",
              "2   win         463"
            ]
          },
          "metadata": {
            "tags": []
          },
          "execution_count": 100
        }
      ]
    },
    {
      "cell_type": "code",
      "metadata": {
        "colab": {
          "base_uri": "https://localhost:8080/",
          "height": 821
        },
        "id": "ZEHhlVyfTLAW",
        "outputId": "cb0732e0-fb31-4880-8391-283b1813ceb4"
      },
      "source": [
        "homescore= goals_rank['home_score']\n",
        "goalshome = goals_rank['goals']\n",
        "colors_list = ['blue', 'red', 'lightcoral']\n",
        "plt.title(\"Percentage of wins, draws and loses\",\n",
        "     color = 'darkolivegreen', fontweight = 'bold', fontsize = '20')\n",
        "plt.pie(homescore, labels=goalshome, autopct='%1.1f%%', shadow=True, startangle=140, colors=colors_list)\n",
        "plt.axis('equal')\n",
        "plt.show()"
      ],
      "execution_count": 104,
      "outputs": [
        {
          "output_type": "display_data",
          "data": {
            "image/png": "[encoded data removed]",
            "text/plain": [
              "<Figure size 1440x1080 with 1 Axes>"
            ]
          },
          "metadata": {
            "tags": []
          }
        }
      ]
    },
    {
      "cell_type": "markdown",
      "metadata": {
        "id": "4L_Dg1geUkR0"
      },
      "source": [
        "#### most home_scores recorded were losses which we had already analysed"
      ]
    },
    {
      "cell_type": "code",
      "metadata": {
        "id": "wAYwqEg-YqrA",
        "colab": {
          "base_uri": "https://localhost:8080/",
          "height": 871
        },
        "outputId": "4ad1a5be-ce70-42b8-936b-ad36513faace"
      },
      "source": [
        "# Checking the pearson correlation coefficient \n",
        "\n",
        "sns.heatmap(rank_now.corr(),annot=True)\n",
        "plt.show()"
      ],
      "execution_count": 51,
      "outputs": [
        {
          "output_type": "display_data",
          "data": {
            "image/png": "[encoded data removed]",
            "text/plain": [
              "<Figure size 1440x1080 with 2 Axes>"
            ]
          },
          "metadata": {
            "tags": []
          }
        }
      ]
    },
    {
      "cell_type": "markdown",
      "metadata": {
        "id": "ZIpVqsHxBfwm"
      },
      "source": [
        "#### there is no relationship between home score and away score"
      ]
    },
    {
      "cell_type": "code",
      "metadata": {
        "id": "QUPSouFLs1Mp",
        "colab": {
          "base_uri": "https://localhost:8080/",
          "height": 818
        },
        "outputId": "fdb98dfa-0244-429d-f5fa-dfa9013a0497"
      },
      "source": [
        "# plot histogram of actual goals\n",
        "plt.hist(rank_now[['home_score', 'away_score']].values, range(9), \n",
        "         alpha=0.7, label=['home_team', 'away_team'],color=[\"#FFA07A\", \"#20B2AA\"])\n",
        "leg=plt.legend(loc='upper right', fontsize=13, ncol=2)\n",
        "leg.set_title(\"    Actual        \", prop = {'size':'14', 'weight':'bold'})\n",
        "\n",
        "plt.xlabel(\"Goals per Match\",size=10)\n",
        "plt.ylabel(\"Proportion of  matches\",size=10)\n",
        "plt.title(\"Number of Goals per Match (1993/2019)\",size=14,fontweight='bold')\n",
        "plt.show()"
      ],
      "execution_count": 52,
      "outputs": [
        {
          "output_type": "display_data",
          "data": {
            "image/png": "[encoded data removed]",
            "text/plain": [
              "<Figure size 1440x1080 with 1 Axes>"
            ]
          },
          "metadata": {
            "tags": []
          }
        }
      ]
    },
    {
      "cell_type": "markdown",
      "metadata": {
        "id": "YmrG-sbAB1UW"
      },
      "source": [
        "#### home teams have most goals in the matches between them and away teams"
      ]
    },
    {
      "cell_type": "markdown",
      "metadata": {
        "id": "UHAasQgnX0LF"
      },
      "source": [
        "## 5.Checking for multicollinearity"
      ]
    },
    {
      "cell_type": "code",
      "metadata": {
        "colab": {
          "base_uri": "https://localhost:8080/"
        },
        "id": "bJP0GjNUYNwy",
        "outputId": "cea392fb-7f00-477b-e045-33506369f2c5"
      },
      "source": [
        "rank_now.columns"
      ],
      "execution_count": 117,
      "outputs": [
        {
          "output_type": "execute_result",
          "data": {
            "text/plain": [
              "Index(['date', 'home_team', 'away_team', 'home_score', 'away_score',\n",
              "       'tournament', 'city', 'neutral', 'goals', 'homerank', 'awayrank',\n",
              "       'confederation'],\n",
              "      dtype='object')"
            ]
          },
          "metadata": {
            "tags": []
          },
          "execution_count": 117
        }
      ]
    },
    {
      "cell_type": "code",
      "metadata": {
        "colab": {
          "base_uri": "https://localhost:8080/",
          "height": 198
        },
        "id": "92LQhLj3YLGQ",
        "outputId": "1bbd6f25-cf05-439d-fbc5-e7a7de833e4b"
      },
      "source": [
        "#Drop column with categorical data to test for multicollinearity\n",
        "df_r=rank_now.drop(['date', 'home_team', 'away_team','city','confederation'],axis=1,inplace=False)\n",
        "df_r.head() "
      ],
      "execution_count": 118,
      "outputs": [
        {
          "output_type": "execute_result",
          "data": {
            "text/html": [
              "<div>\n",
              "<style scoped>\n",
              "    .dataframe tbody tr th:only-of-type {\n",
              "        vertical-align: middle;\n",
              "    }\n",
              "\n",
              "    .dataframe tbody tr th {\n",
              "        vertical-align: top;\n",
              "    }\n",
              "\n",
              "    .dataframe thead th {\n",
              "        text-align: right;\n",
              "    }\n",
              "</style>\n",
              "<table border=\"1\" class=\"dataframe\">\n",
              "  <thead>\n",
              "    <tr style=\"text-align: right;\">\n",
              "      <th></th>\n",
              "      <th>home_score</th>\n",
              "      <th>away_score</th>\n",
              "      <th>tournament</th>\n",
              "      <th>neutral</th>\n",
              "      <th>goals</th>\n",
              "      <th>homerank</th>\n",
              "      <th>awayrank</th>\n",
              "    </tr>\n",
              "  </thead>\n",
              "  <tbody>\n",
              "    <tr>\n",
              "      <th>0</th>\n",
              "      <td>3</td>\n",
              "      <td>1</td>\n",
              "      <td>FIFA World Cup qualification</td>\n",
              "      <td>False</td>\n",
              "      <td>win</td>\n",
              "      <td>59</td>\n",
              "      <td>0</td>\n",
              "    </tr>\n",
              "    <tr>\n",
              "      <th>1</th>\n",
              "      <td>1</td>\n",
              "      <td>1</td>\n",
              "      <td>Friendly</td>\n",
              "      <td>False</td>\n",
              "      <td>draw</td>\n",
              "      <td>8</td>\n",
              "      <td>0</td>\n",
              "    </tr>\n",
              "    <tr>\n",
              "      <th>2</th>\n",
              "      <td>5</td>\n",
              "      <td>0</td>\n",
              "      <td>FIFA World Cup qualification</td>\n",
              "      <td>False</td>\n",
              "      <td>win</td>\n",
              "      <td>35</td>\n",
              "      <td>0</td>\n",
              "    </tr>\n",
              "    <tr>\n",
              "      <th>3</th>\n",
              "      <td>1</td>\n",
              "      <td>0</td>\n",
              "      <td>Friendly</td>\n",
              "      <td>False</td>\n",
              "      <td>lose</td>\n",
              "      <td>65</td>\n",
              "      <td>0</td>\n",
              "    </tr>\n",
              "    <tr>\n",
              "      <th>4</th>\n",
              "      <td>1</td>\n",
              "      <td>3</td>\n",
              "      <td>FIFA World Cup qualification</td>\n",
              "      <td>False</td>\n",
              "      <td>lose</td>\n",
              "      <td>67</td>\n",
              "      <td>0</td>\n",
              "    </tr>\n",
              "  </tbody>\n",
              "</table>\n",
              "</div>"
            ],
            "text/plain": [
              "   home_score  away_score                    tournament  ... goals homerank awayrank\n",
              "0           3           1  FIFA World Cup qualification  ...   win       59        0\n",
              "1           1           1                      Friendly  ...  draw        8        0\n",
              "2           5           0  FIFA World Cup qualification  ...   win       35        0\n",
              "3           1           0                      Friendly  ...  lose       65        0\n",
              "4           1           3  FIFA World Cup qualification  ...  lose       67        0\n",
              "\n",
              "[5 rows x 7 columns]"
            ]
          },
          "metadata": {
            "tags": []
          },
          "execution_count": 118
        }
      ]
    },
    {
      "cell_type": "code",
      "metadata": {
        "colab": {
          "base_uri": "https://localhost:8080/",
          "height": 198
        },
        "id": "-hKqip2vZRlk",
        "outputId": "5a307045-ef2b-4ac8-eb4c-3d436c9a81d6"
      },
      "source": [
        "#we do labeland encode for column'tournamet','neutral','goals' since they are not numerical\n",
        "#Encoding tournament from categorical to labels\n",
        "\n",
        "from sklearn.preprocessing import LabelEncoder\n",
        "\n",
        "label_encoder = LabelEncoder()\n",
        "label_encoder.fit(df_r['tournament'])\n",
        "df_r['tournament'] = label_encoder.transform(df_r['tournament'])\n",
        "df_r.head()\n"
      ],
      "execution_count": 120,
      "outputs": [
        {
          "output_type": "execute_result",
          "data": {
            "text/html": [
              "<div>\n",
              "<style scoped>\n",
              "    .dataframe tbody tr th:only-of-type {\n",
              "        vertical-align: middle;\n",
              "    }\n",
              "\n",
              "    .dataframe tbody tr th {\n",
              "        vertical-align: top;\n",
              "    }\n",
              "\n",
              "    .dataframe thead th {\n",
              "        text-align: right;\n",
              "    }\n",
              "</style>\n",
              "<table border=\"1\" class=\"dataframe\">\n",
              "  <thead>\n",
              "    <tr style=\"text-align: right;\">\n",
              "      <th></th>\n",
              "      <th>home_score</th>\n",
              "      <th>away_score</th>\n",
              "      <th>tournament</th>\n",
              "      <th>neutral</th>\n",
              "      <th>goals</th>\n",
              "      <th>homerank</th>\n",
              "      <th>awayrank</th>\n",
              "    </tr>\n",
              "  </thead>\n",
              "  <tbody>\n",
              "    <tr>\n",
              "      <th>0</th>\n",
              "      <td>3</td>\n",
              "      <td>1</td>\n",
              "      <td>14</td>\n",
              "      <td>False</td>\n",
              "      <td>win</td>\n",
              "      <td>59</td>\n",
              "      <td>0</td>\n",
              "    </tr>\n",
              "    <tr>\n",
              "      <th>1</th>\n",
              "      <td>1</td>\n",
              "      <td>1</td>\n",
              "      <td>15</td>\n",
              "      <td>False</td>\n",
              "      <td>draw</td>\n",
              "      <td>8</td>\n",
              "      <td>0</td>\n",
              "    </tr>\n",
              "    <tr>\n",
              "      <th>2</th>\n",
              "      <td>5</td>\n",
              "      <td>0</td>\n",
              "      <td>14</td>\n",
              "      <td>False</td>\n",
              "      <td>win</td>\n",
              "      <td>35</td>\n",
              "      <td>0</td>\n",
              "    </tr>\n",
              "    <tr>\n",
              "      <th>3</th>\n",
              "      <td>1</td>\n",
              "      <td>0</td>\n",
              "      <td>15</td>\n",
              "      <td>False</td>\n",
              "      <td>lose</td>\n",
              "      <td>65</td>\n",
              "      <td>0</td>\n",
              "    </tr>\n",
              "    <tr>\n",
              "      <th>4</th>\n",
              "      <td>1</td>\n",
              "      <td>3</td>\n",
              "      <td>14</td>\n",
              "      <td>False</td>\n",
              "      <td>lose</td>\n",
              "      <td>67</td>\n",
              "      <td>0</td>\n",
              "    </tr>\n",
              "  </tbody>\n",
              "</table>\n",
              "</div>"
            ],
            "text/plain": [
              "   home_score  away_score  tournament neutral goals homerank awayrank\n",
              "0           3           1          14   False   win       59        0\n",
              "1           1           1          15   False  draw        8        0\n",
              "2           5           0          14   False   win       35        0\n",
              "3           1           0          15   False  lose       65        0\n",
              "4           1           3          14   False  lose       67        0"
            ]
          },
          "metadata": {
            "tags": []
          },
          "execution_count": 120
        }
      ]
    },
    {
      "cell_type": "code",
      "metadata": {
        "colab": {
          "base_uri": "https://localhost:8080/",
          "height": 198
        },
        "id": "7HzHnv_-Z8ow",
        "outputId": "87f908b4-e5c7-433a-caa6-52c0601759d7"
      },
      "source": [
        "from sklearn.preprocessing import LabelEncoder\n",
        "\n",
        "label_encoder = LabelEncoder()\n",
        "label_encoder.fit(df_r['neutral'])\n",
        "df_r['neutral'] = label_encoder.transform(df_r['neutral'])\n",
        "df_r.head()"
      ],
      "execution_count": 121,
      "outputs": [
        {
          "output_type": "execute_result",
          "data": {
            "text/html": [
              "<div>\n",
              "<style scoped>\n",
              "    .dataframe tbody tr th:only-of-type {\n",
              "        vertical-align: middle;\n",
              "    }\n",
              "\n",
              "    .dataframe tbody tr th {\n",
              "        vertical-align: top;\n",
              "    }\n",
              "\n",
              "    .dataframe thead th {\n",
              "        text-align: right;\n",
              "    }\n",
              "</style>\n",
              "<table border=\"1\" class=\"dataframe\">\n",
              "  <thead>\n",
              "    <tr style=\"text-align: right;\">\n",
              "      <th></th>\n",
              "      <th>home_score</th>\n",
              "      <th>away_score</th>\n",
              "      <th>tournament</th>\n",
              "      <th>neutral</th>\n",
              "      <th>goals</th>\n",
              "      <th>homerank</th>\n",
              "      <th>awayrank</th>\n",
              "    </tr>\n",
              "  </thead>\n",
              "  <tbody>\n",
              "    <tr>\n",
              "      <th>0</th>\n",
              "      <td>3</td>\n",
              "      <td>1</td>\n",
              "      <td>14</td>\n",
              "      <td>0</td>\n",
              "      <td>win</td>\n",
              "      <td>59</td>\n",
              "      <td>0</td>\n",
              "    </tr>\n",
              "    <tr>\n",
              "      <th>1</th>\n",
              "      <td>1</td>\n",
              "      <td>1</td>\n",
              "      <td>15</td>\n",
              "      <td>0</td>\n",
              "      <td>draw</td>\n",
              "      <td>8</td>\n",
              "      <td>0</td>\n",
              "    </tr>\n",
              "    <tr>\n",
              "      <th>2</th>\n",
              "      <td>5</td>\n",
              "      <td>0</td>\n",
              "      <td>14</td>\n",
              "      <td>0</td>\n",
              "      <td>win</td>\n",
              "      <td>35</td>\n",
              "      <td>0</td>\n",
              "    </tr>\n",
              "    <tr>\n",
              "      <th>3</th>\n",
              "      <td>1</td>\n",
              "      <td>0</td>\n",
              "      <td>15</td>\n",
              "      <td>0</td>\n",
              "      <td>lose</td>\n",
              "      <td>65</td>\n",
              "      <td>0</td>\n",
              "    </tr>\n",
              "    <tr>\n",
              "      <th>4</th>\n",
              "      <td>1</td>\n",
              "      <td>3</td>\n",
              "      <td>14</td>\n",
              "      <td>0</td>\n",
              "      <td>lose</td>\n",
              "      <td>67</td>\n",
              "      <td>0</td>\n",
              "    </tr>\n",
              "  </tbody>\n",
              "</table>\n",
              "</div>"
            ],
            "text/plain": [
              "   home_score  away_score  tournament  neutral goals homerank awayrank\n",
              "0           3           1          14        0   win       59        0\n",
              "1           1           1          15        0  draw        8        0\n",
              "2           5           0          14        0   win       35        0\n",
              "3           1           0          15        0  lose       65        0\n",
              "4           1           3          14        0  lose       67        0"
            ]
          },
          "metadata": {
            "tags": []
          },
          "execution_count": 121
        }
      ]
    },
    {
      "cell_type": "code",
      "metadata": {
        "colab": {
          "base_uri": "https://localhost:8080/",
          "height": 198
        },
        "id": "1zmNEAixaE2B",
        "outputId": "b87a27b0-7c35-4b9a-e28b-e884fd92795e"
      },
      "source": [
        "from sklearn.preprocessing import LabelEncoder\n",
        "\n",
        "label_encoder = LabelEncoder()\n",
        "label_encoder.fit(df_r['goals'])\n",
        "df_r['goals'] = label_encoder.transform(df_r['goals'])\n",
        "df_r.head()"
      ],
      "execution_count": 122,
      "outputs": [
        {
          "output_type": "execute_result",
          "data": {
            "text/html": [
              "<div>\n",
              "<style scoped>\n",
              "    .dataframe tbody tr th:only-of-type {\n",
              "        vertical-align: middle;\n",
              "    }\n",
              "\n",
              "    .dataframe tbody tr th {\n",
              "        vertical-align: top;\n",
              "    }\n",
              "\n",
              "    .dataframe thead th {\n",
              "        text-align: right;\n",
              "    }\n",
              "</style>\n",
              "<table border=\"1\" class=\"dataframe\">\n",
              "  <thead>\n",
              "    <tr style=\"text-align: right;\">\n",
              "      <th></th>\n",
              "      <th>home_score</th>\n",
              "      <th>away_score</th>\n",
              "      <th>tournament</th>\n",
              "      <th>neutral</th>\n",
              "      <th>goals</th>\n",
              "      <th>homerank</th>\n",
              "      <th>awayrank</th>\n",
              "    </tr>\n",
              "  </thead>\n",
              "  <tbody>\n",
              "    <tr>\n",
              "      <th>0</th>\n",
              "      <td>3</td>\n",
              "      <td>1</td>\n",
              "      <td>14</td>\n",
              "      <td>0</td>\n",
              "      <td>2</td>\n",
              "      <td>59</td>\n",
              "      <td>0</td>\n",
              "    </tr>\n",
              "    <tr>\n",
              "      <th>1</th>\n",
              "      <td>1</td>\n",
              "      <td>1</td>\n",
              "      <td>15</td>\n",
              "      <td>0</td>\n",
              "      <td>0</td>\n",
              "      <td>8</td>\n",
              "      <td>0</td>\n",
              "    </tr>\n",
              "    <tr>\n",
              "      <th>2</th>\n",
              "      <td>5</td>\n",
              "      <td>0</td>\n",
              "      <td>14</td>\n",
              "      <td>0</td>\n",
              "      <td>2</td>\n",
              "      <td>35</td>\n",
              "      <td>0</td>\n",
              "    </tr>\n",
              "    <tr>\n",
              "      <th>3</th>\n",
              "      <td>1</td>\n",
              "      <td>0</td>\n",
              "      <td>15</td>\n",
              "      <td>0</td>\n",
              "      <td>1</td>\n",
              "      <td>65</td>\n",
              "      <td>0</td>\n",
              "    </tr>\n",
              "    <tr>\n",
              "      <th>4</th>\n",
              "      <td>1</td>\n",
              "      <td>3</td>\n",
              "      <td>14</td>\n",
              "      <td>0</td>\n",
              "      <td>1</td>\n",
              "      <td>67</td>\n",
              "      <td>0</td>\n",
              "    </tr>\n",
              "  </tbody>\n",
              "</table>\n",
              "</div>"
            ],
            "text/plain": [
              "   home_score  away_score  tournament  neutral  goals homerank awayrank\n",
              "0           3           1          14        0      2       59        0\n",
              "1           1           1          15        0      0        8        0\n",
              "2           5           0          14        0      2       35        0\n",
              "3           1           0          15        0      1       65        0\n",
              "4           1           3          14        0      1       67        0"
            ]
          },
          "metadata": {
            "tags": []
          },
          "execution_count": 122
        }
      ]
    },
    {
      "cell_type": "code",
      "metadata": {
        "colab": {
          "base_uri": "https://localhost:8080/"
        },
        "id": "gTCvpK1UbFgF",
        "outputId": "e8cc505f-826c-42c9-f1b8-432f64001d3a"
      },
      "source": [
        "df_r.dtypes"
      ],
      "execution_count": 126,
      "outputs": [
        {
          "output_type": "execute_result",
          "data": {
            "text/plain": [
              "home_score     int64\n",
              "away_score     int64\n",
              "tournament     int64\n",
              "neutral        int64\n",
              "goals          int64\n",
              "homerank      object\n",
              "awayrank      object\n",
              "dtype: object"
            ]
          },
          "metadata": {
            "tags": []
          },
          "execution_count": 126
        }
      ]
    },
    {
      "cell_type": "code",
      "metadata": {
        "id": "TEUlMEGNbZ3u"
      },
      "source": [
        "#we have to get rid of all columns with datatypes objects \n",
        "#we use the following code\n",
        "df_r.loc[:, df_r.dtypes == 'object'] =\\\n",
        "df_r.select_dtypes(['object'])\\\n",
        ".apply(lambda x: x.astype('int'))"
      ],
      "execution_count": 129,
      "outputs": []
    },
    {
      "cell_type": "code",
      "metadata": {
        "colab": {
          "base_uri": "https://localhost:8080/",
          "height": 198
        },
        "id": "lye-aaMscJpD",
        "outputId": "36552e29-901c-416e-99a9-d0d2be9a4101"
      },
      "source": [
        "# first we get the correlations\n",
        "corr = df_r.corr()\n",
        "corr"
      ],
      "execution_count": 132,
      "outputs": [
        {
          "output_type": "execute_result",
          "data": {
            "text/html": [
              "<div>\n",
              "<style scoped>\n",
              "    .dataframe tbody tr th:only-of-type {\n",
              "        vertical-align: middle;\n",
              "    }\n",
              "\n",
              "    .dataframe tbody tr th {\n",
              "        vertical-align: top;\n",
              "    }\n",
              "\n",
              "    .dataframe thead th {\n",
              "        text-align: right;\n",
              "    }\n",
              "</style>\n",
              "<table border=\"1\" class=\"dataframe\">\n",
              "  <thead>\n",
              "    <tr style=\"text-align: right;\">\n",
              "      <th></th>\n",
              "      <th>home_score</th>\n",
              "      <th>away_score</th>\n",
              "      <th>tournament</th>\n",
              "      <th>neutral</th>\n",
              "      <th>goals</th>\n",
              "    </tr>\n",
              "  </thead>\n",
              "  <tbody>\n",
              "    <tr>\n",
              "      <th>home_score</th>\n",
              "      <td>1.000000</td>\n",
              "      <td>-0.115339</td>\n",
              "      <td>-0.036317</td>\n",
              "      <td>0.006816</td>\n",
              "      <td>0.527280</td>\n",
              "    </tr>\n",
              "    <tr>\n",
              "      <th>away_score</th>\n",
              "      <td>-0.115339</td>\n",
              "      <td>1.000000</td>\n",
              "      <td>-0.001642</td>\n",
              "      <td>0.094308</td>\n",
              "      <td>-0.150036</td>\n",
              "    </tr>\n",
              "    <tr>\n",
              "      <th>tournament</th>\n",
              "      <td>-0.036317</td>\n",
              "      <td>-0.001642</td>\n",
              "      <td>1.000000</td>\n",
              "      <td>-0.003069</td>\n",
              "      <td>-0.045496</td>\n",
              "    </tr>\n",
              "    <tr>\n",
              "      <th>neutral</th>\n",
              "      <td>0.006816</td>\n",
              "      <td>0.094308</td>\n",
              "      <td>-0.003069</td>\n",
              "      <td>1.000000</td>\n",
              "      <td>0.013033</td>\n",
              "    </tr>\n",
              "    <tr>\n",
              "      <th>goals</th>\n",
              "      <td>0.527280</td>\n",
              "      <td>-0.150036</td>\n",
              "      <td>-0.045496</td>\n",
              "      <td>0.013033</td>\n",
              "      <td>1.000000</td>\n",
              "    </tr>\n",
              "  </tbody>\n",
              "</table>\n",
              "</div>"
            ],
            "text/plain": [
              "            home_score  away_score  tournament   neutral     goals\n",
              "home_score    1.000000   -0.115339   -0.036317  0.006816  0.527280\n",
              "away_score   -0.115339    1.000000   -0.001642  0.094308 -0.150036\n",
              "tournament   -0.036317   -0.001642    1.000000 -0.003069 -0.045496\n",
              "neutral       0.006816    0.094308   -0.003069  1.000000  0.013033\n",
              "goals         0.527280   -0.150036   -0.045496  0.013033  1.000000"
            ]
          },
          "metadata": {
            "tags": []
          },
          "execution_count": 132
        }
      ]
    },
    {
      "cell_type": "code",
      "metadata": {
        "colab": {
          "base_uri": "https://localhost:8080/",
          "height": 505
        },
        "id": "O4rQKIyvaUre",
        "outputId": "e1f8a1d8-d0a4-4e76-92f7-64e49a39939d"
      },
      "source": [
        "#Compute VIF data for each independent variable\n",
        "from statsmodels.stats.outliers_influence import variance_inflation_factor\n",
        "\n",
        "# then we get the Variance Inflation Factor (VIF)\n",
        "vif = pd.DataFrame(np.linalg.inv(corr.values), index = corr.index, columns = corr.columns)\n",
        "\n",
        "# using a heatmap to display the results\n",
        "plt.figure(figsize = (10,8))\n",
        "sns.heatmap(vif, annot = True)"
      ],
      "execution_count": 134,
      "outputs": [
        {
          "output_type": "execute_result",
          "data": {
            "text/plain": [
              "<matplotlib.axes._subplots.AxesSubplot at 0x7fe3eb3b4588>"
            ]
          },
          "metadata": {
            "tags": []
          },
          "execution_count": 134
        },
        {
          "output_type": "display_data",
          "data": {
            "image/png": "[encoded data removed]",
            "text/plain": [
              "<Figure size 720x576 with 2 Axes>"
            ]
          },
          "metadata": {
            "tags": []
          }
        }
      ]
    },
    {
      "cell_type": "markdown",
      "metadata": {
        "id": "NNmeYsZxckZE"
      },
      "source": [
        "####  As we can see, the VIF scores for each column are very low (below 5). This shows that there is very low correlation between the variables.The 'awayrank' and 'rankhome'have been excluded from the VIF Dataset but it is not so worrying that we have to remove it.We can still proceed with building our model."
      ]
    },
    {
      "cell_type": "markdown",
      "metadata": {
        "id": "vTbdjSrhVIiT"
      },
      "source": [
        "## 7. Feature Engineering"
      ]
    },
    {
      "cell_type": "markdown",
      "metadata": {
        "id": "x-snvrEMdI_4"
      },
      "source": [
        "Firstly, I'll join the matches with the ranks of the different teams.\n",
        "\n",
        "Then extract some features:\n",
        "- score and rank differences\n"
      ]
    },
    {
      "cell_type": "markdown",
      "metadata": {
        "id": "X0N6OKcSXoZ0"
      },
      "source": [
        "## **a.) Modelling using polynomial model**\n",
        "\n",
        "\n"
      ]
    },
    {
      "cell_type": "markdown",
      "metadata": {
        "id": "dLfXlwGXyyzB"
      },
      "source": [
        ""
      ]
    },
    {
      "cell_type": "markdown",
      "metadata": {
        "id": "chB2nVAwtGop"
      },
      "source": [
        "####  a1.)predicting home scores"
      ]
    },
    {
      "cell_type": "code",
      "metadata": {
        "id": "9ewX7sF8f3-w"
      },
      "source": [
        "# importing the relevant libraries used for regression\n",
        "from sklearn import linear_model\n",
        "from sklearn import ensemble\n",
        "from sklearn.model_selection import train_test_split\n",
        "from sklearn.metrics import confusion_matrix, roc_curve, roc_auc_score\n",
        "from sklearn.pipeline import Pipeline\n",
        "from sklearn.preprocessing import PolynomialFeatures\n",
        "from sklearn import metrics"
      ],
      "execution_count": 165,
      "outputs": []
    },
    {
      "cell_type": "code",
      "metadata": {
        "colab": {
          "base_uri": "https://localhost:8080/"
        },
        "id": "dDNB5j-LfJQd",
        "outputId": "b724826c-697b-4ebf-cdae-db9d09d53f74"
      },
      "source": [
        "# getting our attributes and labels\n",
        "#we will use the df_r dataset since we had already changed the datasets\n",
        "x_rank = np.array(df_r[['homerank', 'awayrank', 'tournament']])\n",
        "y_rank = rank_now['home_score']\n",
        "print(x_rank.shape)\n",
        "print(y_rank.shape)"
      ],
      "execution_count": 140,
      "outputs": [
        {
          "output_type": "stream",
          "text": [
            "(1737, 3)\n",
            "(1737,)\n"
          ],
          "name": "stdout"
        }
      ]
    },
    {
      "cell_type": "code",
      "metadata": {
        "colab": {
          "base_uri": "https://localhost:8080/"
        },
        "id": "1oo5lmPWffvR",
        "outputId": "da83c858-8c40-4a3d-890d-86a7e6a8890c"
      },
      "source": [
        "# fitting the Linear Regression model to our dataset\n",
        "reg_line_rank = LinearRegression()\n",
        "reg_line_rank.fit(x_rank, y_rank)"
      ],
      "execution_count": 141,
      "outputs": [
        {
          "output_type": "execute_result",
          "data": {
            "text/plain": [
              "LinearRegression(copy_X=True, fit_intercept=True, n_jobs=None, normalize=False)"
            ]
          },
          "metadata": {
            "tags": []
          },
          "execution_count": 141
        }
      ]
    },
    {
      "cell_type": "code",
      "metadata": {
        "id": "_ZhdwS2SgtFT"
      },
      "source": [
        "# getting our training and testing sets\n",
        "x_rank_train, x_rank_test, y_rank_train, y_rank_test = train_test_split(x_rank, y_rank, \n",
        "                                                    test_size = 0.2, random_state = 0)"
      ],
      "execution_count": 143,
      "outputs": []
    },
    {
      "cell_type": "code",
      "metadata": {
        "colab": {
          "base_uri": "https://localhost:8080/"
        },
        "id": "mkBoCLeshA5p",
        "outputId": "e2914af6-270e-4641-e225-c4a5e56472a0"
      },
      "source": [
        "print(y_rank_train.shape)\n",
        "print(x_rank_train.shape)"
      ],
      "execution_count": 144,
      "outputs": [
        {
          "output_type": "stream",
          "text": [
            "(1389,)\n",
            "(1389, 3)\n"
          ],
          "name": "stdout"
        }
      ]
    },
    {
      "cell_type": "code",
      "metadata": {
        "id": "n5QeV-4AhQ7v"
      },
      "source": [
        "# fitting a polynomial regression to our dataset\n",
        "poly_reg_rank = PolynomialFeatures(degree = 2)\n",
        "x_poly_rank = poly_reg_rank.fit_transform(x_rank)"
      ],
      "execution_count": 162,
      "outputs": []
    },
    {
      "cell_type": "code",
      "metadata": {
        "colab": {
          "base_uri": "https://localhost:8080/"
        },
        "id": "droM9B4chtDt",
        "outputId": "79aa737e-5544-47a0-8af0-f12bb0f00438"
      },
      "source": [
        "# fitting a linear regression to our polynomial regression\n",
        "lin_reg_rank = LinearRegression()\n",
        "lin_reg_rank.fit(x_poly_rank, y_rank)"
      ],
      "execution_count": 163,
      "outputs": [
        {
          "output_type": "execute_result",
          "data": {
            "text/plain": [
              "LinearRegression(copy_X=True, fit_intercept=True, n_jobs=None, normalize=False)"
            ]
          },
          "metadata": {
            "tags": []
          },
          "execution_count": 163
        }
      ]
    },
    {
      "cell_type": "code",
      "metadata": {
        "id": "WZ37Aezcj3HA"
      },
      "source": [
        "#Predicting\n",
        "y_pred = lin_reg_rank.predict(x_poly_rank)"
      ],
      "execution_count": 157,
      "outputs": []
    },
    {
      "cell_type": "code",
      "metadata": {
        "colab": {
          "base_uri": "https://localhost:8080/"
        },
        "id": "7yn9yTcpmXKn",
        "outputId": "5fe0b153-f6cb-484d-cdeb-e91e10cb1a03"
      },
      "source": [
        "# using home rank 59, away rank 0, and tournament 14 (Friendly)\n",
        "\n",
        "# predict using linear regression\n",
        "lin_pred_home = reg_line_rank.predict([[59, 0, 14]])\n",
        "print(\"Linear Prediction: %d\" %lin_pred_home)\n",
        "print(\"Linear Prediction (accurate):\", lin_pred_home)\n",
        "\n",
        "# predict using polynomial regression\n",
        "poly_pred_home = lin_reg_rank.predict(poly_reg_rank.fit_transform([[59, 0, 14]]))\n",
        "print(\"Polynomial Prediction: %d\" %poly_pred_home)\n",
        "print(\"Polynomial Prediction (accurate):\", poly_pred_home)"
      ],
      "execution_count": 172,
      "outputs": [
        {
          "output_type": "stream",
          "text": [
            "Linear Prediction: 1\n",
            "Linear Prediction (accurate): [1.47177873]\n",
            "Polynomial Prediction: 1\n",
            "Polynomial Prediction (accurate): [1.67533753]\n"
          ],
          "name": "stdout"
        }
      ]
    },
    {
      "cell_type": "code",
      "metadata": {
        "colab": {
          "base_uri": "https://localhost:8080/",
          "height": 198
        },
        "id": "3tNIBl-Sp1Hw",
        "outputId": "cc4cba3e-4426-43af-8995-acb71be9ed91"
      },
      "source": [
        "df_r.head()"
      ],
      "execution_count": 170,
      "outputs": [
        {
          "output_type": "execute_result",
          "data": {
            "text/html": [
              "<div>\n",
              "<style scoped>\n",
              "    .dataframe tbody tr th:only-of-type {\n",
              "        vertical-align: middle;\n",
              "    }\n",
              "\n",
              "    .dataframe tbody tr th {\n",
              "        vertical-align: top;\n",
              "    }\n",
              "\n",
              "    .dataframe thead th {\n",
              "        text-align: right;\n",
              "    }\n",
              "</style>\n",
              "<table border=\"1\" class=\"dataframe\">\n",
              "  <thead>\n",
              "    <tr style=\"text-align: right;\">\n",
              "      <th></th>\n",
              "      <th>home_score</th>\n",
              "      <th>away_score</th>\n",
              "      <th>tournament</th>\n",
              "      <th>neutral</th>\n",
              "      <th>goals</th>\n",
              "      <th>homerank</th>\n",
              "      <th>awayrank</th>\n",
              "    </tr>\n",
              "  </thead>\n",
              "  <tbody>\n",
              "    <tr>\n",
              "      <th>0</th>\n",
              "      <td>3</td>\n",
              "      <td>1</td>\n",
              "      <td>14</td>\n",
              "      <td>0</td>\n",
              "      <td>2</td>\n",
              "      <td>59</td>\n",
              "      <td>0</td>\n",
              "    </tr>\n",
              "    <tr>\n",
              "      <th>1</th>\n",
              "      <td>1</td>\n",
              "      <td>1</td>\n",
              "      <td>15</td>\n",
              "      <td>0</td>\n",
              "      <td>0</td>\n",
              "      <td>8</td>\n",
              "      <td>0</td>\n",
              "    </tr>\n",
              "    <tr>\n",
              "      <th>2</th>\n",
              "      <td>5</td>\n",
              "      <td>0</td>\n",
              "      <td>14</td>\n",
              "      <td>0</td>\n",
              "      <td>2</td>\n",
              "      <td>35</td>\n",
              "      <td>0</td>\n",
              "    </tr>\n",
              "    <tr>\n",
              "      <th>3</th>\n",
              "      <td>1</td>\n",
              "      <td>0</td>\n",
              "      <td>15</td>\n",
              "      <td>0</td>\n",
              "      <td>1</td>\n",
              "      <td>65</td>\n",
              "      <td>0</td>\n",
              "    </tr>\n",
              "    <tr>\n",
              "      <th>4</th>\n",
              "      <td>1</td>\n",
              "      <td>3</td>\n",
              "      <td>14</td>\n",
              "      <td>0</td>\n",
              "      <td>1</td>\n",
              "      <td>67</td>\n",
              "      <td>0</td>\n",
              "    </tr>\n",
              "  </tbody>\n",
              "</table>\n",
              "</div>"
            ],
            "text/plain": [
              "   home_score  away_score  tournament  neutral  goals homerank awayrank\n",
              "0           3           1          14        0      2       59        0\n",
              "1           1           1          15        0      0        8        0\n",
              "2           5           0          14        0      2       35        0\n",
              "3           1           0          15        0      1       65        0\n",
              "4           1           3          14        0      1       67        0"
            ]
          },
          "metadata": {
            "tags": []
          },
          "execution_count": 170
        }
      ]
    },
    {
      "cell_type": "markdown",
      "metadata": {
        "id": "XY800cEZqthK"
      },
      "source": [
        "#### An example of Home Rank 59, Away Rank 0, and a tournamet match 14 resulted in the home team scoring two goal.Our model is almost accurate but not very"
      ]
    },
    {
      "cell_type": "code",
      "metadata": {
        "colab": {
          "base_uri": "https://localhost:8080/",
          "height": 198
        },
        "id": "STxt51pdrQS0",
        "outputId": "a2febb27-92f8-4a59-d371-53db4dea7668"
      },
      "source": [
        "df_r.head(5)"
      ],
      "execution_count": 177,
      "outputs": [
        {
          "output_type": "execute_result",
          "data": {
            "text/html": [
              "<div>\n",
              "<style scoped>\n",
              "    .dataframe tbody tr th:only-of-type {\n",
              "        vertical-align: middle;\n",
              "    }\n",
              "\n",
              "    .dataframe tbody tr th {\n",
              "        vertical-align: top;\n",
              "    }\n",
              "\n",
              "    .dataframe thead th {\n",
              "        text-align: right;\n",
              "    }\n",
              "</style>\n",
              "<table border=\"1\" class=\"dataframe\">\n",
              "  <thead>\n",
              "    <tr style=\"text-align: right;\">\n",
              "      <th></th>\n",
              "      <th>home_score</th>\n",
              "      <th>away_score</th>\n",
              "      <th>tournament</th>\n",
              "      <th>neutral</th>\n",
              "      <th>goals</th>\n",
              "      <th>homerank</th>\n",
              "      <th>awayrank</th>\n",
              "    </tr>\n",
              "  </thead>\n",
              "  <tbody>\n",
              "    <tr>\n",
              "      <th>0</th>\n",
              "      <td>3</td>\n",
              "      <td>1</td>\n",
              "      <td>14</td>\n",
              "      <td>0</td>\n",
              "      <td>2</td>\n",
              "      <td>59</td>\n",
              "      <td>0</td>\n",
              "    </tr>\n",
              "    <tr>\n",
              "      <th>1</th>\n",
              "      <td>1</td>\n",
              "      <td>1</td>\n",
              "      <td>15</td>\n",
              "      <td>0</td>\n",
              "      <td>0</td>\n",
              "      <td>8</td>\n",
              "      <td>0</td>\n",
              "    </tr>\n",
              "    <tr>\n",
              "      <th>2</th>\n",
              "      <td>5</td>\n",
              "      <td>0</td>\n",
              "      <td>14</td>\n",
              "      <td>0</td>\n",
              "      <td>2</td>\n",
              "      <td>35</td>\n",
              "      <td>0</td>\n",
              "    </tr>\n",
              "    <tr>\n",
              "      <th>3</th>\n",
              "      <td>1</td>\n",
              "      <td>0</td>\n",
              "      <td>15</td>\n",
              "      <td>0</td>\n",
              "      <td>1</td>\n",
              "      <td>65</td>\n",
              "      <td>0</td>\n",
              "    </tr>\n",
              "    <tr>\n",
              "      <th>4</th>\n",
              "      <td>1</td>\n",
              "      <td>3</td>\n",
              "      <td>14</td>\n",
              "      <td>0</td>\n",
              "      <td>1</td>\n",
              "      <td>67</td>\n",
              "      <td>0</td>\n",
              "    </tr>\n",
              "  </tbody>\n",
              "</table>\n",
              "</div>"
            ],
            "text/plain": [
              "   home_score  away_score  tournament  neutral  goals homerank awayrank\n",
              "0           3           1          14        0      2       59        0\n",
              "1           1           1          15        0      0        8        0\n",
              "2           5           0          14        0      2       35        0\n",
              "3           1           0          15        0      1       65        0\n",
              "4           1           3          14        0      1       67        0"
            ]
          },
          "metadata": {
            "tags": []
          },
          "execution_count": 177
        }
      ]
    },
    {
      "cell_type": "code",
      "metadata": {
        "colab": {
          "base_uri": "https://localhost:8080/"
        },
        "id": "1j496_XPrLFw",
        "outputId": "35a0b44a-3cd8-40b4-fa59-f1e0f3f82b4f"
      },
      "source": [
        "# using home rank 8, away rank 0, and tournament  (15)\n",
        "\n",
        "# predict using linear regression\n",
        "lin_pred_home = reg_line_rank.predict([[65, 0, 15]])\n",
        "print(\"Linear Prediction: %d\" %lin_pred_home)\n",
        "print(\"Linear Prediction (accurate):\", lin_pred_home)\n",
        "\n",
        "# predict using polynomial regression\n",
        "poly_pred_home = lin_reg_rank.predict(poly_reg_rank.fit_transform([[65, 0, 15]]))\n",
        "print(\"Polynomial Prediction: %d\" %poly_pred_home)\n",
        "print(\"Polynomial Prediction (accurate):\", poly_pred_home)"
      ],
      "execution_count": 178,
      "outputs": [
        {
          "output_type": "stream",
          "text": [
            "Linear Prediction: 1\n",
            "Linear Prediction (accurate): [1.48175259]\n",
            "Polynomial Prediction: 1\n",
            "Polynomial Prediction (accurate): [1.66858117]\n"
          ],
          "name": "stdout"
        }
      ]
    },
    {
      "cell_type": "markdown",
      "metadata": {
        "id": "znq2GtV7r8Y7"
      },
      "source": [
        "#### model is not very accurate maybe we can use a polynomial of a higher degre\n"
      ]
    },
    {
      "cell_type": "code",
      "metadata": {
        "colab": {
          "base_uri": "https://localhost:8080/"
        },
        "id": "KQoV3QPrkJUr",
        "outputId": "34df72dd-fbf8-4a9c-8a98-5117e5163ed2"
      },
      "source": [
        "#Predicting the results\n",
        "\n",
        "y_pred = reg_line_rank.predict(x_rank_test)\n",
        "\n",
        "home_score_pred = pd.DataFrame({'y_predict': y_pred, 'y_test': y_rank_test})\n",
        "\n",
        "print(home_score_pred.sample(5))\n",
        "\n",
        "#Print the outcome for evaluation\n",
        "rmse_value =  np.sqrt(metrics.mean_squared_error(y_rank_test, y_pred))\n",
        "print(\" The Root Mean Square Score is \",rmse_value)"
      ],
      "execution_count": 167,
      "outputs": [
        {
          "output_type": "stream",
          "text": [
            "      y_predict  y_test\n",
            "204    1.466154       5\n",
            "1110   1.545109       0\n",
            "1404   1.486314       1\n",
            "299    1.353840       2\n",
            "1320   1.972513       0\n",
            " The Root Mean Square Score is  1.590425281316016\n"
          ],
          "name": "stdout"
        }
      ]
    },
    {
      "cell_type": "markdown",
      "metadata": {
        "id": "FANJMecyyJEt"
      },
      "source": [
        "Observation\n",
        "\n",
        "Our model has a RMSE of 1.590 which is higher than 10% of the mean of home score, meaning that our model is not very accurate. We can consider adjusting degree of freedom from the current 5 to get better results."
      ]
    },
    {
      "cell_type": "markdown",
      "metadata": {
        "id": "WRqJ434ryJB1"
      },
      "source": [
        ""
      ]
    },
    {
      "cell_type": "markdown",
      "metadata": {
        "id": "RLwiWtiltTVe"
      },
      "source": [
        "#### a2.)predicting away scores"
      ]
    },
    {
      "cell_type": "code",
      "metadata": {
        "colab": {
          "base_uri": "https://localhost:8080/"
        },
        "id": "wMeOwNTotZQG",
        "outputId": "e599c335-28b3-42ca-f140-a159cd871c01"
      },
      "source": [
        "# getting our attributes and labels\n",
        "#we will use the df_r dataset since we had already changed the datasets\n",
        "x_away = np.array(df_r[['homerank', 'awayrank', 'tournament']])\n",
        "y_away = rank_now['away_score']\n",
        "print(x_away.shape)\n",
        "print(y_away.shape)"
      ],
      "execution_count": 179,
      "outputs": [
        {
          "output_type": "stream",
          "text": [
            "(1737, 3)\n",
            "(1737,)\n"
          ],
          "name": "stdout"
        }
      ]
    },
    {
      "cell_type": "code",
      "metadata": {
        "colab": {
          "base_uri": "https://localhost:8080/"
        },
        "id": "uHEZ82Bstn9V",
        "outputId": "748186fd-200d-4ba2-bb07-9db0a52fd9d4"
      },
      "source": [
        "# fitting the Linear Regression model to our dataset\n",
        "reg_line_away = LinearRegression()\n",
        "reg_line_away.fit(x_away, y_away)"
      ],
      "execution_count": 180,
      "outputs": [
        {
          "output_type": "execute_result",
          "data": {
            "text/plain": [
              "LinearRegression(copy_X=True, fit_intercept=True, n_jobs=None, normalize=False)"
            ]
          },
          "metadata": {
            "tags": []
          },
          "execution_count": 180
        }
      ]
    },
    {
      "cell_type": "code",
      "metadata": {
        "id": "OrmM77Zmt0g-"
      },
      "source": [
        "# getting our training and testing sets\n",
        "x_away_train, x_away_test, y_away_train, y_away_test = train_test_split(x_away, y_away, \n",
        "                                                    test_size = 0.2, random_state = 0)"
      ],
      "execution_count": 181,
      "outputs": []
    },
    {
      "cell_type": "code",
      "metadata": {
        "colab": {
          "base_uri": "https://localhost:8080/"
        },
        "id": "1_zH_i7uuMN7",
        "outputId": "d7f8c34e-df0f-4816-b824-9cedb7ecf9df"
      },
      "source": [
        "print(y_away_train.shape)"
      ],
      "execution_count": 183,
      "outputs": [
        {
          "output_type": "stream",
          "text": [
            "(1389,)\n"
          ],
          "name": "stdout"
        }
      ]
    },
    {
      "cell_type": "code",
      "metadata": {
        "id": "8UE36ObguKgo"
      },
      "source": [
        "# fitting a polynomial regression to our dataset\n",
        "#we will use a polynomial of a higher degree might be more accurate than the homescore models\n",
        "poly_reg_away = PolynomialFeatures(degree = 5)\n",
        "x_poly_away = poly_reg_away.fit_transform(x_away)"
      ],
      "execution_count": 184,
      "outputs": []
    },
    {
      "cell_type": "code",
      "metadata": {
        "colab": {
          "base_uri": "https://localhost:8080/"
        },
        "id": "pMDbRWz_u9Lz",
        "outputId": "c786fb40-351e-4370-a417-baa62277723e"
      },
      "source": [
        "# fitting a linear regression to our polynomial regression\n",
        "lin_reg_away = LinearRegression()\n",
        "lin_reg_away.fit(x_poly_away, y_away)"
      ],
      "execution_count": 187,
      "outputs": [
        {
          "output_type": "execute_result",
          "data": {
            "text/plain": [
              "LinearRegression(copy_X=True, fit_intercept=True, n_jobs=None, normalize=False)"
            ]
          },
          "metadata": {
            "tags": []
          },
          "execution_count": 187
        }
      ]
    },
    {
      "cell_type": "code",
      "metadata": {
        "id": "T1PUHnJjulGE"
      },
      "source": [
        "y_pred = lin_reg_away.predict(x_poly_away)"
      ],
      "execution_count": 188,
      "outputs": []
    },
    {
      "cell_type": "code",
      "metadata": {
        "colab": {
          "base_uri": "https://localhost:8080/",
          "height": 198
        },
        "id": "-86VwbqovTES",
        "outputId": "698eda5b-6ef6-41ab-9cb4-e328ede51ece"
      },
      "source": [
        "df_r.tail()"
      ],
      "execution_count": 189,
      "outputs": [
        {
          "output_type": "execute_result",
          "data": {
            "text/html": [
              "<div>\n",
              "<style scoped>\n",
              "    .dataframe tbody tr th:only-of-type {\n",
              "        vertical-align: middle;\n",
              "    }\n",
              "\n",
              "    .dataframe tbody tr th {\n",
              "        vertical-align: top;\n",
              "    }\n",
              "\n",
              "    .dataframe thead th {\n",
              "        text-align: right;\n",
              "    }\n",
              "</style>\n",
              "<table border=\"1\" class=\"dataframe\">\n",
              "  <thead>\n",
              "    <tr style=\"text-align: right;\">\n",
              "      <th></th>\n",
              "      <th>home_score</th>\n",
              "      <th>away_score</th>\n",
              "      <th>tournament</th>\n",
              "      <th>neutral</th>\n",
              "      <th>goals</th>\n",
              "      <th>homerank</th>\n",
              "      <th>awayrank</th>\n",
              "    </tr>\n",
              "  </thead>\n",
              "  <tbody>\n",
              "    <tr>\n",
              "      <th>1732</th>\n",
              "      <td>6</td>\n",
              "      <td>0</td>\n",
              "      <td>14</td>\n",
              "      <td>0</td>\n",
              "      <td>2</td>\n",
              "      <td>0</td>\n",
              "      <td>183</td>\n",
              "    </tr>\n",
              "    <tr>\n",
              "      <th>1733</th>\n",
              "      <td>0</td>\n",
              "      <td>0</td>\n",
              "      <td>15</td>\n",
              "      <td>0</td>\n",
              "      <td>0</td>\n",
              "      <td>0</td>\n",
              "      <td>181</td>\n",
              "    </tr>\n",
              "    <tr>\n",
              "      <th>1734</th>\n",
              "      <td>2</td>\n",
              "      <td>1</td>\n",
              "      <td>15</td>\n",
              "      <td>0</td>\n",
              "      <td>1</td>\n",
              "      <td>0</td>\n",
              "      <td>158</td>\n",
              "    </tr>\n",
              "    <tr>\n",
              "      <th>1735</th>\n",
              "      <td>0</td>\n",
              "      <td>0</td>\n",
              "      <td>15</td>\n",
              "      <td>0</td>\n",
              "      <td>0</td>\n",
              "      <td>0</td>\n",
              "      <td>129</td>\n",
              "    </tr>\n",
              "    <tr>\n",
              "      <th>1736</th>\n",
              "      <td>3</td>\n",
              "      <td>2</td>\n",
              "      <td>15</td>\n",
              "      <td>0</td>\n",
              "      <td>1</td>\n",
              "      <td>0</td>\n",
              "      <td>24</td>\n",
              "    </tr>\n",
              "  </tbody>\n",
              "</table>\n",
              "</div>"
            ],
            "text/plain": [
              "      home_score  away_score  tournament  neutral  goals homerank awayrank\n",
              "1732           6           0          14        0      2        0      183\n",
              "1733           0           0          15        0      0        0      181\n",
              "1734           2           1          15        0      1        0      158\n",
              "1735           0           0          15        0      0        0      129\n",
              "1736           3           2          15        0      1        0       24"
            ]
          },
          "metadata": {
            "tags": []
          },
          "execution_count": 189
        }
      ]
    },
    {
      "cell_type": "code",
      "metadata": {
        "colab": {
          "base_uri": "https://localhost:8080/"
        },
        "id": "qY3tXifzvSFX",
        "outputId": "f61980bd-14bf-4360-9827-09da6ef8825d"
      },
      "source": [
        "# using home rank 0, away rank 24, and tournament 15 (Friendly)\n",
        "\n",
        "# predict using linear regression\n",
        "lin_pred_away = reg_line_away.predict([[0, 24, 15]])\n",
        "print(\"Linear Prediction: %d\" %lin_pred_away)\n",
        "print(\"Linear Prediction (accurate):\", lin_pred_away)\n",
        "\n",
        "# predict using polynomial regression\n",
        "poly_pred_away = lin_reg_away.predict(poly_reg_away.fit_transform([[0, 24, 15]]))\n",
        "print(\"Polynomial Prediction: %d\" %poly_pred_away)\n",
        "print(\"Polynomial Prediction (accurate):\", poly_pred_away)"
      ],
      "execution_count": 191,
      "outputs": [
        {
          "output_type": "stream",
          "text": [
            "Linear Prediction: 0\n",
            "Linear Prediction (accurate): [0.98717638]\n",
            "Polynomial Prediction: 1\n",
            "Polynomial Prediction (accurate): [1.02748259]\n"
          ],
          "name": "stdout"
        }
      ]
    },
    {
      "cell_type": "markdown",
      "metadata": {
        "id": "ki2uUS89v8No"
      },
      "source": [
        "#### as we can see the polynomial order of a higher order is more acuurate as it predicts the 0 goals for home rank 0 and away rank 24 with touranamet 15(am guessing 15 is friendly 14 is unfriendly)"
      ]
    },
    {
      "cell_type": "code",
      "metadata": {
        "colab": {
          "base_uri": "https://localhost:8080/"
        },
        "id": "LzcmLM4JwiRy",
        "outputId": "98e8bb9a-80b4-4917-e5d9-8178d57ebef9"
      },
      "source": [
        "#Predicting the results\n",
        "\n",
        "y_pred2 = reg_line_away.predict(x_away_test)\n",
        "\n",
        "away_score_pred = pd.DataFrame({'y_predict': y_pred2, 'y_test': y_away_test})\n",
        "\n",
        "print(away_score_pred.sample(10))\n",
        "\n",
        "#Print the outcome for evaluation\n",
        "rmse_value =  np.sqrt(metrics.mean_squared_error(y_away_test, y_pred2))\n",
        "print(\" The Root Mean Square Score is \",rmse_value)"
      ],
      "execution_count": 192,
      "outputs": [
        {
          "output_type": "stream",
          "text": [
            "      y_predict  y_test\n",
            "1364   0.939595       1\n",
            "678    1.050796       1\n",
            "467    1.117494       0\n",
            "517    1.053635       0\n",
            "1145   0.888652       6\n",
            "1292   0.911394       0\n",
            "518    1.065773       0\n",
            "85     1.013267       1\n",
            "1311   0.925396       0\n",
            "80     1.086274       0\n",
            " The Root Mean Square Score is  1.1757637068964797\n"
          ],
          "name": "stdout"
        }
      ]
    },
    {
      "cell_type": "markdown",
      "metadata": {
        "id": "w3b3_USCx5dO"
      },
      "source": [
        "Observation\n",
        "\n",
        "Our model has a RMSE of 1.1757 which is higher than 10% of the mean of away score, meaning that our model is not very accurate. We can consider adjusting degree of freedom from the current 2 to get better results."
      ]
    },
    {
      "cell_type": "markdown",
      "metadata": {
        "id": "yVwnJgxuhCey"
      },
      "source": [
        "## **b.)Modelling using Logistic Regression approach**"
      ]
    },
    {
      "cell_type": "markdown",
      "metadata": {
        "id": "VyAnHNmQyvKn"
      },
      "source": [
        "\n",
        "We need to figure out from the home team’s perspective if the game is a Win, Lose or Draw (W, L, D)"
      ]
    },
    {
      "cell_type": "code",
      "metadata": {
        "colab": {
          "base_uri": "https://localhost:8080/"
        },
        "id": "1IKtpg-2z7ZY",
        "outputId": "78c63d54-a532-4a5a-a98b-00c6b003b6ba"
      },
      "source": [
        "rank_now.columns"
      ],
      "execution_count": 196,
      "outputs": [
        {
          "output_type": "execute_result",
          "data": {
            "text/plain": [
              "Index(['date', 'home_team', 'away_team', 'home_score', 'away_score',\n",
              "       'tournament', 'city', 'neutral', 'goals', 'homerank', 'awayrank',\n",
              "       'confederation'],\n",
              "      dtype='object')"
            ]
          },
          "metadata": {
            "tags": []
          },
          "execution_count": 196
        }
      ]
    },
    {
      "cell_type": "code",
      "metadata": {
        "colab": {
          "base_uri": "https://localhost:8080/",
          "height": 198
        },
        "id": "BneS9oghxJSA",
        "outputId": "6abe81fd-9874-41d9-9711-b3c61b9ab9ae"
      },
      "source": [
        "# since we want to predict whether a match is a win, lose, or draw from the perspective from home team\n",
        "# our target variable will be the 'goals' column\n",
        "#we just need three columns in our predictions,goals,home_score,away_score\n",
        "home_pred = rank_now.drop(columns = ['date', 'home_team', 'away_team', 'tournament',\n",
        " 'city', 'neutral', 'homerank', 'awayrank','confederation'])\n",
        "home_pred.head()"
      ],
      "execution_count": 198,
      "outputs": [
        {
          "output_type": "execute_result",
          "data": {
            "text/html": [
              "<div>\n",
              "<style scoped>\n",
              "    .dataframe tbody tr th:only-of-type {\n",
              "        vertical-align: middle;\n",
              "    }\n",
              "\n",
              "    .dataframe tbody tr th {\n",
              "        vertical-align: top;\n",
              "    }\n",
              "\n",
              "    .dataframe thead th {\n",
              "        text-align: right;\n",
              "    }\n",
              "</style>\n",
              "<table border=\"1\" class=\"dataframe\">\n",
              "  <thead>\n",
              "    <tr style=\"text-align: right;\">\n",
              "      <th></th>\n",
              "      <th>home_score</th>\n",
              "      <th>away_score</th>\n",
              "      <th>goals</th>\n",
              "    </tr>\n",
              "  </thead>\n",
              "  <tbody>\n",
              "    <tr>\n",
              "      <th>0</th>\n",
              "      <td>3</td>\n",
              "      <td>1</td>\n",
              "      <td>win</td>\n",
              "    </tr>\n",
              "    <tr>\n",
              "      <th>1</th>\n",
              "      <td>1</td>\n",
              "      <td>1</td>\n",
              "      <td>draw</td>\n",
              "    </tr>\n",
              "    <tr>\n",
              "      <th>2</th>\n",
              "      <td>5</td>\n",
              "      <td>0</td>\n",
              "      <td>win</td>\n",
              "    </tr>\n",
              "    <tr>\n",
              "      <th>3</th>\n",
              "      <td>1</td>\n",
              "      <td>0</td>\n",
              "      <td>lose</td>\n",
              "    </tr>\n",
              "    <tr>\n",
              "      <th>4</th>\n",
              "      <td>1</td>\n",
              "      <td>3</td>\n",
              "      <td>lose</td>\n",
              "    </tr>\n",
              "  </tbody>\n",
              "</table>\n",
              "</div>"
            ],
            "text/plain": [
              "   home_score  away_score goals\n",
              "0           3           1   win\n",
              "1           1           1  draw\n",
              "2           5           0   win\n",
              "3           1           0  lose\n",
              "4           1           3  lose"
            ]
          },
          "metadata": {
            "tags": []
          },
          "execution_count": 198
        }
      ]
    },
    {
      "cell_type": "code",
      "metadata": {
        "colab": {
          "base_uri": "https://localhost:8080/"
        },
        "id": "n4mfSNXGw3G6",
        "outputId": "bb9d1f8b-37a1-4fdc-d185-b711642c5048"
      },
      "source": [
        "# setting up our train and test sets\n",
        "x_home = np.array(home_pred[['home_score', 'away_score']])\n",
        "y_home = home_pred['goals']\n",
        "print(x_home.shape)\n",
        "print(y_home.shape)\n"
      ],
      "execution_count": 200,
      "outputs": [
        {
          "output_type": "stream",
          "text": [
            "(1737, 2)\n",
            "(1737,)\n"
          ],
          "name": "stdout"
        }
      ]
    },
    {
      "cell_type": "code",
      "metadata": {
        "id": "lYOlf21JxMPj"
      },
      "source": [
        "# splitting our data 80:20\n",
        "x_home_train, x_home_test, y_home_train, y_home_test = train_test_split(x_home, y_home,\n",
        "                                                                    test_size = 0.2,\n",
        "                                                                    random_state = 0)"
      ],
      "execution_count": 201,
      "outputs": []
    },
    {
      "cell_type": "code",
      "metadata": {
        "colab": {
          "base_uri": "https://localhost:8080/"
        },
        "id": "9Emi6F8C1o23",
        "outputId": "1ae2bd4c-0a26-4510-e951-de0caee2b2d9"
      },
      "source": [
        "# fitting our model\n",
        "LogReg = LogisticRegression(solver = 'liblinear', multi_class = 'auto')\n",
        "LogReg.fit(x_home_train, y_home_train)"
      ],
      "execution_count": 202,
      "outputs": [
        {
          "output_type": "execute_result",
          "data": {
            "text/plain": [
              "LogisticRegression(C=1.0, class_weight=None, dual=False, fit_intercept=True,\n",
              "                   intercept_scaling=1, l1_ratio=None, max_iter=100,\n",
              "                   multi_class='auto', n_jobs=None, penalty='l2',\n",
              "                   random_state=None, solver='liblinear', tol=0.0001, verbose=0,\n",
              "                   warm_start=False)"
            ]
          },
          "metadata": {
            "tags": []
          },
          "execution_count": 202
        }
      ]
    },
    {
      "cell_type": "code",
      "metadata": {
        "id": "VqIvOIBd1yYn"
      },
      "source": [
        " #Using our model to make a prediction\n",
        "y_pred3= LogReg.predict(x_home_test) "
      ],
      "execution_count": 203,
      "outputs": []
    },
    {
      "cell_type": "code",
      "metadata": {
        "colab": {
          "base_uri": "https://localhost:8080/"
        },
        "id": "ttXm0AnT2LRF",
        "outputId": "c09c27d5-8867-4b82-89ea-0d3dac1ad397"
      },
      "source": [
        "# Evaluating the model \n",
        "from sklearn.metrics import confusion_matrix\n",
        "confusion_matrix = confusion_matrix(y_home_test, y_pred3)\n",
        "confusion_matrix\n"
      ],
      "execution_count": 204,
      "outputs": [
        {
          "output_type": "execute_result",
          "data": {
            "text/plain": [
              "array([[ 33,  54,   0],\n",
              "       [ 43, 122,   0],\n",
              "       [  0,   0,  96]])"
            ]
          },
          "metadata": {
            "tags": []
          },
          "execution_count": 204
        }
      ]
    },
    {
      "cell_type": "markdown",
      "metadata": {
        "id": "UAkZN-e22XGD"
      },
      "source": [
        "Observation\n",
        "\n",
        "The results from the confusion matrix tell us that 33, 122 and 96 are the number of correct predictions and 0,122 and 0 are the number of incorrect predictions. This implies underfitting"
      ]
    },
    {
      "cell_type": "code",
      "metadata": {
        "colab": {
          "base_uri": "https://localhost:8080/"
        },
        "id": "BtQnFK6U3Opz",
        "outputId": "102fff81-8dca-46e7-80c8-563099e9a39d"
      },
      "source": [
        "from sklearn.metrics import classification_report\n",
        "print(classification_report(y_home_test, y_pred3))"
      ],
      "execution_count": 205,
      "outputs": [
        {
          "output_type": "stream",
          "text": [
            "              precision    recall  f1-score   support\n",
            "\n",
            "        draw       0.43      0.38      0.40        87\n",
            "        lose       0.69      0.74      0.72       165\n",
            "         win       1.00      1.00      1.00        96\n",
            "\n",
            "    accuracy                           0.72       348\n",
            "   macro avg       0.71      0.71      0.71       348\n",
            "weighted avg       0.71      0.72      0.72       348\n",
            "\n"
          ],
          "name": "stdout"
        }
      ]
    },
    {
      "cell_type": "code",
      "metadata": {
        "colab": {
          "base_uri": "https://localhost:8080/"
        },
        "id": "ETLiTCYY5NzE",
        "outputId": "4e278a35-6ace-4798-de27-18671ca1f54b"
      },
      "source": [
        "# sklearn accuracy score\n",
        "print('Accuracy of logistic regression classifier on test set: {:.2f}'.format(LogReg.score(x_home_test, y_home_test)))"
      ],
      "execution_count": 206,
      "outputs": [
        {
          "output_type": "stream",
          "text": [
            "Accuracy of logistic regression classifier on test set: 0.72\n"
          ],
          "name": "stdout"
        }
      ]
    },
    {
      "cell_type": "markdown",
      "metadata": {
        "id": "KvEWQVpK3fDy"
      },
      "source": [
        "from our confusion matrix the f1 score confirms that there are many false positives to change this we need more data and also to change our assumptions in our case the assumption is maybe we ignored or dropped important data.\n",
        "We see here that our model is almost accurate at predicting whether the match will be a win, loss, or draw given the home and away scores"
      ]
    },
    {
      "cell_type": "markdown",
      "metadata": {
        "id": "lQ2G4ZPDVOXE"
      },
      "source": [
        "## 8. Challenging the solution"
      ]
    },
    {
      "cell_type": "code",
      "metadata": {
        "id": "x8nJ7dGQzMJE"
      },
      "source": [
        "from sklearn.model_selection import cross_val_score\n",
        "from sklearn.model_selection import KFold\n",
        "from sklearn.model_selection import train_test_split\n",
        "from sklearn.neighbors import KNeighborsClassifier"
      ],
      "execution_count": null,
      "outputs": []
    },
    {
      "cell_type": "code",
      "metadata": {
        "id": "AT0yyxvzzOF9"
      },
      "source": [
        "# we will use k-fold cross validation with the standard 5 folds\n",
        "folds = KFold(n_splits = 5)"
      ],
      "execution_count": null,
      "outputs": []
    },
    {
      "cell_type": "markdown",
      "metadata": {
        "id": "xrmHVMVsVS--"
      },
      "source": [
        "## 9. Follow up questions"
      ]
    },
    {
      "cell_type": "markdown",
      "metadata": {
        "id": "HPQviDmNtta8"
      },
      "source": [
        "### a). Did we have the right data?"
      ]
    },
    {
      "cell_type": "markdown",
      "metadata": {
        "id": "qjFHK1CKty7o"
      },
      "source": [
        "### b). Do we need other data to answer our question?"
      ]
    },
    {
      "cell_type": "markdown",
      "metadata": {
        "id": "HSsicSdvt4Zs"
      },
      "source": [
        "### c). Did we have the right question?"
      ]
    }
  ]
}